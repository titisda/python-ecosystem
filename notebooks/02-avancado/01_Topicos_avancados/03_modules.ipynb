{
 "cells": [
  {
   "cell_type": "markdown",
   "metadata": {},
   "source": [
    "# Modulos em python\n",
    "***"
   ]
  },
  {
   "cell_type": "markdown",
   "metadata": {},
   "source": [
    "Modulos nada mais é que pastas para organizar seu projeto em python, são pastas reconhecidas pelo python como partes de um projeto maior\n",
    "\n",
    "**Modulos**: \n",
    "\n",
    "* Um script Python é um módulo, na documentação encontramos \"Um módulo é um arquivo Python contendo definições e instruções. O nome do arquivo é o módulo com o sufixo .py adicionado. Dentro de um módulo, o nome do módulo (como uma string) está disponível na variável global **\\_\\_name\\_\\_**\".\n",
    "\n",
    "\n",
    "* Um módulo é um arquivo Python contendo definições e sentenças.\n",
    "\n",
    "\n",
    "* Módulos são arquivos de código Python cuja interface pode ser importada por outros módulos\n",
    "\n",
    "\n",
    "* Todos os arquivos com código Python são módulos, mesmo que não sejam importados\n",
    "\n",
    "**Pacotes**:\n",
    "\n",
    "* Um pacote é uma coleção de módulos.\n",
    "\n",
    "\n",
    "* Quando nossos módulos aumentam de tamanho, podemos dividí-los em pacotes, segundo o tutorial do Python \"O uso de pacotes permite aos autores de grupos de módulos (como NumPy ou PIL) não terem que se preocupar com colisão entre os nomes de seus módulos e os nomes de módulos de outros autores.\"\n",
    "\n",
    "\n",
    "\n",
    "* Se você leu com atenção, o texto refere-se a \"colisão de nomes\", ou seja, estamos tratrando do conceito de namespaces (espaço de nomes). Ainda na documentação \"Pacotes são uma maneira de estruturar espaços de nomes para módulos Python utilizando a sintaxe de 'nomes pontuados' (dotted names)\".\n",
    "\n",
    "\n",
    "* Módulos são estruturados em arquivos, enquanto que, pacotes são estruturados em pastas.\n",
    "\n",
    "\n",
    "* Todos os pacotes devem conter um arquivo init.py\n",
    "\n",
    "\n",
    "* Os arquivos **\\_\\_init\\_\\_.py** são arquivos especiais e servem para que o interpretador possa identificar quais diretórios são pacotes e quais não são.\n",
    "\n",
    "\n",
    "* Os arquivos **\\_\\_init\\_\\_.py** são necessários para que Python trate os diretórios como pacotes; isso foi feito para evitar que diretórios com nomes comuns, como string, inadvertidamente ocultassem módulos válidos que ocorram depois no caminho de busca. No caso mais simples, **\\_\\_init\\_\\_.py** pode ser um arquivo vazio. Porém, ele pode conter código de inicialização para o pacote ou definir a variável **\\_\\_all\\_\\_**. (documentação Python)\n",
    "\n",
    "**Tabela de símbolos**:\n",
    "\n",
    "* Para entender por completo os conceitos módulo e pacote devemos compreender o conceito de tabelas de símbolos existente em Python.\n",
    "\n",
    "\n",
    "* Uma tabela de símbolos é um dicionário de dados que cada módulo possui, onde são armazenadas todas as variáveis, funções e classes definidas neste módulo.\n",
    "\n",
    "\n",
    "* Para acessarmos a tabela de símbolos utilizamos a função **dir()**.\n",
    "\n",
    "\n",
    "* A função embutida **dir()** é usada para se descobrir quais nomes são definidos por um módulo, ela devolve a tabela de símbolos (uma lista ordenada de strings).\n",
    "\n",
    "\n",
    "* No terminal, se executarmos **dir()** veremos uma lista de nomes de todos os símbolos da tabela do módulo atual.\n",
    "\n",
    "\n",
    "* Se importamos por exemplo o módulo **math** teremos um novo símbolo em nossa tabela."
   ]
  },
  {
   "cell_type": "markdown",
   "metadata": {},
   "source": [
    "***\n",
    "#### Exemplos sys.path\n",
    "***"
   ]
  },
  {
   "cell_type": "code",
   "execution_count": 1,
   "metadata": {
    "collapsed": true
   },
   "outputs": [],
   "source": [
    "# Importa a biblioteca sys responsavel por mapear os modulos de um projeto\n",
    "import sys"
   ]
  },
  {
   "cell_type": "code",
   "execution_count": 3,
   "metadata": {},
   "outputs": [
    {
     "name": "stdout",
     "output_type": "stream",
     "text": [
      "['', '/usr/lib/python35.zip', '/usr/lib/python3.5', '/usr/lib/python3.5/plat-x86_64-linux-gnu', '/usr/lib/python3.5/lib-dynload', '/home/victor/.local/lib/python3.5/site-packages', '/usr/local/lib/python3.5/dist-packages', '/usr/lib/python3/dist-packages', '/usr/local/lib/python3.5/dist-packages/IPython/extensions', '/home/victor/.ipython']\n"
     ]
    }
   ],
   "source": [
    "# Verificar as pastas que já pertence ao sistema\n",
    "print(sys.path)"
   ]
  },
  {
   "cell_type": "markdown",
   "metadata": {},
   "source": [
    "Vamos suport que você tem um arquivo chamado main.py e um pasta chamada lutas onde ta toda a lógica do programa, para importar essa pasta devemos fazer o seguinte\n",
    "\n",
    "```py\n",
    "# main.py\n",
    "\n",
    "import random, sys\n",
    "\n",
    "sys.path.append(\"lutas\")\n",
    "\n",
    "from lustas import *\n",
    "\n",
    "... Continuação do arquivo\n",
    "```\n",
    "\n",
    "Com isso esse arquivo consegue ver todos os arquivos dentro da pasta lutas"
   ]
  },
  {
   "cell_type": "markdown",
   "metadata": {},
   "source": [
    "***\n",
    "#### Criando pacotes\n",
    "***"
   ]
  },
  {
   "cell_type": "markdown",
   "metadata": {},
   "source": [
    "Só tem como acessar um pacote a partir da pasta que se encontra depois do arquivo que está importando o pacote, por exemplo, sua main que roda o codigo todo tem que está no pacote principal, e as implementações devem estar dentro de pastas/pacotes secundarias ao metodo main.\n",
    "\n",
    "Uma pasta só é considerada um modulo quando está com o arquivo **\\_\\_init\\_\\_.py**, mesmo não tendo nada dentro\n",
    "\n",
    "A hierarquia deve ser o seguinte:\n",
    "\n",
    "```\n",
    "jogo:\n",
    "    personagens:\n",
    "        __init__.py\n",
    "        personagem1.py\n",
    "        personagem2.py\n",
    "        ...\n",
    "    cenarios:\n",
    "        __init__.py\n",
    "        cenario1.py\n",
    "        cenario2.py\n",
    "        ...\n",
    "    __init__.py\n",
    "    main.py\n",
    "```\n",
    "\n",
    "A main vai ter acesso aos pacotes personagens e cenarios e seus modulos, normalmente chamamos os modulos através de imports\n",
    "\n",
    "```py\n",
    "from pacote_principal.pacote_secundario.arquivo_modulo import Classe\n",
    "from jogo.personagens.personagem1 import Personagem\n",
    "```"
   ]
  },
  {
   "cell_type": "markdown",
   "metadata": {},
   "source": [
    "Ao invés de importamos os módulos devemos utilizar a diretiva **\\_\\_all\\_\\_** com a lista de pacotes e/ou módulos.\n",
    "\n",
    "Exemplo de um arquivo **\\_\\_init\\_\\_.py** de todos os pacotes:\n",
    "\n",
    "```py\n",
    "# jogo\n",
    "__all__ = ['cenarios', 'personagens']\n",
    "```\n",
    "\n",
    "```py\n",
    "# personagens\n",
    "__all__ = ['personagem1', 'personagem2', ...]\n",
    "```\n",
    "\n",
    "```py\n",
    "# cenarios\n",
    "__all__ = ['cenario1', 'cenario2', ...]\n",
    "```\n"
   ]
  },
  {
   "cell_type": "code",
   "execution_count": 5,
   "metadata": {},
   "outputs": [
    {
     "name": "stdout",
     "output_type": "stream",
     "text": [
      "['In', 'Out', '_', '_4', '__', '___', '__builtin__', '__builtins__', '__doc__', '__loader__', '__name__', '__package__', '__spec__', '_dh', '_i', '_i1', '_i2', '_i3', '_i4', '_i5', '_ih', '_ii', '_iii', '_oh', '_sh', 'exit', 'get_ipython', 'quit', 'sys']"
     ]
    }
   ],
   "source": [
    "# Verificar as tabelas de simbolos de um modulo\n",
    "print(dir(), end='')"
   ]
  },
  {
   "cell_type": "markdown",
   "metadata": {},
   "source": [
    "***\n",
    "#### \\_\\_name\\_\\_\n",
    "***"
   ]
  },
  {
   "cell_type": "markdown",
   "metadata": {},
   "source": [
    "Essa variavel é a variavel que irá executar o arquivo, se tiver vários arquivos ele é excencial no arquivo que irá rodar o jogo o arquivo main.py já que os outros arquivos é somente para imports.\n",
    "\n",
    "```py\n",
    "def main():\n",
    "    # Implementação\n",
    "    pass\n",
    "\n",
    "if __name__ == '__main__':\n",
    "    main()\n",
    "```\n",
    "\n",
    "Existem algumas situações aonde queremos que nosso código seja executado apenas sob condições especiais, é o caso dos módulos principais. Só queremos que nossa função **main()** seja executada se o módulo for o principal. Caso ele tenha sido importado, a aplicação só deverá ser executada se **main()** for chamado explicitamente."
   ]
  }
 ],
 "metadata": {
  "kernelspec": {
   "display_name": "Python 3",
   "language": "python",
   "name": "python3"
  },
  "language_info": {
   "codemirror_mode": {
    "name": "ipython",
    "version": 3
   },
   "file_extension": ".py",
   "mimetype": "text/x-python",
   "name": "python",
   "nbconvert_exporter": "python",
   "pygments_lexer": "ipython3",
   "version": "3.5.2"
  }
 },
 "nbformat": 4,
 "nbformat_minor": 2
}
