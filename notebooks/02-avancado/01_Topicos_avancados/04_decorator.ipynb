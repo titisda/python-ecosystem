{
 "cells": [
  {
   "cell_type": "markdown",
   "metadata": {},
   "source": [
    "# Decoradores\n",
    "***"
   ]
  },
  {
   "cell_type": "markdown",
   "metadata": {},
   "source": [
    "Algumas funções construídas por um programador pode sofrer modificações ao longo do desenvolvimento do aplicativo, o que significa que tudo o que um programador escreve deve estar apto a sofrer modificações.\n",
    "\n",
    "Em python existe uma forma simples de adicionar funcionalidades a uma dada função a partir de outra função DECORADORA.\n",
    "\n",
    "Decoradores de métodos funcionam assim como decoradores de classe, dessa forma basta criar uma função decoradora e aplica-la a um método usando a sintaxe do @\n",
    "\n",
    "**Decorator**: É um design pattern que permite adicionar um comportamento a um objeto em tempo de execução, dinamicamente.\n",
    "\n",
    "* É uma função que recebe outra função como parâmetro, gerando uma nova função que adiciona algumas funcionalidades a função original e a retorna essa nova função.\n",
    "\n",
    "\n",
    "* Normalmente usado para trechos de códigos que vive se repetindo dentro de diversas funções, podemos criar um decorador para inserir esse trecho de maneira dinamica nessas funções, isso é valido para o principio Don't Repeat Youself.\n",
    "\n",
    "\n",
    "* Tem a sintaxe de **@alguma_coisa**\n",
    "\n",
    "\n",
    "* Basicamente um decorator irá pegar sua função e modifica-la.\n",
    "\n",
    "\n",
    "* Uma mesma função/metodo pode ter mais de um decorador, e é executado na ordem de cima para baixo dos decoradores inseridos"
   ]
  },
  {
   "cell_type": "markdown",
   "metadata": {},
   "source": [
    "***\n",
    "### Exemplos\n",
    "***"
   ]
  },
  {
   "cell_type": "code",
   "execution_count": 1,
   "metadata": {
    "collapsed": true
   },
   "outputs": [],
   "source": [
    "# Criando um decorator que substitua por completo a função original\n",
    "def header(function):\n",
    "\n",
    "    def print_header(name):\n",
    "        print(\"**********************\")\n",
    "        print(\"-- Bem Vindo %s --\" % name)\n",
    "        print(\"**********************\")\n",
    "        return True\n",
    "    \n",
    "    return print_header"
   ]
  },
  {
   "cell_type": "markdown",
   "metadata": {},
   "source": [
    "***"
   ]
  },
  {
   "cell_type": "code",
   "execution_count": 2,
   "metadata": {
    "collapsed": true
   },
   "outputs": [],
   "source": [
    "# Ao utilizar o decorator header, ao inves de imprimir\n",
    "# Meu nome é Victor irá imprimir o cabeçalho definido no decorator\n",
    "@header\n",
    "def hello_world(name):\n",
    "    print(\"Meu nome é %s\" % name)"
   ]
  },
  {
   "cell_type": "markdown",
   "metadata": {},
   "source": [
    "***"
   ]
  },
  {
   "cell_type": "code",
   "execution_count": 3,
   "metadata": {},
   "outputs": [
    {
     "name": "stdout",
     "output_type": "stream",
     "text": [
      "**********************\n",
      "-- Bem Vindo Victor --\n",
      "**********************\n"
     ]
    },
    {
     "data": {
      "text/plain": [
       "True"
      ]
     },
     "execution_count": 3,
     "metadata": {},
     "output_type": "execute_result"
    }
   ],
   "source": [
    "# Com isso definimos que o hello_world é a função header\n",
    "hello_world(\"Victor\")"
   ]
  },
  {
   "cell_type": "markdown",
   "metadata": {},
   "source": [
    "***\n",
    "### Outro exemplo\n",
    "***"
   ]
  },
  {
   "cell_type": "code",
   "execution_count": 4,
   "metadata": {
    "collapsed": true
   },
   "outputs": [],
   "source": [
    "# Criando um decorator que adicione funcionalidades a função original\n",
    "def header(function):\n",
    "\n",
    "    def print_header(name):\n",
    "        print(\"*********************\")\n",
    "        print(\"   -- Bem Vindo --   \")\n",
    "        print(\"*********************\")\n",
    "        function(name)\n",
    "    \n",
    "    return print_header"
   ]
  },
  {
   "cell_type": "markdown",
   "metadata": {},
   "source": [
    "***"
   ]
  },
  {
   "cell_type": "code",
   "execution_count": 5,
   "metadata": {
    "collapsed": true
   },
   "outputs": [],
   "source": [
    "# Ao utilizar o decorator header, iremos imprimir o\n",
    "# cabeçalho definido no decorator e o definido no hello_world\n",
    "@header\n",
    "def hello_world(name):\n",
    "    print(\"Meu nome é %s\" % name)"
   ]
  },
  {
   "cell_type": "markdown",
   "metadata": {},
   "source": [
    "***"
   ]
  },
  {
   "cell_type": "code",
   "execution_count": 6,
   "metadata": {},
   "outputs": [
    {
     "name": "stdout",
     "output_type": "stream",
     "text": [
      "*********************\n",
      "   -- Bem Vindo --   \n",
      "*********************\n",
      "Meu nome é Victor\n"
     ]
    }
   ],
   "source": [
    "# Com isso definimos que o hello_world é a função header\n",
    "hello_world(\"Victor\")"
   ]
  },
  {
   "cell_type": "markdown",
   "metadata": {},
   "source": [
    "***\n",
    "### O que acontece por debaixo dos panos\n",
    "***"
   ]
  },
  {
   "cell_type": "code",
   "execution_count": 7,
   "metadata": {
    "collapsed": true
   },
   "outputs": [],
   "source": [
    "def header(function):\n",
    "\n",
    "    def print_header(name):\n",
    "        print(\"*********************\")\n",
    "        print(\"   -- Bem Vindo --   \")\n",
    "        print(\"*********************\")\n",
    "        function(name)\n",
    "    \n",
    "    return print_header"
   ]
  },
  {
   "cell_type": "markdown",
   "metadata": {},
   "source": [
    "***"
   ]
  },
  {
   "cell_type": "code",
   "execution_count": 8,
   "metadata": {
    "collapsed": true
   },
   "outputs": [],
   "source": [
    "def hello_world(name):\n",
    "    print(\"Meu nome é %s\" % name)"
   ]
  },
  {
   "cell_type": "markdown",
   "metadata": {},
   "source": [
    "***"
   ]
  },
  {
   "cell_type": "code",
   "execution_count": 9,
   "metadata": {},
   "outputs": [
    {
     "name": "stdout",
     "output_type": "stream",
     "text": [
      "*********************\n",
      "   -- Bem Vindo --   \n",
      "*********************\n",
      "Meu nome é Victor\n"
     ]
    }
   ],
   "source": [
    "hello_world = header(hello_world)\n",
    "hello_world(\"Victor\")"
   ]
  },
  {
   "cell_type": "markdown",
   "metadata": {},
   "source": [
    "***\n",
    "### Aninhamento de decoradores\n",
    "***"
   ]
  },
  {
   "cell_type": "code",
   "execution_count": 10,
   "metadata": {
    "collapsed": true
   },
   "outputs": [],
   "source": [
    "def p_decorator(function):\n",
    "    \n",
    "    def decorator(number1, number2):\n",
    "        return \"<p>\" + function(number1, number2) + \"</p>\"\n",
    "    \n",
    "    return decorator"
   ]
  },
  {
   "cell_type": "code",
   "execution_count": 11,
   "metadata": {
    "collapsed": true
   },
   "outputs": [],
   "source": [
    "def div_decorator(function):\n",
    "    \n",
    "    def decorator(number1, number2):\n",
    "        return \"<div>\" + function(number1, number2) + \"</div>\"\n",
    "    \n",
    "    return decorator"
   ]
  },
  {
   "cell_type": "code",
   "execution_count": 12,
   "metadata": {
    "collapsed": true
   },
   "outputs": [],
   "source": [
    "def strong_decorator(function):\n",
    "    \n",
    "    def decorator(number1, number2):\n",
    "        return \"<strong>\" + function(number1, number2) + \"</strong>\"\n",
    "    \n",
    "    return decorator"
   ]
  },
  {
   "cell_type": "code",
   "execution_count": 13,
   "metadata": {
    "collapsed": true
   },
   "outputs": [],
   "source": [
    "@p_decorator\n",
    "@div_decorator\n",
    "@strong_decorator\n",
    "def resultHTML(number1, number2):\n",
    "    return \"Resultado: %s\" % (number1 * number2)"
   ]
  },
  {
   "cell_type": "code",
   "execution_count": 14,
   "metadata": {},
   "outputs": [
    {
     "name": "stdout",
     "output_type": "stream",
     "text": [
      "<p><div><strong>Resultado: 6</strong></div></p>\n"
     ]
    }
   ],
   "source": [
    "print(resultHTML(2, 3))"
   ]
  },
  {
   "cell_type": "markdown",
   "metadata": {},
   "source": [
    "***"
   ]
  },
  {
   "cell_type": "markdown",
   "metadata": {},
   "source": [
    "***\n",
    "### Decoradores com argumentos\n",
    "***"
   ]
  },
  {
   "cell_type": "code",
   "execution_count": 15,
   "metadata": {
    "collapsed": true
   },
   "outputs": [],
   "source": [
    "def tags(tag):\n",
    "    # Recebe os argumentos do decorador\n",
    "    def tags_decorator(function):\n",
    "        # Decorador da função\n",
    "        def decorator(number1, number2):\n",
    "            # Função Decoradora\n",
    "            return \"<{0}>{1}</{2}>\".format(tag, function(number1, number2), tag)   \n",
    "        return decorator\n",
    "    return tags_decorator"
   ]
  },
  {
   "cell_type": "code",
   "execution_count": 16,
   "metadata": {},
   "outputs": [],
   "source": [
    "@tags(\"p\")\n",
    "@tags(\"div\")\n",
    "@tags(\"strong\")\n",
    "def resultHTML(number1, number2):\n",
    "    return \"Resultado: %s\" % (number1 * number2)"
   ]
  },
  {
   "cell_type": "code",
   "execution_count": 17,
   "metadata": {},
   "outputs": [
    {
     "name": "stdout",
     "output_type": "stream",
     "text": [
      "<p><div><strong>Resultado: 6</strong></div></p>\n"
     ]
    }
   ],
   "source": [
    "print(resultHTML(2, 3))"
   ]
  }
 ],
 "metadata": {
  "kernelspec": {
   "display_name": "Python 3",
   "language": "python",
   "name": "python3"
  },
  "language_info": {
   "codemirror_mode": {
    "name": "ipython",
    "version": 3
   },
   "file_extension": ".py",
   "mimetype": "text/x-python",
   "name": "python",
   "nbconvert_exporter": "python",
   "pygments_lexer": "ipython3",
   "version": "3.5.2"
  }
 },
 "nbformat": 4,
 "nbformat_minor": 2
}
