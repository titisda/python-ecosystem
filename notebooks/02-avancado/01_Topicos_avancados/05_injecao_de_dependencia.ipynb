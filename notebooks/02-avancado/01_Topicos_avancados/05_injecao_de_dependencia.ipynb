{
 "cells": [
  {
   "cell_type": "markdown",
   "metadata": {},
   "source": [
    "# Injeção de dependência\n",
    "***"
   ]
  },
  {
   "cell_type": "markdown",
   "metadata": {},
   "source": [
    "**Injeção de dependência**: É uma técnica de programação utilizada quando se deseja manter um baixo nível de acoplamento entre os módulos do sistema.\n",
    "\n",
    "**Baixo Acoplamento**: É quando se tem pouca dependência em relação a outra coisa, no caso é baixa dependência entre classes.\n",
    "\n",
    "**Alta Coesão**: Cada classe deve ter responsabilidade única.\n",
    "\n",
    "**Dependência**: É quando um método de uma classe utiliza serviço de outras classes, por exemplo, o método de uma classe está dependendo do método ou atributo de outra classe para funcionar, isso gera um alto acoplamento entre as classes.\n",
    "\n",
    "A função **sorted** que ordena listas e etc... precisa usar a função de comparação, por padrão ela tem uma função de comparação default implementada nela, mas você pode passar uma função de comparação para ela, isso é injeção de dependência, é inserir funções dinamicamente para que outras funções não dependam dela mas a utilizem."
   ]
  },
  {
   "cell_type": "markdown",
   "metadata": {},
   "source": [
    "***\n",
    "### Exemplos\n",
    "***"
   ]
  },
  {
   "cell_type": "code",
   "execution_count": 1,
   "metadata": {
    "collapsed": true
   },
   "outputs": [],
   "source": [
    "# Vamos criar uma lista de linguagens de programação\n",
    "languages = ['python', 'ruby', 'c', 'c++', 'java', 'lua']"
   ]
  },
  {
   "cell_type": "markdown",
   "metadata": {},
   "source": [
    "***"
   ]
  },
  {
   "cell_type": "code",
   "execution_count": 3,
   "metadata": {},
   "outputs": [
    {
     "name": "stdout",
     "output_type": "stream",
     "text": [
      "['c', 'c++', 'lua', 'ruby', 'java', 'python']\n"
     ]
    }
   ],
   "source": [
    "# Vamos ordenar essa lista, passando a função de comparação que será a len\n",
    "print(sorted(languages, key=len))"
   ]
  }
 ],
 "metadata": {
  "kernelspec": {
   "display_name": "Python 3",
   "language": "python",
   "name": "python3"
  },
  "language_info": {
   "codemirror_mode": {
    "name": "ipython",
    "version": 3
   },
   "file_extension": ".py",
   "mimetype": "text/x-python",
   "name": "python",
   "nbconvert_exporter": "python",
   "pygments_lexer": "ipython3",
   "version": "3.5.2"
  }
 },
 "nbformat": 4,
 "nbformat_minor": 2
}
