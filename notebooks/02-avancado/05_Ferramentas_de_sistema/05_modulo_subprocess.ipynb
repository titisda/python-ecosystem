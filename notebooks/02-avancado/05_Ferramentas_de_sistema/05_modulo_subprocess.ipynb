{
 "cells": [
  {
   "cell_type": "markdown",
   "metadata": {},
   "source": [
    "# Modulo subprocess\n",
    "***"
   ]
  },
  {
   "cell_type": "markdown",
   "metadata": {},
   "source": [
    "Forma alternativa do **os.popen** e melhor para executar comandos do terminal através de um programa em python\n",
    "\n",
    "**process**: É um programa\n",
    "\n",
    "**subprocess**: É a execução de um programa/código dentro de outro programa\n",
    "\n",
    "**.call**: Executa o comando, equivale ao os.system\n",
    "\n",
    "**.check_call**: Checa a saida do comando, e se houver erro levanta excessão\n",
    "\n",
    "**.check_output**: Devolve a saida do comando\n",
    "\n",
    "**.Popen(args, bufsize=0, stdin=None, stdout=None, stderr=None, preexec_fn=None, shell=False)**:\n",
    "\n",
    "* **args**: Sequência de argumentos do programa\n",
    "\n",
    "* **shell**: Mesma regra de call\n",
    "\n",
    "* **preexec_fn**: Chama o programa antes da execução\n",
    "\n",
    "* **stdout/in/err**: Direciona a saída de execução\n",
    "\n",
    "O **subprocess.Popen** foi feito para ser um substituto de **os.popen**.\n",
    "\n",
    "Ele funciona de maneira semelhante, porém um pouco mais complexo.\n",
    "\n",
    "Por exemplo, assim como o os.popen o subprocess.Popen retorna um objeto capaz\n",
    "de lidar com os resultados da execução:\n",
    "\n",
    "```py\n",
    "os.popen('python3 arquivo.py --install').read()\n",
    "\n",
    "subprocess.Popen(\n",
    "    'python3 arquivo.py --install',\n",
    "    stdout=subprocess.PIPE,\n",
    "    shell=True\n",
    ").stdout.read()\n",
    "```"
   ]
  },
  {
   "cell_type": "markdown",
   "metadata": {},
   "source": [
    "***\n",
    "### Exemplos\n",
    "***"
   ]
  },
  {
   "cell_type": "code",
   "execution_count": 1,
   "metadata": {
    "collapsed": true
   },
   "outputs": [],
   "source": [
    "# Importar o modulo subprocess e sys\n",
    "import subprocess, sys"
   ]
  },
  {
   "cell_type": "markdown",
   "metadata": {},
   "source": [
    "***"
   ]
  },
  {
   "cell_type": "code",
   "execution_count": 2,
   "metadata": {
    "collapsed": true
   },
   "outputs": [],
   "source": [
    "# Vamos ler os arquivos do diretório\n",
    "if 'win' in sys.platform:\n",
    "    '''\n",
    "    O argumento shell tem de ser true no windows para\n",
    "    executar programas construídos internamente, como type, dir,\n",
    "    entre outros. Um programa normal como python não possuí\n",
    "    necessidade deste argumento\n",
    "    '''\n",
    "    subprocess.call(['dir'], shell=True)\n",
    "else:\n",
    "    '''\n",
    "    No unix, por outro lado, o shell=False (padrão) indica que\n",
    "    o comando será executado pelo os.execvp, quando shell=True\n",
    "    o comando é executado na própria linha de comando.\n",
    "    '''\n",
    "    subprocess.call(['ls', '-l'])\n",
    "    \n",
    "# Isso irá executa o ls -l no terminal"
   ]
  },
  {
   "cell_type": "markdown",
   "metadata": {},
   "source": [
    "***"
   ]
  },
  {
   "cell_type": "code",
   "execution_count": 3,
   "metadata": {},
   "outputs": [
    {
     "name": "stdout",
     "output_type": "stream",
     "text": [
      "Command '['cat', 'no_exist.py']' returned non-zero exit status 1\n"
     ]
    }
   ],
   "source": [
    "# Vamos checar a saida de cat\n",
    "try:\n",
    "    subprocess.check_call(['cat', 'no_exist.py'])\n",
    "except Exception as Error:\n",
    "    print(Error)"
   ]
  },
  {
   "cell_type": "markdown",
   "metadata": {},
   "source": [
    "***"
   ]
  },
  {
   "cell_type": "code",
   "execution_count": 4,
   "metadata": {},
   "outputs": [
    {
     "name": "stdout",
     "output_type": "stream",
     "text": [
      "Instalando tudo!\n",
      "\n"
     ]
    }
   ],
   "source": [
    "# Vamos armazenar a saida do arquivo.py dentro de uma variável\n",
    "output = subprocess.check_output(['python3', 'setup.py', '--install'])\n",
    "print(output.decode())"
   ]
  },
  {
   "cell_type": "markdown",
   "metadata": {},
   "source": [
    "***"
   ]
  },
  {
   "cell_type": "code",
   "execution_count": 5,
   "metadata": {
    "collapsed": true
   },
   "outputs": [],
   "source": [
    "# Vamos criar o subprocess descrito acima e armazenar em uma variável\n",
    "output = subprocess.Popen(\n",
    "    'python3 setup.py --install',\n",
    "    stdout=subprocess.PIPE,\n",
    "    shell=True\n",
    ")"
   ]
  },
  {
   "cell_type": "markdown",
   "metadata": {},
   "source": [
    "***"
   ]
  },
  {
   "cell_type": "code",
   "execution_count": 6,
   "metadata": {},
   "outputs": [
    {
     "name": "stdout",
     "output_type": "stream",
     "text": [
      "(b'Instalando tudo!\\n', None)\n"
     ]
    }
   ],
   "source": [
    "# Agora vamos permitir mandar um input para o processo ou receber data dele.\n",
    "# O communicate retorna uma tupla, a primeira é o resultado do stdout e a\n",
    "# segunda é o stderr que é None se não tive erros\n",
    "print(output.communicate())"
   ]
  },
  {
   "cell_type": "markdown",
   "metadata": {},
   "source": [
    "***"
   ]
  },
  {
   "cell_type": "code",
   "execution_count": 7,
   "metadata": {},
   "outputs": [
    {
     "name": "stdout",
     "output_type": "stream",
     "text": [
      "(None, None)\n"
     ]
    }
   ],
   "source": [
    "# Depois usaremos o communicate no Popen colocando a entrada de texto\n",
    "# Dentro do stdin do arquivo.py --pipe o resultado está no terminal de\n",
    "# comandos que é O sentido da vida é 42\n",
    "output = subprocess.Popen(\n",
    "    ['python3', 'setup.py', '--pipe'],\n",
    "    stdin=subprocess.PIPE\n",
    ")\n",
    "print(output.communicate(b'42'))"
   ]
  }
 ],
 "metadata": {
  "kernelspec": {
   "display_name": "Python 3",
   "language": "python",
   "name": "python3"
  },
  "language_info": {
   "codemirror_mode": {
    "name": "ipython",
    "version": 3
   },
   "file_extension": ".py",
   "mimetype": "text/x-python",
   "name": "python",
   "nbconvert_exporter": "python",
   "pygments_lexer": "ipython3",
   "version": "3.5.2"
  }
 },
 "nbformat": 4,
 "nbformat_minor": 2
}
