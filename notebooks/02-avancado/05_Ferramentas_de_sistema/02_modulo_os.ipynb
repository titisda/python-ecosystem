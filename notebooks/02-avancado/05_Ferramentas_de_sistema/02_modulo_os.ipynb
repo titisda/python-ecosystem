{
 "cells": [
  {
   "cell_type": "markdown",
   "metadata": {},
   "source": [
    "# Básico do modulo os\n",
    "***"
   ]
  },
  {
   "cell_type": "markdown",
   "metadata": {},
   "source": [
    "**os** vem de Operation System.\n",
    "\n",
    "#### Métodos:\n",
    "\n",
    "* **.getpid()**: ID do processo que está executando, todo programa/processo que você roda tem um ID\n",
    "\n",
    "\n",
    "* **.getcwd()**: Recebe o diretório de trabalho atual\n",
    "\n",
    "\n",
    "* **.mkdir(path, mode=777)**: Cria um diretorio com um modo de permissão\n",
    "\n",
    "\n",
    "* **.remove(path)**: Remove um arquivo\n",
    "\n",
    "\n",
    "* **.removedirs(name)**: Remove diretorio recursivamente, ou podemos usar o **rmdir()** que remove se ele tiver vazio.\n",
    "\n",
    "\n",
    "* **.rename(path)**: Renomeia um arquivo ou diretorio\n",
    "\n",
    "\n",
    "* **.urandom(n)**: Retorna n bytes cryptografados de uma data aleatória\n",
    "\n",
    "\n",
    "* **.chdir(path)**: Muda o diretório de trabalho, podemos usar o caminho relativo, do seu diretorio em diante ou absoluto, caminho completo.\n",
    "\n",
    "\n",
    "* **.listdir(path)**: Lista todos os diretórios/arquivos no diretório atual\n",
    "\n",
    "\n",
    "* **.walk(path)**: Caminha por uma árvore de diretórios, utiliza de geradores\n",
    "\n",
    "\n",
    "* **.chmod(path, numeric_mode)**: Modifica as permissões do path, utilizando o modo númerico de permissões.\n",
    "\n",
    "\n",
    "* **.chown(path, uid, gid)**: Altere o ID do proprietário e do grupo do path fornecido pelo fd(file) para o uid(user_id) numérico e o gid(group_id).\n",
    "\n",
    "\n",
    "* **.chdir(path)**: Altere o diretório de trabalho atual para o path.\n",
    "\n",
    "#### Paths\n",
    "\n",
    "**os.path**: Lida com a manipulação de diretorios\n",
    "\n",
    "* **.isdir(path)**: Verifica se o caminho passado é um diretorio\n",
    "\n",
    "\n",
    "* **.isfile(path)**: Verifica se o caminho passado é um arquivo\n",
    "\n",
    "\n",
    "* **.exists(path)**: Verifica se o caminho passado existe\n",
    "\n",
    "\n",
    "* **.getsize(path)**: Pega o tamanho em bytes do arquivo ou diretorio\n",
    "\n",
    "\n",
    "* **.split(path)**: Separa o que é caminho de diretorio e o que é arquivo\n",
    "\n",
    "\n",
    "* **.dirname(path)**: Pega o caminho que é um diretorio\n",
    "\n",
    "\n",
    "* **.basename(path)**: Pega o caminho que é um arquivo\n",
    "\n",
    "\n",
    "* **.join(path1, path2)**: Junta dois caminhos\n",
    "\n",
    "\n",
    "* **.splitext(file)**: Separa o arquivo de sua extensão\n",
    "\n",
    "\n",
    "* **.normpath(path)**: Arruma o separado do path passado de acordo com o separador do seu sistema operacional, no linux ele aceita o \\ e o / porém isso é util no windows.\n",
    "\n",
    "\n",
    "* **.abspath(path)**: Pega o caminho absoluto do diretorio ou arquivo inserido como parâmetro\n",
    "\n",
    "#### Constantes:\n",
    "\n",
    "* **.pathsep**: Separador de caminhos usado no path\n",
    "\n",
    "\n",
    "* **.sep**: Separador de diretorios\n",
    "\n",
    "\n",
    "* **.pardir**: Caminho para voltar para o diretório anterior\n",
    "\n",
    "\n",
    "* **.curdir**: Caminho para obter o diretório atual\n",
    "\n",
    "\n",
    "* **.linesep**: Separador de linhas ou em alguns casos o \\n\n",
    "\n",
    "\n",
    "* **.environ**: Dicionário com caminhos e configurações específicas do sistema"
   ]
  },
  {
   "cell_type": "markdown",
   "metadata": {},
   "source": [
    "***\n",
    "### Arquivos e diretorios\n",
    "***"
   ]
  },
  {
   "cell_type": "code",
   "execution_count": 1,
   "metadata": {
    "collapsed": true
   },
   "outputs": [],
   "source": [
    "# Importar o modulo os e sys\n",
    "import os\n",
    "import sys"
   ]
  },
  {
   "cell_type": "markdown",
   "metadata": {},
   "source": [
    "***"
   ]
  },
  {
   "cell_type": "code",
   "execution_count": 2,
   "metadata": {},
   "outputs": [
    {
     "name": "stdout",
     "output_type": "stream",
     "text": [
      "21038 /home/victor/Documents/Codigos/Python/Aulas/03_Avancado/05_Ferramentas_de_sistema\n"
     ]
    }
   ],
   "source": [
    "# Imprimir o processo e o diretório atual\n",
    "print(os.getpid(), os.getcwd())"
   ]
  },
  {
   "cell_type": "markdown",
   "metadata": {},
   "source": [
    "***"
   ]
  },
  {
   "cell_type": "code",
   "execution_count": 3,
   "metadata": {
    "collapsed": true
   },
   "outputs": [],
   "source": [
    "# Vamos criar um arquivo\n",
    "file = open('arquivo.txt', 'w')\n",
    "file.write('Arquivo para modificações\\n')\n",
    "file.close()"
   ]
  },
  {
   "cell_type": "markdown",
   "metadata": {},
   "source": [
    "***"
   ]
  },
  {
   "cell_type": "code",
   "execution_count": 4,
   "metadata": {
    "collapsed": true
   },
   "outputs": [],
   "source": [
    "# Renomear o arquivo\n",
    "os.rename('arquivo.txt', 'renomeado.txt')"
   ]
  },
  {
   "cell_type": "markdown",
   "metadata": {},
   "source": [
    "***"
   ]
  },
  {
   "cell_type": "code",
   "execution_count": 5,
   "metadata": {
    "collapsed": true
   },
   "outputs": [],
   "source": [
    "# Remover o arquivo\n",
    "os.remove('renomeado.txt')"
   ]
  },
  {
   "cell_type": "markdown",
   "metadata": {},
   "source": [
    "***"
   ]
  },
  {
   "cell_type": "code",
   "execution_count": 6,
   "metadata": {},
   "outputs": [
    {
     "name": "stdout",
     "output_type": "stream",
     "text": [
      "b'\\x0e\\xc4\\x1b\\xe9\\x1d'\n"
     ]
    }
   ],
   "source": [
    "# Gera uma string aleatória e criptografada\n",
    "print(os.urandom(5))"
   ]
  },
  {
   "cell_type": "markdown",
   "metadata": {},
   "source": [
    "***"
   ]
  },
  {
   "cell_type": "code",
   "execution_count": 7,
   "metadata": {},
   "outputs": [],
   "source": [
    "# Criar um diretorio\n",
    "os.mkdir('diretorio')"
   ]
  },
  {
   "cell_type": "markdown",
   "metadata": {},
   "source": [
    "***"
   ]
  },
  {
   "cell_type": "code",
   "execution_count": 8,
   "metadata": {},
   "outputs": [
    {
     "name": "stdout",
     "output_type": "stream",
     "text": [
      "/home/victor/Documents/Codigos/Python/Aulas/03_Avancado/05_Ferramentas_de_sistema\n",
      "/home/victor/Documents/Codigos/Python/Aulas/03_Avancado\n",
      "['01_Topicos_avancados', '05_Ferramentas_de_sistema', '04_Pytest', '.ipynb_checkpoints', '03_Iteracoes', '02_Armazenamento_de_dados']\n"
     ]
    }
   ],
   "source": [
    "# Modificar o diretorio de trabalho e lista-lo\n",
    "print(os.getcwd())\n",
    "os.chdir('..')\n",
    "print(os.getcwd())\n",
    "print(os.listdir('.'))"
   ]
  },
  {
   "cell_type": "markdown",
   "metadata": {},
   "source": [
    "***"
   ]
  },
  {
   "cell_type": "code",
   "execution_count": 9,
   "metadata": {},
   "outputs": [
    {
     "name": "stdout",
     "output_type": "stream",
     "text": [
      "\n",
      "Diretório: [.]\n",
      "Aperte enter para ver os conteúdos do diretório: \n",
      "\n",
      "Diretório: [./01_Topicos_avancados]\n",
      "Aperte enter para ver os conteúdos do diretório: \n",
      "--> ./01_Topicos_avancados/05_injecao_de_dependencia.ipynb\n",
      "--> ./01_Topicos_avancados/03_modules.ipynb\n",
      "--> ./01_Topicos_avancados/02_is.ipynb\n",
      "--> ./01_Topicos_avancados/01_del.ipynb\n",
      "--> ./01_Topicos_avancados/04_decorator.ipynb\n",
      "\n",
      "Diretório: [./01_Topicos_avancados/.ipynb_checkpoints]\n",
      "Aperte enter para ver os conteúdos do diretório: \n",
      "--> ./01_Topicos_avancados/.ipynb_checkpoints/04_decorator-checkpoint.ipynb\n",
      "--> ./01_Topicos_avancados/.ipynb_checkpoints/05_injecao_de_dependencia-checkpoint.ipynb\n",
      "\n",
      "Diretório: [./05_Ferramentas_de_sistema]\n",
      "Aperte enter para ver os conteúdos do diretório: \n",
      "--> ./05_Ferramentas_de_sistema/arquivo.py\n",
      "--> ./05_Ferramentas_de_sistema/fib.py\n",
      "--> ./05_Ferramentas_de_sistema/06_module_argparse.ipynb\n",
      "--> ./05_Ferramentas_de_sistema/fib.txt\n",
      "--> ./05_Ferramentas_de_sistema/05_modulo_subprocess.ipynb\n",
      "--> ./05_Ferramentas_de_sistema/02_modulo_os.ipynb\n",
      "--> ./05_Ferramentas_de_sistema/03_comandos_shell.ipynb\n",
      "--> ./05_Ferramentas_de_sistema/04_streams.ipynb\n",
      "--> ./05_Ferramentas_de_sistema/01_modulo_sys.ipynb\n",
      "\n",
      "Diretório: [./05_Ferramentas_de_sistema/__pycache__]\n",
      "Aperte enter para ver os conteúdos do diretório: \n",
      "--> ./05_Ferramentas_de_sistema/__pycache__/setup.cpython-35.pyc\n",
      "\n",
      "Diretório: [./05_Ferramentas_de_sistema/.ipynb_checkpoints]\n",
      "Aperte enter para ver os conteúdos do diretório: \n",
      "--> ./05_Ferramentas_de_sistema/.ipynb_checkpoints/06_module_argparse-checkpoint.ipynb\n",
      "--> ./05_Ferramentas_de_sistema/.ipynb_checkpoints/03_comandos_shell-checkpoint.ipynb\n",
      "--> ./05_Ferramentas_de_sistema/.ipynb_checkpoints/02_modulo_os-checkpoint.ipynb\n",
      "--> ./05_Ferramentas_de_sistema/.ipynb_checkpoints/04_streams-checkpoint.ipynb\n",
      "--> ./05_Ferramentas_de_sistema/.ipynb_checkpoints/05_modulo_subprocess-checkpoint.ipynb\n",
      "--> ./05_Ferramentas_de_sistema/.ipynb_checkpoints/01_modulo_sys-checkpoint.ipynb\n",
      "\n",
      "Diretório: [./05_Ferramentas_de_sistema/diretorio]\n",
      "Aperte enter para ver os conteúdos do diretório: \n",
      "\n",
      "Diretório: [./04_Pytest]\n",
      "Aperte enter para ver os conteúdos do diretório: \n",
      "--> ./04_Pytest/06_pytest.ipynb\n",
      "--> ./04_Pytest/02_doctest.ipynb\n",
      "--> ./04_Pytest/01_unittest.ipynb\n",
      "--> ./04_Pytest/05_debugando.ipynb\n",
      "--> ./04_Pytest/04_logging.ipynb\n",
      "--> ./04_Pytest/03_TDD.ipynb\n",
      "--> ./04_Pytest/debug.log\n",
      "\n",
      "Diretório: [./04_Pytest/__pycache__]\n",
      "Aperte enter para ver os conteúdos do diretório: \n",
      "--> ./04_Pytest/__pycache__/ipython_pytest.cpython-35.pyc\n",
      "\n",
      "Diretório: [./04_Pytest/.ipynb_checkpoints]\n",
      "Aperte enter para ver os conteúdos do diretório: \n",
      "--> ./04_Pytest/.ipynb_checkpoints/06_pytest-checkpoint.ipynb\n",
      "--> ./04_Pytest/.ipynb_checkpoints/02_doctest-checkpoint.ipynb\n",
      "--> ./04_Pytest/.ipynb_checkpoints/04_logging-checkpoint.ipynb\n",
      "--> ./04_Pytest/.ipynb_checkpoints/05_debugando-checkpoint.ipynb\n",
      "--> ./04_Pytest/.ipynb_checkpoints/01_unittest-checkpoint.ipynb\n",
      "--> ./04_Pytest/.ipynb_checkpoints/03_TDD-checkpoint.ipynb\n",
      "\n",
      "Diretório: [./.ipynb_checkpoints]\n",
      "Aperte enter para ver os conteúdos do diretório: \n",
      "\n",
      "Diretório: [./03_Iteracoes]\n",
      "Aperte enter para ver os conteúdos do diretório: \n",
      "--> ./03_Iteracoes/02_compressao_de_listas.ipynb\n",
      "--> ./03_Iteracoes/arquivo.txt\n",
      "--> ./03_Iteracoes/06_criando_objetos_iteraveis.ipynb\n",
      "--> ./03_Iteracoes/04_funcoes_geradoras.ipynb\n",
      "--> ./03_Iteracoes/03_metodos_iteraveis.ipynb\n",
      "--> ./03_Iteracoes/05_expressoes_geradoras.ipynb\n",
      "--> ./03_Iteracoes/01_introducao.ipynb\n",
      "\n",
      "Diretório: [./03_Iteracoes/.ipynb_checkpoints]\n",
      "Aperte enter para ver os conteúdos do diretório: \n",
      "--> ./03_Iteracoes/.ipynb_checkpoints/04_funcoes_geradoras-checkpoint.ipynb\n",
      "--> ./03_Iteracoes/.ipynb_checkpoints/06_criando_objetos_iteraveis-checkpoint.ipynb\n",
      "\n",
      "Diretório: [./02_Armazenamento_de_dados]\n",
      "Aperte enter para ver os conteúdos do diretório: \n",
      "--> ./02_Armazenamento_de_dados/04_pickle.ipynb\n",
      "--> ./02_Armazenamento_de_dados/03_json.ipynb\n",
      "--> ./02_Armazenamento_de_dados/binary.cod\n",
      "--> ./02_Armazenamento_de_dados/shelve.db\n",
      "--> ./02_Armazenamento_de_dados/02_dbm.ipynb\n",
      "--> ./02_Armazenamento_de_dados/01_struct.ipynb\n",
      "--> ./02_Armazenamento_de_dados/arquivo.pck\n",
      "--> ./02_Armazenamento_de_dados/contatos.db\n",
      "--> ./02_Armazenamento_de_dados/05_shelve.ipynb\n",
      "--> ./02_Armazenamento_de_dados/governo.json\n",
      "\n",
      "Diretório: [./02_Armazenamento_de_dados/.ipynb_checkpoints]\n",
      "Aperte enter para ver os conteúdos do diretório: \n"
     ]
    }
   ],
   "source": [
    "# Vamos caminhar pelos diretorios e lista-los\n",
    "for (name, subdirectories, files) in os.walk('.'):\n",
    "    print()\n",
    "    print('Diretório: [' + name + ']')\n",
    "    try:\n",
    "        input(\"Aperte enter para ver os conteúdos do diretório: \")\n",
    "    except EOFError:\n",
    "        break\n",
    "    for file_name in files:\n",
    "        print(\"-->\", os.path.join(name, file_name))"
   ]
  },
  {
   "cell_type": "markdown",
   "metadata": {},
   "source": [
    "***"
   ]
  },
  {
   "cell_type": "code",
   "execution_count": 10,
   "metadata": {
    "collapsed": true
   },
   "outputs": [],
   "source": [
    "# Remover o diretorio recursivamente\n",
    "os.chdir('05_Ferramentas_de_sistema')\n",
    "os.removedirs('diretorio')"
   ]
  },
  {
   "cell_type": "markdown",
   "metadata": {},
   "source": [
    "***\n",
    "### Path\n",
    "***"
   ]
  },
  {
   "cell_type": "code",
   "execution_count": 11,
   "metadata": {},
   "outputs": [
    {
     "name": "stdout",
     "output_type": "stream",
     "text": [
      "False\n",
      "True\n",
      "True\n",
      "23083 MB\n"
     ]
    }
   ],
   "source": [
    "# Caminhos path do sistema - verificação\n",
    "print(os.path.isdir(\"02_modulo_os.ipynb\"))\n",
    "print(os.path.isfile(\"02_modulo_os.ipynb\"))\n",
    "print(os.path.exists(\"02_modulo_os.ipynb\"))\n",
    "print(os.path.getsize(\"02_modulo_os.ipynb\"), \"MB\")"
   ]
  },
  {
   "cell_type": "markdown",
   "metadata": {},
   "source": [
    "***"
   ]
  },
  {
   "cell_type": "code",
   "execution_count": 12,
   "metadata": {},
   "outputs": [
    {
     "name": "stdout",
     "output_type": "stream",
     "text": [
      "('03_Avancado/05_Ferramentas_de_sistema', '02_modulo_os.ipynb')\n",
      "('02_modulo_os', '.ipynb')\n",
      "03_Avancado/05_Ferramentas_de_sistema\n",
      "02_modulo_os.ipynb\n"
     ]
    }
   ],
   "source": [
    "# Separa o que é caminho de diretorio e o que é arquivo\n",
    "print(os.path.split(\"03_Avancado/05_Ferramentas_de_sistema/02_modulo_os.ipynb\"))\n",
    "print(os.path.splitext(\"02_modulo_os.ipynb\"))\n",
    "print(os.path.dirname(\"03_Avancado/05_Ferramentas_de_sistema/02_modulo_os.ipynb\"))\n",
    "print(os.path.basename(\"03_Avancado/05_Ferramentas_de_sistema/02_modulo_os.ipynb\"))"
   ]
  },
  {
   "cell_type": "markdown",
   "metadata": {},
   "source": [
    "***"
   ]
  },
  {
   "cell_type": "code",
   "execution_count": 13,
   "metadata": {},
   "outputs": [
    {
     "name": "stdout",
     "output_type": "stream",
     "text": [
      "03_Avancado/arquivos/arquivo.py\n"
     ]
    }
   ],
   "source": [
    "# Junta dois caminhos\n",
    "print(os.path.join(\"03_Avancado\", \"arquivos\", \"arquivo.py\"))"
   ]
  },
  {
   "cell_type": "markdown",
   "metadata": {},
   "source": [
    "***"
   ]
  },
  {
   "cell_type": "code",
   "execution_count": 14,
   "metadata": {},
   "outputs": [
    {
     "name": "stdout",
     "output_type": "stream",
     "text": [
      "03_Avancado\\05_Ferramentas_de_sistema/02_modulo_os.ipynb\n"
     ]
    }
   ],
   "source": [
    "# Arrumar os divisores de diretorios dos path\n",
    "print(os.path.normpath(\"03_Avancado\\\\05_Ferramentas_de_sistema/02_modulo_os.ipynb\"))"
   ]
  },
  {
   "cell_type": "markdown",
   "metadata": {},
   "source": [
    "***"
   ]
  },
  {
   "cell_type": "code",
   "execution_count": 15,
   "metadata": {},
   "outputs": [
    {
     "name": "stdout",
     "output_type": "stream",
     "text": [
      "/home/victor/Documents/Codigos/Python/Aulas/03_Avancado/05_Ferramentas_de_sistema/02_modulo_os.ipynb\n",
      "/home/victor/Documents/Codigos/Python/Aulas/03_Avancado/05_Ferramentas_de_sistema\n",
      "/home/victor/Documents/Codigos/Python/Aulas/03_Avancado/05_Ferramentas_de_sistema\n",
      "/home/victor/Documents/Codigos/Python/Aulas/03_Avancado\n"
     ]
    }
   ],
   "source": [
    "# Pega o caminho absoluto do diretorio ou arquivo inserido como parâmetro\n",
    "print(os.path.abspath(\"02_modulo_os.ipynb\"))\n",
    "print(os.path.abspath(\"\"))\n",
    "print(os.path.abspath(\".\"))\n",
    "print(os.path.abspath(\"..\"))"
   ]
  },
  {
   "cell_type": "markdown",
   "metadata": {},
   "source": [
    "***\n",
    "### Constantes\n",
    "***"
   ]
  },
  {
   "cell_type": "code",
   "execution_count": 16,
   "metadata": {},
   "outputs": [
    {
     "name": "stdout",
     "output_type": "stream",
     "text": [
      "Separador de caminhos do path :\n",
      "Separador do nome do diretorio /\n",
      "Caminho para voltar para o diretorio anterior ..\n",
      "Caminho para pegar o diretorio atual .\n",
      "Código para separar linhas \n",
      " \n",
      "\n",
      "Caminho: ../img/foto.png\n"
     ]
    }
   ],
   "source": [
    "# Constantes do modulo os\n",
    "print(\"Separador de caminhos do path\", os.pathsep)\n",
    "print(\"Separador do nome do diretorio\", os.sep)\n",
    "print(\"Caminho para voltar para o diretorio anterior\", os.pardir)\n",
    "print(\"Caminho para pegar o diretorio atual\", os.curdir)\n",
    "print(\"Código para separar linhas \\n\", os.linesep)\n",
    "print(\"Caminho: \"+ os.pardir + os.sep + \"img\" + os.sep + \"foto.png\")"
   ]
  },
  {
   "cell_type": "markdown",
   "metadata": {},
   "source": [
    "***"
   ]
  },
  {
   "cell_type": "code",
   "execution_count": 17,
   "metadata": {},
   "outputs": [
    {
     "name": "stdout",
     "output_type": "stream",
     "text": [
      "Usuário: victor\n",
      "Linguagem e Codificação: en_US.UTF-8\n",
      "Linguagem: en_US\n",
      "Diretorio atual: /home/victor/Documents/Codigos/Python/Aulas\n",
      "Nome de usuário: victor\n",
      "Path: /usr/local/bin:/home/victor/bin:/home/victor/.local/bin:/usr/local/sbin:/usr/local/bin:/usr/sbin:/usr/bin:/sbin:/bin:/usr/games:/usr/local/games:/snap/bin:/home/victor/.rvm/bin:/home/victor/.rvm/bin \n",
      "\n",
      "environ({'JPY_PARENT_PID': '4791', 'SHLVL': '1', 'JOB': 'gnome-session', 'GIT_PAGER': 'cat', 'SHELL': '/bin/bash', 'VIRTUALENVWRAPPER_WORKON_CD': '1', 'GTK_MODULES': 'gail:atk-bridge:unity-gtk-module', 'DESKTOP_SESSION': 'ubuntu', 'QT_LINUX_ACCESSIBILITY_ALWAYS_ON': '1', 'XDG_DATA_DIRS': '/usr/share/ubuntu:/usr/share/gnome:/usr/local/share/:/usr/share/:/var/lib/snapd/desktop', 'XDG_RUNTIME_DIR': '/run/user/1000', 'DBUS_SESSION_BUS_ADDRESS': 'unix:abstract=/tmp/dbus-7lc2FjeTtz', 'PWD': '/home/victor/Documents/Codigos/Python/Aulas', 'LANG': 'en_US.UTF-8', 'VIRTUALENVWRAPPER_SCRIPT': '/home/victor/.local/bin/virtualenvwrapper.sh', 'XDG_SESSION_TYPE': 'x11', 'LC_ADDRESS': 'pt_BR.UTF-8', 'COMPIZ_CONFIG_PROFILE': 'ubuntu', 'QT_IM_MODULE': 'ibus', 'HOME': '/home/victor', 'INSTANCE': 'Unity', 'XDG_SEAT_PATH': '/org/freedesktop/DisplayManager/Seat0', 'OLDPWD': '/home/victor/Documents/Codigos/Python', 'VIRTUALENVWRAPPER_HOOK_DIR': '/home/victor/.virtualenvs', 'UPSTART_INSTANCE': '', 'MPLBACKEND': 'module://ipykernel.pylab.backend_inline', 'GTK2_MODULES': 'overlay-scrollbar', 'WINDOWID': '67108868', 'UPSTART_SESSION': 'unix:abstract=/com/ubuntu/upstart-session/1000/2230', 'XDG_CONFIG_DIRS': '/etc/xdg/xdg-ubuntu:/usr/share/upstart/xdg:/etc/xdg', 'LC_MEASUREMENT': 'pt_BR.UTF-8', 'LC_IDENTIFICATION': 'pt_BR.UTF-8', 'GDM_LANG': 'en_US', 'SESSIONTYPE': 'gnome-session', 'UPSTART_EVENTS': 'started starting', 'LOGNAME': 'victor', '_': '/usr/local/bin/jupyter', 'XAUTHORITY': '/home/victor/.Xauthority', 'QT4_IM_MODULE': 'xim', 'QT_ACCESSIBILITY': '1', 'XDG_GREETER_DATA_DIR': '/var/lib/lightdm-data/victor', 'LC_NAME': 'pt_BR.UTF-8', 'XDG_VTNR': '7', 'TERM': 'xterm-color', 'CLICOLOR': '1', 'XDG_SEAT': 'seat0', 'VIRTUALENVWRAPPER_PROJECT_FILENAME': '.project', 'GNOME_KEYRING_CONTROL': '', 'PAGER': 'cat', 'LC_CTYPE': 'pt_BR.UTF-8', 'SSH_AUTH_SOCK': '/run/user/1000/keyring/ssh', 'LANGUAGE': 'en_US', 'XDG_SESSION_PATH': '/org/freedesktop/DisplayManager/Session0', 'LC_TIME': 'pt_BR.UTF-8', 'LC_TELEPHONE': 'pt_BR.UTF-8', 'ORBIT_SOCKETDIR': '/tmp/orbit-victor', 'LC_MONETARY': 'pt_BR.UTF-8', 'GNOME_DESKTOP_SESSION_ID': 'this-is-deprecated', 'WORKON_HOME': '/home/victor/.virtualenvs', 'GDMSESSION': 'ubuntu', 'LC_PAPER': 'pt_BR.UTF-8', 'DEFAULTS_PATH': '/usr/share/gconf/ubuntu.default.path', 'MANDATORY_PATH': '/usr/share/gconf/ubuntu.mandatory.path', 'COLORTERM': 'gnome-terminal', 'LS_COLORS': 'di=1;34:ex=0', 'GPG_AGENT_INFO': '/home/victor/.gnupg/S.gpg-agent:0:1', 'TERMINATOR_UUID': 'urn:uuid:c6af48e3-8190-416d-b307-126a80c8c15c', 'QT_QPA_PLATFORMTHEME': 'appmenu-qt5', 'CLUTTER_IM_MODULE': 'xim', 'UPSTART_JOB': 'unity-settings-daemon', 'DISPLAY': ':0', 'USER': 'victor', 'IBUS_DISABLE_SNOOPER': '1', 'PATH': '/usr/local/bin:/home/victor/bin:/home/victor/.local/bin:/usr/local/sbin:/usr/local/bin:/usr/sbin:/usr/bin:/sbin:/bin:/usr/games:/usr/local/games:/snap/bin:/home/victor/.rvm/bin:/home/victor/.rvm/bin', 'XDG_CURRENT_DESKTOP': 'Unity', 'XDG_SESSION_ID': 'c2', 'XMODIFIERS': '@im=ibus', 'XDG_SESSION_DESKTOP': 'ubuntu', 'LC_NUMERIC': 'pt_BR.UTF-8', 'IM_CONFIG_PHASE': '1', 'GNOME_KEYRING_PID': '', 'GTK_IM_MODULE': 'ibus'})\n"
     ]
    }
   ],
   "source": [
    "# Dicionário com caminhos e configurações específicas do sistema\n",
    "print(\"Usuário:\", os.environ['USER'])\n",
    "print(\"Linguagem e Codificação:\", os.environ['LANG'])\n",
    "print(\"Linguagem:\", os.environ['LANGUAGE'])\n",
    "print(\"Diretorio atual:\", os.environ['PWD'])\n",
    "print(\"Nome de usuário:\", os.environ['LOGNAME'])\n",
    "print(\"Path:\", os.environ['PATH'], \"\\n\")\n",
    "print(os.environ)"
   ]
  }
 ],
 "metadata": {
  "kernelspec": {
   "display_name": "Python 3",
   "language": "python",
   "name": "python3"
  },
  "language_info": {
   "codemirror_mode": {
    "name": "ipython",
    "version": 3
   },
   "file_extension": ".py",
   "mimetype": "text/x-python",
   "name": "python",
   "nbconvert_exporter": "python",
   "pygments_lexer": "ipython3",
   "version": "3.5.2"
  }
 },
 "nbformat": 4,
 "nbformat_minor": 2
}
