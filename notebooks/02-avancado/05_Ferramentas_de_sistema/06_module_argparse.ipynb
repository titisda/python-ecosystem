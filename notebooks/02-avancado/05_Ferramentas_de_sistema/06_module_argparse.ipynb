{
 "cells": [
  {
   "cell_type": "markdown",
   "metadata": {},
   "source": [
    "# Modulo argparse\n",
    "***"
   ]
  },
  {
   "cell_type": "markdown",
   "metadata": {},
   "source": [
    "Argparse simplifica o uso do terminal por scripts python, ele simplifica a passagem de argumentos pelo terminal\n",
    "\n",
    "Pequeno exemplo:\n",
    "\n",
    "```py\n",
    "# Criar o objeto que irá lidar com o argumento e passar uma descrição para ele\n",
    "parser = argparse.ArgumentParser(description=\"Descrição do projeto\")\n",
    "\n",
    "# Vamos adicionar os argumentos\n",
    "parser.add_argument(\n",
    "    \"nome_do_argumento\", \n",
    "    help=\"Descrição opcional do argumento\",\n",
    "    type=tipo_do_argumento\n",
    ")\n",
    "\n",
    "# Vamos pegar os argumentos colocados na linha de comando\n",
    "args = parser.parse_args()\n",
    "\n",
    "# Vamos acessar o valor dos argumentos\n",
    "print(args.nome_do_argumento)\n",
    "```\n",
    "\n",
    "Parâmetros do **.ArgumentParser()**:\n",
    "\n",
    "* **description**: Descrição do projeto que irá aparecer no help\n",
    "\n",
    "Parametros do **.add_argument()**:\n",
    "\n",
    "* **1° parâmetro**: Nome do argumento obrigatório se vier sem flag, se vier com flag é o nome resumido da flag, a flag vem com **-**\n",
    "\n",
    "\n",
    "* **2° parâmetro**: Nome completo da flag com **--**, argumento obrigatorio se tiver o argumento resumido da flag, o nome da variável será o nome completo da flag sem a flag.\n",
    "\n",
    "\n",
    "* **help**: Descrição opcional do argumento, aparece do lado do argumento quando o usuário der o **-h**\n",
    "\n",
    "\n",
    "* **type**: Tipo do argumento passado, pode ser **int**, **float**, **str** e etc...\n",
    "\n",
    "\n",
    "* **action**: Ação a ser executada se esse argumento aparecer, se for **store_true** vai colocar o valor booleano True no argumento output se o argumento for passado, caso não for coloca o valor booleano False. Podemos passar também o **store** que o próprio usuário irá especificar a ação, ele irá armazenar o que vier em seguida da flag\n",
    "\n",
    "Para o caso de argumentos opcionais que nào podem ser inseridos na mesma hora (mutualmente exclusivos) usamos um grupo:\n",
    "\n",
    "```py\n",
    "group = parser.add_mutually_exclusive_group()\n",
    "group.add_argument(...)\n",
    "```"
   ]
  },
  {
   "cell_type": "markdown",
   "metadata": {},
   "source": [
    "***\n",
    "### Exemplos\n",
    "***"
   ]
  },
  {
   "cell_type": "code",
   "execution_count": 1,
   "metadata": {
    "collapsed": true
   },
   "outputs": [],
   "source": [
    "# Vamos importar o argparse e o sys\n",
    "import argparse\n",
    "import sys"
   ]
  },
  {
   "cell_type": "markdown",
   "metadata": {},
   "source": [
    "***"
   ]
  },
  {
   "cell_type": "code",
   "execution_count": 2,
   "metadata": {
    "collapsed": true
   },
   "outputs": [],
   "source": [
    "# Primeiros vamos criar o objeto que irá lidar com o argumento\n",
    "parser = argparse.ArgumentParser(description=\"Exemplo de Argparse\")"
   ]
  },
  {
   "cell_type": "markdown",
   "metadata": {},
   "source": [
    "***"
   ]
  },
  {
   "cell_type": "code",
   "execution_count": 3,
   "metadata": {
    "collapsed": true
   },
   "outputs": [],
   "source": [
    "# Vamos definir a sequência de fibonacci que servirá como exemplo\n",
    "def fibonacci(input_number):\n",
    "    previous, next = 0, 1\n",
    "    for number in range(input_number):\n",
    "        previous, next = next, previous + next\n",
    "        \n",
    "    return previous"
   ]
  },
  {
   "cell_type": "markdown",
   "metadata": {},
   "source": [
    "***"
   ]
  },
  {
   "cell_type": "code",
   "execution_count": 4,
   "metadata": {},
   "outputs": [
    {
     "data": {
      "text/plain": [
       "_StoreAction(option_strings=[], dest='number', nargs=None, const=None, default=None, type=<class 'int'>, choices=None, help='Número da sequência de Fibonacci que se deseja obter', metavar=None)"
      ]
     },
     "execution_count": 4,
     "metadata": {},
     "output_type": "execute_result"
    }
   ],
   "source": [
    "# Adiciona o argumento number da sequência de fibonacci\n",
    "parser.add_argument(\n",
    "    \"number\",\n",
    "    help=\"Número da sequência de Fibonacci que se deseja obter\",\n",
    "    type=int\n",
    ")"
   ]
  },
  {
   "cell_type": "markdown",
   "metadata": {},
   "source": [
    "***"
   ]
  },
  {
   "cell_type": "code",
   "execution_count": 5,
   "metadata": {},
   "outputs": [
    {
     "data": {
      "text/plain": [
       "_StoreAction(option_strings=['-o', '--output'], dest='output', nargs=None, const=None, default=None, type=None, choices=None, help='Mandar a saída do programa para um arquivo separado', metavar=None)"
      ]
     },
     "execution_count": 5,
     "metadata": {},
     "output_type": "execute_result"
    }
   ],
   "source": [
    "# Adiciona o argumento opcional para escrever em arquivos\n",
    "parser.add_argument(\n",
    "    \"-o\",\n",
    "    \"--output\",\n",
    "    help=\"Mandar a saída do programa para um arquivo separado\",\n",
    "    action=\"store\"\n",
    ")"
   ]
  },
  {
   "cell_type": "markdown",
   "metadata": {},
   "source": [
    "***"
   ]
  },
  {
   "cell_type": "code",
   "execution_count": 6,
   "metadata": {
    "collapsed": true
   },
   "outputs": [],
   "source": [
    "# Cria um grupo de argumentos mutuamente exclusivo\n",
    "# não pode ser executados ao mesmo tempo\n",
    "group = parser.add_mutually_exclusive_group()"
   ]
  },
  {
   "cell_type": "markdown",
   "metadata": {},
   "source": [
    "***"
   ]
  },
  {
   "cell_type": "code",
   "execution_count": 7,
   "metadata": {},
   "outputs": [
    {
     "data": {
      "text/plain": [
       "_StoreTrueAction(option_strings=['-v', '--verbose'], dest='verbose', nargs=0, const=True, default=False, type=None, choices=None, help='Imprime a saída no modo verbose', metavar=None)"
      ]
     },
     "execution_count": 7,
     "metadata": {},
     "output_type": "execute_result"
    }
   ],
   "source": [
    "# Adicionamos um modo de saída do tipo verbose ou quiet ao grupo\n",
    "# logo o usuário é obrigado a escolhar um mode específico de saída\n",
    "group.add_argument(\n",
    "    \"-v\",\n",
    "    \"--verbose\",\n",
    "    help=\"Imprime a saída no modo verbose\",\n",
    "    action=\"store_true\"\n",
    ")"
   ]
  },
  {
   "cell_type": "markdown",
   "metadata": {},
   "source": [
    "***"
   ]
  },
  {
   "cell_type": "code",
   "execution_count": 8,
   "metadata": {},
   "outputs": [
    {
     "data": {
      "text/plain": [
       "_StoreTrueAction(option_strings=['-q', '--quiet'], dest='quiet', nargs=0, const=True, default=False, type=None, choices=None, help='Imprime a saída no modo quiet', metavar=None)"
      ]
     },
     "execution_count": 8,
     "metadata": {},
     "output_type": "execute_result"
    }
   ],
   "source": [
    "# Adicionamos um modo de saída do tipo verbose ou quiet ao grupo\n",
    "# logo o usuário é obrigado a escolhar um mode específico de saída\n",
    "group.add_argument(\n",
    "    \"-q\",\n",
    "    \"--quiet\",\n",
    "    help=\"Imprime a saída no modo quiet\",\n",
    "    action=\"store_true\"\n",
    ")"
   ]
  },
  {
   "cell_type": "markdown",
   "metadata": {},
   "source": [
    "***"
   ]
  },
  {
   "cell_type": "code",
   "execution_count": null,
   "metadata": {},
   "outputs": [],
   "source": [
    "# A partir daqui não há como executar pois não há argumentos\n",
    "# Pegamos os argumentos colocados na linha de comando\n",
    "args = parser.parse_args()"
   ]
  },
  {
   "cell_type": "markdown",
   "metadata": {},
   "source": [
    "***"
   ]
  },
  {
   "cell_type": "code",
   "execution_count": null,
   "metadata": {
    "collapsed": true
   },
   "outputs": [],
   "source": [
    "# Obtemos o resultado\n",
    "result = fibonacci(args.number)"
   ]
  },
  {
   "cell_type": "markdown",
   "metadata": {},
   "source": [
    "***"
   ]
  },
  {
   "cell_type": "code",
   "execution_count": null,
   "metadata": {
    "collapsed": true
   },
   "outputs": [],
   "source": [
    "# Armazenar o resultado no arquivo inserido pelo usuário\n",
    "if args.output != None:\n",
    "    file = open(args.output, 'w')\n",
    "    sys.stdout = file"
   ]
  },
  {
   "cell_type": "markdown",
   "metadata": {},
   "source": [
    "***"
   ]
  },
  {
   "cell_type": "code",
   "execution_count": null,
   "metadata": {
    "collapsed": true
   },
   "outputs": [],
   "source": [
    "# Imprimir na tela o resultado\n",
    "if args.verbose:\n",
    "    print(\"O\", args.number, \"valor da sequência de fibonacci é\", result)\n",
    "elif args.quiet:\n",
    "    print(result)\n",
    "else:\n",
    "    print(\"Fibonacci(\" + str(args.number) + \") =\", result)"
   ]
  }
 ],
 "metadata": {
  "kernelspec": {
   "display_name": "Python 3",
   "language": "python",
   "name": "python3"
  },
  "language_info": {
   "codemirror_mode": {
    "name": "ipython",
    "version": 3
   },
   "file_extension": ".py",
   "mimetype": "text/x-python",
   "name": "python",
   "nbconvert_exporter": "python",
   "pygments_lexer": "ipython3",
   "version": "3.5.2"
  }
 },
 "nbformat": 4,
 "nbformat_minor": 2
}
