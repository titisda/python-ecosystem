{
 "cells": [
  {
   "cell_type": "markdown",
   "metadata": {},
   "source": [
    "# Básico do modulo sys\n",
    "***"
   ]
  },
  {
   "cell_type": "markdown",
   "metadata": {},
   "source": [
    "Modulo sys\n",
    "\n",
    "* **platform**: Devolve a plataforma de execução, tipos de sistema operacional do usuário, Linux, Windows, Mac etc...\n",
    "\n",
    "\n",
    "* **path**: Lista com todas as pastas ligadas ao programa, é uma lista de pastas onde posso procurar arquivos, sempre que fizer um import em algum modulo ele procura a pasta que contém o modulo nesse path, podemos inserir pastas nesse path para ser pesquisada.\n",
    "\n",
    "\n",
    "* **exit([args])**: Termina a execução de um programa, os argumentos podem passar valores inteiros de retorno para identificar se o programa fechou com sucesso, se teve algum falha ou etc...\n",
    "\n",
    "\n",
    "* **modules**: Carrega um dicionario com todos os módulos carregados no programa, modulos são os imports que você deu, aleḿ dos que são do sistema, você pode retirar um modulo não usado, melhorando a performace do seu programa.\n",
    "\n",
    "\n",
    "* **exec_info**: Tupla que contém a última excessão levantada, a classe, o erro encontrado e traceback do erro"
   ]
  },
  {
   "cell_type": "markdown",
   "metadata": {},
   "source": [
    "***\n",
    "### Exemplos\n",
    "***"
   ]
  },
  {
   "cell_type": "code",
   "execution_count": 1,
   "metadata": {
    "collapsed": true
   },
   "outputs": [],
   "source": [
    "# Importar o modulo\n",
    "import sys"
   ]
  },
  {
   "cell_type": "markdown",
   "metadata": {},
   "source": [
    "***"
   ]
  },
  {
   "cell_type": "code",
   "execution_count": 2,
   "metadata": {},
   "outputs": [
    {
     "name": "stdout",
     "output_type": "stream",
     "text": [
      "Estou no linux\n"
     ]
    }
   ],
   "source": [
    "# Verificar qual sistema operacional o usuário está\n",
    "if 'win' in sys.platform:\n",
    "    print(\"Estou no windows\")\n",
    "elif 'linux' in sys.platform:\n",
    "    print(\"Estou no linux\")\n",
    "elif 'darwin' in sys.platform:\n",
    "    print(\"Estou no MAC OS X\")"
   ]
  },
  {
   "cell_type": "markdown",
   "metadata": {},
   "source": [
    "***"
   ]
  },
  {
   "cell_type": "code",
   "execution_count": 3,
   "metadata": {},
   "outputs": [
    {
     "name": "stdout",
     "output_type": "stream",
     "text": [
      "(<class 'IndexError'>, IndexError(), <traceback object at 0x7fa27808a148>)\n"
     ]
    }
   ],
   "source": [
    "# Tupla que contém a última excessão levantada\n",
    "try:\n",
    "    raise IndexError\n",
    "except:\n",
    "    print(sys.exc_info())"
   ]
  },
  {
   "cell_type": "markdown",
   "metadata": {},
   "source": [
    "***"
   ]
  },
  {
   "cell_type": "code",
   "execution_count": 4,
   "metadata": {},
   "outputs": [
    {
     "name": "stdout",
     "output_type": "stream",
     "text": [
      "['', '/usr/lib/python35.zip', '/usr/lib/python3.5', '/usr/lib/python3.5/plat-x86_64-linux-gnu', '/usr/lib/python3.5/lib-dynload', '/home/victor/.local/lib/python3.5/site-packages', '/usr/local/lib/python3.5/dist-packages', '/usr/lib/python3/dist-packages', '/usr/local/lib/python3.5/dist-packages/IPython/extensions', '/home/victor/.ipython']\n"
     ]
    }
   ],
   "source": [
    "# Lista com todas as pastas ligadas ao programa\n",
    "print(sys.path)\n",
    "# Adicionar caminho ao path\n",
    "sys.path.append('caminho_da_pasta')"
   ]
  },
  {
   "cell_type": "markdown",
   "metadata": {},
   "source": [
    "***"
   ]
  },
  {
   "cell_type": "code",
   "execution_count": 5,
   "metadata": {},
   "outputs": [
    {
     "name": "stdout",
     "output_type": "stream",
     "text": [
      "Input: <_io.TextIOWrapper name='<stdin>' mode='r' encoding='UTF-8'>\n",
      "Output: <ipykernel.iostream.OutStream object at 0x7fa27b9ad978>\n",
      "Erros: <ipykernel.iostream.OutStream object at 0x7fa27b9af470>\n",
      "Executavel do python: /usr/bin/python3\n"
     ]
    }
   ],
   "source": [
    "# Outros comandos não menos importantes\n",
    "print(\"Input:\", sys.stdin)\n",
    "print(\"Output:\", sys.stdout)\n",
    "print(\"Erros:\", sys.stderr)\n",
    "print(\"Executavel do python:\", sys.executable)"
   ]
  }
 ],
 "metadata": {
  "kernelspec": {
   "display_name": "Python 3",
   "language": "python",
   "name": "python3"
  },
  "language_info": {
   "codemirror_mode": {
    "name": "ipython",
    "version": 3
   },
   "file_extension": ".py",
   "mimetype": "text/x-python",
   "name": "python",
   "nbconvert_exporter": "python",
   "pygments_lexer": "ipython3",
   "version": "3.5.2"
  }
 },
 "nbformat": 4,
 "nbformat_minor": 2
}
