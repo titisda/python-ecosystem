{
 "cells": [
  {
   "cell_type": "markdown",
   "metadata": {},
   "source": [
    "# Comandos shell\n",
    "***"
   ]
  },
  {
   "cell_type": "markdown",
   "metadata": {},
   "source": [
    "**Shell commands** são comandos que você pode executar no terminal\n",
    "\n",
    "**os.system(comando)**: Vamos executar através de um programa os comandos shell, utilizaremos o comando **os.system** para isso.\n",
    "\n",
    "O comando é executado no terminal e o retorno que o comando retorna é:\n",
    "\n",
    "* **0**: O comando roda com sucesso e retorna 0\n",
    "\n",
    "\n",
    "* **512**: O comando roda, da erro e retorna o valor 512, não é possível acessar o arquivo ou diretorio\n",
    "\n",
    "**os.popen(comando)**: Executa um comando e devolve um objeto com o resultado, esse objeto armazena a saída do comando, podemos pega o resultado através do método **.read()** ou **.readline()**\n",
    "\n",
    "***\n",
    "### Argumentos do terminal\n",
    "***\n",
    "\n",
    "* Em grandes projetos temos um arquivo de configuração ou instalação chamado **setup.py** e nele podemos executar vários comandos passados como parâmetros pelo terminal como por exemplo:\n",
    "\n",
    "```sh\n",
    "python3 setup.py install\n",
    "python3 setup.py build\n",
    "...\n",
    "```\n",
    "\n",
    "* Para pegar os argumentos utilizamos o modulo **sys** com uma variavel **.argv** que devolve os argumentos colocados na linha de comando"
   ]
  },
  {
   "cell_type": "markdown",
   "metadata": {},
   "source": [
    "***\n",
    "### Exemplos\n",
    "***"
   ]
  },
  {
   "cell_type": "code",
   "execution_count": 1,
   "metadata": {
    "collapsed": true
   },
   "outputs": [],
   "source": [
    "# Importar o modulo os\n",
    "import os"
   ]
  },
  {
   "cell_type": "markdown",
   "metadata": {},
   "source": [
    "***"
   ]
  },
  {
   "cell_type": "code",
   "execution_count": 2,
   "metadata": {
    "collapsed": true
   },
   "outputs": [],
   "source": [
    "# Vamos criar um arquivo\n",
    "file = open('arquivo.txt', 'w')\n",
    "file.write('Tente ler esse arquivo usando o system\\n')\n",
    "file.close()"
   ]
  },
  {
   "cell_type": "markdown",
   "metadata": {},
   "source": [
    "***"
   ]
  },
  {
   "cell_type": "code",
   "execution_count": 3,
   "metadata": {},
   "outputs": [
    {
     "name": "stdout",
     "output_type": "stream",
     "text": [
      "0\n",
      "0\n"
     ]
    }
   ],
   "source": [
    "# Executar comandos no terminal\n",
    "print(os.system(\"cat arquivo.txt\"))\n",
    "print(os.system('ls %s' % os.getcwd()))"
   ]
  },
  {
   "cell_type": "markdown",
   "metadata": {},
   "source": [
    "***"
   ]
  },
  {
   "cell_type": "code",
   "execution_count": 4,
   "metadata": {},
   "outputs": [
    {
     "name": "stdout",
     "output_type": "stream",
     "text": [
      "Tente ler esse arquivo usando o system\n",
      "\n"
     ]
    }
   ],
   "source": [
    "# Cria um objeto com a resposta do comando do terminal\n",
    "process = os.popen(\"cat arquivo.txt\")\n",
    "print(process.read())\n",
    "process.close()"
   ]
  },
  {
   "cell_type": "markdown",
   "metadata": {},
   "source": [
    "***"
   ]
  },
  {
   "cell_type": "code",
   "execution_count": 5,
   "metadata": {},
   "outputs": [
    {
     "name": "stdout",
     "output_type": "stream",
     "text": [
      "['01_modulo_sys.ipynb\\n', '02_modulo_os.ipynb\\n', '03_comandos_shell.ipynb\\n', '04_streams.ipynb\\n', 'arquivo.py\\n', 'arquivo.txt\\n']\n"
     ]
    }
   ],
   "source": [
    "# Cria um objeto com a resposta do comando do terminal e armazena em uma lista\n",
    "print(os.popen('ls %s' % os.getcwd()).readlines())"
   ]
  },
  {
   "cell_type": "markdown",
   "metadata": {},
   "source": [
    "***\n",
    "### Argumentos\n",
    "***"
   ]
  },
  {
   "cell_type": "code",
   "execution_count": 6,
   "metadata": {
    "scrolled": true
   },
   "outputs": [
    {
     "name": "stdout",
     "output_type": "stream",
     "text": [
      "['arquivo.py']\n",
      "\n",
      "['arquivo.py', '--install']\n",
      "Instalando tudo!\n",
      "\n",
      "['arquivo.py', '--text', 'hauhuahuahau']\n",
      "hauhuahuahau\n",
      "\n",
      "['arquivo.py', '--sum', '5', '5']\n",
      "10\n",
      "\n"
     ]
    }
   ],
   "source": [
    "print(os.popen(\"python3 setup.py\").read())\n",
    "print(os.popen(\"python3 setup.py --install\").read())\n",
    "print(os.popen(\"python3 setup.py --text hauhuahuahau\").read())\n",
    "print(os.popen(\"python3 setup.py --sum 5 5\").read())"
   ]
  }
 ],
 "metadata": {
  "kernelspec": {
   "display_name": "Python 3",
   "language": "python",
   "name": "python3"
  },
  "language_info": {
   "codemirror_mode": {
    "name": "ipython",
    "version": 3
   },
   "file_extension": ".py",
   "mimetype": "text/x-python",
   "name": "python",
   "nbconvert_exporter": "python",
   "pygments_lexer": "ipython3",
   "version": "3.5.2"
  }
 },
 "nbformat": 4,
 "nbformat_minor": 2
}
