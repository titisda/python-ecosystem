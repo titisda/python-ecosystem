{
 "cells": [
  {
   "cell_type": "markdown",
   "metadata": {},
   "source": [
    "# Criar objetos indexaveis\n",
    "***"
   ]
  },
  {
   "cell_type": "markdown",
   "metadata": {},
   "source": [
    "Para construir objetos indexáveis precisamos construir alguns métodos mágicos específicos dentro do nosso objeto.\n",
    "\n",
    "Objetos indexaveis são objetos que se comportam como listas ou dicionarios, podendo acessar seus elementos através de index, por exemplo, objeto[0], objeto[1], ...\n",
    "\n",
    "São eles:\n",
    "\n",
    "* **\\_\\_getitem\\_\\_**: Permite pegar o objeto no indice pedido, isso permite fazer slices nela \n",
    "\n",
    "\n",
    "* **\\_\\_setitem\\_\\_**: Seta o elemento dentro do indice passado\n",
    "\n",
    "\n",
    "* **\\_\\_len\\_\\_**: Pega a quantidade de elemento do objeto indexável\n",
    "\n",
    "\n",
    "* **\\_\\_delitem\\_\\_**: Deleta o elemento dentro do indice passado\n",
    "\n",
    "Se percorrer com o for loop da um loop infinito se não subir um StopIteration"
   ]
  },
  {
   "cell_type": "markdown",
   "metadata": {},
   "source": [
    "***\n",
    "### Minha lista\n",
    "***"
   ]
  },
  {
   "cell_type": "code",
   "execution_count": 1,
   "metadata": {
    "collapsed": true
   },
   "outputs": [],
   "source": [
    "# Criar minha classe de objetos indexáveis\n",
    "class MyList(object):\n",
    "    \n",
    "    def __init__(self, *args):\n",
    "        self.data = []\n",
    "        for element in args:\n",
    "            self.data.append(element)\n",
    "        self.length = len(self.data)\n",
    "        \n",
    "    def __str__(self):\n",
    "        return str(self.data)\n",
    "\n",
    "    def __getitem__(self, index):\n",
    "        if isinstance(index, int):\n",
    "            if index < 0: raise IndexError\n",
    "            try:\n",
    "                return self.data[index]\n",
    "            except KeyError:\n",
    "                raise StopIteration                \n",
    "        else:\n",
    "            if index.step == None:\n",
    "                step = 1\n",
    "            else:\n",
    "                step = index.step\n",
    "            if index.start == None:\n",
    "                start = 0\n",
    "            else:\n",
    "                start = index.start\n",
    "            if index.stop == None:\n",
    "                stop = self.length\n",
    "            else:\n",
    "                stop = index.stop\n",
    "            data = []\n",
    "            for index in range(start, stop, step):\n",
    "                data.append(self.data[index])\n",
    "            return data\n",
    "        \n",
    "    def __setitem__(self, index, value):\n",
    "        if index < 0:\n",
    "            raise IndexError\n",
    "        try:\n",
    "            self.data[index] = value\n",
    "            self.length = len(self.data)\n",
    "        except IndexError:\n",
    "            print(\"Indice fora da lista\")\n",
    "        \n",
    "    def __delitem__(self, index):\n",
    "        try:\n",
    "            del self.data[index]\n",
    "            self.length = len(self.data)\n",
    "        except KeyError:\n",
    "            print(\"Indice fora da lista\")\n",
    "        \n",
    "    def __len__(self):\n",
    "        return self.length\n",
    "    \n",
    "    def __contains__(self, value):\n",
    "        return value in self.data\n",
    "    \n",
    "    def append(self, value):\n",
    "        self.data.append(value)\n",
    "    "
   ]
  },
  {
   "cell_type": "markdown",
   "metadata": {},
   "source": [
    "***"
   ]
  },
  {
   "cell_type": "code",
   "execution_count": 2,
   "metadata": {
    "collapsed": true
   },
   "outputs": [],
   "source": [
    "# Inicializar minha lista\n",
    "my_list = MyList(2, 3, 5, 7, 6, 7, 8)"
   ]
  },
  {
   "cell_type": "markdown",
   "metadata": {},
   "source": [
    "***"
   ]
  },
  {
   "cell_type": "code",
   "execution_count": 3,
   "metadata": {},
   "outputs": [
    {
     "name": "stdout",
     "output_type": "stream",
     "text": [
      "2 3 5 7 6 7 8 "
     ]
    }
   ],
   "source": [
    "# Percorrer minha lista\n",
    "for element in my_list:\n",
    "    print(element, end=' ')"
   ]
  },
  {
   "cell_type": "markdown",
   "metadata": {},
   "source": [
    "***"
   ]
  },
  {
   "cell_type": "code",
   "execution_count": 4,
   "metadata": {},
   "outputs": [
    {
     "name": "stdout",
     "output_type": "stream",
     "text": [
      "7\n",
      "2\n",
      "3\n",
      "5\n"
     ]
    },
    {
     "ename": "IndexError",
     "evalue": "list index out of range",
     "output_type": "error",
     "traceback": [
      "\u001b[0;31m---------------------------------------------------------------------------\u001b[0m",
      "\u001b[0;31mIndexError\u001b[0m                                Traceback (most recent call last)",
      "\u001b[0;32m<ipython-input-4-051f72af5c53>\u001b[0m in \u001b[0;36m<module>\u001b[0;34m()\u001b[0m\n\u001b[1;32m      4\u001b[0m \u001b[0mprint\u001b[0m\u001b[0;34m(\u001b[0m\u001b[0mmy_list\u001b[0m\u001b[0;34m[\u001b[0m\u001b[0;36m1\u001b[0m\u001b[0;34m]\u001b[0m\u001b[0;34m)\u001b[0m\u001b[0;34m\u001b[0m\u001b[0m\n\u001b[1;32m      5\u001b[0m \u001b[0mprint\u001b[0m\u001b[0;34m(\u001b[0m\u001b[0mmy_list\u001b[0m\u001b[0;34m[\u001b[0m\u001b[0;36m2\u001b[0m\u001b[0;34m]\u001b[0m\u001b[0;34m)\u001b[0m\u001b[0;34m\u001b[0m\u001b[0m\n\u001b[0;32m----> 6\u001b[0;31m \u001b[0mprint\u001b[0m\u001b[0;34m(\u001b[0m\u001b[0mmy_list\u001b[0m\u001b[0;34m[\u001b[0m\u001b[0;36m10\u001b[0m\u001b[0;34m]\u001b[0m\u001b[0;34m)\u001b[0m\u001b[0;34m\u001b[0m\u001b[0m\n\u001b[0m",
      "\u001b[0;32m<ipython-input-1-bc0ddcf81c5b>\u001b[0m in \u001b[0;36m__getitem__\u001b[0;34m(self, index)\u001b[0m\n\u001b[1;32m     15\u001b[0m             \u001b[0;32mif\u001b[0m \u001b[0mindex\u001b[0m \u001b[0;34m<\u001b[0m \u001b[0;36m0\u001b[0m\u001b[0;34m:\u001b[0m \u001b[0;32mraise\u001b[0m \u001b[0mIndexError\u001b[0m\u001b[0;34m\u001b[0m\u001b[0m\n\u001b[1;32m     16\u001b[0m             \u001b[0;32mtry\u001b[0m\u001b[0;34m:\u001b[0m\u001b[0;34m\u001b[0m\u001b[0m\n\u001b[0;32m---> 17\u001b[0;31m                 \u001b[0;32mreturn\u001b[0m \u001b[0mself\u001b[0m\u001b[0;34m.\u001b[0m\u001b[0mdata\u001b[0m\u001b[0;34m[\u001b[0m\u001b[0mindex\u001b[0m\u001b[0;34m]\u001b[0m\u001b[0;34m\u001b[0m\u001b[0m\n\u001b[0m\u001b[1;32m     18\u001b[0m             \u001b[0;32mexcept\u001b[0m \u001b[0mKeyError\u001b[0m\u001b[0;34m:\u001b[0m\u001b[0;34m\u001b[0m\u001b[0m\n\u001b[1;32m     19\u001b[0m                 \u001b[0;32mraise\u001b[0m \u001b[0mStopIteration\u001b[0m\u001b[0;34m\u001b[0m\u001b[0m\n",
      "\u001b[0;31mIndexError\u001b[0m: list index out of range"
     ]
    }
   ],
   "source": [
    "# Acessar os lementos da lista e verificar seu tamanho\n",
    "print(len(my_list))\n",
    "print(my_list[0])\n",
    "print(my_list[1])\n",
    "print(my_list[2])\n",
    "print(my_list[10])"
   ]
  },
  {
   "cell_type": "markdown",
   "metadata": {},
   "source": [
    "***"
   ]
  },
  {
   "cell_type": "code",
   "execution_count": 5,
   "metadata": {},
   "outputs": [
    {
     "name": "stdout",
     "output_type": "stream",
     "text": [
      "[100, 3, 5, 7, 6, 7, 8]\n",
      "[3, 5, 7, 6, 7, 8]\n",
      "False\n"
     ]
    }
   ],
   "source": [
    "# Setando e Removendo elementos da lista e verificando se\n",
    "# há elementos na lista\n",
    "my_list[0] = 100\n",
    "print(my_list)\n",
    "del my_list[0]\n",
    "print(my_list)\n",
    "print(100 in my_list)"
   ]
  },
  {
   "cell_type": "markdown",
   "metadata": {},
   "source": [
    "***"
   ]
  },
  {
   "cell_type": "code",
   "execution_count": 6,
   "metadata": {},
   "outputs": [
    {
     "name": "stdout",
     "output_type": "stream",
     "text": [
      "[3, 5, 7, 6, 7, 8]\n",
      "[3, 5, 7, 6, 7]\n",
      "[5, 7, 6, 7, 8]\n",
      "[5, 7]\n",
      "[3, 7, 7]\n"
     ]
    }
   ],
   "source": [
    "# Percorrer a lista em slices\n",
    "print(my_list[:])\n",
    "print(my_list[:5])\n",
    "print(my_list[1:])\n",
    "print(my_list[1:3])\n",
    "print(my_list[0:5:2])"
   ]
  },
  {
   "cell_type": "markdown",
   "metadata": {},
   "source": [
    "***\n",
    "### Meu Dicionario\n",
    "***"
   ]
  },
  {
   "cell_type": "code",
   "execution_count": 7,
   "metadata": {
    "collapsed": true
   },
   "outputs": [],
   "source": [
    "# Cria a classe MeuDicionario\n",
    "class MyDictionary(object):\n",
    "    \n",
    "    def __init__(self, **kwargs):\n",
    "        self.dictionary = kwargs\n",
    "        \n",
    "    def __str__(self):\n",
    "        return str(self.dictionary)\n",
    "        \n",
    "    def __getitem__(self, key):\n",
    "        try:\n",
    "            return self.dictionary[key]\n",
    "        except KeyError:\n",
    "            print(\"Chave não existe\")\n",
    "            \n",
    "    def __setitem__(self, key, value):\n",
    "        self.dictionary[key] = value"
   ]
  },
  {
   "cell_type": "markdown",
   "metadata": {},
   "source": [
    "***"
   ]
  },
  {
   "cell_type": "code",
   "execution_count": 8,
   "metadata": {},
   "outputs": [
    {
     "name": "stdout",
     "output_type": "stream",
     "text": [
      "{'name': 'Pedro', 'age': 28, 'phone': 99998888}\n"
     ]
    }
   ],
   "source": [
    "# Criar um objeto da classe\n",
    "my_dictionary = MyDictionary(name='Pedro', age=28, phone=99998888)\n",
    "print(my_dictionary)"
   ]
  },
  {
   "cell_type": "markdown",
   "metadata": {},
   "source": [
    "***"
   ]
  },
  {
   "cell_type": "code",
   "execution_count": 9,
   "metadata": {},
   "outputs": [
    {
     "name": "stdout",
     "output_type": "stream",
     "text": [
      "28\n",
      "20\n"
     ]
    }
   ],
   "source": [
    "# Pegar o valor e setar ele\n",
    "print(my_dictionary['age'])\n",
    "my_dictionary['age'] = 20\n",
    "print(my_dictionary['age'])"
   ]
  }
 ],
 "metadata": {
  "kernelspec": {
   "display_name": "Python 3",
   "language": "python",
   "name": "python3"
  },
  "language_info": {
   "codemirror_mode": {
    "name": "ipython",
    "version": 3
   },
   "file_extension": ".py",
   "mimetype": "text/x-python",
   "name": "python",
   "nbconvert_exporter": "python",
   "pygments_lexer": "ipython3",
   "version": "3.5.2"
  }
 },
 "nbformat": 4,
 "nbformat_minor": 2
}
