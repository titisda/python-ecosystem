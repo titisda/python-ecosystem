{
 "cells": [
  {
   "cell_type": "markdown",
   "metadata": {},
   "source": [
    "# Compressão de listas\n",
    "***"
   ]
  },
  {
   "cell_type": "markdown",
   "metadata": {},
   "source": [
    "**Compressão de lista**: Forma compacta de gerar uma lista\n",
    "\n",
    "**Sintaxe básica**:\n",
    "\n",
    "```py\n",
    "number_list = []\n",
    "for x in range(10):\n",
    "    number_list.append(x + 10)\n",
    "\n",
    "number_list = [x + 10 for x in range(10)]\n",
    "```\n",
    "\n",
    "* **x + 10**: Expressão ou implementação\n",
    "* **for x in range(10)**: for loop\n",
    "* **range(10)**: Objeto iterável\n",
    "\n",
    "**Beneficios**:\n",
    "\n",
    "* São mais rápidas que alguns for loops\n",
    "* Sintaxe simples\n",
    "* Velocidade de C\n",
    "* Se usado em expressões simples é ótimo\n",
    "* Eficiente em memória e processamento\n",
    "\n",
    "**Maleficios**:\n",
    "\n",
    "* Difícil de entender se o for loop for complexo\n",
    "* Não há boas práticas de programação\n",
    "* Difícil manutenção por terceiros se o for loop for complexo"
   ]
  },
  {
   "cell_type": "markdown",
   "metadata": {},
   "source": [
    "***\n",
    "#### Exemplos\n",
    "***"
   ]
  },
  {
   "cell_type": "code",
   "execution_count": 1,
   "metadata": {},
   "outputs": [
    {
     "name": "stdout",
     "output_type": "stream",
     "text": [
      "[10, 11, 12, 13, 14, 15, 16, 17, 18, 19]\n"
     ]
    }
   ],
   "source": [
    "# Compressão de lista\n",
    "number_list = [x + 10 for x in range(10)]\n",
    "print(number_list)"
   ]
  },
  {
   "cell_type": "markdown",
   "metadata": {},
   "source": [
    "***"
   ]
  },
  {
   "cell_type": "code",
   "execution_count": 2,
   "metadata": {},
   "outputs": [
    {
     "name": "stdout",
     "output_type": "stream",
     "text": [
      "['Olá', 'meu', 'nome', 'é', 'Pedro']\n"
     ]
    }
   ],
   "source": [
    "# Compressão de lista em arquivos\n",
    "file = open(\"arquivo.txt\", 'r')\n",
    "lines = file.readlines()\n",
    "file_list = [line.rstrip() for line in lines]\n",
    "print(file_list)\n",
    "file.close()"
   ]
  },
  {
   "cell_type": "markdown",
   "metadata": {},
   "source": [
    "***"
   ]
  },
  {
   "cell_type": "code",
   "execution_count": 3,
   "metadata": {},
   "outputs": [
    {
     "name": "stdout",
     "output_type": "stream",
     "text": [
      "['Olá', 'meu', 'nome', 'é', 'Pedro']\n"
     ]
    }
   ],
   "source": [
    "# Exemplo mais enxuto\n",
    "file = open('arquivo.txt', 'r')\n",
    "file_list = [line.rstrip() for line in file]\n",
    "print(file_list)\n",
    "file.close()"
   ]
  },
  {
   "cell_type": "markdown",
   "metadata": {},
   "source": [
    "***"
   ]
  },
  {
   "cell_type": "code",
   "execution_count": 4,
   "metadata": {},
   "outputs": [
    {
     "name": "stdout",
     "output_type": "stream",
     "text": [
      "[23, 41, 1, 87, 17, 96, 87, 75, 47, 89, 10, 89, 35, 12, 99, 72, 61, 41, 98, 54, 61, 20, 80, 92, 31, 30, 73, 74, 29, 89]\n",
      "[96, 10, 12, 72, 98, 54, 20, 80, 92, 30, 74]\n"
     ]
    }
   ],
   "source": [
    "# Clausula IF\n",
    "import random\n",
    "range_list = [random.randint(1, 100) for i in range(30)]\n",
    "print(range_list)\n",
    "range_list = [x for x in range_list if x % 2 == 0]\n",
    "print(range_list)"
   ]
  },
  {
   "cell_type": "markdown",
   "metadata": {},
   "source": [
    "***"
   ]
  },
  {
   "cell_type": "code",
   "execution_count": 5,
   "metadata": {},
   "outputs": [
    {
     "name": "stdout",
     "output_type": "stream",
     "text": [
      "['alx', 'aly', 'alz', 'amx', 'amy', 'amz', 'anx', 'any', 'anz', 'blx', 'bly', 'blz', 'bmx', 'bmy', 'bmz', 'bnx', 'bny', 'bnz', 'clx', 'cly', 'clz', 'cmx', 'cmy', 'cmz', 'cnx', 'cny', 'cnz']\n"
     ]
    }
   ],
   "source": [
    "# Nested for loop\n",
    "sum_list = [x + y + z for x in 'abc' for y in 'lmn' for z in 'xyz']\n",
    "print(sum_list)"
   ]
  }
 ],
 "metadata": {
  "kernelspec": {
   "display_name": "Python 3",
   "language": "python",
   "name": "python3"
  },
  "language_info": {
   "codemirror_mode": {
    "name": "ipython",
    "version": 3
   },
   "file_extension": ".py",
   "mimetype": "text/x-python",
   "name": "python",
   "nbconvert_exporter": "python",
   "pygments_lexer": "ipython3",
   "version": "3.5.2"
  }
 },
 "nbformat": 4,
 "nbformat_minor": 2
}
