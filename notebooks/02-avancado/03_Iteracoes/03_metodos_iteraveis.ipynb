{
 "cells": [
  {
   "cell_type": "markdown",
   "metadata": {},
   "source": [
    "# Métodos de objetos iteraveis\n",
    "***"
   ]
  },
  {
   "cell_type": "markdown",
   "metadata": {},
   "source": [
    "* **zip(objetos_iteraveis...)**: Recebe uma quantidade de objetos iteraveis e retorna um objeto do tipo zip a partir dos objetos iteraveis, o zip tem o método **\\_\\_iter\\_\\_** e **\\_\\_next\\_\\_** além de outros, ele combina elemento a elemento de cada objeto iteravel, e ele próprio é um objeto iteravel\n",
    "\n",
    "\n",
    "* **map(função, objetos_iteraveis...)**: Gera um iterador que pega cada um dos valores dos objetos iteraveis e aplica a função passada, você insere a quantidade de objetos iteraveis de acordo com a quantidade de parâmetros da função, maps é mais rapído do que for loops, porém compressão de lista é mais rápido que map porém mais dificil de fazer\n",
    "\n",
    "\n",
    "* **filter(função, objetos_iteraveis...)**: É a junção da compressão de lista com o map, pois o map não funciona muito bem quanto tem estruturas condicionais, ele retorna Nulo quando não entra na condição ou retorna oq ta no else, já o filter ela consegue contornar isso e funciona como o map\n",
    "\n",
    "\n",
    "* **all**: Verifica se todos os elementos de um determinado iteravel são verdadeiros, por exemplo, 0 é falso e >1 é verdadeiro, práticamente ele verifica se tem valores nulos nas listas\n",
    "\n",
    "\n",
    "* **any**: Verifica se algum dos elementos de um determinado iteravel são verdadeiros, por exemplo, 0 é falso e >1 é verdadeiro, práticamente ele verifica se tem valores verdadeiros ou maiores que zero nas listas\n",
    "\n",
    "\n",
    "* **sum**: Soma todos os elementos de um iteravel, porém o iteravel tem que ser de números, se for strings ou lista de strings vai dar um exceção, pode passar o valor inicial também, o padrão é zero"
   ]
  },
  {
   "cell_type": "markdown",
   "metadata": {},
   "source": [
    "***\n",
    "#### Exemplos zip\n",
    "***"
   ]
  },
  {
   "cell_type": "code",
   "execution_count": 1,
   "metadata": {},
   "outputs": [
    {
     "name": "stdout",
     "output_type": "stream",
     "text": [
      "[(1, 5, 7), (2, 6, 8), (3, 7, 9), (4, 8, 10)]\n"
     ]
    }
   ],
   "source": [
    "# Vamos criar três objetos iteraveis e armazenar no zip transformando-o em lista\n",
    "list01 = [1, 2, 3, 4, 7, 8]\n",
    "list02 = [5, 6, 7, 8]\n",
    "list03 = [7, 8, 9, 10, 12]\n",
    "my_zip = zip(list01, list02, list03)\n",
    "print(list(my_zip))"
   ]
  },
  {
   "cell_type": "markdown",
   "metadata": {},
   "source": [
    "***"
   ]
  },
  {
   "cell_type": "code",
   "execution_count": 2,
   "metadata": {},
   "outputs": [
    {
     "name": "stdout",
     "output_type": "stream",
     "text": [
      "{'Maça': 8, 'Presunto': 6, 'Ovo': 5, 'Leite': 7}\n"
     ]
    }
   ],
   "source": [
    "# Vamos criar três objetos iteraveis e armazenar no zip transformando-o em lista\n",
    "list01 = [\"Ovo\", \"Presunto\", \"Leite\", \"Maça\"]\n",
    "list02 = [5, 6, 7, 8, 8]\n",
    "my_zip = zip(list01, list02)\n",
    "print(dict(my_zip))"
   ]
  },
  {
   "cell_type": "markdown",
   "metadata": {},
   "source": [
    "***\n",
    "#### Exemplos map\n",
    "***"
   ]
  },
  {
   "cell_type": "code",
   "execution_count": 3,
   "metadata": {
    "collapsed": true
   },
   "outputs": [],
   "source": [
    "# Definindo a função que retorna número pares\n",
    "def get_even_number(x):\n",
    "    if x % 2 == 0:\n",
    "        return x"
   ]
  },
  {
   "cell_type": "markdown",
   "metadata": {},
   "source": [
    "***"
   ]
  },
  {
   "cell_type": "code",
   "execution_count": 4,
   "metadata": {},
   "outputs": [
    {
     "name": "stdout",
     "output_type": "stream",
     "text": [
      "[0, 1, 4, 9]\n",
      "[0, 1, 4, 9]\n"
     ]
    }
   ],
   "source": [
    "# Podemos fazer a comparação entre o map e as listas compressadas\n",
    "compressed_list = [x**2 for x in range(4)]\n",
    "print(compressed_list)\n",
    "map_list = map(lambda x: x**2, range(4))\n",
    "print(list(map_list))"
   ]
  },
  {
   "cell_type": "markdown",
   "metadata": {},
   "source": [
    "***"
   ]
  },
  {
   "cell_type": "code",
   "execution_count": 5,
   "metadata": {},
   "outputs": [
    {
     "name": "stdout",
     "output_type": "stream",
     "text": [
      "[2, 4, 6, 8, 10]\n"
     ]
    }
   ],
   "source": [
    "# Simplificando o exemplo e inserindo mais objetos iteraveis\n",
    "list_iterable1 = [1, 2, 3, 4, 5]\n",
    "list_iterable2 = [1, 2, 3, 4, 5]\n",
    "function = lambda x, y: x + y\n",
    "map_list = map(function, list_iterable1, list_iterable2)\n",
    "print(list(map_list))"
   ]
  },
  {
   "cell_type": "markdown",
   "metadata": {},
   "source": [
    "***"
   ]
  },
  {
   "cell_type": "code",
   "execution_count": 6,
   "metadata": {},
   "outputs": [
    {
     "name": "stdout",
     "output_type": "stream",
     "text": [
      "[None, 2, None, 4, None]\n"
     ]
    }
   ],
   "source": [
    "# Problemas com o map\n",
    "list_iterable = [1, 2, 3, 4, 5]\n",
    "filter_list = map(get_even_number, list_iterable)\n",
    "print(list(filter_list))"
   ]
  },
  {
   "cell_type": "markdown",
   "metadata": {},
   "source": [
    "***\n",
    "#### Exemplos do filter\n",
    "***"
   ]
  },
  {
   "cell_type": "code",
   "execution_count": 7,
   "metadata": {},
   "outputs": [
    {
     "name": "stdout",
     "output_type": "stream",
     "text": [
      "[1, 2, 3, 4, 5]\n"
     ]
    }
   ],
   "source": [
    "# Problema com o filter, ele só recebe condicionais\n",
    "list_iterable = [1, 2, 3, 4, 5]\n",
    "function = lambda x: x**2\n",
    "filter_list = filter(function, list_iterable)\n",
    "print(list(filter_list))"
   ]
  },
  {
   "cell_type": "markdown",
   "metadata": {},
   "source": [
    "***"
   ]
  },
  {
   "cell_type": "code",
   "execution_count": 8,
   "metadata": {},
   "outputs": [
    {
     "name": "stdout",
     "output_type": "stream",
     "text": [
      "[2, 4]\n"
     ]
    }
   ],
   "source": [
    "# Inicializando a lista e rodando o filter\n",
    "list_iterable = [1, 2, 3, 4, 5]\n",
    "filter_list = filter(get_even_number, list_iterable)\n",
    "print(list(filter_list))"
   ]
  },
  {
   "cell_type": "markdown",
   "metadata": {},
   "source": [
    "***\n",
    "#### Combinando map e filter\n",
    "***"
   ]
  },
  {
   "cell_type": "code",
   "execution_count": 9,
   "metadata": {},
   "outputs": [
    {
     "name": "stdout",
     "output_type": "stream",
     "text": [
      "[4, 16]\n"
     ]
    }
   ],
   "source": [
    "# Combinando map e filter\n",
    "list_iterable = [1, 2, 3, 4, 5]\n",
    "function = lambda x: x**2\n",
    "list_result = map(function, filter(get_even_number, list_iterable))\n",
    "print(list(list_result))"
   ]
  },
  {
   "cell_type": "markdown",
   "metadata": {},
   "source": [
    "***\n",
    "#### Outros exemplos\n",
    "***"
   ]
  },
  {
   "cell_type": "code",
   "execution_count": 10,
   "metadata": {},
   "outputs": [
    {
     "name": "stdout",
     "output_type": "stream",
     "text": [
      "False\n",
      "False\n",
      "True\n",
      "True\n"
     ]
    }
   ],
   "source": [
    "# Verifica se todos os elementos de um determinado iteravel são verdadeiros\n",
    "print(all([1, 0, 0, 1, 1]))\n",
    "print(all([True, False, False, True, True]))\n",
    "print(all([1, 1, 1, 1, 1]))\n",
    "print(all([True, True, True, True, True]))"
   ]
  },
  {
   "cell_type": "markdown",
   "metadata": {},
   "source": [
    "***"
   ]
  },
  {
   "cell_type": "code",
   "execution_count": 11,
   "metadata": {},
   "outputs": [
    {
     "name": "stdout",
     "output_type": "stream",
     "text": [
      "True\n",
      "True\n",
      "False\n",
      "False\n"
     ]
    }
   ],
   "source": [
    "# Verifica se algum dos elementos de um determinado iteravel são verdadeiros\n",
    "print(any([1, 0, 0, 1, 1]))\n",
    "print(any([True, False, False, True, True]))\n",
    "print(any([0, 0, 0, 0, 0]))\n",
    "print(any([False, False, False, False, False]))"
   ]
  },
  {
   "cell_type": "markdown",
   "metadata": {},
   "source": [
    "***"
   ]
  },
  {
   "cell_type": "code",
   "execution_count": 12,
   "metadata": {},
   "outputs": [
    {
     "name": "stdout",
     "output_type": "stream",
     "text": [
      "38.5\n",
      "43.5\n"
     ]
    }
   ],
   "source": [
    "# Soma todos os elementos de um iteravel, porém o iteravel tem que ser de números\n",
    "print(sum([1, 2, 3, 4.5, 6, 22]))\n",
    "print(sum([1, 2, 3, 4.5, 6, 22], 5))"
   ]
  }
 ],
 "metadata": {
  "kernelspec": {
   "display_name": "Python 3",
   "language": "python",
   "name": "python3"
  },
  "language_info": {
   "codemirror_mode": {
    "name": "ipython",
    "version": 3
   },
   "file_extension": ".py",
   "mimetype": "text/x-python",
   "name": "python",
   "nbconvert_exporter": "python",
   "pygments_lexer": "ipython3",
   "version": "3.5.2"
  }
 },
 "nbformat": 4,
 "nbformat_minor": 2
}
