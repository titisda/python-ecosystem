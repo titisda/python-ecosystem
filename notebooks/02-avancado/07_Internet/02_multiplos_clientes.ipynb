{
 "cells": [
  {
   "cell_type": "markdown",
   "metadata": {},
   "source": [
    "# Multiplos clientes\n",
    "***"
   ]
  },
  {
   "cell_type": "markdown",
   "metadata": {},
   "source": [
    "Basicamente faremos varias conexões ao servidor com multiplos clientes para ver o erro que ocorre e como trata-los através de servidores baseados em threads."
   ]
  },
  {
   "cell_type": "markdown",
   "metadata": {},
   "source": [
    "***\n",
    "### Lado Cliente\n",
    "***"
   ]
  },
  {
   "cell_type": "code",
   "execution_count": 1,
   "metadata": {
    "collapsed": true
   },
   "outputs": [],
   "source": [
    "from socket import *\n",
    "from threading import Thread"
   ]
  },
  {
   "cell_type": "markdown",
   "metadata": {},
   "source": [
    "***"
   ]
  },
  {
   "cell_type": "code",
   "execution_count": 2,
   "metadata": {
    "collapsed": true
   },
   "outputs": [],
   "source": [
    "class Client(Thread):\n",
    "    \"\"\"Classe que gera os clientes.\"\"\"\n",
    "    \n",
    "    def __init__(self, client_id, server, port, *messages):\n",
    "        # Número de identificação do cliente\n",
    "        self.client_id = client_id\n",
    "        \n",
    "        # Servidor a ser conectado\n",
    "        self.server = server\n",
    "        \n",
    "        # Porta para ser usada\n",
    "        self.port = port\n",
    "        \n",
    "        # Mensagens a serem colocadas\n",
    "        self.messages = messages\n",
    "        \n",
    "        Thread.__init__(self)\n",
    "        \n",
    "    def run(self):\n",
    "        # Criamos o socket e o conectamos ao servidor\n",
    "        connection = socket(AF_INET, SOCK_STREAM)\n",
    "        connection.connect((self.server, self.port))\n",
    "        \n",
    "        # Mandamos a mensagem linha por linha\n",
    "        for line in self.messages:\n",
    "            connection.send(line)\n",
    "            \n",
    "            # Depois de mandar uma linha esperamos a resposta do servidor\n",
    "            data = connection.recv(1024)\n",
    "            print('Cliente {fulano} recebeu: {data}'.format(fulano=self.client_id, data=data))\n",
    "            \n",
    "        connection.close()"
   ]
  },
  {
   "cell_type": "markdown",
   "metadata": {},
   "source": [
    "***"
   ]
  },
  {
   "cell_type": "code",
   "execution_count": 3,
   "metadata": {
    "collapsed": true
   },
   "outputs": [],
   "source": [
    "# Configurações de conexão do servidor\n",
    "# O nome do servidor pode ser o endereço de\n",
    "# IP ou o domínio (www.algo.com)\n",
    "server_host = 'localhost'\n",
    "server_port = 5000"
   ]
  },
  {
   "cell_type": "markdown",
   "metadata": {},
   "source": [
    "***"
   ]
  },
  {
   "cell_type": "code",
   "execution_count": 4,
   "metadata": {},
   "outputs": [],
   "source": [
    "# Mensagem a ser mandada codificada em bytes\n",
    "message = [b'Ola mundo da internet!']"
   ]
  },
  {
   "cell_type": "markdown",
   "metadata": {},
   "source": [
    "***"
   ]
  },
  {
   "cell_type": "code",
   "execution_count": 5,
   "metadata": {
    "collapsed": true
   },
   "outputs": [],
   "source": [
    "# Criamos vários clientes conectados ao mesmo servidor\n",
    "def connection():\n",
    "    for client in range(20):\n",
    "        Client(client, server_host, server_port, *message).start()\n",
    "        \n",
    "    print(\"Geramos todos os clientes!\")"
   ]
  },
  {
   "cell_type": "markdown",
   "metadata": {},
   "source": [
    "***"
   ]
  },
  {
   "cell_type": "code",
   "execution_count": 6,
   "metadata": {},
   "outputs": [
    {
     "name": "stdout",
     "output_type": "stream",
     "text": [
      "Geramos todos os clientes!\n",
      "Cliente 0 recebeu: b'Resposta => Ola mundo da internet!'\n",
      "Cliente 1 recebeu: b'Resposta => Ola mundo da internet!'\n",
      "Cliente 2 recebeu: b'Resposta => Ola mundo da internet!'\n",
      "Cliente 3 recebeu: b'Resposta => Ola mundo da internet!'\n",
      "Cliente 4 recebeu: b'Resposta => Ola mundo da internet!'\n",
      "Cliente 5 recebeu: b'Resposta => Ola mundo da internet!'\n",
      "Cliente 6 recebeu: b'Resposta => Ola mundo da internet!'\n",
      "Cliente 17 recebeu: b'Resposta => Ola mundo da internet!'\n",
      "Cliente 14 recebeu: b'Resposta => Ola mundo da internet!'\n",
      "Cliente 15 recebeu: b'Resposta => Ola mundo da internet!'\n",
      "Cliente 8 recebeu: b'Resposta => Ola mundo da internet!'\n",
      "Cliente 10 recebeu: b'Resposta => Ola mundo da internet!'\n",
      "Cliente 12 recebeu: b'Resposta => Ola mundo da internet!'\n",
      "Cliente 19 recebeu: b'Resposta => Ola mundo da internet!'\n",
      "Cliente 9 recebeu: b'Resposta => Ola mundo da internet!'\n",
      "Cliente 16 recebeu: b'Resposta => Ola mundo da internet!'\n",
      "Cliente 7 recebeu: b'Resposta => Ola mundo da internet!'\n"
     ]
    },
    {
     "name": "stderr",
     "output_type": "stream",
     "text": [
      "Exception in thread Thread-17:\n",
      "Traceback (most recent call last):\n",
      "  File \"/usr/lib/python3.5/threading.py\", line 914, in _bootstrap_inner\n",
      "    self.run()\n",
      "  File \"<ipython-input-2-c8d17607a042>\", line 29, in run\n",
      "    data = connection.recv(1024)\n",
      "ConnectionResetError: [Errno 104] Connection reset by peer\n",
      "\n",
      "Exception in thread Thread-15:\n",
      "Traceback (most recent call last):\n",
      "  File \"/usr/lib/python3.5/threading.py\", line 914, in _bootstrap_inner\n",
      "    self.run()\n",
      "  File \"<ipython-input-2-c8d17607a042>\", line 29, in run\n",
      "    data = connection.recv(1024)\n",
      "ConnectionResetError: [Errno 104] Connection reset by peer\n",
      "\n",
      "Exception in thread Thread-22:\n",
      "Traceback (most recent call last):\n",
      "  File \"/usr/lib/python3.5/threading.py\", line 914, in _bootstrap_inner\n",
      "    self.run()\n",
      "  File \"<ipython-input-2-c8d17607a042>\", line 29, in run\n",
      "    data = connection.recv(1024)\n",
      "ConnectionResetError: [Errno 104] Connection reset by peer\n",
      "\n"
     ]
    }
   ],
   "source": [
    "# Algumas threads não consegue se conectar ao servidor devido\n",
    "# ao excesso de processamento no servidor\n",
    "# Para resolver os servidores devem ser baseados em threads, forks e etc...\n",
    "connection()"
   ]
  },
  {
   "cell_type": "markdown",
   "metadata": {},
   "source": [
    "***"
   ]
  },
  {
   "cell_type": "code",
   "execution_count": 7,
   "metadata": {},
   "outputs": [
    {
     "name": "stdout",
     "output_type": "stream",
     "text": [
      "Geramos todos os clientes!\n",
      "Cliente 0 recebeu: b\"Resposta eco => b'Ola mundo da internet!' as Sat Jul 22 18:43:57 2017\"\n",
      "Cliente 3 recebeu: b\"Resposta eco => b'Ola mundo da internet!' as Sat Jul 22 18:43:57 2017\"Cliente 1 recebeu: b\"Resposta eco => b'Ola mundo da internet!' as Sat Jul 22 18:43:57 2017\"Cliente 2 recebeu: b\"Resposta eco => b'Ola mundo da internet!' as Sat Jul 22 18:43:57 2017\"\n",
      "\n",
      "\n",
      "Cliente 4 recebeu: b\"Resposta eco => b'Ola mundo da internet!' as Sat Jul 22 18:43:57 2017\"Cliente 7 recebeu: b\"Resposta eco => b'Ola mundo da internet!' as Sat Jul 22 18:43:57 2017\"Cliente 5 recebeu: b\"Resposta eco => b'Ola mundo da internet!' as Sat Jul 22 18:43:57 2017\"\n",
      "\n",
      "\n",
      "Cliente 8 recebeu: b\"Resposta eco => b'Ola mundo da internet!' as Sat Jul 22 18:43:57 2017\"\n",
      "Cliente 6 recebeu: b\"Resposta eco => b'Ola mundo da internet!' as Sat Jul 22 18:43:57 2017\"\n",
      "Cliente 9 recebeu: b\"Resposta eco => b'Ola mundo da internet!' as Sat Jul 22 18:43:57 2017\"\n",
      "Cliente 10 recebeu: b\"Resposta eco => b'Ola mundo da internet!' as Sat Jul 22 18:43:57 2017\"Cliente 16 recebeu: b\"Resposta eco => b'Ola mundo da internet!' as Sat Jul 22 18:43:57 2017\"Cliente 14 recebeu: b\"Resposta eco => b'Ola mundo da internet!' as Sat Jul 22 18:43:57 2017\"Cliente 11 recebeu: b\"Resposta eco => b'Ola mundo da internet!' as Sat Jul 22 18:43:57 2017\"Cliente 13 recebeu: b\"Resposta eco => b'Ola mundo da internet!' as Sat Jul 22 18:43:57 2017\"Cliente 12 recebeu: b\"Resposta eco => b'Ola mundo da internet!' as Sat Jul 22 18:43:57 2017\"Cliente 15 recebeu: b\"Resposta eco => b'Ola mundo da internet!' as Sat Jul 22 18:43:57 2017\"Cliente 17 recebeu: b\"Resposta eco => b'Ola mundo da internet!' as Sat Jul 22 18:43:57 2017\"\n",
      "\n",
      "\n",
      "\n",
      "\n",
      "\n",
      "\n",
      "\n",
      "Cliente 18 recebeu: b\"Resposta eco => b'Ola mundo da internet!' as Sat Jul 22 18:43:57 2017\"Cliente 19 recebeu: b\"Resposta eco => b'Ola mundo da internet!' as Sat Jul 22 18:43:57 2017\"\n",
      "\n"
     ]
    }
   ],
   "source": [
    "# Conexão através de um servidor baseado em threads\n",
    "connection()"
   ]
  },
  {
   "cell_type": "markdown",
   "metadata": {},
   "source": [
    "***\n",
    "### servidor baseado em threads\n",
    "***\n",
    "\n",
    "O lado do servidor abre um TCP/IP em uma porta, espera por uma mensagem de um cliente, e manda essa mensagem de volta como resposta. Usamos aqui a biblioteca **socketserver** para realizar este trabalho. Esta biblioteca fornece TCPServer, THreadingTCPServer e ForkingTCPServer, UDP e variações destes, entre outras coisas, e redireciona cada cliente para um **request handler** para utilizar se do método **handle** para lidar com o requisito do cliente."
   ]
  },
  {
   "cell_type": "code",
   "execution_count": 8,
   "metadata": {
    "collapsed": true
   },
   "outputs": [],
   "source": [
    "# Importa os modulos\n",
    "from socketserver import BaseRequestHandler, ThreadingTCPServer\n",
    "import time"
   ]
  },
  {
   "cell_type": "markdown",
   "metadata": {},
   "source": [
    "***"
   ]
  },
  {
   "cell_type": "code",
   "execution_count": 9,
   "metadata": {
    "collapsed": true
   },
   "outputs": [],
   "source": [
    "# Configura o servidor com o host e a porta\n",
    "def configure_server():\n",
    "    server_host = 'localhost'\n",
    "    server_port = 5000\n",
    "    return (server_host, server_port)"
   ]
  },
  {
   "cell_type": "markdown",
   "metadata": {},
   "source": [
    "***"
   ]
  },
  {
   "cell_type": "code",
   "execution_count": 10,
   "metadata": {
    "collapsed": true
   },
   "outputs": [],
   "source": [
    "# Devolve a hora atual\n",
    "def now():\n",
    "    return time.ctime(time.time())"
   ]
  },
  {
   "cell_type": "markdown",
   "metadata": {},
   "source": [
    "***"
   ]
  },
  {
   "cell_type": "code",
   "execution_count": 11,
   "metadata": {
    "collapsed": true
   },
   "outputs": [],
   "source": [
    "# Classe que lida com as requisições do cliente\n",
    "class HandlesClientRequests(BaseRequestHandler):\n",
    "    \n",
    "    def handle(self):\n",
    "        # Lida com cada requisição do cliente\n",
    "        print(self.client_address, now())\n",
    "        \n",
    "        # Simula processamento dos dados\n",
    "        time.sleep(5)\n",
    "    \n",
    "        while True:\n",
    "            # Recebe dados enviados pelo cliente\n",
    "            data = self.request.recv(1024)\n",
    "        \n",
    "            # Se não receber nada paramos o loop\n",
    "            if not data: break\n",
    "            \n",
    "            # Escreve a resposta\n",
    "            answer = 'Resposta eco => {data} as {time}'.format(data=data, time=now())\n",
    "        \n",
    "            # Servidor manda de volta a resposta\n",
    "            self.request.send(answer.encode())\n",
    "        \n",
    "        # Fecha a conexão criada depois de responder o cliente\n",
    "        self.request.close()"
   ]
  },
  {
   "cell_type": "markdown",
   "metadata": {},
   "source": [
    "***"
   ]
  },
  {
   "cell_type": "code",
   "execution_count": 13,
   "metadata": {},
   "outputs": [],
   "source": [
    "# Cria uma thread server e lida com a entrada e requisitos do cliente\n",
    "def main():\n",
    "    ip_address = configure_server()\n",
    "    server = ThreadingTCPServer(ip_address, HandlesClientRequests)\n",
    "    server.serve_forever()"
   ]
  },
  {
   "cell_type": "markdown",
   "metadata": {},
   "source": [
    "***\n",
    "### Selecionar tarefas com o select\n",
    "***\n",
    "\n",
    "\n",
    "Threads não rodam realmente em paralelo a não ser que você tenha vários CPUs, o que realmente acontece é que o sistema operacional escolhe entre as tarefas a serem executadas aquela a ser executada, e vai trocando entre as threads. O seu sistema operacional faz isso tão rápido que você tem a ilusão de que as threads estão sendo executadas em paralelo. Esse processo é chamado de multiplexing\n",
    "\n",
    "Porém podemos fazer o python selecionar as tarefas a serem executadas até todas serem completadas. Servidores podem aplicar essa técnica para lidar com múltiplos clientes ao mesmo tempo sem utilizar threads ou forks\n",
    "\n",
    "Para fazer isso usamos o módulo select da biblioteca padrão, vamos realizar o multiplexing sem uso de nada do sistema operacional.\n",
    "\n",
    "Esse servidor irá lidar com múltiplos clientes em paralelo com o select. Usar select para manualmente lidar com um conjunto de sockets: Socket principais que aceitam novas conexões, e sockets de input conectadas para aceitar clientes."
   ]
  },
  {
   "cell_type": "code",
   "execution_count": 14,
   "metadata": {
    "collapsed": true
   },
   "outputs": [],
   "source": [
    "# Importar o select e o socket\n",
    "from select import select\n",
    "from socket import socket, AF_INET, SOCK_STREAM\n",
    "import time"
   ]
  },
  {
   "cell_type": "markdown",
   "metadata": {},
   "source": [
    "***"
   ]
  },
  {
   "cell_type": "code",
   "execution_count": 15,
   "metadata": {
    "collapsed": true
   },
   "outputs": [],
   "source": [
    "def now(): return time.ctime(time.time())"
   ]
  },
  {
   "cell_type": "markdown",
   "metadata": {},
   "source": [
    "***"
   ]
  },
  {
   "cell_type": "code",
   "execution_count": 16,
   "metadata": {
    "collapsed": true
   },
   "outputs": [],
   "source": [
    "# Configurações do servidor\n",
    "server_host = 'localhost'\n",
    "server_port = 5002"
   ]
  },
  {
   "cell_type": "markdown",
   "metadata": {},
   "source": [
    "***"
   ]
  },
  {
   "cell_type": "code",
   "execution_count": 17,
   "metadata": {
    "collapsed": true
   },
   "outputs": [],
   "source": [
    "# Número de sockets usados\n",
    "socket_number = 2"
   ]
  },
  {
   "cell_type": "markdown",
   "metadata": {},
   "source": [
    "***"
   ]
  },
  {
   "cell_type": "code",
   "execution_count": 18,
   "metadata": {
    "collapsed": true
   },
   "outputs": [],
   "source": [
    "# Lista de sockets criados por função de cada socket\n",
    "main_socket = []\n",
    "read_socket = []\n",
    "write_socket = []"
   ]
  },
  {
   "cell_type": "markdown",
   "metadata": {},
   "source": [
    "***"
   ]
  },
  {
   "cell_type": "code",
   "execution_count": 19,
   "metadata": {
    "collapsed": true
   },
   "outputs": [],
   "source": [
    "# Cria um socket pada cada função\n",
    "for i in range(socket_number):\n",
    "    # Configura um socket TCP/IP\n",
    "    connection_socket = socket(AF_INET, SOCK_STREAM)\n",
    "    \n",
    "    # Configura o socket\n",
    "    connection_socket.bind((server_host, server_port))\n",
    "    connection_socket.listen(5)\n",
    "    \n",
    "    # Adiciona a lista de sockets principais e leitores\n",
    "    main_socket.append(connection_socket)\n",
    "    read_socket.append(connection_socket)\n",
    "    \n",
    "    # Aumenta o valor da porta para mudar o próximo socket\n",
    "    server_port += 1"
   ]
  },
  {
   "cell_type": "markdown",
   "metadata": {},
   "source": [
    "***"
   ]
  },
  {
   "cell_type": "code",
   "execution_count": 20,
   "metadata": {
    "collapsed": true
   },
   "outputs": [],
   "source": [
    "def main():\n",
    "    print(\"Loop de seleção de socket iniciado!\")\n",
    "    \n",
    "    while True:\n",
    "        # Vemos todos os sockets legíveis e escrevíveis e os selecionamos\n",
    "        readable_socket, writeable_socket, exceptions = select(read_socket, write_socket, [])\n",
    "        \n",
    "        # Para cada socket legível\n",
    "        for socket_object in readable_socket:\n",
    "            # Se ele é um socket principal\n",
    "            if socket_object in main_socket:\n",
    "                # Aceita o socket\n",
    "                connection_socket, ip_address = socket_object.accept()\n",
    "                # Imprime as conexões\n",
    "                print(\"Conecta:\", ip_address, id(connection_socket))\n",
    "                # E o coloca no socket de leitura\n",
    "                read_socket.append(connection_socket)\n",
    "            else:\n",
    "                # Lemos o que está no socket\n",
    "                data = socket_object.recv(1024)\n",
    "                \n",
    "                # Imprime a mensagem recebida\n",
    "                print(\"\\tRecebeu\", data, \"em\", id(socket_object))\n",
    "                \n",
    "                # Se não recebermos nada\n",
    "                if not data:\n",
    "                    # Fechamos o socket\n",
    "                    socket_object.close()\n",
    "                    # E o removemos do socket de leitura\n",
    "                    read_socket.remove(socket_object)\n",
    "                else:\n",
    "                    # Preparamos uma resposta para ser enviado\n",
    "                    answer = 'Resposta eco => %s as %s' % (data, now())\n",
    "                    socket_object.send(answer.encode())\n",
    "                    "
   ]
  }
 ],
 "metadata": {
  "kernelspec": {
   "display_name": "Python 3",
   "language": "python",
   "name": "python3"
  },
  "language_info": {
   "codemirror_mode": {
    "name": "ipython",
    "version": 3
   },
   "file_extension": ".py",
   "mimetype": "text/x-python",
   "name": "python",
   "nbconvert_exporter": "python",
   "pygments_lexer": "ipython3",
   "version": "3.5.2"
  }
 },
 "nbformat": 4,
 "nbformat_minor": 2
}
