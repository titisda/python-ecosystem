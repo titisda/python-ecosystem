{
 "cells": [
  {
   "cell_type": "markdown",
   "metadata": {},
   "source": [
    "# Introdução ao Sockets\n",
    "***"
   ]
  },
  {
   "cell_type": "markdown",
   "metadata": {},
   "source": [
    "Python é muito usado em aplicativos de internet, sendo extensamente usado pela engine de busca da google, o youtube, dropbox entre outros.\n",
    "\n",
    "Existem muitas ferramentas em python para se programar para internet, entre elas a Google App Engine, Django e o Jython (código java em python).\n",
    "\n",
    "**Sockets**: São interfaces programáveis de comunicação entre software que podem estar rodando em computadores distintos na rede. Eles permitem transferir strings em bytes de um processo para outro e é a base da maioria dos protocolos de alto nível, como FTP, páginas da Web e email.\n",
    "\n",
    "A comunicação entre diferentes computadores deve ser feita tendo o endereço de um computador e o canal de comunicação a ser usado, ou seja, o nome da máquina (endereço de IP ou nome do domínio), e o port number (número de identificação da conversa), a combinação de ambos fornecerá um dialog na net.\n",
    "\n",
    "Toda comunicação na internet é baseada em protocolos que rodam por cima dos Sockets. São eles que padronizam o formato da mensagem (estrutura para os bytes a serem trocados) e a port number do socket (entre 0 e 65535).\n",
    "\n",
    "```\n",
    "Port Number 0-1023: Protocolos padrões usados na internet\n",
    "\n",
    "Protocolo Python --- Função comum                  --- Port Number    --- Modulo do Python\n",
    "HTTP             --- Páginas da web (web page)     --- 80             --- http.client ou http.server\n",
    "NNTP             --- Novidades Usenet              --- 119            --- nntplib\n",
    "FTP              --- Transferência de arquivos     --- 20             --- ftplib\n",
    "FTP              --- Controle de transferência     --- 21             --- ftplib\n",
    "SMTP             --- Mandar email                  --- 25             --- smtplib\n",
    "POP3             --- Buscar email                  --- 110            --- poplib\n",
    "IMAP4            --- Buscar email                  --- 143            --- imaplib\n",
    "Finger           --- Informacional                 --- 79             --- n/a\n",
    "SSH              --- Linhas de comando             --- 22             --- n/a\n",
    "Telnet           --- Linhas de comando             --- 23             --- telnetlib\n",
    "```"
   ]
  },
  {
   "cell_type": "markdown",
   "metadata": {},
   "source": [
    "***\n",
    "## A estrutura cliente servidor\n",
    "***\n",
    "\n",
    "Para boa parte dos serviços a Net utiliza a estrutura cliente-servidor, é um estilo arquitetura. O servidor é aquele que está continuamente executando e esperando uma entrada, e o cliente são aqueles que tentam se comunicar com o servidor.\n",
    "\n",
    "Por exemplo, quando eu entro em www.python.org, estou pedindo para entrar em uma determinada página, logo to pedindo para o servidor para ele me devolver a página do python.org, logo o browser é o cliente que solicita a página para servidor, que irá devolver a página para o brownser. "
   ]
  },
  {
   "cell_type": "markdown",
   "metadata": {},
   "source": [
    "***\n",
    "### Lado do servidor\n",
    "***\n",
    "\n",
    "Lado do servidor abre um **TCP/IP** em uma porta, espera uma mensagem de um cliente, e manda essa mensagem de volta como resposta. Esse é uma simples ouve/responde conversação por clinete, mas percorre um loop infinito para ouvir por mais clientes enquanto o script do servidor estiver rodando. O cliente pode rodar em outra máquina ou no mesmo computador se usa o localhost como servidor."
   ]
  },
  {
   "cell_type": "code",
   "execution_count": 1,
   "metadata": {
    "collapsed": true
   },
   "outputs": [],
   "source": [
    "# Importa tudo do modulo socket\n",
    "from socket import *"
   ]
  },
  {
   "cell_type": "markdown",
   "metadata": {},
   "source": [
    "***"
   ]
  },
  {
   "cell_type": "code",
   "execution_count": 2,
   "metadata": {
    "collapsed": true
   },
   "outputs": [],
   "source": [
    "# Criar o nome do host (servidor que recebe os pedidos do cliente)\n",
    "# String vazia diz que o endereço do servidor é o localhost ou 0.0.0.0 ou 127.0.0.1\n",
    "server_host = 'localhost'"
   ]
  },
  {
   "cell_type": "markdown",
   "metadata": {},
   "source": [
    "***"
   ]
  },
  {
   "cell_type": "code",
   "execution_count": 3,
   "metadata": {
    "collapsed": true
   },
   "outputs": [],
   "source": [
    "# Criar o número da porta\n",
    "server_port = 5001"
   ]
  },
  {
   "cell_type": "markdown",
   "metadata": {},
   "source": [
    "***\n",
    "* **1° argumento**: Equivale a família de endereços, no caso AF_INET é o protocolo de endereço IP\n",
    "* **2° argumento**: É o protocolo de transferência TCP, no caso temos a stream (SOCK_STREAM) e o datagram (SOCK_DGRAM)\n",
    "* **IP**: Tem uma rede que equivale ao CEP da rua e o host que equivale ao predio\n",
    "* **TCP**: É o número do apartamento do predio especificado no IP, temos também o **UDP**\n",
    "* Uma requisição(carta) precisa do IP(CEP, predio) e do TCP(número do apartamento) para chegar ao cliente(destinatário)."
   ]
  },
  {
   "cell_type": "code",
   "execution_count": 4,
   "metadata": {
    "collapsed": true
   },
   "outputs": [],
   "source": [
    "# Objecto socket com a combinação servidor TCP/IP\n",
    "server_socket = socket(AF_INET, SOCK_STREAM)"
   ]
  },
  {
   "cell_type": "markdown",
   "metadata": {},
   "source": [
    "***"
   ]
  },
  {
   "cell_type": "code",
   "execution_count": 5,
   "metadata": {
    "collapsed": true
   },
   "outputs": [],
   "source": [
    "# Vincula o servidor ao endereço e o número da porta\n",
    "server_socket.bind((server_host, server_port))"
   ]
  },
  {
   "cell_type": "markdown",
   "metadata": {},
   "source": [
    "***"
   ]
  },
  {
   "cell_type": "code",
   "execution_count": 6,
   "metadata": {
    "collapsed": true
   },
   "outputs": [],
   "source": [
    "# O socket/servidor começa a esperar por clientes limitando a 5 conexões por vez\n",
    "server_socket.listen(5)"
   ]
  },
  {
   "cell_type": "markdown",
   "metadata": {},
   "source": [
    "***"
   ]
  },
  {
   "cell_type": "code",
   "execution_count": 7,
   "metadata": {
    "collapsed": true
   },
   "outputs": [],
   "source": [
    "def receive():\n",
    "    while True:\n",
    "        # Aceita uma conexão quando encontrada e devolve a\n",
    "        # um novo socket(conexão) e o endereço do cliente conectado\n",
    "        conection, address = server_socket.accept()\n",
    "        print('Server conectado por', address)\n",
    "    \n",
    "        while True:\n",
    "            # Recebe dados enviada pelo cliente (1024 bytes de informação)\n",
    "            data = conection.recv(1024)\n",
    "            \n",
    "            # Se não receber nada paramos o loop\n",
    "            if not data: break\n",
    "                \n",
    "            # O servidor manda de volta um resposta\n",
    "            conection.send(b'Resposta => ' + data)\n",
    "            \n",
    "        # Fecha a conexão criada depois de responder o cliente\n",
    "        conection.close()"
   ]
  },
  {
   "cell_type": "markdown",
   "metadata": {},
   "source": [
    "***\n",
    "### Lado do cliente\n",
    "***\n",
    "\n",
    "O lado do cliente usa sockets para mandar data para o servidor, e imprime a resposta do servidor para cada linha na mensagem. Podemos colocar o host como sendo localhost para indicar que  o servidor está na mesma máquina. Para rodar através da internet é preciso colocar o servidor em outra máquina e passar para o nome do host o endereço IP ou o nome do domínio.\n",
    "\n",
    "Para acessar o IP da máquina use **ifconfig** em wlo1 em inet addr: 192.1..."
   ]
  },
  {
   "cell_type": "code",
   "execution_count": 8,
   "metadata": {
    "collapsed": true
   },
   "outputs": [],
   "source": [
    "# importar tudo do socket\n",
    "from socket import *"
   ]
  },
  {
   "cell_type": "markdown",
   "metadata": {},
   "source": [
    "***"
   ]
  },
  {
   "cell_type": "code",
   "execution_count": 9,
   "metadata": {
    "collapsed": true
   },
   "outputs": [],
   "source": [
    "# Configurações de conexão do servidor, o nome do servidor pode\n",
    "# ser o endereço IP ou o domínio (www.algo.com)\n",
    "server_host = 'localhost'\n",
    "server_port = 5000"
   ]
  },
  {
   "cell_type": "markdown",
   "metadata": {},
   "source": [
    "***"
   ]
  },
  {
   "cell_type": "code",
   "execution_count": 10,
   "metadata": {
    "collapsed": true
   },
   "outputs": [],
   "source": [
    "# Mensagem a ser mandada codificada em bytes\n",
    "message = [b'Ola mundo da internet!']"
   ]
  },
  {
   "cell_type": "markdown",
   "metadata": {},
   "source": [
    "***"
   ]
  },
  {
   "cell_type": "code",
   "execution_count": 11,
   "metadata": {
    "collapsed": true
   },
   "outputs": [],
   "source": [
    "# Criamos o socket e o conectamos ao servidor\n",
    "client_socket = socket(AF_INET, SOCK_STREAM)\n",
    "client_socket.connect((server_host, server_port))"
   ]
  },
  {
   "cell_type": "markdown",
   "metadata": {},
   "source": [
    "***"
   ]
  },
  {
   "cell_type": "code",
   "execution_count": 12,
   "metadata": {
    "collapsed": true
   },
   "outputs": [],
   "source": [
    "def send():\n",
    "    # Mandamos a mensagem por linha\n",
    "    for line in message:\n",
    "        client_socket.send(line)\n",
    "        \n",
    "        # Depois de mandar uma linha esperamos uma resposta do servidor\n",
    "        data = client_socket.recv(1024)\n",
    "        print(\"Cliente recebeu:\", data)\n",
    "        \n",
    "    client_socket.close()"
   ]
  },
  {
   "cell_type": "markdown",
   "metadata": {},
   "source": [
    "***"
   ]
  },
  {
   "cell_type": "code",
   "execution_count": 13,
   "metadata": {},
   "outputs": [
    {
     "name": "stdout",
     "output_type": "stream",
     "text": [
      "Cliente recebeu: b\"Resposta eco => b'Ola mundo da internet!' as Sat Jul 22 18:41:32 2017\"\n"
     ]
    }
   ],
   "source": [
    "send()"
   ]
  },
  {
   "cell_type": "markdown",
   "metadata": {},
   "source": [
    "***\n",
    "### Portas padrões 0-1023\n",
    "***"
   ]
  },
  {
   "cell_type": "code",
   "execution_count": 14,
   "metadata": {},
   "outputs": [
    {
     "name": "stdout",
     "output_type": "stream",
     "text": [
      "b'+OK\\r\\n'\n"
     ]
    }
   ],
   "source": [
    "connection = socket(AF_INET, SOCK_STREAM)\n",
    "connection.connect(('pop.secureserver.net', 110))\n",
    "# Conversa com pop email server\n",
    "print(connection.recv(70))\n",
    "connection.close()"
   ]
  },
  {
   "cell_type": "markdown",
   "metadata": {},
   "source": [
    "***"
   ]
  },
  {
   "cell_type": "code",
   "execution_count": 15,
   "metadata": {},
   "outputs": [
    {
     "name": "stdout",
     "output_type": "stream",
     "text": [
      "b'220---------- Welcome to Pure-FTPd [privsep] [TLS] ----------\\r\\n220-You'\n"
     ]
    }
   ],
   "source": [
    "connection = socket(AF_INET, SOCK_STREAM)\n",
    "connection.connect(('learning-python.com', 21))\n",
    "# Conversa com server FTP\n",
    "print(connection.recv(70))\n",
    "connection.close()"
   ]
  },
  {
   "cell_type": "markdown",
   "metadata": {},
   "source": [
    "***"
   ]
  },
  {
   "cell_type": "code",
   "execution_count": 16,
   "metadata": {},
   "outputs": [
    {
     "name": "stdout",
     "output_type": "stream",
     "text": [
      "b'<!DOCTYPE html PUBLIC \"-//W3C//DTD XHTML 1.0 Strict//EN\"\\r\\n    \"http://'\n",
      "b'www.w3.org/TR/xhtml1/DTD/xhtml1-strict.dtd\">\\r\\n<html xmlns=\"http://www.'\n"
     ]
    }
   ],
   "source": [
    "connection = socket(AF_INET, SOCK_STREAM)\n",
    "connection.connect(('www.python.net', 80))\n",
    "# Conversa com server HTTP\n",
    "connection.send(b'GET /\\r\\n')\n",
    "# Recebe a página como resposta\n",
    "print(connection.recv(70))\n",
    "print(connection.recv(70))\n",
    "connection.close()"
   ]
  }
 ],
 "metadata": {
  "kernelspec": {
   "display_name": "Python 3",
   "language": "python",
   "name": "python3"
  },
  "language_info": {
   "codemirror_mode": {
    "name": "ipython",
    "version": 3
   },
   "file_extension": ".py",
   "mimetype": "text/x-python",
   "name": "python",
   "nbconvert_exporter": "python",
   "pygments_lexer": "ipython3",
   "version": "3.5.2"
  }
 },
 "nbformat": 4,
 "nbformat_minor": 2
}
