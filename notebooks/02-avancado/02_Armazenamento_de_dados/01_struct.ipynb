{
 "cells": [
  {
   "cell_type": "markdown",
   "metadata": {},
   "source": [
    "# Structs\n",
    "***"
   ]
  },
  {
   "cell_type": "markdown",
   "metadata": {},
   "source": [
    "String em formatos de bytes e como transformar nossos arquivos em pacotes de bytes\n",
    "\n",
    "**String**: É um conjunto de caracteres que pode ser representado por um número inteiro da tabelas ASCII, através da função **ord()**, logo strings é um conjunto de bytes aninhados, se for fazer alguma modificação na string tem que botar o **b** na frente para dizer que ela tem o formato de bytes\n",
    "\n",
    "**struct**: Vai permitir que a gente crie pacote de bytes que é um especie de decodificação dos valores das nossas variáveis inteiras, strings e floats\n",
    "\n",
    "* **pack(formatacao, variaveis...)**: A formatação é para passar a quantidade de bytes e o tipo de variaveis string, por exemplo \"joão\" tem 5 bytes e é uma string logo (**4s**), um inteiro pequeno é (**I**), um inteiro grande é (**Q**), um float pequeno é (**f**), um float grande (**d**) e um booleando é (**?**), sim é o ponto de interrogação\n",
    "\n",
    "\n",
    "* **.encode()**: Pega uma string e transforma em formato de bytes, é mesma coisa se fizer **string = b'string'**\n",
    "\n"
   ]
  },
  {
   "cell_type": "markdown",
   "metadata": {},
   "source": [
    "***\n",
    "#### Exemplos\n",
    "***"
   ]
  },
  {
   "cell_type": "code",
   "execution_count": 1,
   "metadata": {
    "collapsed": true
   },
   "outputs": [],
   "source": [
    "# Criar uma string representadas por bytes\n",
    "string = b'palavra'"
   ]
  },
  {
   "cell_type": "markdown",
   "metadata": {},
   "source": [
    "***"
   ]
  },
  {
   "cell_type": "code",
   "execution_count": 2,
   "metadata": {},
   "outputs": [
    {
     "name": "stdout",
     "output_type": "stream",
     "text": [
      "112\n",
      "112\n"
     ]
    }
   ],
   "source": [
    "# Verificar a string em formato de bytes\n",
    "print(string[0])\n",
    "print(ord('p'))"
   ]
  },
  {
   "cell_type": "markdown",
   "metadata": {},
   "source": [
    "***"
   ]
  },
  {
   "cell_type": "code",
   "execution_count": 3,
   "metadata": {
    "collapsed": true
   },
   "outputs": [],
   "source": [
    "# Importa o empacotador\n",
    "import struct"
   ]
  },
  {
   "cell_type": "markdown",
   "metadata": {},
   "source": [
    "***"
   ]
  },
  {
   "cell_type": "code",
   "execution_count": 4,
   "metadata": {
    "collapsed": true
   },
   "outputs": [],
   "source": [
    "# Criar informações de uma pessoa para empacotar\n",
    "name = \"João\"\n",
    "age = 23\n",
    "height = 1.67"
   ]
  },
  {
   "cell_type": "markdown",
   "metadata": {},
   "source": [
    "***"
   ]
  },
  {
   "cell_type": "code",
   "execution_count": 5,
   "metadata": {},
   "outputs": [
    {
     "name": "stdout",
     "output_type": "stream",
     "text": [
      "b'Jo\\xc3\\xa3o\\x00\\x00\\x00\\x17\\x00\\x00\\x00\\x8f\\xc2\\xd5?'\n"
     ]
    }
   ],
   "source": [
    "# Vamos empacotar \n",
    "codification = struct.pack('5s I f', name.encode(), age, height)\n",
    "print(codification)"
   ]
  },
  {
   "cell_type": "markdown",
   "metadata": {},
   "source": [
    "***"
   ]
  },
  {
   "cell_type": "code",
   "execution_count": 6,
   "metadata": {
    "collapsed": true
   },
   "outputs": [],
   "source": [
    "# Vamos passar esse objeto empacotado para o arquivo\n",
    "bfile = open('binary.cod', 'wb')\n",
    "bfile.write(codification)\n",
    "bfile.close()"
   ]
  },
  {
   "cell_type": "markdown",
   "metadata": {},
   "source": [
    "***"
   ]
  },
  {
   "cell_type": "code",
   "execution_count": 7,
   "metadata": {},
   "outputs": [
    {
     "name": "stdout",
     "output_type": "stream",
     "text": [
      "b'Jo\\xc3\\xa3o\\x00\\x00\\x00\\x17\\x00\\x00\\x00\\x8f\\xc2\\xd5?'\n"
     ]
    }
   ],
   "source": [
    "# Vamos abrir o arquivo e pegar a mensagem\n",
    "bfile = open('binary.cod', 'rb')\n",
    "codification = bfile.readline()\n",
    "print(codification)"
   ]
  },
  {
   "cell_type": "markdown",
   "metadata": {},
   "source": [
    "***"
   ]
  },
  {
   "cell_type": "code",
   "execution_count": 8,
   "metadata": {},
   "outputs": [
    {
     "name": "stdout",
     "output_type": "stream",
     "text": [
      "João 23 1.6699999570846558\n"
     ]
    }
   ],
   "source": [
    "# Agora vamos desempacotar as informações\n",
    "data = struct.unpack('5s I f', codification)\n",
    "name, age, height = data[0].decode(), data[1], data[2]\n",
    "print(name, age, height)"
   ]
  },
  {
   "cell_type": "markdown",
   "metadata": {},
   "source": [
    "***"
   ]
  },
  {
   "cell_type": "code",
   "execution_count": 9,
   "metadata": {},
   "outputs": [
    {
     "name": "stdout",
     "output_type": "stream",
     "text": [
      "b'Jo\\xc3\\xa3o\\x00\\x00\\x00\\x17\\x00\\x00\\x00\\x8f\\xc2\\xd5?'\n"
     ]
    }
   ],
   "source": [
    "# Vamos empacotar uma tupla de informações\n",
    "tupla = (name.encode(), age, height)\n",
    "formating = struct.Struct(\"5s I f\")\n",
    "codification = formating.pack(*tupla)\n",
    "print(codification)"
   ]
  },
  {
   "cell_type": "markdown",
   "metadata": {},
   "source": [
    "***"
   ]
  },
  {
   "cell_type": "code",
   "execution_count": 10,
   "metadata": {},
   "outputs": [
    {
     "name": "stdout",
     "output_type": "stream",
     "text": [
      "João 23 1.6699999570846558\n"
     ]
    }
   ],
   "source": [
    "# Desempacotar a tupla\n",
    "data = formating.unpack(codification)\n",
    "name, age, height = data[0].decode(), data[1], data[2]\n",
    "print(name, age, height)"
   ]
  }
 ],
 "metadata": {
  "kernelspec": {
   "display_name": "Python 3",
   "language": "python",
   "name": "python3"
  },
  "language_info": {
   "codemirror_mode": {
    "name": "ipython",
    "version": 3
   },
   "file_extension": ".py",
   "mimetype": "text/x-python",
   "name": "python",
   "nbconvert_exporter": "python",
   "pygments_lexer": "ipython3",
   "version": "3.5.2"
  }
 },
 "nbformat": 4,
 "nbformat_minor": 2
}
