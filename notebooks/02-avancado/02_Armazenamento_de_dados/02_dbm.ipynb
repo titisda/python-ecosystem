{
 "cells": [
  {
   "cell_type": "markdown",
   "metadata": {},
   "source": [
    "# dbm\n",
    "***"
   ]
  },
  {
   "cell_type": "markdown",
   "metadata": {},
   "source": [
    "O modulo dbm vem de data base manager que significa gerenciador de banco de dados ou database\n",
    "\n",
    "O database permite 4 modulos de abertura:\n",
    "\n",
    "* **c**: Cria um database se não existir ou ele abre se já existir, usado 90% das vezes\n",
    "* **r**: Ler um database\n",
    "* **w**: Escrever ou ler um database\n",
    "* **n**: Abrir um novo database vazio para ler e escrever\n",
    "\n",
    "Database funciona quase igual a um dicionario, porém só consegue armazenar string em formato de bytes, para armazenar qualquer outra coisa tem que transformar em uma string em formato de bytes\n",
    "\n",
    "Quase tudo que fazemos com dicionarios da para fazer com databases\n",
    "\n",
    "Você também pode empacotar bytes e guardar em chaves do database"
   ]
  },
  {
   "cell_type": "markdown",
   "metadata": {},
   "source": [
    "***\n",
    "#### Exemplos\n",
    "***"
   ]
  },
  {
   "cell_type": "code",
   "execution_count": 1,
   "metadata": {
    "collapsed": true
   },
   "outputs": [],
   "source": [
    "# Importa o modulo dbm\n",
    "import dbm"
   ]
  },
  {
   "cell_type": "markdown",
   "metadata": {},
   "source": [
    "***"
   ]
  },
  {
   "cell_type": "code",
   "execution_count": 2,
   "metadata": {
    "collapsed": true
   },
   "outputs": [],
   "source": [
    "# Vamos abrir um arquivo de database\n",
    "db = dbm.open('contatos.db', 'c')"
   ]
  },
  {
   "cell_type": "markdown",
   "metadata": {},
   "source": [
    "***"
   ]
  },
  {
   "cell_type": "code",
   "execution_count": 3,
   "metadata": {
    "collapsed": true
   },
   "outputs": [],
   "source": [
    "# Vamos criar os dados do database\n",
    "db['Pedro'] = 'pedro@gmail.com'\n",
    "db['Victor'] = 'victor@gmail.com'"
   ]
  },
  {
   "cell_type": "markdown",
   "metadata": {},
   "source": [
    "***"
   ]
  },
  {
   "cell_type": "code",
   "execution_count": 4,
   "metadata": {},
   "outputs": [
    {
     "name": "stdout",
     "output_type": "stream",
     "text": [
      "victor@gmail.com\n",
      "pedro@gmail.com\n"
     ]
    }
   ],
   "source": [
    "# Imprimir os databases que estão em formato de bytes\n",
    "print(db['Victor'].decode())\n",
    "print(db['Pedro'].decode())"
   ]
  },
  {
   "cell_type": "markdown",
   "metadata": {},
   "source": [
    "***"
   ]
  },
  {
   "cell_type": "code",
   "execution_count": 5,
   "metadata": {},
   "outputs": [
    {
     "name": "stdout",
     "output_type": "stream",
     "text": [
      "2\n"
     ]
    }
   ],
   "source": [
    "# Ver quantas chaves tem no database\n",
    "print(len(db))"
   ]
  }
 ],
 "metadata": {
  "kernelspec": {
   "display_name": "Python 3",
   "language": "python",
   "name": "python3"
  },
  "language_info": {
   "codemirror_mode": {
    "name": "ipython",
    "version": 3
   },
   "file_extension": ".py",
   "mimetype": "text/x-python",
   "name": "python",
   "nbconvert_exporter": "python",
   "pygments_lexer": "ipython3",
   "version": "3.5.2"
  }
 },
 "nbformat": 4,
 "nbformat_minor": 2
}
