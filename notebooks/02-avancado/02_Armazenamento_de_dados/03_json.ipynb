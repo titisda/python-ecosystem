{
 "cells": [
  {
   "cell_type": "markdown",
   "metadata": {},
   "source": [
    "# JSON\n",
    "***"
   ]
  },
  {
   "cell_type": "markdown",
   "metadata": {},
   "source": [
    "Json significa \"Javascript Serializer Object Notation\"\n",
    "\n",
    "Se quisermos passar um objeto para json temos que transforma-lo em dicionario:\n",
    "\n",
    "```py\n",
    "a = Pessoa()\n",
    "a.__dict__\n",
    "```"
   ]
  },
  {
   "cell_type": "markdown",
   "metadata": {},
   "source": [
    "***\n",
    "#### Exemplos\n",
    "***"
   ]
  },
  {
   "cell_type": "code",
   "execution_count": 1,
   "metadata": {
    "collapsed": true
   },
   "outputs": [],
   "source": [
    "# Importe o JSON\n",
    "import json"
   ]
  },
  {
   "cell_type": "markdown",
   "metadata": {},
   "source": [
    "***"
   ]
  },
  {
   "cell_type": "code",
   "execution_count": 2,
   "metadata": {
    "collapsed": true
   },
   "outputs": [],
   "source": [
    "# Criar um objeto qualquer no formato dicionario\n",
    "data = {'nome': 'Pedro', 'RG': 123456789, 'cpf': 12345678910}"
   ]
  },
  {
   "cell_type": "markdown",
   "metadata": {},
   "source": [
    "***"
   ]
  },
  {
   "cell_type": "code",
   "execution_count": 3,
   "metadata": {},
   "outputs": [
    {
     "name": "stdout",
     "output_type": "stream",
     "text": [
      "{\"RG\": 123456789, \"nome\": \"Pedro\", \"cpf\": 12345678910}\n"
     ]
    }
   ],
   "source": [
    "# Converta o dicionario em uma string\n",
    "data_string = json.dumps(data)\n",
    "print(data_string)"
   ]
  },
  {
   "cell_type": "markdown",
   "metadata": {},
   "source": [
    "***"
   ]
  },
  {
   "cell_type": "code",
   "execution_count": 4,
   "metadata": {
    "collapsed": true
   },
   "outputs": [],
   "source": [
    "# Crie o arquivo e escreva nele\n",
    "json_file = open('governo.json', 'wb')\n",
    "json_file.write(data_string.encode())\n",
    "json_file.close()"
   ]
  },
  {
   "cell_type": "markdown",
   "metadata": {},
   "source": [
    "***"
   ]
  },
  {
   "cell_type": "code",
   "execution_count": 5,
   "metadata": {
    "collapsed": true
   },
   "outputs": [],
   "source": [
    "# Vamos inserir mais dados no arquivo\n",
    "json_file = open('governo.json', 'ab')\n",
    "data = [1, 2, 3, 4]\n",
    "data_string = json.dumps(data)\n",
    "json_file.write(data_string.encode())\n",
    "json_file.close()"
   ]
  },
  {
   "cell_type": "markdown",
   "metadata": {},
   "source": [
    "***"
   ]
  },
  {
   "cell_type": "code",
   "execution_count": 6,
   "metadata": {},
   "outputs": [
    {
     "name": "stdout",
     "output_type": "stream",
     "text": [
      "b'{\"RG\": 123456789, \"nome\": \"Pedro\", \"cpf\": 12345678910}[1, 2, 3, 4]'\n"
     ]
    }
   ],
   "source": [
    "# Agora vamos ler os objetos do arquivo json\n",
    "json_file = open('governo.json', 'rb')\n",
    "data = json_file.readline()\n",
    "print(data)"
   ]
  },
  {
   "cell_type": "markdown",
   "metadata": {},
   "source": [
    "***"
   ]
  },
  {
   "cell_type": "code",
   "execution_count": 7,
   "metadata": {},
   "outputs": [
    {
     "name": "stdout",
     "output_type": "stream",
     "text": [
      "{\"RG\": 123456789, \"nome\": \"Pedro\", \"cpf\": 12345678910}\n",
      "[1, 2, 3, 4]\n"
     ]
    }
   ],
   "source": [
    "# Vamos recuperar cada dado\n",
    "data1 = data[:54]\n",
    "data1 = data1.decode()\n",
    "print(data1)\n",
    "data2 = data[54:66]\n",
    "data2 = data2.decode()\n",
    "print(data2)"
   ]
  },
  {
   "cell_type": "markdown",
   "metadata": {},
   "source": [
    "***"
   ]
  },
  {
   "cell_type": "code",
   "execution_count": 8,
   "metadata": {},
   "outputs": [
    {
     "name": "stdout",
     "output_type": "stream",
     "text": [
      "{'RG': 123456789, 'nome': 'Pedro', 'cpf': 12345678910}\n",
      "[1, 2, 3, 4]\n"
     ]
    }
   ],
   "source": [
    "# Vamos transformar novamente a string nos nossos objetos\n",
    "dictionary = json.loads(data1)\n",
    "print(dictionary)\n",
    "data_list = json.loads(data2)\n",
    "print(data_list)"
   ]
  }
 ],
 "metadata": {
  "kernelspec": {
   "display_name": "Python 3",
   "language": "python",
   "name": "python3"
  },
  "language_info": {
   "codemirror_mode": {
    "name": "ipython",
    "version": 3
   },
   "file_extension": ".py",
   "mimetype": "text/x-python",
   "name": "python",
   "nbconvert_exporter": "python",
   "pygments_lexer": "ipython3",
   "version": "3.5.2"
  }
 },
 "nbformat": 4,
 "nbformat_minor": 2
}
