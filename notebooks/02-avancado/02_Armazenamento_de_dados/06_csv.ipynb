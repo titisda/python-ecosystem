{
 "cells": [
  {
   "cell_type": "markdown",
   "metadata": {},
   "source": [
    "# CSV\n",
    "***"
   ]
  },
  {
   "cell_type": "markdown",
   "metadata": {},
   "source": [
    "O módulo csv permite lidar com tabelas desse tipo de uma maneira bastante simples.\n",
    "\n",
    "O CSV pode ser executado no Excell.\n",
    "\n",
    "São arquivos com dados separados por virgulas, por exemplo: 1, 2, 3, 4\n",
    "\n",
    "Cada unidade entre virgulas é uma celula no excell"
   ]
  },
  {
   "cell_type": "markdown",
   "metadata": {},
   "source": [
    "***\n",
    "### Exemplos\n",
    "***"
   ]
  },
  {
   "cell_type": "code",
   "execution_count": 1,
   "metadata": {
    "collapsed": true
   },
   "outputs": [],
   "source": [
    "# Importar o modulo CSV\n",
    "import csv"
   ]
  },
  {
   "cell_type": "markdown",
   "metadata": {},
   "source": [
    "***"
   ]
  },
  {
   "cell_type": "code",
   "execution_count": 2,
   "metadata": {
    "collapsed": true
   },
   "outputs": [],
   "source": [
    "# Abrir o arquivo tabela.csv no modo de escrita\n",
    "file = open('tabela.csv', 'w')"
   ]
  },
  {
   "cell_type": "markdown",
   "metadata": {},
   "source": [
    "***"
   ]
  },
  {
   "cell_type": "code",
   "execution_count": 3,
   "metadata": {
    "collapsed": true
   },
   "outputs": [],
   "source": [
    "# Vamos escrever no arquivo e depois fecha-lo\n",
    "try:\n",
    "    writer = csv.writer(file)\n",
    "    writer.writerow(('Nome', 'Idade', 'Sexo'))\n",
    "    writer.writerow(('Lucas', 15, 'M'))\n",
    "    writer.writerow(('Luana', 16, 'F'))\n",
    "    writer.writerow(('João', 15, 'M'))\n",
    "finally:\n",
    "    file.close()"
   ]
  },
  {
   "cell_type": "markdown",
   "metadata": {},
   "source": [
    "***"
   ]
  },
  {
   "cell_type": "code",
   "execution_count": 4,
   "metadata": {},
   "outputs": [
    {
     "name": "stdout",
     "output_type": "stream",
     "text": [
      "['Nome', 'Idade', 'Sexo']\n",
      "['Lucas', '15', 'M']\n",
      "['Luana', '16', 'F']\n",
      "['João', '15', 'M']\n"
     ]
    }
   ],
   "source": [
    "# Vamos abrir o arquivo csv no modo de leitura e ler ele\n",
    "file = open('tabela.csv', 'r')\n",
    "try:\n",
    "    reader = csv.reader(file)\n",
    "    for line in reader:\n",
    "        print(line)\n",
    "finally:\n",
    "    file.close()"
   ]
  },
  {
   "cell_type": "markdown",
   "metadata": {},
   "source": [
    "***"
   ]
  },
  {
   "cell_type": "code",
   "execution_count": 5,
   "metadata": {},
   "outputs": [
    {
     "name": "stdout",
     "output_type": "stream",
     "text": [
      "Nome,Idade,Sexo\n",
      "Lucas,15,M\n",
      "Luana,16,F\n",
      "João,15,M\n",
      "\n"
     ]
    }
   ],
   "source": [
    "# Podemos imprimir também através do read()\n",
    "file = open('tabela.csv', 'r')\n",
    "print(file.read())\n",
    "file.close()"
   ]
  },
  {
   "cell_type": "markdown",
   "metadata": {},
   "source": [
    "***"
   ]
  },
  {
   "cell_type": "code",
   "execution_count": 6,
   "metadata": {
    "collapsed": true
   },
   "outputs": [],
   "source": [
    "# Vamos abrir o arquivo no modo append de inserção\n",
    "file = open('tabela.csv', 'a')\n",
    "try:\n",
    "    writer = csv.writer(file)\n",
    "    writer.writerow(('Pedro', 20, 'M'))\n",
    "    writer.writerow(('Felipe', 11, 'M'))\n",
    "finally:\n",
    "    file.close()"
   ]
  },
  {
   "cell_type": "markdown",
   "metadata": {},
   "source": [
    "***"
   ]
  },
  {
   "cell_type": "code",
   "execution_count": 7,
   "metadata": {},
   "outputs": [
    {
     "name": "stdout",
     "output_type": "stream",
     "text": [
      "Nome,Idade,Sexo\n",
      "Lucas,15,M\n",
      "Luana,16,F\n",
      "João,15,M\n",
      "Pedro,20,M\n",
      "Felipe,11,M\n",
      "\n"
     ]
    }
   ],
   "source": [
    "file = open('tabela.csv', 'r')\n",
    "print(file.read())\n",
    "file.close()"
   ]
  }
 ],
 "metadata": {
  "kernelspec": {
   "display_name": "Python 3",
   "language": "python",
   "name": "python3"
  },
  "language_info": {
   "codemirror_mode": {
    "name": "ipython",
    "version": 3
   },
   "file_extension": ".py",
   "mimetype": "text/x-python",
   "name": "python",
   "nbconvert_exporter": "python",
   "pygments_lexer": "ipython3",
   "version": "3.5.2"
  }
 },
 "nbformat": 4,
 "nbformat_minor": 2
}
