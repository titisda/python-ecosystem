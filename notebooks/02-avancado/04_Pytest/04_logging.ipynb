{
 "cells": [
  {
   "cell_type": "markdown",
   "metadata": {},
   "source": [
    "# Debugin com logging\n",
    "***"
   ]
  },
  {
   "cell_type": "markdown",
   "metadata": {},
   "source": [
    "**logging**: É um biblioteca em python que gera relatórios para os desenvolvedores para facilitar a identificação de determinado erro.\n",
    "\n",
    "A parte de configuração podemos inserir no construtor das classes.\n",
    "\n",
    "O logging tem 5 níves de mensagem:\n",
    "\n",
    "* **INFO**: São para mensagens informativas.\n",
    "\n",
    "\n",
    "* **DEBUG**: Mensagens de depuração.\n",
    "\n",
    "\n",
    "* **WARNING**: Mensagens de avisos importantes.\n",
    "\n",
    "\n",
    "* **ERROR**: Mensagem de erros ou exceções.\n",
    "\n",
    "\n",
    "* **CRITICAL**: Mensagens críticas, por exemplo, memória cheia, não tem mais espaço em disco e etc...\n",
    "\n",
    "Para configurar o logging podemos utilizar dos seguintes argumentos:\n",
    "\n",
    "* **level**: Insere o nível de logging, normalmente o DEBUG é utilizado.\n",
    "\n",
    "\n",
    "* **filename**: Inserir os logs em um arquivo de log, em modo append.\n",
    "\n",
    "\n",
    "* **filemode**: Trocar o modo de inserção no arquivo, podendo sobrescreve-lo com o modo **w** de write.\n",
    "\n",
    "\n",
    "* **format**: Formato de saida dos logs.\n",
    "\n",
    "\n",
    "* **datefmt=\"%d/%m/%Y at %I:%M:%S %p\"**: Formata a data e a hora\n",
    "\n",
    "Podemos formatar a saida dos logs também:\n",
    "\n",
    "* **%(asctime)s**: Insere a hora que o log foi ativado.\n",
    "\n",
    "\n",
    "* **%(name)s**: Insere o arquivo onde foi ativado o log.\n",
    "\n",
    "\n",
    "* **%(pathname)s**: O caminho completo do arquivo que ativou o log\n",
    "\n",
    "\n",
    "* **%(filename)s**: O arquivo que ativou o log\n",
    "\n",
    "\n",
    "* **%(funcName)s**: Nome da função\n",
    "\n",
    "\n",
    "* **%(lineno)s**: Número da linha.\n",
    "\n",
    "\n",
    "* **%(levelname)s**: Qual o level que foi gerado o erro.\n",
    "\n",
    "\n",
    "* **%(message)s**: Mensagem definida no log.\n",
    "\n",
    "\n",
    "Pegando o modulo dos logs:\n",
    "\n",
    "* **logger = logging.getLogger(__name__)**: Captura o nome do modulo que está sendo executado através do **\\_\\_name\\_\\_** e utiliza nos loggings pegando o nome do modulo no **%(name)s**"
   ]
  },
  {
   "cell_type": "markdown",
   "metadata": {},
   "source": [
    "***\n",
    "### Exemplos\n",
    "***"
   ]
  },
  {
   "cell_type": "code",
   "execution_count": 1,
   "metadata": {},
   "outputs": [],
   "source": [
    "# Importar a biblioteca logging e configura-la\n",
    "import logging"
   ]
  },
  {
   "cell_type": "markdown",
   "metadata": {},
   "source": [
    "***"
   ]
  },
  {
   "cell_type": "code",
   "execution_count": 2,
   "metadata": {},
   "outputs": [],
   "source": [
    "# Configurar o log\n",
    "def configure():\n",
    "    format = '%(asctime)s - %(name)s - %(pathname)s.%(funcName)s in %(lineno)s - %(levelname)s: %(message)s'\n",
    "    logging.basicConfig(filename=\"debug.log\", level=logging.DEBUG, filemode=\"w\", format=format, datefmt=\"%d/%m/%Y at %I:%M:%S %p\")\n",
    "    logger = logging.getLogger(__name__)\n",
    "    return logger\n",
    "    \n",
    "logger = configure()"
   ]
  },
  {
   "cell_type": "markdown",
   "metadata": {},
   "source": [
    "***"
   ]
  },
  {
   "cell_type": "code",
   "execution_count": 3,
   "metadata": {},
   "outputs": [],
   "source": [
    "variable = \"Oiiii\"\n",
    "logger.info(\"Mensagem informativa: {0}\".format(variable))"
   ]
  },
  {
   "cell_type": "markdown",
   "metadata": {},
   "source": [
    "***"
   ]
  },
  {
   "cell_type": "code",
   "execution_count": 4,
   "metadata": {
    "collapsed": true
   },
   "outputs": [],
   "source": [
    "logger.debug(\"Mensagem importante\")"
   ]
  },
  {
   "cell_type": "markdown",
   "metadata": {},
   "source": [
    "***"
   ]
  },
  {
   "cell_type": "code",
   "execution_count": 5,
   "metadata": {
    "collapsed": true
   },
   "outputs": [],
   "source": [
    "logger.debug(\"Mensagem de debug\")"
   ]
  },
  {
   "cell_type": "markdown",
   "metadata": {},
   "source": [
    "***"
   ]
  },
  {
   "cell_type": "code",
   "execution_count": 6,
   "metadata": {},
   "outputs": [],
   "source": [
    "logger.error(\"Algum erro aconteceu\")"
   ]
  },
  {
   "cell_type": "markdown",
   "metadata": {},
   "source": [
    "***"
   ]
  },
  {
   "cell_type": "code",
   "execution_count": 7,
   "metadata": {},
   "outputs": [],
   "source": [
    "logger.critical(\"Algum erro grave aconteceu\")"
   ]
  },
  {
   "cell_type": "markdown",
   "metadata": {},
   "source": [
    "***"
   ]
  },
  {
   "cell_type": "code",
   "execution_count": 8,
   "metadata": {},
   "outputs": [],
   "source": [
    "try:\n",
    "    open('file.txt', 'rb')\n",
    "except Exception as e:\n",
    "    logger.exception(\"Exception\")"
   ]
  }
 ],
 "metadata": {
  "kernelspec": {
   "display_name": "Python 3",
   "language": "python",
   "name": "python3"
  },
  "language_info": {
   "codemirror_mode": {
    "name": "ipython",
    "version": 3
   },
   "file_extension": ".py",
   "mimetype": "text/x-python",
   "name": "python",
   "nbconvert_exporter": "python",
   "pygments_lexer": "ipython3",
   "version": "3.5.2"
  }
 },
 "nbformat": 4,
 "nbformat_minor": 2
}
