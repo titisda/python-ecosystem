{
 "cells": [
  {
   "cell_type": "markdown",
   "metadata": {},
   "source": [
    "# Pytest\n",
    "***"
   ]
  },
  {
   "cell_type": "markdown",
   "metadata": {},
   "source": [
    "Ele funciona em várias versões do python, e é multiplataforma, pytest é um framework que facilita a escrita de testes\n",
    "\n",
    "Instalação:\n",
    "\n",
    "```\n",
    "pip3 install pytest\n",
    "pytest --version\n",
    "pytest --upgrade\n",
    "```\n",
    "\n",
    "## Como rodar os testes - pytest\n",
    "\n",
    "* Para rodar os testes execute: ```python3 -m pytest```\n",
    "\n",
    "    - **pytest --maxfail=2**: Para a execução no segundo método que falhar\n",
    "    - **pytest test_mod.py::TestClass::test_method**: Roda um método de teste dentro de uma classe de um arquivo\n",
    "    - **pytest --pyargs directory**: Roda todos os testes dentro de um diretorio\n",
    "    - **pytest --tb=line**: Somente uma linha por falha\n",
    "    - **pytest --resultlog=file**: Cria um arquivo com o resultado do teste\n",
    "    - **pytest -x --pdb**: Executa o debugger na primeira falha\n",
    "    - **pytest.set_trace()**: No código de teste invoca o debbuger com o breakpoint nesse ponto onde foi inserido o código\n",
    "    \n",
    "## Coverage\n",
    "\n",
    "Instalação:\n",
    "\n",
    "```\n",
    "pip3 install pytest-cov\n",
    "```\n",
    "\n",
    "* É a porcentagem de cobertura de código, equivale há: $coverage = (numero\\_de\\_linhas\\_de\\_codigo\\_exercido) / (Numero\\_total\\_de\\_linhas\\_de\\_codigo) * 100\\%$\n",
    "\n",
    "\n",
    "Como rodar o coverage:\n",
    "\n",
    "```\n",
    "pytest --cov=myproject\n",
    "```\n",
    "\n"
   ]
  },
  {
   "cell_type": "markdown",
   "metadata": {},
   "source": [
    "***\n",
    "### Exemplos\n",
    "***"
   ]
  },
  {
   "cell_type": "code",
   "execution_count": 1,
   "metadata": {
    "collapsed": true
   },
   "outputs": [],
   "source": [
    "assert 10 == 10"
   ]
  },
  {
   "cell_type": "code",
   "execution_count": 2,
   "metadata": {
    "collapsed": true
   },
   "outputs": [],
   "source": [
    "assert 'py' in 'python'"
   ]
  },
  {
   "cell_type": "code",
   "execution_count": 3,
   "metadata": {
    "collapsed": true
   },
   "outputs": [],
   "source": [
    "assert 10 in [1, 2, 10]"
   ]
  },
  {
   "cell_type": "code",
   "execution_count": 14,
   "metadata": {},
   "outputs": [
    {
     "ename": "AssertionError",
     "evalue": "",
     "output_type": "error",
     "traceback": [
      "\u001b[0;31m---------------------------------------------------------------------------\u001b[0m",
      "\u001b[0;31mAssertionError\u001b[0m                            Traceback (most recent call last)",
      "\u001b[0;32m<ipython-input-14-d7732906e8ef>\u001b[0m in \u001b[0;36m<module>\u001b[0;34m()\u001b[0m\n\u001b[0;32m----> 1\u001b[0;31m \u001b[0;32massert\u001b[0m \u001b[0;34m[\u001b[0m\u001b[0;36m1\u001b[0m\u001b[0;34m,\u001b[0m \u001b[0;36m2\u001b[0m\u001b[0;34m,\u001b[0m \u001b[0;36m3\u001b[0m\u001b[0;34m]\u001b[0m \u001b[0;32min\u001b[0m \u001b[0;34m[\u001b[0m\u001b[0;36m1\u001b[0m\u001b[0;34m,\u001b[0m \u001b[0;36m2\u001b[0m\u001b[0;34m,\u001b[0m \u001b[0;36m3\u001b[0m\u001b[0;34m,\u001b[0m \u001b[0;36m4\u001b[0m\u001b[0;34m]\u001b[0m\u001b[0;34m\u001b[0m\u001b[0m\n\u001b[0m",
      "\u001b[0;31mAssertionError\u001b[0m: "
     ]
    }
   ],
   "source": [
    "assert [1, 2, 3] in [1, 2, 3, 4]"
   ]
  }
 ],
 "metadata": {
  "kernelspec": {
   "display_name": "Python 3",
   "language": "python",
   "name": "python3"
  },
  "language_info": {
   "codemirror_mode": {
    "name": "ipython",
    "version": 3
   },
   "file_extension": ".py",
   "mimetype": "text/x-python",
   "name": "python",
   "nbconvert_exporter": "python",
   "pygments_lexer": "ipython3",
   "version": "3.5.2"
  }
 },
 "nbformat": 4,
 "nbformat_minor": 2
}
