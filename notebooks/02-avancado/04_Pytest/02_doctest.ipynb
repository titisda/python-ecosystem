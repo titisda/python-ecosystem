{
 "cells": [
  {
   "cell_type": "markdown",
   "metadata": {},
   "source": [
    "# Doctests\n",
    "***"
   ]
  },
  {
   "cell_type": "markdown",
   "metadata": {},
   "source": [
    "* Biblioteca para execução de testes automatizados\n",
    "\n",
    "\n",
    "* Objetivo é escrever uma documentação ou um tutorial para suas classe ilustrandos suas entradas e saídas, exemplificando o uso dos recursos de sua classe.\n",
    "\n",
    "\n",
    "* Como executar pelo terminal:\n",
    "\n",
    "```\n",
    "python -m doctest -v example.py\n",
    "```\n",
    "\n",
    "* Isso importará example.py como um módulo autônomo e executará testmod() nela. Observe que isso pode não funcionar corretamente se o arquivo faz parte de um pacote e importa outros submódulos desse pacote."
   ]
  },
  {
   "cell_type": "markdown",
   "metadata": {},
   "source": [
    "***\n",
    "### Exemplos\n",
    "***"
   ]
  },
  {
   "cell_type": "code",
   "execution_count": 1,
   "metadata": {
    "collapsed": true
   },
   "outputs": [],
   "source": [
    "# Criar a classe de fibonacci e testando ela\n",
    "class Fibonacci(object):\n",
    "    \"\"\"\n",
    "    Class that calculates the fibonacci sequence\n",
    "    \"\"\"\n",
    "        \n",
    "    def calculate(self, number):\n",
    "        \"\"\"\n",
    "        Method for calculating fibonacci\n",
    "        \n",
    "        Parameters:\n",
    "        \n",
    "            @param number: Quantity os fibonacci values\n",
    "            @type number: integer\n",
    "            \n",
    "        Return:\n",
    "        \n",
    "            Result of the last value of fibonacci passed by number\n",
    "            \n",
    "        Example:\n",
    "        \n",
    "            >>> fibonacci.calculate(10)\n",
    "            55\n",
    "            \n",
    "            >>> fibonacci.calculate(1)\n",
    "            1\n",
    "            \n",
    "            >>> fibonacci.calculate(-1)\n",
    "            Traceback (most recent call last):\n",
    "            ...\n",
    "            ValueError: Number has to be bigger than zero!!!\n",
    "            \n",
    "            >>> fibonacci.calculate(10)\n",
    "            56\n",
    "    \n",
    "        \"\"\"\n",
    "        \n",
    "        if number < 0:\n",
    "            raise ValueError(\"Number has to be bigger than zero!!!\")\n",
    "            \n",
    "        previous = 0\n",
    "        next = 1\n",
    "        \n",
    "        for i in range(number):\n",
    "            previous, next = next, previous + next\n",
    "            \n",
    "        return previous"
   ]
  },
  {
   "cell_type": "markdown",
   "metadata": {},
   "source": [
    "***"
   ]
  },
  {
   "cell_type": "code",
   "execution_count": 2,
   "metadata": {},
   "outputs": [
    {
     "name": "stdout",
     "output_type": "stream",
     "text": [
      "**********************************************************************\n",
      "File \"__main__\", line 33, in __main__.Fibonacci.calculate\n",
      "Failed example:\n",
      "    fibonacci.calculate(10)\n",
      "Expected:\n",
      "    56\n",
      "Got:\n",
      "    55\n",
      "**********************************************************************\n",
      "1 items had failures:\n",
      "   1 of   4 in __main__.Fibonacci.calculate\n",
      "***Test Failed*** 1 failures.\n"
     ]
    },
    {
     "data": {
      "text/plain": [
       "TestResults(failed=1, attempted=4)"
      ]
     },
     "execution_count": 2,
     "metadata": {},
     "output_type": "execute_result"
    }
   ],
   "source": [
    "import doctest\n",
    "doctest.testmod(extraglobs={'fibonacci': Fibonacci()})"
   ]
  }
 ],
 "metadata": {
  "kernelspec": {
   "display_name": "Python 3",
   "language": "python",
   "name": "python3"
  },
  "language_info": {
   "codemirror_mode": {
    "name": "ipython",
    "version": 3
   },
   "file_extension": ".py",
   "mimetype": "text/x-python",
   "name": "python",
   "nbconvert_exporter": "python",
   "pygments_lexer": "ipython3",
   "version": "3.5.2"
  }
 },
 "nbformat": 4,
 "nbformat_minor": 2
}
