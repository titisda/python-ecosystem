{
 "cells": [
  {
   "cell_type": "markdown",
   "metadata": {},
   "source": [
    "# Introdução ao Unittest\n",
    "***"
   ]
  },
  {
   "cell_type": "markdown",
   "metadata": {},
   "source": [
    "Teste de software é um processo de execução automatizado de um produto para determinar se ele atingiu sua especificação e funcionalidade corretamente no seu ambiente em que foi designado\n",
    "\n",
    "Seu principal objetivo e encontrar falhas\n",
    "\n",
    "**Teste**: processo de detectar o erro inicial\n",
    "\n",
    "Normalmente as classes de testes ficam em diretorios separados, chamados tests e dentro dele cada arquivo de teste começará com o nome **test_...**, a classe começa com **Test** e os métodos com **test_...**\n",
    "\n",
    "Nesse tópico vamos falar sobre os **testes unitários**. Podemos usar o comando no código para rodar os testes: ```unittest.main()```\n",
    "\n",
    "## Tipos de testes\n",
    "\n",
    "#### Teste unitário:\n",
    "\n",
    "* Foco em uma unidade atômica de código (classe ou função)\n",
    "* O código a ser testado é isolado – uso de stubs e simuladores\n",
    "\n",
    "#### Teste de componente:\n",
    "\n",
    "* Combinação de unidades em um componente\n",
    "\n",
    "#### Teste de integração:\n",
    "\n",
    "* Combinação de componentes assegurando que se integram corretamente\n",
    "\n",
    "#### Teste de regressão:\n",
    "\n",
    "* Reteste realizado após correção de defeitos ou modificações no código ou no ambiente\n",
    "\n",
    "#### Teste de carga:\n",
    "\n",
    "* Testar se o código comporta o volume de dados esperado para a aplicação em produção\n",
    "\n",
    "#### Teste de stress:\n",
    "\n",
    "* Analisar o comportamento do código quando do envio de grande volume de dados em curto espaço de tempo\n",
    "* Utilizado para determinar a capacidade do software\n",
    "\n",
    "#### Teste de saturação:\n",
    "\n",
    "* Semelhante ao teste de stress, porém conduzido em intervalo de tempo prolongado\n",
    "* Objetivo de identificar problemas de performance que ocorrem após execução de um grande número de operações\n",
    "\n",
    "#### Teste de usabilidade:\n",
    "\n",
    "* Assegurar que o software pode ser utilizado facilmente pelos usuários finais\n"
   ]
  },
  {
   "cell_type": "markdown",
   "metadata": {},
   "source": [
    "***\n",
    "### Exemplos\n",
    "***"
   ]
  },
  {
   "cell_type": "code",
   "execution_count": 1,
   "metadata": {
    "collapsed": true
   },
   "outputs": [],
   "source": [
    "class ConvertRomanNumerals(object):\n",
    "    \n",
    "    def __init__(self):\n",
    "        self.digit_map = {'M': 1000, 'D': 500, 'C': 100, 'L': 50, 'X': 10, 'V': 5, 'I': 1}\n",
    "        \n",
    "    def convert_to_decimal(self, numeral_roman):\n",
    "        \"\"\"\n",
    "        Convert roman number in decimal number\n",
    "        \"\"\"\n",
    "        \n",
    "        decimal = 0\n",
    "        for char in self.numeral_roman:\n",
    "            decimal += digit_map[char]\n",
    "        return decimal"
   ]
  },
  {
   "cell_type": "markdown",
   "metadata": {},
   "source": [
    "***\n",
    "### Testes\n",
    "***"
   ]
  },
  {
   "cell_type": "code",
   "execution_count": 2,
   "metadata": {
    "collapsed": true
   },
   "outputs": [],
   "source": [
    "import unittest\n",
    "import sys\n",
    "\n",
    "class TestConvertRomanNumerals(unittest.TestCase):\n",
    "    \n",
    "    # Executa antes de cada teste\n",
    "    def setUp(self):\n",
    "        self.converter = ConvertRomanNumerals()\n",
    "        \n",
    "    # Executa depois de cada teste\n",
    "    def tearDown(self):\n",
    "        self.converter = None\n",
    "    \n",
    "    # Testes unitarios, testa cada opção.\n",
    "    def test_one_thousand(self):\n",
    "        self.assertEqual(1000, self.converter.convert_to_decimal('M'), \"Mensagem de erro.\")\n",
    "    \n",
    "    @unittest.skip(\"Teste não é executado\")\n",
    "    def test_five_hundred(self):\n",
    "        self.assertEqual(500, self.converter.convert_to_decimal('D'))\n",
    "        \n",
    "    @unittest.skipIf(sys.version_info < (2,7), \"Não executar esse teste se a versão do python for maior que 2.7\")\n",
    "    def test_one_hundred(self):\n",
    "        self.assertEqual(100, self.converter.convert_to_decimal('C'))\n",
    "        \n",
    "    def test_fifty(self):\n",
    "        self.assertEqual(50, self.converter.convert_to_decimal('L'))\n",
    "        \n",
    "    def test_ten(self):\n",
    "        self.assertEqual(10, self.converter.convert_to_decimal('X'))\n",
    "        \n",
    "    def test_five(self):\n",
    "        self.assertEqual(5, self.converter.convert_to_decimal('V'))\n",
    "    \n",
    "    def test_one(self):\n",
    "        self.assertEqual(1, self.converter.convert_to_decimal('I'))\n",
    "        \n",
    "    def test_empty(self):\n",
    "        self.assertTrue(self.converter.convert_to_decimal('') == 0)\n",
    "        self.assertFalse(self.converter.convert_to_decimal('') > 0)"
   ]
  }
 ],
 "metadata": {
  "kernelspec": {
   "display_name": "Python 3",
   "language": "python",
   "name": "python3"
  },
  "language_info": {
   "codemirror_mode": {
    "name": "ipython",
    "version": 3
   },
   "file_extension": ".py",
   "mimetype": "text/x-python",
   "name": "python",
   "nbconvert_exporter": "python",
   "pygments_lexer": "ipython3",
   "version": "3.5.2"
  }
 },
 "nbformat": 4,
 "nbformat_minor": 2
}
