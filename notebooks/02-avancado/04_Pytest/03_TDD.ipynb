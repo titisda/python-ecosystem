{
 "cells": [
  {
   "cell_type": "markdown",
   "metadata": {},
   "source": [
    "# TDD - Test Driven Development"
   ]
  },
  {
   "cell_type": "markdown",
   "metadata": {},
   "source": [
    "* Desenvolvimento baseados em testes, que deve ser executado antes de criar o código e se baseia em pequenos ciclos de repetição, na qual a cada funcionalidade dos sistema um teste é criado antes.\n",
    "\n",
    "\n",
    "* O objetivo é criar o teste antes da funcionalidade, e vê-lo falhar, depois criamos a funcionalidades para vê-lo passar. Depois que passar só refator o código, criar novo teste e o ciclo se repete.\n",
    "\n",
    "\n",
    "* Método público só entrada e saída de dados e usa exception\n",
    "\n",
    "\n",
    "* Métodos privaqdos terá a lógica do problema e assertivas\n",
    "\n",
    "\n",
    "* Só teste os métodos públicos, se ele estiver funcionando da maneira desejada obviamente os métodos privados também estarão, caso falhe o erro é em algum método privado utilizado.\n",
    "\n",
    "\n",
    "* **TDD**: Fazer pequenos testes e verificar a falha, com isso implementa a lógica até o teste passar, o TDD é feito em passos de Bebê. Quando o teste passar verifique o teste falhando, modificando o assert\n",
    "\n",
    "\n",
    "* Todo código atende a um teste, um teste um caso, um método vários casos.\n",
    "\n",
    "\n",
    "* Verificar sempre o valor 0 ou nulo, os negativos e os casos que você tem certeza que não deve entrar, por exemplo, se é para testar a idade de uma pessoa ser de 18 anos, vamos testar o valor 17, 18 e 19, pois abaixo de 17 é menor que 18, 18 é para passar o teste, e 19 e acima de 18:\n",
    "\n",
    "    ```py\n",
    "    teste > 18\n",
    "    casos: 0, -1, 17, 19 e 18\n",
    "    ```\n",
    "\n",
    "* Com os casos acima você consegue pegar 90% dos erros que entrada que pode acontecer\n",
    "\n",
    "\n",
    "* User técnicas de programação e clean code nos testes também\n",
    "\n",
    "\n",
    "* Crie teste para amostra de dados, por exemplo, para ter certeza que o método de erastotenes está correto foi criado o teste para valores de 0, -1, 1, 2, 3, 5, 10, e 22, se passar em todos logo podemos dizer que o método está correto."
   ]
  },
  {
   "cell_type": "markdown",
   "metadata": {},
   "source": [
    "***\n",
    "### Exemplos\n",
    "***"
   ]
  },
  {
   "cell_type": "code",
   "execution_count": 1,
   "metadata": {},
   "outputs": [],
   "source": [
    "# Vamos importar o unittest\n",
    "import unittest"
   ]
  },
  {
   "cell_type": "markdown",
   "metadata": {},
   "source": [
    "***"
   ]
  },
  {
   "cell_type": "code",
   "execution_count": 2,
   "metadata": {},
   "outputs": [],
   "source": [
    "# Vamos criar a classe de testes e o primeiro teste que irá falhar\n",
    "class TDDExample(unittest.TestCase):\n",
    "    \n",
    "    def test_sum(self):\n",
    "        calculator = Calculator()\n",
    "        result = calculator.sum(10, 20)\n",
    "        self.assertEqual(30, result)\n",
    "        \n",
    "# NameError: name 'Calculator' is not defined"
   ]
  },
  {
   "cell_type": "markdown",
   "metadata": {},
   "source": [
    "***"
   ]
  },
  {
   "cell_type": "code",
   "execution_count": 3,
   "metadata": {
    "collapsed": true
   },
   "outputs": [],
   "source": [
    "# Agora vamos arrumar esse erro criando a classe Calculadora\n",
    "class Calculator(object):\n",
    "    \n",
    "    def sum(self, x, y):\n",
    "        pass"
   ]
  },
  {
   "cell_type": "markdown",
   "metadata": {},
   "source": [
    "***"
   ]
  },
  {
   "cell_type": "code",
   "execution_count": 4,
   "metadata": {
    "collapsed": true
   },
   "outputs": [],
   "source": [
    "# Rodando novamente o teste tivemos: AssertionError: 30 != None vamos conserta-lo\n",
    "class Calculator(object):\n",
    "    \n",
    "    def sum(self, x, y):\n",
    "        return x + y\n",
    "    \n",
    "# Com isso o teste irá passar, e só ir fazendo novos testes para verificar todos os casos possíveis."
   ]
  }
 ],
 "metadata": {
  "kernelspec": {
   "display_name": "Python 3",
   "language": "python",
   "name": "python3"
  },
  "language_info": {
   "codemirror_mode": {
    "name": "ipython",
    "version": 3
   },
   "file_extension": ".py",
   "mimetype": "text/x-python",
   "name": "python",
   "nbconvert_exporter": "python",
   "pygments_lexer": "ipython3",
   "version": "3.5.2"
  }
 },
 "nbformat": 4,
 "nbformat_minor": 2
}
