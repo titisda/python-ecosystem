{
 "cells": [
  {
   "cell_type": "markdown",
   "metadata": {},
   "source": [
    "# Threads\n",
    "***"
   ]
  },
  {
   "cell_type": "markdown",
   "metadata": {},
   "source": [
    "Se divide em dois modulos: **_thread** e **threading**\n",
    "\n",
    "**threads** são como forks entretanto são usados para executar objetos em um mesmo processo, o que lhes garante uma melhor performace, simplicidade, compartilhamento de memória e portabilidade.\n",
    "\n",
    "Um dos problemas mais notáveis de threads é para sincronizar operações, uma vez que mesmo operações simples como printar texto na tela pode gerar conflitos. Veremos a frente que por debaixo dos panos de fato apenas uma thread está sendo realmente executada pelo interpretador de python.\n",
    "\n",
    "Um cuidado que devemos ter com threads é ao compartilhar objetos, pois se duas threads tentarem modificar o objeto ao mesmo tempo isso poderá causar erros terríveis. Para compartilhar objetos o melhor é travar cada um deles.\n",
    "\n",
    "**Módulo _thread**: Realiza operações de baixo nível.\n",
    "\n",
    "**Módulo threading**: Implementa objetos baseados no módulo _thread, logo utilizar essa."
   ]
  },
  {
   "cell_type": "markdown",
   "metadata": {},
   "source": [
    "***\n",
    "### Modulo Threading\n",
    "***\n"
   ]
  },
  {
   "cell_type": "code",
   "execution_count": 1,
   "metadata": {
    "collapsed": true
   },
   "outputs": [],
   "source": [
    "# Importa a Thread e o Lock\n",
    "from threading import Thread, Lock\n",
    "import time"
   ]
  },
  {
   "cell_type": "markdown",
   "metadata": {},
   "source": [
    "***"
   ]
  },
  {
   "cell_type": "code",
   "execution_count": 2,
   "metadata": {},
   "outputs": [],
   "source": [
    "# Cria a classe minha thread herdando de Thread\n",
    "class MyThread(Thread):\n",
    "    \n",
    "    def __init__(self, myID, count, lock):\n",
    "        self.myID = myID\n",
    "        self.count = count\n",
    "        self.lock = lock\n",
    "        Thread.__init__(self)\n",
    "        \n",
    "    def run(self):\n",
    "        for thread in range(self.count):\n",
    "            # Trava e destrava somente essa thread pode executar e ter acesso as próximas linhas\n",
    "            with self.lock:\n",
    "                print('Processo[{0}] => Thread[{1}]\\n'.format(self.myID, thread))"
   ]
  },
  {
   "cell_type": "markdown",
   "metadata": {},
   "source": [
    "***"
   ]
  },
  {
   "cell_type": "code",
   "execution_count": 3,
   "metadata": {},
   "outputs": [],
   "source": [
    "# Inicializa a trava e a lista de threads\n",
    "lock = Lock()"
   ]
  },
  {
   "cell_type": "markdown",
   "metadata": {},
   "source": [
    "***"
   ]
  },
  {
   "cell_type": "code",
   "execution_count": 4,
   "metadata": {},
   "outputs": [
    {
     "name": "stdout",
     "output_type": "stream",
     "text": [
      "Processo[0] => Thread[0]\n",
      "\n",
      "Processo[0] => Thread[1]\n",
      "\n",
      "Processo[0] => Thread[2]\n",
      "\n",
      "Processo[0] => Thread[3]\n",
      "\n",
      "Processo[0] => Thread[4]\n",
      "\n",
      "Processo[0] => Thread[5]\n",
      "\n",
      "Processo[1] => Thread[0]\n",
      "\n",
      "Processo[1] => Thread[1]\n",
      "\n",
      "Processo[1] => Thread[2]\n",
      "\n",
      "Processo[1] => Thread[3]\n",
      "\n",
      "Processo[1] => Thread[4]\n",
      "\n",
      "Processo[1] => Thread[5]\n",
      "\n",
      "Processo[2] => Thread[0]\n",
      "\n",
      "Processo[2] => Thread[1]\n",
      "\n",
      "Processo[2] => Thread[2]\n",
      "\n",
      "Processo[2] => Thread[3]\n",
      "\n",
      "Processo[2] => Thread[4]\n",
      "\n",
      "Processo[2] => Thread[5]\n",
      "\n",
      "Processo[3] => Thread[0]\n",
      "\n",
      "Processo[3] => Thread[1]\n",
      "\n",
      "Processo[3] => Thread[2]\n",
      "\n",
      "Processo[3] => Thread[3]\n",
      "\n",
      "Processo[3] => Thread[4]\n",
      "\n",
      "Processo[3] => Thread[5]\n",
      "\n",
      "Processo[4] => Thread[0]\n",
      "\n",
      "Processo[4] => Thread[1]\n",
      "\n",
      "Processo[4] => Thread[2]\n",
      "\n",
      "Processo[4] => Thread[3]\n",
      "\n",
      "Processo[4] => Thread[4]\n",
      "\n",
      "Processo[4] => Thread[5]\n",
      "\n",
      "Saindo da Thread principal\n"
     ]
    }
   ],
   "source": [
    "# Executar todas as threads, pode parecer que as threads ta em sequência\n",
    "# mas elas foram executadas paralelamente em cada processo\n",
    "for process_id in range(5):\n",
    "    # Cria a thread\n",
    "    thread = MyThread(process_id, 6, lock)\n",
    "    # Chama o método run()\n",
    "    thread.start()\n",
    "    # Espera até a thread terminar e finaliza ela\n",
    "    thread.join()\n",
    "\n",
    "time.sleep(1)\n",
    "print(\"Saindo da Thread principal\")"
   ]
  }
 ],
 "metadata": {
  "kernelspec": {
   "display_name": "Python 3",
   "language": "python",
   "name": "python3"
  },
  "language_info": {
   "codemirror_mode": {
    "name": "ipython",
    "version": 3
   },
   "file_extension": ".py",
   "mimetype": "text/x-python",
   "name": "python",
   "nbconvert_exporter": "python",
   "pygments_lexer": "ipython3",
   "version": "3.5.2"
  }
 },
 "nbformat": 4,
 "nbformat_minor": 2
}
