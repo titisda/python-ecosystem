{
 "cells": [
  {
   "cell_type": "markdown",
   "metadata": {},
   "source": [
    "# Multiprocessing\n",
    "***"
   ]
  },
  {
   "cell_type": "markdown",
   "metadata": {},
   "source": [
    "Permite realizar processos em paralelo criando efetivamente um processo diferente de threads\n",
    "\n",
    "**Vantagens**:\n",
    "\n",
    "* Funciona em várias plataformas distintas diferente do **os.fork()**\n",
    "\n",
    "\n",
    "* Perde em velocidade para threads porém efetivamente executa os programas em núcleos distintos da CPU\n",
    "\n",
    "**Desvantagens**:\n",
    "\n",
    "* Mudanças em um processo não afetam o outro\n",
    "\n",
    "\n",
    "* Algumas estruturas (como o lambda) não podem ser rodadas em paralelo\n",
    "\n",
    "Ela apresenta estruturas semelhantes aos modulos **threading** e **queue**\n",
    "\n",
    "No Unix, usa um fork para criar um processo filho e invoca o método run de Process para roda-lo.\n",
    "\n",
    "No windows um novo interpretador é criado usando o processo de criação de ferramentas do Windows passando um objeto codificado pelo **pickle** para um novo processo por meio de um pipe e começando  o **python -c** para rodar o programa que roda com uma função especial construida em python que lê e decodifica o objeto e invoca o método run().\n",
    "\n",
    "Modulo popular para execução paralela: **Scipy**"
   ]
  },
  {
   "cell_type": "markdown",
   "metadata": {},
   "source": [
    "***\n",
    "### Exemplo Threads\n",
    "***"
   ]
  },
  {
   "cell_type": "code",
   "execution_count": 1,
   "metadata": {
    "collapsed": true
   },
   "outputs": [],
   "source": [
    "# Importar os modulos\n",
    "import os\n",
    "from multiprocessing import Process, Lock"
   ]
  },
  {
   "cell_type": "code",
   "execution_count": 2,
   "metadata": {
    "collapsed": true
   },
   "outputs": [],
   "source": [
    "def how_am_i(label, lock):\n",
    "    with lock:\n",
    "        print(\"{0}: nome={1}, pid={2}\".format(label, __name__, os.getpid()))"
   ]
  },
  {
   "cell_type": "code",
   "execution_count": 3,
   "metadata": {
    "collapsed": true
   },
   "outputs": [],
   "source": [
    "# Process cria os direntes processos assim como o Thread\n",
    "def main():\n",
    "    lock = Lock()\n",
    "    how_am_i(\"Chamada da função\", lock)\n",
    "    process = Process(target=how_am_i, args=('filho criado', lock))\n",
    "    process.start()\n",
    "    process.join()\n",
    "    for i in range(5):\n",
    "        Process(target=how_am_i, args=(('processo rodando {0}'.format(i)), lock)).start()\n",
    "    with lock:\n",
    "        print('Saida da main thread')"
   ]
  },
  {
   "cell_type": "code",
   "execution_count": 4,
   "metadata": {},
   "outputs": [
    {
     "name": "stdout",
     "output_type": "stream",
     "text": [
      "Chamada da função: nome=__main__, pid=3335\n",
      "filho criado: nome=__main__, pid=3357\n",
      "processo rodando 1: nome=__main__, pid=3361\n",
      "processo rodando 0: nome=__main__, pid=3360\n",
      "processo rodando 2: nome=__main__, pid=3363\n",
      "processo rodando 3: nome=__main__, pid=3366\n",
      "Saida da main thread\n",
      "processo rodando 4: nome=__main__, pid=3371\n"
     ]
    }
   ],
   "source": [
    "main()"
   ]
  },
  {
   "cell_type": "markdown",
   "metadata": {},
   "source": [
    "***\n",
    "### Exemplo Comunicação Interprocessual\n",
    "***\n",
    "\n",
    "Além da comunicação interprocessual por meio de pipes nomeados, o modulo multiprocessing possui algumas ferramentas que podem ser usadas para realizar a comunicação interprocessual"
   ]
  },
  {
   "cell_type": "code",
   "execution_count": 5,
   "metadata": {
    "collapsed": true
   },
   "outputs": [],
   "source": [
    "import os\n",
    "from multiprocessing import Process, Pipe"
   ]
  },
  {
   "cell_type": "code",
   "execution_count": 6,
   "metadata": {
    "collapsed": true
   },
   "outputs": [],
   "source": [
    "# Manda o objeto para pai por meio de um pipe anônimo\n",
    "def sender(pipe):\n",
    "    # Manda a mensagem\n",
    "    pipe.send(['spam', 42, 'ovos'])\n",
    "    # Fecha o pipe\n",
    "    pipe.close()"
   ]
  },
  {
   "cell_type": "code",
   "execution_count": 7,
   "metadata": {
    "collapsed": true
   },
   "outputs": [],
   "source": [
    "# Manda e recebe objetos por um pipe\n",
    "def communicator(pipe):\n",
    "    # Manda um dicionario\n",
    "    pipe.send(dict(name='João', spam=42))\n",
    "    # Espera uma resposta\n",
    "    answer = pipe.recv()\n",
    "    # Imprime a resposta\n",
    "    print('Comunicador recebeu:', answer)"
   ]
  },
  {
   "cell_type": "code",
   "execution_count": 8,
   "metadata": {
    "collapsed": true
   },
   "outputs": [],
   "source": [
    "def main():\n",
    "    # Pontos pipein e pipeout\n",
    "    (father_result, son_result) = Pipe()\n",
    "    # Primeiro processo mandando do filho para o pai atraves da função sender\n",
    "    Process(target=sender, args=(son_result, )).start()\n",
    "    # Imprimir o que o pai recebeu no processo acima\n",
    "    print(\"Pai recebeu:\", father_result.recv())\n",
    "    # Fecha a comunicação do pipe do lado do pipe\n",
    "    father_result.close()\n",
    "    \n",
    "    # Pontos pipein e pipeout\n",
    "    (father_result, son_result) = Pipe()\n",
    "    # Processo mandando do filho para o pai novamente através da função comunicador\n",
    "    son = Process(target=communicator, args=(son_result, ))\n",
    "    son.start()\n",
    "    # Imprimir o que o pai recebeu no processo acima\n",
    "    print(\"Pai recebeu:\", father_result.recv())\n",
    "    # Saida pai manda algo para o filho\n",
    "    father_result.send({x * 2 for x in 'spam'})\n",
    "    # Espero o filho terminar a execução\n",
    "    son.join()\n",
    "    \n",
    "    print('Saiu de pai')"
   ]
  },
  {
   "cell_type": "code",
   "execution_count": 9,
   "metadata": {},
   "outputs": [
    {
     "name": "stdout",
     "output_type": "stream",
     "text": [
      "Pai recebeu: ['spam', 42, 'ovos']\n",
      "Comunicador recebeu: {'ss', 'mm', 'pp', 'aa'}\n",
      "Pai recebeu: {'spam': 42, 'name': 'João'}\n",
      "Saiu de pai\n"
     ]
    }
   ],
   "source": [
    "main()"
   ]
  },
  {
   "cell_type": "markdown",
   "metadata": {},
   "source": [
    "***\n",
    "### Exemplo Queues\n",
    "***"
   ]
  },
  {
   "cell_type": "code",
   "execution_count": 10,
   "metadata": {
    "collapsed": true
   },
   "outputs": [],
   "source": [
    "from multiprocessing import Process, Queue, JoinableQueue\n",
    "import time"
   ]
  },
  {
   "cell_type": "code",
   "execution_count": 11,
   "metadata": {
    "collapsed": true
   },
   "outputs": [],
   "source": [
    "class Consumer(Process):\n",
    "    \n",
    "    def __init__(self, queue_task, queue_result):\n",
    "        Process.__init__(self)\n",
    "        self.queue_task = queue_task\n",
    "        self.queue_result = queue_result\n",
    "        \n",
    "    def run(self):\n",
    "        process_name = self.name\n",
    "        while True:\n",
    "            next_task = self.queue_task.get()\n",
    "            if next_task is None:\n",
    "                print(\"{0}: Saindo\".format(process_name))\n",
    "                self.queue_task.task_done()\n",
    "                break\n",
    "            print('{0}: {1}'.format(process_name, next_task))\n",
    "            answer = next_task()\n",
    "            self.queue_task.task_done()\n",
    "            self.queue_result.put(answer)\n",
    "        return"
   ]
  },
  {
   "cell_type": "code",
   "execution_count": 12,
   "metadata": {
    "collapsed": true
   },
   "outputs": [],
   "source": [
    "class Task(object):\n",
    "    \n",
    "    def __init__(self, n1, n2):\n",
    "        self.n1 = n1\n",
    "        self.n2 = n2\n",
    "        \n",
    "    def __call__(self):\n",
    "        time.sleep(0.1)\n",
    "        return '{0} * {1} = {2}'.format(self.n1, self.n2, self.n1 * self.n2)\n",
    "    \n",
    "    def __str__(self):\n",
    "        return '{0} * {1}'.format(self.n1, self.n2)"
   ]
  },
  {
   "cell_type": "code",
   "execution_count": 13,
   "metadata": {
    "collapsed": true
   },
   "outputs": [],
   "source": [
    "def main():\n",
    "    # Possui algumas funcionalidades a mais que a Queue normal\n",
    "    tasks = JoinableQueue()\n",
    "    results = Queue()\n",
    "\n",
    "    number_of_consumers = 5\n",
    "    print('Criando {0} consumidores'.format(number_of_consumers))\n",
    "    \n",
    "    consumers = []\n",
    "    for i in range(number_of_consumers):\n",
    "        consumers.append(Consumer(tasks, results))\n",
    "        \n",
    "    for consumer in consumers:\n",
    "        consumer.start()\n",
    "        \n",
    "    number_of_works = 5\n",
    "    for i in range(number_of_works):\n",
    "        tasks.put(Task(i, i))\n",
    "    \n",
    "    # Indicar o fim da tarefa\n",
    "    for i in range(number_of_consumers):\n",
    "        tasks.put(None)\n",
    "    \n",
    "    # Espera todas as tasks terminar\n",
    "    tasks.join()\n",
    "    \n",
    "    # Imprime resultados\n",
    "    while number_of_works:\n",
    "        result = results.get()\n",
    "        print(\"Resultado:\", result)\n",
    "        number_of_works -= 1"
   ]
  },
  {
   "cell_type": "code",
   "execution_count": 14,
   "metadata": {},
   "outputs": [
    {
     "name": "stdout",
     "output_type": "stream",
     "text": [
      "Criando 5 consumidores\n",
      "Consumer-12: 3 * 3\n",
      "Consumer-9: 0 * 0\n",
      "Consumer-10: 2 * 2\n",
      "Consumer-11: 4 * 4\n",
      "Consumer-13: 1 * 1\n",
      "Consumer-11: Saindo\n",
      "Consumer-10: Saindo\n",
      "Consumer-9: Saindo\n",
      "Consumer-13: Saindo\n",
      "Consumer-12: Saindo\n",
      "Resultado: 0 * 0 = 0\n",
      "Resultado: 4 * 4 = 16\n",
      "Resultado: 2 * 2 = 4\n",
      "Resultado: 1 * 1 = 1\n",
      "Resultado: 3 * 3 = 9\n"
     ]
    }
   ],
   "source": [
    "main()"
   ]
  },
  {
   "cell_type": "markdown",
   "metadata": {},
   "source": [
    "***\n",
    "### Exemplo event\n",
    "***\n",
    "\n",
    "Multiprocessing também possui uma estrutura chamada event que permite que haja comunicação dos estados entre processos. O evento pode ter os estados **set** e **unset**"
   ]
  },
  {
   "cell_type": "code",
   "execution_count": 15,
   "metadata": {
    "collapsed": true
   },
   "outputs": [],
   "source": [
    "from multiprocessing import Event, Process\n",
    "import time"
   ]
  },
  {
   "cell_type": "code",
   "execution_count": 16,
   "metadata": {
    "collapsed": true
   },
   "outputs": [],
   "source": [
    "# Espera a ocorrencia do evento antes de fazer qualquer coisa\n",
    "def wait_for_event(event):\n",
    "    print(\"A espera pelo evento começou!\")\n",
    "    event.wait()\n",
    "    print(\"Espera pelo evento event.is_set():\", event.is_set())"
   ]
  },
  {
   "cell_type": "code",
   "execution_count": 17,
   "metadata": {
    "collapsed": true
   },
   "outputs": [],
   "source": [
    "# Espera time segundos para o evento, e depois timeout\n",
    "def wait_for_event_timeout(event, time):\n",
    "    print(\"A espera pelo timeout do evento iniciada!\")\n",
    "    event.wait(time)\n",
    "    print(\"Espera pelo timeout do evento event.is_set():\", event.is_set())"
   ]
  },
  {
   "cell_type": "code",
   "execution_count": 18,
   "metadata": {
    "collapsed": true
   },
   "outputs": [],
   "source": [
    "def main():\n",
    "    event = Event()\n",
    "    process1 = Process(name='block', target=wait_for_event, args=(event, ))\n",
    "    process1.start()\n",
    "    process2 = Process(name='not-block', target=wait_for_event_timeout, args=(event, 2))\n",
    "    process2.start()\n",
    "    \n",
    "    print(\"Main: Esperando antes de chamar o Event.set()\")\n",
    "    time.sleep(3)\n",
    "    event.set()\n",
    "    print(\"Main: Evento está pronto!\")"
   ]
  },
  {
   "cell_type": "code",
   "execution_count": 19,
   "metadata": {},
   "outputs": [
    {
     "name": "stdout",
     "output_type": "stream",
     "text": [
      "A espera pelo timeout do evento iniciada!\n",
      "A espera pelo evento começou!\n",
      "Main: Esperando antes de chamar o Event.set()\n",
      "Espera pelo timeout do evento event.is_set(): False\n",
      "Main: Evento está pronto!\n",
      "Espera pelo evento event.is_set(): True\n"
     ]
    }
   ],
   "source": [
    "main()"
   ]
  },
  {
   "cell_type": "markdown",
   "metadata": {},
   "source": [
    "***\n",
    "### Exemplo pool\n",
    "***\n",
    "\n",
    "Por fim nós temos as pools que permitem que um número fixo de **workers** possam ser usados em casos simples. Isso significa que dada um número de operações a serem realizadas e um número de recursos onde elas podem ser realizadas as pools vão alocar as operações nos recursos dada a limitação no número de recursos até que todas as operações sejam terminadas. É uma forma de otimizar a utilização de recursos de seu computador"
   ]
  },
  {
   "cell_type": "code",
   "execution_count": 20,
   "metadata": {
    "collapsed": true
   },
   "outputs": [],
   "source": [
    "import multiprocessing"
   ]
  },
  {
   "cell_type": "code",
   "execution_count": 21,
   "metadata": {
    "collapsed": true
   },
   "outputs": [],
   "source": [
    "def calculate(data):\n",
    "    return data * 2"
   ]
  },
  {
   "cell_type": "code",
   "execution_count": 22,
   "metadata": {
    "collapsed": true
   },
   "outputs": [],
   "source": [
    "def start_process():\n",
    "    # Nome do processo rodando no momento\n",
    "    print(\"Iniciando\", multiprocessing.current_process().name)"
   ]
  },
  {
   "cell_type": "code",
   "execution_count": 23,
   "metadata": {
    "collapsed": true
   },
   "outputs": [],
   "source": [
    "def main():\n",
    "    inputs = list(range(10))\n",
    "    print(\"Input:\", inputs)\n",
    "    \n",
    "    builtin_outputs = map(calculate, inputs)\n",
    "    print(\"Built-in:\", list(builtin_outputs))\n",
    "    \n",
    "    # Pega o número de CPUs do seu pc\n",
    "    pool_size = multiprocessing.cpu_count() * 2\n",
    "    # Cria um pool com tamanho e um inicializador\n",
    "    pool = multiprocessing.Pool(processes=pool_size, initializer=start_process)\n",
    "    \n",
    "    pool_outputs = pool.map(calculate, inputs)\n",
    "    pool.close()\n",
    "    # Espera o termino dos processos\n",
    "    pool.join()\n",
    "    \n",
    "    print(\"Pool:\", pool_outputs)"
   ]
  },
  {
   "cell_type": "code",
   "execution_count": 24,
   "metadata": {},
   "outputs": [
    {
     "name": "stdout",
     "output_type": "stream",
     "text": [
      "Input: [0, 1, 2, 3, 4, 5, 6, 7, 8, 9]\n",
      "Built-in: [0, 2, 4, 6, 8, 10, 12, 14, 16, 18]\n",
      "Iniciando ForkPoolWorker-16\n",
      "Iniciando ForkPoolWorker-17\n",
      "Iniciando ForkPoolWorker-18\n",
      "Iniciando ForkPoolWorker-19\n",
      "Iniciando ForkPoolWorker-21\n",
      "Iniciando ForkPoolWorker-20\n",
      "Iniciando ForkPoolWorker-22\n",
      "Iniciando ForkPoolWorker-23\n",
      "Pool: [0, 2, 4, 6, 8, 10, 12, 14, 16, 18]\n"
     ]
    }
   ],
   "source": [
    "main()"
   ]
  }
 ],
 "metadata": {
  "kernelspec": {
   "display_name": "Python 3",
   "language": "python",
   "name": "python3"
  },
  "language_info": {
   "codemirror_mode": {
    "name": "ipython",
    "version": 3
   },
   "file_extension": ".py",
   "mimetype": "text/x-python",
   "name": "python",
   "nbconvert_exporter": "python",
   "pygments_lexer": "ipython3",
   "version": "3.5.2"
  }
 },
 "nbformat": 4,
 "nbformat_minor": 2
}
