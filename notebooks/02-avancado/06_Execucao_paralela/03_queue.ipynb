{
 "cells": [
  {
   "cell_type": "markdown",
   "metadata": {},
   "source": [
    "# Queue\n",
    "***"
   ]
  },
  {
   "cell_type": "markdown",
   "metadata": {},
   "source": [
    "**Queue**: Significa 'fila' em inglês e consiste num módulo que organiza o acesso a um tipo de data qualquer\n",
    "\n",
    "Queues em python são modeladas por um objeto que obdece a regra FIFO (First In First Out) que indica que o primeiro objeto a entrar na fila será também o primeiro a sair da fila\n",
    "\n",
    "Filas são semelhantes a listas no sentido de serem fontes de armazenamento de objetos, entretanto diferente de listas são automaticamente controladas por uma thread lock\n",
    "\n",
    "Muito utilizado para simulação de sistemas\n",
    "\n",
    "Podiamos utilizar o modulo _thread ao inves do threading porque por definição o programa não irá sair enquanto as threads estiverem sendo executadas, entretanto pelo _thread o programa fecha silenciosamente quando a thread principal fecha, mesmo que as outras threads ainda esteja rodando em seus loops infinitos. O threading travaria o programa enquanto as threads estiverem ativas.\n",
    "\n",
    "Porém, poderiamos modelar isso usando o modulo threading ao especificar a sua flag daemon para verdadeiro, pois threads com daemon=False irão previnir o programa de ser fechado"
   ]
  },
  {
   "cell_type": "markdown",
   "metadata": {},
   "source": [
    "***\n",
    "### Exemplos\n",
    "***"
   ]
  },
  {
   "cell_type": "code",
   "execution_count": 1,
   "metadata": {},
   "outputs": [],
   "source": [
    "# Importar os modulos de threading, queue e time\n",
    "from threading import Thread\n",
    "import queue\n",
    "import time"
   ]
  },
  {
   "cell_type": "code",
   "execution_count": 2,
   "metadata": {
    "collapsed": true
   },
   "outputs": [],
   "source": [
    "# Inicializar o número de consumidores, produtores e mensagens\n",
    "consumers = 2\n",
    "producers = 4\n",
    "messages = 4"
   ]
  },
  {
   "cell_type": "code",
   "execution_count": 3,
   "metadata": {
    "collapsed": true
   },
   "outputs": [],
   "source": [
    "# Gerar a fila\n",
    "fila = queue.Queue()"
   ]
  },
  {
   "cell_type": "code",
   "execution_count": 4,
   "metadata": {
    "collapsed": true
   },
   "outputs": [],
   "source": [
    "# Definir o produtor\n",
    "def producer(producer_id):\n",
    "    for message_number in range(messages):\n",
    "        time.sleep(producer_id)\n",
    "        fila.put('[Produtor id={0}, cont={1}]'.format(producer_id, message_number))"
   ]
  },
  {
   "cell_type": "code",
   "execution_count": 5,
   "metadata": {
    "collapsed": true
   },
   "outputs": [],
   "source": [
    "# Definir o consumidor\n",
    "def consumer(consumer_id):\n",
    "    while True:\n",
    "        time.sleep(0.1)\n",
    "        try:\n",
    "            # Obter um determinado valor de fila, não deve bloquear ao receber o valor\n",
    "            data = fila.get(block=False)\n",
    "        except queue.Empty:\n",
    "            pass\n",
    "        else:\n",
    "            print('Consumidor[{0}] recebeu => {1}\\n'.format(consumer_id, data))"
   ]
  },
  {
   "cell_type": "code",
   "execution_count": 6,
   "metadata": {
    "collapsed": true
   },
   "outputs": [],
   "source": [
    "def main():\n",
    "    for consumer_id in range(consumers):\n",
    "        thread = Thread(target=consumer, args=(consumer_id, ))\n",
    "        # Previnir o programa de ser fechado\n",
    "        thread.daemon = True\n",
    "        thread.start()\n",
    "    \n",
    "    wait = []\n",
    "    \n",
    "    for producer_id in range(producers):\n",
    "        thread = Thread(target=producer, args=(producer_id, ))\n",
    "        wait.append(thread)\n",
    "        thread.start()\n",
    "        \n",
    "    for thread in wait:\n",
    "        thread.join()\n",
    "        \n",
    "    print(\"Sai da thread principal.\")"
   ]
  },
  {
   "cell_type": "code",
   "execution_count": 7,
   "metadata": {},
   "outputs": [
    {
     "name": "stdout",
     "output_type": "stream",
     "text": [
      "Consumidor[0] recebeu => [Produtor id=0, cont=0]\n",
      "\n",
      "Consumidor[1] recebeu => [Produtor id=0, cont=1]\n",
      "\n",
      "Consumidor[0] recebeu => [Produtor id=0, cont=2]\n",
      "\n",
      "Consumidor[1] recebeu => [Produtor id=0, cont=3]\n",
      "\n",
      "Consumidor[0] recebeu => [Produtor id=1, cont=0]\n",
      "\n",
      "Consumidor[1] recebeu => [Produtor id=1, cont=1]\n",
      "Consumidor[0] recebeu => [Produtor id=2, cont=0]\n",
      "\n",
      "\n",
      "Consumidor[1] recebeu => [Produtor id=1, cont=2]\n",
      "\n",
      "Consumidor[0] recebeu => [Produtor id=3, cont=0]\n",
      "\n",
      "Consumidor[1] recebeu => [Produtor id=1, cont=3]\n",
      "\n",
      "Consumidor[0] recebeu => [Produtor id=2, cont=1]\n",
      "\n",
      "Consumidor[1] recebeu => [Produtor id=3, cont=1]\n",
      "\n",
      "Consumidor[0] recebeu => [Produtor id=2, cont=2]\n",
      "\n",
      "Consumidor[0] recebeu => [Produtor id=2, cont=3]\n",
      "\n",
      "Consumidor[1] recebeu => [Produtor id=3, cont=2]\n",
      "\n",
      "Sai da thread principal.\n",
      "Consumidor[1] recebeu => [Produtor id=3, cont=3]\n",
      "\n"
     ]
    }
   ],
   "source": [
    "main()"
   ]
  }
 ],
 "metadata": {
  "kernelspec": {
   "display_name": "Python 3",
   "language": "python",
   "name": "python3"
  },
  "language_info": {
   "codemirror_mode": {
    "name": "ipython",
    "version": 3
   },
   "file_extension": ".py",
   "mimetype": "text/x-python",
   "name": "python",
   "nbconvert_exporter": "python",
   "pygments_lexer": "ipython3",
   "version": "3.5.2"
  }
 },
 "nbformat": 4,
 "nbformat_minor": 2
}
