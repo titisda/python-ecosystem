{
 "cells": [
  {
   "cell_type": "markdown",
   "metadata": {},
   "source": [
    "# Sobrecarga de comparações\n",
    "***"
   ]
  },
  {
   "cell_type": "markdown",
   "metadata": {},
   "source": [
    "Comparações entre objetos e como estender objetos no python\n",
    "\n",
    "Cada instancia é uma referencia a memoria, logo cada instancia é um objeto diferente, porém se você atribuir um objeto ao outro, por exemplo, itau2 = itau1 o itau2 vai apontar para o endereço de memoria do itau1"
   ]
  },
  {
   "cell_type": "markdown",
   "metadata": {},
   "source": [
    "***\n",
    "#### Exemplos\n",
    "***"
   ]
  },
  {
   "cell_type": "code",
   "execution_count": 1,
   "metadata": {
    "collapsed": true
   },
   "outputs": [],
   "source": [
    "# Criar uma classe Conta\n",
    "class Conta(object):\n",
    "    \n",
    "    def __init__(self, ID, saldo):\n",
    "        self.ID = ID\n",
    "        self.saldo = saldo\n",
    "        \n",
    "    def deposito(self, valor):\n",
    "        self.saldo += valor\n",
    "        \n",
    "    def saque(self, valor):\n",
    "        if self.saldo >= valor:\n",
    "            self.saldo -= valor\n",
    "    \n",
    "    # Comparações\n",
    "    def __le__(self, conta):\n",
    "        # <=\n",
    "        if self.ID <= conta.ID:\n",
    "            return True\n",
    "        return False\n",
    "    \n",
    "    def __eq__(self, conta):\n",
    "        # ==\n",
    "        if self.ID == conta.ID:\n",
    "            return True\n",
    "        return False\n",
    "    \n",
    "    def __ge__(self, conta):\n",
    "        # >=\n",
    "        if self.ID >= conta.ID:\n",
    "            return True\n",
    "        return False\n",
    "    \n",
    "    def __lt__(self, conta):\n",
    "        # <\n",
    "        if self.ID < conta.ID:\n",
    "            return True\n",
    "        return False\n",
    "    \n",
    "    def __gt__(self, conta):\n",
    "        # >\n",
    "        if self.ID > conta.ID:\n",
    "            return True\n",
    "        return False\n",
    "    \n",
    "    def __ne__(self, conta):\n",
    "        # !=\n",
    "        if self.ID != conta.ID:\n",
    "            return True\n",
    "        return False"
   ]
  },
  {
   "cell_type": "markdown",
   "metadata": {},
   "source": [
    "***"
   ]
  },
  {
   "cell_type": "code",
   "execution_count": 2,
   "metadata": {
    "collapsed": true
   },
   "outputs": [],
   "source": [
    "# Criar instancias\n",
    "itau = Conta(1, saldo=5000)\n",
    "bradesco = Conta(2, saldo=2000)\n",
    "santander = Conta(3, saldo=3500)\n",
    "itau2 = Conta(1, saldo=5000)"
   ]
  },
  {
   "cell_type": "markdown",
   "metadata": {},
   "source": [
    "***"
   ]
  },
  {
   "cell_type": "code",
   "execution_count": 3,
   "metadata": {},
   "outputs": [
    {
     "name": "stdout",
     "output_type": "stream",
     "text": [
      "140024055165560\n",
      "140024055165616\n",
      "140024055165728\n",
      "140024055165784\n"
     ]
    }
   ],
   "source": [
    "# Verificar qual endereço de memoria dos objetos para ter certeza que são diferentes\n",
    "print(id(itau))\n",
    "print(id(bradesco))\n",
    "print(id(santander))\n",
    "print(id(itau2))"
   ]
  },
  {
   "cell_type": "markdown",
   "metadata": {},
   "source": [
    "***"
   ]
  },
  {
   "cell_type": "code",
   "execution_count": 4,
   "metadata": {},
   "outputs": [
    {
     "name": "stdout",
     "output_type": "stream",
     "text": [
      "True\n"
     ]
    }
   ],
   "source": [
    "# __le__ x <= y\n",
    "print(itau <= itau2)"
   ]
  },
  {
   "cell_type": "markdown",
   "metadata": {},
   "source": [
    "***"
   ]
  },
  {
   "cell_type": "code",
   "execution_count": 5,
   "metadata": {},
   "outputs": [
    {
     "name": "stdout",
     "output_type": "stream",
     "text": [
      "True\n"
     ]
    }
   ],
   "source": [
    "# __eq__ x == y\n",
    "print(itau == itau2)"
   ]
  },
  {
   "cell_type": "markdown",
   "metadata": {},
   "source": [
    "***"
   ]
  },
  {
   "cell_type": "code",
   "execution_count": 6,
   "metadata": {},
   "outputs": [
    {
     "name": "stdout",
     "output_type": "stream",
     "text": [
      "False\n"
     ]
    }
   ],
   "source": [
    "# __ge__ x >= y\n",
    "print(itau >= bradesco)"
   ]
  },
  {
   "cell_type": "markdown",
   "metadata": {},
   "source": [
    "***"
   ]
  },
  {
   "cell_type": "code",
   "execution_count": 7,
   "metadata": {},
   "outputs": [
    {
     "name": "stdout",
     "output_type": "stream",
     "text": [
      "True\n"
     ]
    }
   ],
   "source": [
    "# __lt__ x < y\n",
    "print(itau < santander)"
   ]
  },
  {
   "cell_type": "markdown",
   "metadata": {},
   "source": [
    "***"
   ]
  },
  {
   "cell_type": "code",
   "execution_count": 8,
   "metadata": {},
   "outputs": [
    {
     "name": "stdout",
     "output_type": "stream",
     "text": [
      "True\n"
     ]
    }
   ],
   "source": [
    "# __gt__ x > y\n",
    "print(santander > bradesco)"
   ]
  },
  {
   "cell_type": "markdown",
   "metadata": {},
   "source": [
    "***"
   ]
  },
  {
   "cell_type": "code",
   "execution_count": 9,
   "metadata": {},
   "outputs": [
    {
     "name": "stdout",
     "output_type": "stream",
     "text": [
      "False\n"
     ]
    }
   ],
   "source": [
    "# __ne__ x != y\n",
    "print(itau != itau2)"
   ]
  }
 ],
 "metadata": {
  "kernelspec": {
   "display_name": "Python 3",
   "language": "python",
   "name": "python3"
  },
  "language_info": {
   "codemirror_mode": {
    "name": "ipython",
    "version": 3
   },
   "file_extension": ".py",
   "mimetype": "text/x-python",
   "name": "python",
   "nbconvert_exporter": "python",
   "pygments_lexer": "ipython3",
   "version": "3.5.2"
  }
 },
 "nbformat": 4,
 "nbformat_minor": 2
}
