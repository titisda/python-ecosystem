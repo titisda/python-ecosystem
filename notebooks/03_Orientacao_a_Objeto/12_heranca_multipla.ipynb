{
 "cells": [
  {
   "cell_type": "markdown",
   "metadata": {},
   "source": [
    "# Herança multipla\n",
    "***"
   ]
  },
  {
   "cell_type": "markdown",
   "metadata": {},
   "source": [
    "* Um subclasse pode herdar de um ou mais superclasses, por exemplo, um despertador apresenta funcionalidades das classes Relogio e Calendario, logo ela herda ambas as classes.\n",
    "\n",
    "\n",
    "* Usar só quando necessário, herança multipla não tem um bom desempenho, herança causa um acoplamento muito forte entre as classes, pois uma mudança na classe pai causa um efeito na classe filha, tente usar a composição ao inves de herança.\n",
    "\n",
    "\n",
    "* **super(ClasseFilha, self).__init__(\\*args, \\*\\*kwargs)**: É usado para chamar a classe pai recebendo um número não conhecido de argumentos (**\\*args**) em forma de lista e de argumentos (**\\*\\*kwargs**) em forma de dicionario.\n",
    "\n",
    "\n",
    "* O método que tem a herança multipla vai chamar o construtor de ambas as classes pais através do código **super(ClasseFilha, self).__init__(argumentos_de_ambas_as_classes)**, esse método irá chamar o construtor acima de cada classe que através do **\\*args** e **\\*\\*kwargs** irá pegar os argumentos passados pela classe filha e irá passar para a próxima classe que fará a mesma coisa até chegar na classe **object**.\n",
    "\n",
    "\n",
    "* Em python usamos herança multipla de classes abstratas, que é a mesma coisa da utilização de interfaces em java, a classe abstrata não deve ter implementações para não gerar alto acoplamento, ela será apenas um template para as classes filhas implementarem.\n",
    "\n",
    "\n",
    "* Se for usar herança multipla use os **mixins**, é uma forma segura de usar herança multipla."
   ]
  },
  {
   "cell_type": "markdown",
   "metadata": {},
   "source": [
    "***\n",
    "### Jeito simples\n",
    "***"
   ]
  },
  {
   "cell_type": "code",
   "execution_count": 1,
   "metadata": {
    "collapsed": true
   },
   "outputs": [],
   "source": [
    "# Cria a classe relógio\n",
    "class Clock(object):\n",
    "    \n",
    "    def __init__(self, hour=0, minute=0, second=0):\n",
    "        self.hour = hour\n",
    "        self.minute = minute\n",
    "        self.second = second\n",
    "        \n",
    "    def fix_hour(self, hour, minute, second=0):\n",
    "        self.hour = hour\n",
    "        self.minute = minute\n",
    "        self.second = second\n",
    "        \n",
    "    def tick(self):\n",
    "        # Passa o tempo a medida que usa essa função\n",
    "        if self.second == 59:\n",
    "            self.second = 0\n",
    "            if self.minute == 59:\n",
    "                self.minute = 0\n",
    "                if self.hour == 23:\n",
    "                    self.hour = 0\n",
    "                else:\n",
    "                    self.hour += 1\n",
    "            else:\n",
    "                self.minute += 1\n",
    "        else:\n",
    "            self.second += 1\n",
    "            \n",
    "    def __str__(self):\n",
    "        # 02d - A palavra deve ter dois digitos e deve ser completado com zeros\n",
    "        return \"{0:02d}:{1:02d}:{2:02d}\".format(self.hour, self.minute, self.second)"
   ]
  },
  {
   "cell_type": "markdown",
   "metadata": {},
   "source": [
    "***"
   ]
  },
  {
   "cell_type": "code",
   "execution_count": 2,
   "metadata": {},
   "outputs": [
    {
     "name": "stdout",
     "output_type": "stream",
     "text": [
      "10:03:59\n",
      "10:04:00\n",
      "10:04:01\n"
     ]
    }
   ],
   "source": [
    "# Cria o relógio\n",
    "clock = Clock(10, 3, 59)\n",
    "print(clock)\n",
    "\n",
    "# Incrementa o tempo\n",
    "clock.tick()\n",
    "print(clock)\n",
    "clock.tick()\n",
    "print(clock)"
   ]
  },
  {
   "cell_type": "markdown",
   "metadata": {},
   "source": [
    "***"
   ]
  },
  {
   "cell_type": "code",
   "execution_count": 3,
   "metadata": {
    "collapsed": true
   },
   "outputs": [],
   "source": [
    "# Cria a classe calendario\n",
    "class Calendar(object):\n",
    "    \n",
    "    days_of_month = (31, 28, 31, 30, 31, 30, 31, 31, 30, 31, 30, 31)\n",
    "    \n",
    "    def __init__(self, day=0, month=0, year=0):\n",
    "        self.day = day\n",
    "        self.month = month\n",
    "        self.year = year\n",
    "        \n",
    "    def fix_hour(self, day, month, year=0):\n",
    "        self.day = day\n",
    "        self.month = month\n",
    "        self.year = year\n",
    "        \n",
    "    def pass_day(self):\n",
    "        # Modifica o dia a medida que essa função é usada\n",
    "        max_day = Calendar.days_of_month[self.month - 1]\n",
    "        if self.day == max_day:\n",
    "            self.day = 1\n",
    "            if self.month == 12:\n",
    "                self.month = 1\n",
    "                self.year += 1\n",
    "            else:\n",
    "                self.month += 1\n",
    "        else:\n",
    "            self.day += 1\n",
    "            \n",
    "    def __str__(self):\n",
    "        # 02d - I want that the hour has two digits if not complement with zeros\n",
    "        return \"{0:02d}/{1:02d}/{2:4d}\".format(self.day, self.month, self.year)"
   ]
  },
  {
   "cell_type": "markdown",
   "metadata": {},
   "source": [
    "***"
   ]
  },
  {
   "cell_type": "code",
   "execution_count": 4,
   "metadata": {},
   "outputs": [
    {
     "name": "stdout",
     "output_type": "stream",
     "text": [
      "31/01/2016\n",
      "01/02/2016\n",
      "02/02/2016\n"
     ]
    }
   ],
   "source": [
    "# Cria o calendario\n",
    "calendar = Calendar(31, 1, 2016)\n",
    "print(calendar)\n",
    "\n",
    "# Passar os dias\n",
    "calendar.pass_day()\n",
    "print(calendar)\n",
    "calendar.pass_day()\n",
    "print(calendar)"
   ]
  },
  {
   "cell_type": "markdown",
   "metadata": {},
   "source": [
    "***"
   ]
  },
  {
   "cell_type": "code",
   "execution_count": 5,
   "metadata": {
    "collapsed": true
   },
   "outputs": [],
   "source": [
    "# Cria o alarme\n",
    "class Alarm(Clock, Calendar):\n",
    "    \n",
    "    def __init__(self, hour, minute, second, day, month, year):\n",
    "        Clock.__init__(self, hour, minute, second)\n",
    "        Calendar.__init__(self, day, month, year)\n",
    "        \n",
    "    def __str__(self):\n",
    "        return Calendar.__str__(self) + ' às ' + Clock.__str__(self)\n",
    "    \n",
    "    def tick(self):\n",
    "        previous_hour = self.hour\n",
    "        Clock.tick(self)\n",
    "        if self.hour < previous_hour:\n",
    "            self.pass_day()\n",
    "        "
   ]
  },
  {
   "cell_type": "markdown",
   "metadata": {},
   "source": [
    "***"
   ]
  },
  {
   "cell_type": "code",
   "execution_count": 6,
   "metadata": {},
   "outputs": [
    {
     "name": "stdout",
     "output_type": "stream",
     "text": [
      "31/12/2015 às 23:59:59\n",
      "01/01/2016 às 00:00:00\n",
      "[<class '__main__.Alarm'>, <class '__main__.Clock'>, <class '__main__.Calendar'>, <class 'object'>]\n"
     ]
    }
   ],
   "source": [
    "# Cria o alarme\n",
    "alarm = Alarm(23, 59, 59, 31, 12, 2015)\n",
    "print(alarm)\n",
    "\n",
    "# Incrementa o tempo\n",
    "alarm.tick()\n",
    "print(alarm)\n",
    "\n",
    "# Ver a ordem de execução\n",
    "print(Alarm.mro())"
   ]
  },
  {
   "cell_type": "markdown",
   "metadata": {},
   "source": [
    "***\n",
    "### Outro jeito\n",
    "***"
   ]
  },
  {
   "cell_type": "code",
   "execution_count": 7,
   "metadata": {
    "collapsed": true
   },
   "outputs": [],
   "source": [
    "# Cria a classe relógio\n",
    "class Clock(object):\n",
    "    \n",
    "    def __init__(self, hour=0, minute=0, second=0, *args, **kwargs):\n",
    "        super(Clock, self).__init__(*args, **kwargs)\n",
    "        self.hour = hour\n",
    "        self.minute = minute\n",
    "        self.second = second\n",
    "        \n",
    "    def fix_hour(self, hour, minute, second=0):\n",
    "        self.hour = hour\n",
    "        self.minute = minute\n",
    "        self.second = second\n",
    "        \n",
    "    def tick(self):\n",
    "        # Passa o tempo a medida que usa essa função\n",
    "        if self.second == 59:\n",
    "            self.second = 0\n",
    "            if self.minute == 59:\n",
    "                self.minute = 0\n",
    "                if self.hour == 23:\n",
    "                    self.hour = 0\n",
    "                else:\n",
    "                    self.hour += 1\n",
    "            else:\n",
    "                self.minute += 1\n",
    "        else:\n",
    "            self.second += 1\n",
    "            \n",
    "    def __str__(self):\n",
    "        # 02d - A palavra deve ter dois digitos e deve ser completado com zeros\n",
    "        return \"{0:02d}:{1:02d}:{2:02d}\".format(self.hour, self.minute, self.second)"
   ]
  },
  {
   "cell_type": "markdown",
   "metadata": {},
   "source": [
    "***"
   ]
  },
  {
   "cell_type": "code",
   "execution_count": 8,
   "metadata": {},
   "outputs": [
    {
     "name": "stdout",
     "output_type": "stream",
     "text": [
      "10:03:59\n",
      "10:04:00\n",
      "10:04:01\n"
     ]
    }
   ],
   "source": [
    "# Cria o relógio\n",
    "clock = Clock(10, 3, 59)\n",
    "print(clock)\n",
    "\n",
    "# Incrementa o tempo\n",
    "clock.tick()\n",
    "print(clock)\n",
    "clock.tick()\n",
    "print(clock)"
   ]
  },
  {
   "cell_type": "markdown",
   "metadata": {},
   "source": [
    "***"
   ]
  },
  {
   "cell_type": "code",
   "execution_count": 9,
   "metadata": {
    "collapsed": true
   },
   "outputs": [],
   "source": [
    "# Cria a classe calendario\n",
    "class Calendar(object):\n",
    "    \n",
    "    days_of_month = (31, 28, 31, 30, 31, 30, 31, 31, 30, 31, 30, 31)\n",
    "    \n",
    "    def __init__(self, day=0, month=0, year=0, *args, **kwargs):\n",
    "        super(Calendar, self).__init__(*args, **kwargs)\n",
    "        self.day = day\n",
    "        self.month = month\n",
    "        self.year = year\n",
    "        \n",
    "    def fix_hour(self, day, month, year=0):\n",
    "        self.day = day\n",
    "        self.month = month\n",
    "        self.year = year\n",
    "        \n",
    "    def pass_day(self):\n",
    "        # Modifica o dia a medida que essa função é usada\n",
    "        max_day = Calendar.days_of_month[self.month - 1]\n",
    "        if self.day == max_day:\n",
    "            self.day = 1\n",
    "            if self.month == 12:\n",
    "                self.month = 1\n",
    "                self.year += 1\n",
    "            else:\n",
    "                self.month += 1\n",
    "        else:\n",
    "            self.day += 1\n",
    "            \n",
    "    def __str__(self):\n",
    "        # 02d - I want that the hour has two digits if not complement with zeros\n",
    "        return \"{0:02d}/{1:02d}/{2:4d}\".format(self.day, self.month, self.year)"
   ]
  },
  {
   "cell_type": "markdown",
   "metadata": {},
   "source": [
    "***"
   ]
  },
  {
   "cell_type": "code",
   "execution_count": 10,
   "metadata": {},
   "outputs": [
    {
     "name": "stdout",
     "output_type": "stream",
     "text": [
      "31/01/2016\n",
      "01/02/2016\n",
      "02/02/2016\n"
     ]
    }
   ],
   "source": [
    "# Cria o calendario\n",
    "calendar = Calendar(31, 1, 2016)\n",
    "print(calendar)\n",
    "\n",
    "# Passar os dias\n",
    "calendar.pass_day()\n",
    "print(calendar)\n",
    "calendar.pass_day()\n",
    "print(calendar)"
   ]
  },
  {
   "cell_type": "markdown",
   "metadata": {},
   "source": [
    "***"
   ]
  },
  {
   "cell_type": "code",
   "execution_count": 11,
   "metadata": {
    "collapsed": true
   },
   "outputs": [],
   "source": [
    "# Cria o alarme\n",
    "class Alarm(Clock, Calendar):\n",
    "    \n",
    "    def __init__(self, hour, minute, second, day, month, year):\n",
    "        super(Alarm, self).__init__(hour=hour, minute=minute, second=second, day=day, month=month, year=year)\n",
    "        Clock.__init__(self, hour, minute, second)\n",
    "        Calendar.__init__(self, day, month, year)\n",
    "        \n",
    "    def __str__(self):\n",
    "        return Calendar.__str__(self) + ' às ' + Clock.__str__(self)\n",
    "    \n",
    "    def tick(self):\n",
    "        previous_hour = self.hour\n",
    "        Clock.tick(self)\n",
    "        if self.hour < previous_hour:\n",
    "            self.pass_day()"
   ]
  },
  {
   "cell_type": "markdown",
   "metadata": {},
   "source": [
    "***"
   ]
  },
  {
   "cell_type": "code",
   "execution_count": 12,
   "metadata": {},
   "outputs": [
    {
     "name": "stdout",
     "output_type": "stream",
     "text": [
      "31/12/2015 às 23:59:59\n",
      "01/01/2016 às 00:00:00\n",
      "[<class '__main__.Alarm'>, <class '__main__.Clock'>, <class '__main__.Calendar'>, <class 'object'>]\n"
     ]
    }
   ],
   "source": [
    "# Cria o alarme\n",
    "alarm = Alarm(23, 59, 59, 31, 12, 2015)\n",
    "print(alarm)\n",
    "\n",
    "# Incrementa o tempo\n",
    "alarm.tick()\n",
    "print(alarm)\n",
    "\n",
    "# Ver a ordem de execução\n",
    "print(Alarm.mro())"
   ]
  }
 ],
 "metadata": {
  "kernelspec": {
   "display_name": "Python 3",
   "language": "python",
   "name": "python3"
  },
  "language_info": {
   "codemirror_mode": {
    "name": "ipython",
    "version": 3
   },
   "file_extension": ".py",
   "mimetype": "text/x-python",
   "name": "python",
   "nbconvert_exporter": "python",
   "pygments_lexer": "ipython3",
   "version": "3.5.2"
  }
 },
 "nbformat": 4,
 "nbformat_minor": 2
}
