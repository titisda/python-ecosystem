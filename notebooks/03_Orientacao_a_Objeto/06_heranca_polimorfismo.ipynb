{
 "cells": [
  {
   "cell_type": "markdown",
   "metadata": {},
   "source": [
    "# Herança e Polimorfismo\n",
    "***"
   ]
  },
  {
   "cell_type": "markdown",
   "metadata": {},
   "source": [
    "**Herança ou Generalização**: É o mecanismo pelo qual uma classe ou (sub-classe) pode estender outra classe (super-classe), aproveitando seus comportamentos (métodos) e variáveis possíveis (atributos), por exemplo, a classe Mamifero é uma classe que pode servir de base para varias outras classe, por exemplo, Cachorro, Gato, e etc... aproveitando seus métodos e atributos, por exemplo todo mamifero come, dorme e etc..., um Cachorro é um Mamifero e um Gato também é um Mamifero.\n",
    "\n",
    "**Polimorfismo**: Significa que a mesma operação pode se comportar de forma diferente em classes diferentes, por exemplo, todos os cachorros latem, porém tem uns que latem mais baixo outros latem mais alto, mas todos latem, logo o cachorro rex que é um Pitbul late mais alto que um cachorro lulu que é um Poodle. Ela utiliza de herança para realizar o polimorfismo, no caso Pitbul e Poodle são cachorros e usam do polimorfismo para diferenciar as latidas. Tem-se dois tipos de polimorfismo: **Sobrecarga** e **Sobrescrita**.\n",
    "\n",
    "**Sobrescrita de métodos**: Subclasses podem sobrepor (override) esse método com uma implementação mais específica. É um recurso em orientação a objetos que permite que a subclasse reescreva uma implementação específica de um método que já está previsto em uma superclasse.\n",
    "\n",
    "**Sobrecarga de métodos**: Subclasses podem inserir novos parâmetros a esse método, permitindo mais de um método com o mesmo nome dentro da mesma classe se diferenciando nos argumentos/parâmetros.\n",
    "\n",
    "**super().metodo_da_superclasse()**: Isso irá chamar o método da classe que está herdando, pode ser usando no construtor quanto em qualquer outro método da classe\n",
    "\n",
    "**issubclass(classe1, classe2)**: Retorna um booleano se a classe1 for filha da classe2\n",
    "\n",
    "Uma superclasse consegue acessar atributos e métodos de classe de suas classes filhas\n",
    "\n",
    "**MRO**: A subclasse que faz herança precisa saber a ordem de execução de suas superclasses. Para ver a ordem de execução das classes é só usar o MRO (Method Resolution Order) ela é utilizada para saber qual método de qual classe pai ou superclasse será utilizado, qualquer método ou atributo primeiro é procurado na classe atual que a invocou depois ela vai procurando em suas superclasses até encontrar o método\n",
    "\n",
    "```py\n",
    "print(ClasseFilha.mro())\n",
    "print(ClasseFilha.__mro__)\n",
    "```"
   ]
  },
  {
   "cell_type": "markdown",
   "metadata": {},
   "source": [
    "***\n",
    "#### Exemplos\n",
    "***"
   ]
  },
  {
   "cell_type": "code",
   "execution_count": 1,
   "metadata": {
    "collapsed": true
   },
   "outputs": [],
   "source": [
    "# Cria a classe Mamifero\n",
    "class Mammal(object):\n",
    "    \n",
    "    def __init__(self, name, genre, locomotion):\n",
    "        self.genre = genre\n",
    "        self.locomotion = locomotion\n",
    "        self.name = name\n",
    "        \n",
    "    def walk(self):\n",
    "        print(\"Mamifero andando sobre\", self.locomotion, \"patas\")\n",
    "        \n",
    "    def breastfeed(self):\n",
    "        if self.genre.lower().startswith('m'):\n",
    "            print(\"Machos não amamentam\")\n",
    "        else:\n",
    "            print(\"Amamentando meu filhote\")"
   ]
  },
  {
   "cell_type": "markdown",
   "metadata": {},
   "source": [
    "***"
   ]
  },
  {
   "cell_type": "code",
   "execution_count": 2,
   "metadata": {
    "collapsed": true
   },
   "outputs": [],
   "source": [
    "# Criar uma classe Pessoa que é um Mamifero\n",
    "class Person(Mammal):\n",
    "    \n",
    "    # Definir o próprio método contrutor aproveitando o método construtor do mamifero\n",
    "    def __init__(self, name, genre, locomotion, hair_color):\n",
    "        super().__init__(name, genre, locomotion)\n",
    "        self.hair_color = hair_color\n",
    "    \n",
    "    # Sobrescrita do método walk\n",
    "    def walk(self):\n",
    "        print(\"Pessoa andando sobre\", self.locomotion, \"pernas\")\n",
    "        \n",
    "    # Sobrescrita do método breastfeed\n",
    "    def breastfeed(self):\n",
    "        if self.genre.lower().startswith('m'):\n",
    "            print(\"Homens não amamentam\")\n",
    "        else:\n",
    "            print(\"Amamentando meu filho\")\n",
    "            \n",
    "    # Método que só a classe Person tem\n",
    "    def speak(self):\n",
    "        print(\"Falando...\")"
   ]
  },
  {
   "cell_type": "markdown",
   "metadata": {},
   "source": [
    "***"
   ]
  },
  {
   "cell_type": "code",
   "execution_count": 3,
   "metadata": {
    "collapsed": true
   },
   "outputs": [],
   "source": [
    "# Criar um classe Cachorro que é um Mamifero\n",
    "class Dog(Mammal):\n",
    "    \n",
    "    # Sobrecarga e sobrescrita do método walk\n",
    "    def walk(self, locomotion=2):\n",
    "        print(\"Cachorro andando sobre\", locomotion, \"patas apesar de ter\", self.locomotion)\n",
    "    \n",
    "    # Método que só a classe Dog tem\n",
    "    def bark(self):\n",
    "        print(\"Latindo\")"
   ]
  },
  {
   "cell_type": "markdown",
   "metadata": {},
   "source": [
    "***"
   ]
  },
  {
   "cell_type": "code",
   "execution_count": 4,
   "metadata": {},
   "outputs": [
    {
     "name": "stdout",
     "output_type": "stream",
     "text": [
      "Mamifero andando sobre 4 patas\n",
      "Machos não amamentam\n"
     ]
    }
   ],
   "source": [
    "# Instanciando um mamifero qualquer\n",
    "cat = Mammal(\"name\", \"male\", 4)\n",
    "cat.walk()\n",
    "cat.breastfeed()"
   ]
  },
  {
   "cell_type": "markdown",
   "metadata": {},
   "source": [
    "***"
   ]
  },
  {
   "cell_type": "code",
   "execution_count": 5,
   "metadata": {},
   "outputs": [
    {
     "name": "stdout",
     "output_type": "stream",
     "text": [
      "Pessoa andando sobre 2 pernas\n",
      "Amamentando meu filho\n",
      "Falando...\n"
     ]
    }
   ],
   "source": [
    "# Instanciando um pessoa que é um mamifero\n",
    "person = Person(\"Larissa\", \"female\", 2, \"black\")\n",
    "person.walk()\n",
    "person.breastfeed()\n",
    "person.speak()"
   ]
  },
  {
   "cell_type": "markdown",
   "metadata": {},
   "source": [
    "***"
   ]
  },
  {
   "cell_type": "code",
   "execution_count": 6,
   "metadata": {},
   "outputs": [
    {
     "name": "stdout",
     "output_type": "stream",
     "text": [
      "Cachorro andando sobre 2 patas apesar de ter 4\n",
      "Cachorro andando sobre 3 patas apesar de ter 4\n",
      "Amamentando meu filhote\n",
      "Latindo\n"
     ]
    }
   ],
   "source": [
    "# Instanciando um cachorro que é um mamifero\n",
    "dog = Dog(\"Puff\", \"female\", 4)\n",
    "dog.walk()\n",
    "dog.walk(3)\n",
    "dog.breastfeed()\n",
    "dog.bark()"
   ]
  },
  {
   "cell_type": "markdown",
   "metadata": {},
   "source": [
    "***"
   ]
  },
  {
   "cell_type": "code",
   "execution_count": 7,
   "metadata": {},
   "outputs": [
    {
     "name": "stdout",
     "output_type": "stream",
     "text": [
      "True\n"
     ]
    }
   ],
   "source": [
    "# Mostra se uma classe é subclasse de outra\n",
    "print(issubclass(Dog, Mammal))"
   ]
  },
  {
   "cell_type": "markdown",
   "metadata": {},
   "source": [
    "***\n",
    "### Exemplo especifico de polimorfismo\n",
    "***"
   ]
  },
  {
   "cell_type": "code",
   "execution_count": 8,
   "metadata": {
    "collapsed": true
   },
   "outputs": [],
   "source": [
    "# Criar a classe audio\n",
    "class AudioFile(object):\n",
    "    \n",
    "    def __init__(self, filename):\n",
    "        \n",
    "        if not filename.endswith(self.extension):\n",
    "            raise Exception(\"Formato invalido\")\n",
    "            \n",
    "        self.filename = filename"
   ]
  },
  {
   "cell_type": "markdown",
   "metadata": {},
   "source": [
    "***"
   ]
  },
  {
   "cell_type": "code",
   "execution_count": 9,
   "metadata": {
    "collapsed": true
   },
   "outputs": [],
   "source": [
    "# Cria a classe MP3File\n",
    "class MP3File(AudioFile):\n",
    "\n",
    "    extension = 'mp3'\n",
    "    \n",
    "    def play(self):\n",
    "        print(\"Tocando arquivo MP3\")"
   ]
  },
  {
   "cell_type": "markdown",
   "metadata": {},
   "source": [
    "***"
   ]
  },
  {
   "cell_type": "code",
   "execution_count": 10,
   "metadata": {
    "collapsed": true
   },
   "outputs": [],
   "source": [
    "# Cria a classe WAVFile\n",
    "class WavFile(AudioFile):\n",
    "\n",
    "    extension = 'wav'\n",
    "    \n",
    "    def play(self):\n",
    "        print(\"Tocando arquivo WAV\")"
   ]
  },
  {
   "cell_type": "markdown",
   "metadata": {},
   "source": [
    "***"
   ]
  },
  {
   "cell_type": "code",
   "execution_count": 11,
   "metadata": {
    "collapsed": true
   },
   "outputs": [],
   "source": [
    "# Cria a classe OGGFile\n",
    "class OggFile(AudioFile):\n",
    "\n",
    "    extension = 'ogg'\n",
    "    \n",
    "    def play(self):\n",
    "        print(\"Tocando arquivo OGG\")"
   ]
  },
  {
   "cell_type": "markdown",
   "metadata": {},
   "source": [
    "***"
   ]
  },
  {
   "cell_type": "code",
   "execution_count": 12,
   "metadata": {},
   "outputs": [
    {
     "name": "stdout",
     "output_type": "stream",
     "text": [
      "Tocando arquivo MP3\n",
      "None\n",
      "Tocando arquivo WAV\n",
      "None\n",
      "Tocando arquivo OGG\n",
      "None\n"
     ]
    }
   ],
   "source": [
    "# Criando instancias e testando\n",
    "mp3_file = MP3File('musica.mp3')\n",
    "print(mp3_file.play())\n",
    "\n",
    "wav_file = WavFile('musica.wav')\n",
    "print(wav_file.play())\n",
    "\n",
    "ogg_file = OggFile('musica.ogg')\n",
    "print(ogg_file.play())"
   ]
  },
  {
   "cell_type": "markdown",
   "metadata": {},
   "source": [
    "***"
   ]
  },
  {
   "cell_type": "code",
   "execution_count": 13,
   "metadata": {},
   "outputs": [
    {
     "ename": "Exception",
     "evalue": "Formato invalido",
     "output_type": "error",
     "traceback": [
      "\u001b[0;31m---------------------------------------------------------------------------\u001b[0m",
      "\u001b[0;31mException\u001b[0m                                 Traceback (most recent call last)",
      "\u001b[0;32m<ipython-input-13-6346ca4b8277>\u001b[0m in \u001b[0;36m<module>\u001b[0;34m()\u001b[0m\n\u001b[1;32m      1\u001b[0m \u001b[0;31m# Vamos errar o formato para verificar o erro\u001b[0m\u001b[0;34m\u001b[0m\u001b[0;34m\u001b[0m\u001b[0m\n\u001b[0;32m----> 2\u001b[0;31m \u001b[0mmp3_file\u001b[0m \u001b[0;34m=\u001b[0m \u001b[0mMP3File\u001b[0m\u001b[0;34m(\u001b[0m\u001b[0;34m'musica.ogg'\u001b[0m\u001b[0;34m)\u001b[0m\u001b[0;34m\u001b[0m\u001b[0m\n\u001b[0m\u001b[1;32m      3\u001b[0m \u001b[0mprint\u001b[0m\u001b[0;34m(\u001b[0m\u001b[0mmp3_file\u001b[0m\u001b[0;34m.\u001b[0m\u001b[0mplay\u001b[0m\u001b[0;34m(\u001b[0m\u001b[0;34m)\u001b[0m\u001b[0;34m)\u001b[0m\u001b[0;34m\u001b[0m\u001b[0m\n",
      "\u001b[0;32m<ipython-input-8-f8f3185f4d5a>\u001b[0m in \u001b[0;36m__init__\u001b[0;34m(self, filename)\u001b[0m\n\u001b[1;32m      5\u001b[0m \u001b[0;34m\u001b[0m\u001b[0m\n\u001b[1;32m      6\u001b[0m         \u001b[0;32mif\u001b[0m \u001b[0;32mnot\u001b[0m \u001b[0mfilename\u001b[0m\u001b[0;34m.\u001b[0m\u001b[0mendswith\u001b[0m\u001b[0;34m(\u001b[0m\u001b[0mself\u001b[0m\u001b[0;34m.\u001b[0m\u001b[0mextension\u001b[0m\u001b[0;34m)\u001b[0m\u001b[0;34m:\u001b[0m\u001b[0;34m\u001b[0m\u001b[0m\n\u001b[0;32m----> 7\u001b[0;31m             \u001b[0;32mraise\u001b[0m \u001b[0mException\u001b[0m\u001b[0;34m(\u001b[0m\u001b[0;34m\"Formato invalido\"\u001b[0m\u001b[0;34m)\u001b[0m\u001b[0;34m\u001b[0m\u001b[0m\n\u001b[0m\u001b[1;32m      8\u001b[0m \u001b[0;34m\u001b[0m\u001b[0m\n\u001b[1;32m      9\u001b[0m         \u001b[0mself\u001b[0m\u001b[0;34m.\u001b[0m\u001b[0mfilename\u001b[0m \u001b[0;34m=\u001b[0m \u001b[0mfilename\u001b[0m\u001b[0;34m\u001b[0m\u001b[0m\n",
      "\u001b[0;31mException\u001b[0m: Formato invalido"
     ]
    }
   ],
   "source": [
    "# Vamos errar o formato para verificar o erro\n",
    "mp3_file = MP3File('musica.ogg')\n",
    "print(mp3_file.play())"
   ]
  },
  {
   "cell_type": "markdown",
   "metadata": {},
   "source": [
    "***\n",
    "### Herança de classes pré existentes\n",
    "***"
   ]
  },
  {
   "cell_type": "code",
   "execution_count": 14,
   "metadata": {
    "collapsed": true
   },
   "outputs": [],
   "source": [
    "# Cria a classe que somente insere números inteiros na lista\n",
    "class OnlyEvenNumbers(list):\n",
    "    \n",
    "    def append(self, integer):\n",
    "        # sobrescrever o método append de list\n",
    "        \n",
    "        if not isinstance(integer, int):\n",
    "            raise TypeError('Somente números inteiros')\n",
    "        if integer % 2:\n",
    "            raise ValueError('Somente números pares')\n",
    "            \n",
    "        super().append(integer)"
   ]
  },
  {
   "cell_type": "markdown",
   "metadata": {},
   "source": [
    "***"
   ]
  },
  {
   "cell_type": "code",
   "execution_count": 15,
   "metadata": {
    "collapsed": true
   },
   "outputs": [],
   "source": [
    "# Inserir um número par e inteiro\n",
    "my_list = OnlyEvenNumbers()\n",
    "my_list.append(10)\n",
    "my_list.append(2)"
   ]
  },
  {
   "cell_type": "markdown",
   "metadata": {},
   "source": [
    "***"
   ]
  },
  {
   "cell_type": "code",
   "execution_count": 16,
   "metadata": {},
   "outputs": [
    {
     "name": "stdout",
     "output_type": "stream",
     "text": [
      "[10, 2]\n"
     ]
    }
   ],
   "source": [
    "# Vamos verificar a lista criada\n",
    "print(my_list)"
   ]
  },
  {
   "cell_type": "markdown",
   "metadata": {},
   "source": [
    "***"
   ]
  },
  {
   "cell_type": "code",
   "execution_count": 17,
   "metadata": {},
   "outputs": [
    {
     "ename": "TypeError",
     "evalue": "Somente números inteiros",
     "output_type": "error",
     "traceback": [
      "\u001b[0;31m---------------------------------------------------------------------------\u001b[0m",
      "\u001b[0;31mTypeError\u001b[0m                                 Traceback (most recent call last)",
      "\u001b[0;32m<ipython-input-17-9b62756bae6c>\u001b[0m in \u001b[0;36m<module>\u001b[0;34m()\u001b[0m\n\u001b[0;32m----> 1\u001b[0;31m \u001b[0mmy_list\u001b[0m\u001b[0;34m.\u001b[0m\u001b[0mappend\u001b[0m\u001b[0;34m(\u001b[0m\u001b[0;34m\"string\"\u001b[0m\u001b[0;34m)\u001b[0m\u001b[0;34m\u001b[0m\u001b[0m\n\u001b[0m",
      "\u001b[0;32m<ipython-input-14-95ac5cabc314>\u001b[0m in \u001b[0;36mappend\u001b[0;34m(self, integer)\u001b[0m\n\u001b[1;32m      6\u001b[0m \u001b[0;34m\u001b[0m\u001b[0m\n\u001b[1;32m      7\u001b[0m         \u001b[0;32mif\u001b[0m \u001b[0;32mnot\u001b[0m \u001b[0misinstance\u001b[0m\u001b[0;34m(\u001b[0m\u001b[0minteger\u001b[0m\u001b[0;34m,\u001b[0m \u001b[0mint\u001b[0m\u001b[0;34m)\u001b[0m\u001b[0;34m:\u001b[0m\u001b[0;34m\u001b[0m\u001b[0m\n\u001b[0;32m----> 8\u001b[0;31m             \u001b[0;32mraise\u001b[0m \u001b[0mTypeError\u001b[0m\u001b[0;34m(\u001b[0m\u001b[0;34m'Somente números inteiros'\u001b[0m\u001b[0;34m)\u001b[0m\u001b[0;34m\u001b[0m\u001b[0m\n\u001b[0m\u001b[1;32m      9\u001b[0m         \u001b[0;32mif\u001b[0m \u001b[0minteger\u001b[0m \u001b[0;34m%\u001b[0m \u001b[0;36m2\u001b[0m\u001b[0;34m:\u001b[0m\u001b[0;34m\u001b[0m\u001b[0m\n\u001b[1;32m     10\u001b[0m             \u001b[0;32mraise\u001b[0m \u001b[0mValueError\u001b[0m\u001b[0;34m(\u001b[0m\u001b[0;34m'Somente números pares'\u001b[0m\u001b[0;34m)\u001b[0m\u001b[0;34m\u001b[0m\u001b[0m\n",
      "\u001b[0;31mTypeError\u001b[0m: Somente números inteiros"
     ]
    }
   ],
   "source": [
    "# Vamos tentar adicionar uma string e verificar o erro\n",
    "my_list.append(\"string\")"
   ]
  },
  {
   "cell_type": "markdown",
   "metadata": {},
   "source": [
    "***"
   ]
  },
  {
   "cell_type": "code",
   "execution_count": 18,
   "metadata": {},
   "outputs": [
    {
     "ename": "ValueError",
     "evalue": "Somente números pares",
     "output_type": "error",
     "traceback": [
      "\u001b[0;31m---------------------------------------------------------------------------\u001b[0m",
      "\u001b[0;31mValueError\u001b[0m                                Traceback (most recent call last)",
      "\u001b[0;32m<ipython-input-18-6695349fdaad>\u001b[0m in \u001b[0;36m<module>\u001b[0;34m()\u001b[0m\n\u001b[0;32m----> 1\u001b[0;31m \u001b[0mmy_list\u001b[0m\u001b[0;34m.\u001b[0m\u001b[0mappend\u001b[0m\u001b[0;34m(\u001b[0m\u001b[0;36m3\u001b[0m\u001b[0;34m)\u001b[0m\u001b[0;34m\u001b[0m\u001b[0m\n\u001b[0m",
      "\u001b[0;32m<ipython-input-14-95ac5cabc314>\u001b[0m in \u001b[0;36mappend\u001b[0;34m(self, integer)\u001b[0m\n\u001b[1;32m      8\u001b[0m             \u001b[0;32mraise\u001b[0m \u001b[0mTypeError\u001b[0m\u001b[0;34m(\u001b[0m\u001b[0;34m'Somente números inteiros'\u001b[0m\u001b[0;34m)\u001b[0m\u001b[0;34m\u001b[0m\u001b[0m\n\u001b[1;32m      9\u001b[0m         \u001b[0;32mif\u001b[0m \u001b[0minteger\u001b[0m \u001b[0;34m%\u001b[0m \u001b[0;36m2\u001b[0m\u001b[0;34m:\u001b[0m\u001b[0;34m\u001b[0m\u001b[0m\n\u001b[0;32m---> 10\u001b[0;31m             \u001b[0;32mraise\u001b[0m \u001b[0mValueError\u001b[0m\u001b[0;34m(\u001b[0m\u001b[0;34m'Somente números pares'\u001b[0m\u001b[0;34m)\u001b[0m\u001b[0;34m\u001b[0m\u001b[0m\n\u001b[0m\u001b[1;32m     11\u001b[0m \u001b[0;34m\u001b[0m\u001b[0m\n\u001b[1;32m     12\u001b[0m         \u001b[0msuper\u001b[0m\u001b[0;34m(\u001b[0m\u001b[0;34m)\u001b[0m\u001b[0;34m.\u001b[0m\u001b[0mappend\u001b[0m\u001b[0;34m(\u001b[0m\u001b[0minteger\u001b[0m\u001b[0;34m)\u001b[0m\u001b[0;34m\u001b[0m\u001b[0m\n",
      "\u001b[0;31mValueError\u001b[0m: Somente números pares"
     ]
    }
   ],
   "source": [
    "# Vamos tentar adicionar um inteiro impar e verificar o erro\n",
    "my_list.append(3)"
   ]
  }
 ],
 "metadata": {
  "kernelspec": {
   "display_name": "Python 3",
   "language": "python",
   "name": "python3"
  },
  "language_info": {
   "codemirror_mode": {
    "name": "ipython",
    "version": 3
   },
   "file_extension": ".py",
   "mimetype": "text/x-python",
   "name": "python",
   "nbconvert_exporter": "python",
   "pygments_lexer": "ipython3",
   "version": "3.5.2"
  }
 },
 "nbformat": 4,
 "nbformat_minor": 2
}
