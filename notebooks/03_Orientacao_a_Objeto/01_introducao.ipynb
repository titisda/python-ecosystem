{
 "cells": [
  {
   "cell_type": "markdown",
   "metadata": {},
   "source": [
    "# Introdução ao OO\n",
    "***\n",
    "\n",
    "Paradigma Orientado a Objeto: Programa é composto por objeto que possui propriedades ou atributos e comportamentos que são ações ou métodos do objeto, Orientação a objetos tem como objetivo a aproximação do programa ao mundo real."
   ]
  },
  {
   "cell_type": "markdown",
   "metadata": {},
   "source": [
    "***\n",
    "#### Programação Estruturada\n",
    "***"
   ]
  },
  {
   "cell_type": "markdown",
   "metadata": {},
   "source": [
    "* Estruturas básicas de controle: sequência(código lido sequêncialmente), condição(if, elif else) e repetição(for, while)\n",
    "\n",
    "\n",
    "* Subprogramação (ou Modularização) - Código muito extenso para um arquivo e cria outro arquivo importando ele no arquivo principal\n",
    "\n",
    "\n",
    "* Tipos abstratos de dados (modelos matemáticos + operações)\n",
    "\n",
    "\n",
    "* Exemplo: C, Fortran, Pascal"
   ]
  },
  {
   "cell_type": "markdown",
   "metadata": {},
   "source": [
    "***\n",
    "#### Programação Orientada a Objetos\n",
    "***"
   ]
  },
  {
   "cell_type": "markdown",
   "metadata": {},
   "source": [
    "Modelo o mundo real a partir de objeto - aproximação do mundo real\n",
    "\n",
    "\n",
    "* Data (atributos) + Código (métodos) = Objeto\n",
    "\n",
    "\n",
    "* Exemplo: C++, Java, Python\n",
    "\n",
    "\n",
    "* **UML**: Unified Modeling Language. Um modelo é uma simplificação ou representação da realidade, com isso podemos compreender melhor o sistema que estamos desenvolvendo. Por exemplo, Diagrama de classe.\n",
    "\n",
    "Abaixo há alguns príncipios fundamentais da orientação a Objeto:\n",
    "\n",
    "* **Don't Repeat Yourself**: É um principio que diz que cada parte do conhecimento deve ter uma representação única, não ambigua e definitiva dentro do sistema, ou seja, não duplique código, reutilize-os.\n",
    "\n",
    "\n",
    "* **S - Single-responsiblity principle (SRP)**: Cada classe/metodo devem ter responsabilidades únicas\n",
    "\n",
    "* **O - Open-closed principle**: Uma classe deve ser aberta a extensão (herança) e fechadas a modificações\n",
    "\n",
    "* **L - Liskov substitution principle**: O cliente deve usar o serviço da classe abstrata (geral) sem saber que ta usando um serviço especifico concreto\n",
    "\n",
    "* **I - Interface segregation principle**: Uma interface não deve obrigar quem a implementar a usar métodos que não agrega valor a ela\n",
    "\n",
    "* **D - Dependency Inversion Principle**: Uma classe deve depender de classes abstratas/interface e não de suas classes concretas de implementação"
   ]
  },
  {
   "cell_type": "markdown",
   "metadata": {},
   "source": [
    "***\n",
    "#### Conceitos importantes\n",
    "***"
   ]
  },
  {
   "cell_type": "markdown",
   "metadata": {},
   "source": [
    "* **Classe**: Uma classe é o agrupamento de objetos com a mesma estrutura de dados (definida pelos atributos ou propriedades) e comportamento (operações), ou seja, classe são as descrições dos objetos!. Por exemplo a classe Cachorro.\n",
    "\n",
    "\n",
    "* **Objeto/Instância**: De maneira geral, Objeto é uma classe sendo estanciada!! De maneira mais Conceitual, um objeto é algo distinguível que contém atributos (ou propriedades) e possui um comportamento. Cada objeto tem uma identidade e é distinguível de outro mesmo que seus atributos sejam idênticos. Por exemplo o objeto rex que é descrito pela classe Cachorro.\n",
    "\n",
    "\n",
    "* **Atributos e propriedades**: Atributos são caracteristicas dos objetos, por exemplo, nome, idade e etc... algo que é variado, propriedade é um atributo somente de leitura, algo que não varia, por exemplo, cor dos olhos e etc...\n",
    "\n",
    "\n",
    "* **Estados e eventos**: Estados são os valores dos atributos observados naquele momento, é como se fosse uma fotografia de um atributo, por exemplo, esse ano tenho 22 anos, mas ano que vem já vou ter 23, logo mudei o estado do atributo idade de 22 para 23. Um objeto muda de estado quando acontece algum evento.\n",
    "\n",
    "\n",
    "* **Métodos**: São ações dos objetos, por exemplo, falar, andar, correr, latir e etc...\n",
    "\n",
    "\n",
    "* **Mensagem**: É uma chamada a um objeto para invocar um de seus métodos ou ações\n",
    "\n",
    "\n",
    "* **Associação**: É o mecanismo pelo qual um objeto utiliza os recursos de outro, basicamente ele está vinculado a outra classe. Pode tratar-se de uma associação simples (**1x1**), associações mais complexas (**1xN ou NxM**), ou de um acoplamento (**é parte de**) que temos **composição** e **agregação**. Por exemplo: Um humano usa um ou vários telefone. A tecla \"1\" é parte de um telefone.\n",
    "\n",
    "\n",
    "* **Agregação**: É um tipo de associação que indica **todo-parte** se o objeto todo morrer o objeto parte continuará existindo, a parte existe independente do todo. Ex: Item de um menu faz parte de um pedido, mas se o pedido deixar de existir o item do menu continuará existindo\n",
    " \n",
    " \n",
    "* **Composição**: É um tipo de associação que indica também **todo-parte** na qual o objeto parte só pode pertencer a um único objeto todo, e se esse objeto todo morrer o objeto parte também morre. Por exemplo, o carro é composto de motor, ... sem essas partes do carro o carro não funciona e sem o carro essas partes não servem para nada.\n",
    "\n",
    "\n",
    "* **Herança ou Generalização**: É o mecanismo pelo qual uma classe ou (subclasse) pode estender outra classe (superclasse), aproveitando seus comportamentos (métodos) e variáveis possíveis (atributos), por exemplo, a classe Mamifero é uma classe que pode servir de base para varias outras classe, por exemplo, Cachorro, Gato, e etc... aproveitando seus métodos e atributos, por exemplo todo mamifero come, dorme e etc..., um Cachorro é um Mamifero e um Gato também é um Mamifero.\n",
    "\n",
    "\n",
    "* **Herança multipla**: Permite que a subclasse herda caracterísitcas/atributos e métodos de mais de uma classe, permite várias superclasses. Por exemplo, uma criaçca tem os olhos do pai e o nariz da mãe, logo a classe Criança tem os olhos da classe Pai e o nariz da classe Mãe, isso é herança multipla. \n",
    "\n",
    "\n",
    "* **Interface**: Uma interface é como se fosse um template para que as classes que forem implementar essa interface preencha esse template, temos apenas a assinatura dos métodos na interface, eles não tem implementação. Normalmente usado para obrigar uma classe a implementar determinados métodos, por exemplo, todo cachorro late, porém tem cachorros que latem alto, outros baixos, outros fino e etc, cada um com suas particularidades, porém toda classe Cachorro deve ser obrigado a implementar o método latir que vai estar definido na interface. Em python a interface ela é usada junto com a classe abstrata, podendo definir métodos abstratos que vai ser implementados obrigatoriamente pelas classes filhas e métodos não abstratos já implementados na classe mãe que vão ser herdados nas classes filhas.\n",
    "\n",
    "\n",
    "* **Classe Abstrata**: É uma classe que vai servir de base para outras classes, encapsulando métodos e escondendo sua implementação e detalhamento do funcionamento, que será usado por objetos dessas classes que herda dessa classe abstrata, a principal diferença entre uma classe abstrata e uma classe normal é que a classe abstrata ela não pode gerar objetos, porém ela pode armazenar qualquer objeto que herde dela, enquanto que a classe normal pode gerar objetos. Em python a classe abstrata utiliza-se de interface também.\n",
    "\n",
    "\n",
    "* **Polimorfismo**: Significa que a mesma operação pode se comportar de forma diferente em classes diferentes, por exemplo, todos os cachorros latem, porém tem uns que latem mais baixo outros latem mais alto, mas todos latem, logo o cachorro rex que é um Pitbul late mais alto que um cachorro lulu que é um Poodle. Ela utiliza de herança para realizar o polimorfismo, no caso Pitbul e Poodle são cachorros e usam do polimorfismo para diferenciar as latidas. Tem-se dois tipos de polimorfismo: **Sobrecarga** e **Sobrescrita**.\n",
    "\n",
    "\n",
    "* **Sobrescrita de métodos**: Subclasses podem sobrepor (override) esse método com uma implementação mais específica. É um recurso em orientação a objetos que permite que a subclasse reescreva uma implementação específica de um método que já está previsto em uma superclasse.\n",
    "\n",
    "\n",
    "* **Sobrecarga de métodos**: Subclasses podem inserir novos parâmetros a esse método, permitindo mais de um método com o mesmo nome dentro da mesma classe se diferenciando nos argumentos/parâmetros.\n",
    "\n",
    "\n",
    "* **Encapsulamento**: É você não deixar outras classe verem implementações de métodos ou atributos importantes da sua classe, por exemplo um carro deixa visivel sua lataria, espelhos, rodas e etc mas esconde seu motor, parte eletrica, funcionamento da parte de combustivel, por que quem vai usar o carro (pessoas leigas) não precisa saber como funciona essas partes. Encapsulamento é basicamente esconder ou mostrar os atributos e métodos de um objeto"
   ]
  },
  {
   "cell_type": "markdown",
   "metadata": {},
   "source": [
    "***\n",
    "#### Exemplos básico\n",
    "***"
   ]
  },
  {
   "cell_type": "code",
   "execution_count": 1,
   "metadata": {
    "collapsed": true
   },
   "outputs": [],
   "source": [
    "# Cria a classe cachorro\n",
    "class Cachorro(object):\n",
    "    # Atributos\n",
    "    nome = 'puff'\n",
    "    peso = 5\n",
    "    cor_do_pelo = 'cinza'\n",
    "    \n",
    "    # Métodos\n",
    "    def latir(self):\n",
    "        print(\"Au Au\")\n",
    "        \n",
    "    def correr(self):\n",
    "        print(\"Cachorro correndo!\")\n",
    "        \n",
    "    def morder(self):\n",
    "        print(\"Cachorro mordendo\")"
   ]
  },
  {
   "cell_type": "markdown",
   "metadata": {},
   "source": [
    "***"
   ]
  },
  {
   "cell_type": "code",
   "execution_count": 2,
   "metadata": {
    "collapsed": true
   },
   "outputs": [],
   "source": [
    "# Cria o objeto rex que é um cachorro\n",
    "rex = Cachorro()"
   ]
  },
  {
   "cell_type": "markdown",
   "metadata": {},
   "source": [
    "***"
   ]
  },
  {
   "cell_type": "code",
   "execution_count": 3,
   "metadata": {},
   "outputs": [
    {
     "name": "stdout",
     "output_type": "stream",
     "text": [
      "puff\n",
      "5\n",
      "cinza\n"
     ]
    }
   ],
   "source": [
    "# Imprime os atributos do objeto rex - Quem é o rex?\n",
    "print(rex.nome)\n",
    "print(rex.peso)\n",
    "print(rex.cor_do_pelo)"
   ]
  },
  {
   "cell_type": "markdown",
   "metadata": {},
   "source": [
    "***"
   ]
  },
  {
   "cell_type": "code",
   "execution_count": 4,
   "metadata": {},
   "outputs": [
    {
     "name": "stdout",
     "output_type": "stream",
     "text": [
      "Au Au\n",
      "Cachorro correndo!\n",
      "Cachorro mordendo\n"
     ]
    }
   ],
   "source": [
    "# Imprime os métodos do objeto rex - O que o rex faz?\n",
    "rex.latir()\n",
    "rex.correr()\n",
    "rex.morder()"
   ]
  }
 ],
 "metadata": {
  "kernelspec": {
   "display_name": "Python 3",
   "language": "python",
   "name": "python3"
  },
  "language_info": {
   "codemirror_mode": {
    "name": "ipython",
    "version": 3
   },
   "file_extension": ".py",
   "mimetype": "text/x-python",
   "name": "python",
   "nbconvert_exporter": "python",
   "pygments_lexer": "ipython3",
   "version": "3.5.2"
  }
 },
 "nbformat": 4,
 "nbformat_minor": 2
}
