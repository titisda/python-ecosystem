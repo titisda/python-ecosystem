{
 "cells": [
  {
   "cell_type": "markdown",
   "metadata": {},
   "source": [
    "# Sobrecarga de operadores\n",
    "***"
   ]
  },
  {
   "cell_type": "markdown",
   "metadata": {},
   "source": [
    "Temos os operadores + - * / // % e etc...\n",
    "\n",
    "Podemos sobrecarregar esses operadores com funções especificas, por exemplo, em python a operação **10 + 10** é a mesma coisa que **10.\\_\\_add\\_\\_(10)**, logo o python sobrecarregou o operador + com o método **\\_\\_add\\_\\_**"
   ]
  },
  {
   "cell_type": "markdown",
   "metadata": {},
   "source": [
    "***\n",
    "### Exemplos\n",
    "***"
   ]
  },
  {
   "cell_type": "code",
   "execution_count": 1,
   "metadata": {
    "collapsed": true
   },
   "outputs": [],
   "source": [
    "# Vamos criar uma classe operador\n",
    "class Operator(object):\n",
    "    \n",
    "    def __init__(self, number):\n",
    "        self.number = number\n",
    "        \n",
    "    def __add__(self, obj):\n",
    "        # +\n",
    "        return self.number + obj.number\n",
    "    \n",
    "    def __mul__(self, obj):\n",
    "        # *\n",
    "        return self.number * obj.number\n",
    "    \n",
    "    def __sub__(self, obj):\n",
    "        # -\n",
    "        return self.number - obj.number\n",
    "    \n",
    "    def __truediv__(self, obj):\n",
    "        # /\n",
    "        if obj.number != 0:\n",
    "            return self.number / obj.number\n",
    "        else:\n",
    "            print(\"Não pode haver divisão por zero!\")\n",
    "            \n",
    "    def __floordiv__(self, obj):\n",
    "        # //\n",
    "        if obj.number != 0:\n",
    "            return self.number // obj.number\n",
    "        else:\n",
    "            print(\"Não pode haver divisão por zero!\")\n",
    "            \n",
    "    def __mod__(self, obj):\n",
    "        # %\n",
    "        if obj.number != 0:\n",
    "            return self.number % obj.number\n",
    "        else:\n",
    "            print(\"Não pode haver divisão por zero!\")"
   ]
  },
  {
   "cell_type": "markdown",
   "metadata": {},
   "source": [
    "***"
   ]
  },
  {
   "cell_type": "code",
   "execution_count": 2,
   "metadata": {},
   "outputs": [
    {
     "name": "stdout",
     "output_type": "stream",
     "text": [
      "25\n",
      "-5\n",
      "150\n",
      "0.6666666666666666\n",
      "0\n",
      "10\n"
     ]
    }
   ],
   "source": [
    "# Vamos instancias objetos operadores e fazer as operações\n",
    "x1 = Operator(10)\n",
    "x2 = Operator(15)\n",
    "print(x1 + x2)\n",
    "print(x1 - x2)\n",
    "print(x1 * x2)\n",
    "print(x1 / x2)\n",
    "print(x1 // x2)\n",
    "print(x1 % x2)"
   ]
  }
 ],
 "metadata": {
  "kernelspec": {
   "display_name": "Python 3",
   "language": "python",
   "name": "python3"
  },
  "language_info": {
   "codemirror_mode": {
    "name": "ipython",
    "version": 3
   },
   "file_extension": ".py",
   "mimetype": "text/x-python",
   "name": "python",
   "nbconvert_exporter": "python",
   "pygments_lexer": "ipython3",
   "version": "3.5.2"
  }
 },
 "nbformat": 4,
 "nbformat_minor": 2
}
