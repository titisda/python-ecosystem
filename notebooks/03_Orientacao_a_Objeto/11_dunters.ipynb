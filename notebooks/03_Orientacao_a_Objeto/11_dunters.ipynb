{
 "cells": [
  {
   "cell_type": "markdown",
   "metadata": {},
   "source": [
    "# Dunters\n",
    "***"
   ]
  },
  {
   "cell_type": "markdown",
   "metadata": {},
   "source": [
    "**Dunters** São métodos especiais da classe, que apresentam dois underlines de cada lado do método **\\_\\_metodo\\_\\_**\n",
    "\n",
    "Para visualizar os métodos dunders e outros só usar o método **dir(classe)**, por exemplo, **dir(list)** ou **dir(dict)**"
   ]
  },
  {
   "cell_type": "markdown",
   "metadata": {},
   "source": [
    "***\n",
    "#### Tipos de dunters\n",
    "***"
   ]
  },
  {
   "cell_type": "markdown",
   "metadata": {},
   "source": [
    "**\\_\\_init\\_\\_(self, ...)**: Construtor de uma classe\n",
    "\n",
    "**\\_\\_new\\_\\_()**: Cria uma instancia explicitamente não inicializada\n",
    "\n",
    "**\\_\\_len\\_\\_**: Mostra a quantidade de elementos em um objeto através do método len().\n",
    "\n",
    "**\\_\\_str\\_\\_(self)**: Imprime o objeto como uma string\n",
    "\n",
    "**\\_\\_call\\_\\_**: Se usarmos o método callable() podemos ver o objeto é chamavel com () se ele é um método/classe, atributos, tipos e instancias não são callable, mas se usar o \\_\\_call\\_\\_ pode fazer ela ser chamavel\n",
    "\n",
    "**\\_\\_doc\\_\\_**: Mostra a documentação inserida na docstring em cada método ou objeto passado através do método help().\n",
    "\n",
    "**\\_\\_bases\\_\\_**: Mostra quem é a classe pai da classe inserida\n",
    "\n",
    "**\\_\\_mro\\_\\_**: Verifica a hierarquia de superclasses da classe inserida através do método .mro()\n",
    "\n",
    "**\\_\\_slots\\_\\_**: Para economizar memória em projeto com uma grande quantidade de instâncias, é possíve reduzir bastante a quantidade de memória usado pelas instancias adicionando o atributo \\_\\_slots\\_\\_ na definição da classe. Quando o slots é definido o python utiliza uma representação interna muito mais compacta para instancias, ao inves de cada instancia ser constituida por um dicionario elas são criadas a partir de um array pequeno de tamanho fixo de modo muito semelhante a uma tupla ou lista, os atributos inseridos no slots são mapeados internamentes para indices especificos desse array, porém não será mais possível acrescentar novos atributos as instancias, ficando restritos aos atributos especificados em slots.\n",
    "\n",
    "**\\_\\_getattr\\_\\_(self, attr)**: Irá pegar um atributo que não foi criado na classe, porém foi chamado por suas instâncias e retornar algo a ele\n",
    "\n",
    "**\\_\\_setattr\\_\\_(self, attr, value)**: Irá pega um atributo que não foi criado na classe, e irá inserir um valor nele, e se quiser cria-lo através do **self.\\_\\_dict\\_\\_[attr] = value**"
   ]
  },
  {
   "cell_type": "markdown",
   "metadata": {},
   "source": [
    "***\n",
    "### Exemplos\n",
    "***"
   ]
  },
  {
   "cell_type": "code",
   "execution_count": 1,
   "metadata": {
    "collapsed": true
   },
   "outputs": [],
   "source": [
    "# Criar uma classe conta do banco\n",
    "class Conta(object):\n",
    "    \"\"\"\n",
    "    Objeto do tipo conta que representa uma conta em um banco qualquer\n",
    "    \"\"\"\n",
    "    \n",
    "    # Economizando memoria\n",
    "    __slots__ = ['titular', 'saldo'] \n",
    "    \n",
    "    # Construtor com atributos dos objetos/instancias\n",
    "    def __init__(self, titular, saldo):\n",
    "        self.titular = titular\n",
    "        self.saldo = saldo\n",
    "        \n",
    "    # Mostra o objeto como uma string\n",
    "    def __str__(self):\n",
    "        return \"Conta do {0} com saldo total de R$ {1}\".format(self.titular, self.saldo)\n",
    "    \n",
    "    # Torna a instancia um objeto chamavel como se fosse um método\n",
    "    def __call__(self, mensagem):\n",
    "        print(mensagem)\n",
    "        \n",
    "    # sobrescrever o len com o saldo\n",
    "    def __len__(self):\n",
    "        return self.saldo"
   ]
  },
  {
   "cell_type": "markdown",
   "metadata": {},
   "source": [
    "***"
   ]
  },
  {
   "cell_type": "code",
   "execution_count": 2,
   "metadata": {},
   "outputs": [
    {
     "name": "stdout",
     "output_type": "stream",
     "text": [
      "Conta do João com saldo total de R$ 4000\n"
     ]
    }
   ],
   "source": [
    "# Vamos imprimir a string que representa a classe Conta\n",
    "bradesco = Conta(\"João\", 4000)\n",
    "print(bradesco)"
   ]
  },
  {
   "cell_type": "markdown",
   "metadata": {},
   "source": [
    "***"
   ]
  },
  {
   "cell_type": "code",
   "execution_count": 3,
   "metadata": {},
   "outputs": [
    {
     "name": "stdout",
     "output_type": "stream",
     "text": [
      "True\n",
      "Bem vindo a conta do Bradesco!\n"
     ]
    }
   ],
   "source": [
    "# Vamos usar o itau chamavel\n",
    "print(callable(bradesco))\n",
    "bradesco(\"Bem vindo a conta do Bradesco!\")"
   ]
  },
  {
   "cell_type": "markdown",
   "metadata": {},
   "source": [
    "***"
   ]
  },
  {
   "cell_type": "code",
   "execution_count": 4,
   "metadata": {},
   "outputs": [
    {
     "name": "stdout",
     "output_type": "stream",
     "text": [
      "4000\n",
      "(<class 'object'>,)\n",
      "[<class '__main__.Conta'>, <class 'object'>]\n"
     ]
    }
   ],
   "source": [
    "# Mostrar quem é o pai da classe e o saldo pelo len e a hierarquia de superclasses da classe\n",
    "print(len(bradesco))\n",
    "print(Conta.__bases__)\n",
    "print(Conta.mro())"
   ]
  },
  {
   "cell_type": "markdown",
   "metadata": {},
   "source": [
    "***"
   ]
  },
  {
   "cell_type": "code",
   "execution_count": 5,
   "metadata": {},
   "outputs": [
    {
     "name": "stdout",
     "output_type": "stream",
     "text": [
      "Conta do Fulano de tal com saldo total de R$ 300\n"
     ]
    }
   ],
   "source": [
    "# Criar uma instancia sem usar o __init__ porém tem que atribuir valores os atributos na mão\n",
    "itau = Conta.__new__(Conta)\n",
    "itau.titular = \"Fulano de tal\"\n",
    "itau.saldo = 300\n",
    "print(itau)"
   ]
  },
  {
   "cell_type": "markdown",
   "metadata": {},
   "source": [
    "***"
   ]
  },
  {
   "cell_type": "code",
   "execution_count": 6,
   "metadata": {},
   "outputs": [
    {
     "name": "stdout",
     "output_type": "stream",
     "text": [
      "\n",
      "    Objeto do tipo conta que representa uma conta em um banco qualquer\n",
      "    \n",
      "Help on Conta in module __main__ object:\n",
      "\n",
      "class Conta(builtins.object)\n",
      " |  Objeto do tipo conta que representa uma conta em um banco qualquer\n",
      " |  \n",
      " |  Methods defined here:\n",
      " |  \n",
      " |  __call__(self, mensagem)\n",
      " |      Call self as a function.\n",
      " |  \n",
      " |  __init__(self, titular, saldo)\n",
      " |      Initialize self.  See help(type(self)) for accurate signature.\n",
      " |  \n",
      " |  __len__(self)\n",
      " |      # sobrescrever o len com o saldo\n",
      " |  \n",
      " |  __str__(self)\n",
      " |      Return str(self).\n",
      " |  \n",
      " |  ----------------------------------------------------------------------\n",
      " |  Data descriptors defined here:\n",
      " |  \n",
      " |  saldo\n",
      " |  \n",
      " |  titular\n",
      "\n"
     ]
    }
   ],
   "source": [
    "# Mostrar a documentação da conta\n",
    "print(bradesco.__doc__)\n",
    "help(bradesco)"
   ]
  }
 ],
 "metadata": {
  "kernelspec": {
   "display_name": "Python 3",
   "language": "python",
   "name": "python3"
  },
  "language_info": {
   "codemirror_mode": {
    "name": "ipython",
    "version": 3
   },
   "file_extension": ".py",
   "mimetype": "text/x-python",
   "name": "python",
   "nbconvert_exporter": "python",
   "pygments_lexer": "ipython3",
   "version": "3.5.2"
  }
 },
 "nbformat": 4,
 "nbformat_minor": 2
}
