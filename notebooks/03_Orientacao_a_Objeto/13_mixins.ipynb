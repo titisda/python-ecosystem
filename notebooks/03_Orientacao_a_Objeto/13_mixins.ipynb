{
 "cells": [
  {
   "cell_type": "markdown",
   "metadata": {},
   "source": [
    "# Mixins\n",
    "***"
   ]
  },
  {
   "cell_type": "markdown",
   "metadata": {},
   "source": [
    "**Mixins**: Se for usar herança multipla use os **mixins**, é uma forma segura de usar herança multipla.\n",
    "\n",
    "É uma classe comum em python, que deve ser utilizada quando:\n",
    "\n",
    "  - Você deseja reutilizar determinada feature em várias classes diferentes\n",
    "  \n",
    "  - Para melhorar a modularidade.\n",
    "  \n",
    "  - Quando você deseja prover várias caracteristicas opcionais a uma classe\n",
    "  \n",
    "  - Quando você deseja utilizar uma caracteristica em particular de uma determinada feature em várias classes diferentes \n",
    " \n",
    " \n",
    "É uma forma controlada para adicionar funcionalidades as suas classes.\n",
    "  \n",
    "**Propriedades**: Não deve ser extendida e não deve ser instanciada\n",
    "    \n",
    "Em python o conceito de mixins é implementado utilizando o conceito de herança multipla\n",
    "\n",
    "A classe mixin não define os atributos, ela espera que a classe que irá utilizar ela defina isso, por exemplo, a classe BookHTMLMixin espera que a classe Book defina os atributos, ela apenas fornece o método de renderização para ela."
   ]
  },
  {
   "cell_type": "markdown",
   "metadata": {},
   "source": [
    "***\n",
    "### Exemplos\n",
    "***"
   ]
  },
  {
   "cell_type": "code",
   "execution_count": 1,
   "metadata": {
    "collapsed": true
   },
   "outputs": [],
   "source": [
    "# Criar a classe livro\n",
    "class Book(object):\n",
    "    \n",
    "    def __init__(self, name, content):\n",
    "        self.name = name\n",
    "        self.content = content"
   ]
  },
  {
   "cell_type": "markdown",
   "metadata": {},
   "source": [
    "***"
   ]
  },
  {
   "cell_type": "code",
   "execution_count": 2,
   "metadata": {
    "collapsed": true
   },
   "outputs": [],
   "source": [
    "# Classe mixin\n",
    "class BookHTMLMixin(object):\n",
    "    \n",
    "    def render(self):\n",
    "        return ('<html><title>{0}</title><body>{1}</body></html>'.format(self.name, self.content))"
   ]
  },
  {
   "cell_type": "markdown",
   "metadata": {},
   "source": [
    "***"
   ]
  },
  {
   "cell_type": "code",
   "execution_count": 3,
   "metadata": {
    "collapsed": true
   },
   "outputs": [],
   "source": [
    "# Classe livro HTML\n",
    "class HTMLBook(Book, BookHTMLMixin):\n",
    "    pass"
   ]
  },
  {
   "cell_type": "markdown",
   "metadata": {},
   "source": [
    "***"
   ]
  },
  {
   "cell_type": "code",
   "execution_count": 4,
   "metadata": {},
   "outputs": [
    {
     "name": "stdout",
     "output_type": "stream",
     "text": [
      "<html><title>The walking dead</title><body>uahauhauahuahau</body></html>\n"
     ]
    }
   ],
   "source": [
    "# Vamos renderizar o livro\n",
    "html_book = HTMLBook('The walking dead', 'uahauhauahuahau')\n",
    "print(html_book.render())"
   ]
  }
 ],
 "metadata": {
  "kernelspec": {
   "display_name": "Python 3",
   "language": "python",
   "name": "python3"
  },
  "language_info": {
   "codemirror_mode": {
    "name": "ipython",
    "version": 3
   },
   "file_extension": ".py",
   "mimetype": "text/x-python",
   "name": "python",
   "nbconvert_exporter": "python",
   "pygments_lexer": "ipython3",
   "version": "3.5.2"
  }
 },
 "nbformat": 4,
 "nbformat_minor": 2
}
