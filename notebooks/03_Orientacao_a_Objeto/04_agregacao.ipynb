{
 "cells": [
  {
   "cell_type": "markdown",
   "metadata": {},
   "source": [
    "# Agregação\n",
    "***\n",
    "\n",
    "**Agregação**: É um tipo de associação que indica **todo-parte** se o objeto todo morrer o objeto parte continuará existindo, a parte existe independente do todo. Ex: Item de um menu faz parte de um pedido, mas se o pedido deixar de existir o item do menu continuará existindo"
   ]
  },
  {
   "cell_type": "markdown",
   "metadata": {},
   "source": [
    "***\n",
    "#### Exemplo\n",
    "***"
   ]
  },
  {
   "cell_type": "code",
   "execution_count": 1,
   "metadata": {
    "collapsed": true
   },
   "outputs": [],
   "source": [
    "# Criar uma classe Pedido\n",
    "class Order(object):\n",
    "    \n",
    "    items = []\n",
    "    total = 0\n",
    "    \n",
    "    def __init__(self, *items):\n",
    "        self.total = 0\n",
    "        \n",
    "        for item in items:\n",
    "            self.items.append(item)\n",
    "        \n",
    "    def get_bill(self):\n",
    "        for item in self.items:\n",
    "            self.total += item.price\n",
    "            \n",
    "        return self.total"
   ]
  },
  {
   "cell_type": "markdown",
   "metadata": {},
   "source": [
    "***"
   ]
  },
  {
   "cell_type": "code",
   "execution_count": 2,
   "metadata": {
    "collapsed": true
   },
   "outputs": [],
   "source": [
    "# Cria uma classe Item\n",
    "class Item(object):\n",
    "    \n",
    "    def __init__(self, title, price):\n",
    "        self.title = title\n",
    "        self.price = price"
   ]
  },
  {
   "cell_type": "markdown",
   "metadata": {},
   "source": [
    "***"
   ]
  },
  {
   "cell_type": "code",
   "execution_count": 3,
   "metadata": {
    "collapsed": true
   },
   "outputs": [],
   "source": [
    "# Criar os items do menu\n",
    "item1 = Item(\"XTudo\", 11.90)\n",
    "item2 = Item(\"Coca-Cola\", 5.75)\n",
    "item3 = Item(\"Batata Frita\", 5.00)"
   ]
  },
  {
   "cell_type": "markdown",
   "metadata": {},
   "source": [
    "***"
   ]
  },
  {
   "cell_type": "code",
   "execution_count": 4,
   "metadata": {
    "collapsed": true
   },
   "outputs": [],
   "source": [
    "# Crie o pedido\n",
    "order = Order(item1, item2, item3)"
   ]
  },
  {
   "cell_type": "markdown",
   "metadata": {},
   "source": [
    "***"
   ]
  },
  {
   "cell_type": "code",
   "execution_count": 5,
   "metadata": {},
   "outputs": [
    {
     "name": "stdout",
     "output_type": "stream",
     "text": [
      "22.65\n"
     ]
    }
   ],
   "source": [
    "# Pega o valor total\n",
    "print(order.get_bill())"
   ]
  }
 ],
 "metadata": {
  "kernelspec": {
   "display_name": "Python 3",
   "language": "python",
   "name": "python3"
  },
  "language_info": {
   "codemirror_mode": {
    "name": "ipython",
    "version": 3
   },
   "file_extension": ".py",
   "mimetype": "text/x-python",
   "name": "python",
   "nbconvert_exporter": "python",
   "pygments_lexer": "ipython3",
   "version": "3.5.2"
  }
 },
 "nbformat": 4,
 "nbformat_minor": 2
}
