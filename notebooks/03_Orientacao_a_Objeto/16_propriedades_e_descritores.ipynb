{
 "cells": [
  {
   "cell_type": "markdown",
   "metadata": {},
   "source": [
    "# Propriedades e Descritores\n",
    "***"
   ]
  },
  {
   "cell_type": "markdown",
   "metadata": {},
   "source": [
    "**Propriedades**: Permite gerenciar a criação e manipulação de atributos de uma classe. é semelhante aos métodos \\_\\_getattr\\_\\_, \\_\\_setattr\\_\\_ e \\_\\_getattribute\\_\\_ porém menos genéricas. Elas começar com um _underline.\n",
    "\n",
    "**Descritores**: Funcionam como propriedades, entretanto os métodos get, set e del e a descrição são todos feitos por uma classe específica com protocolos bem definidos.\n",
    "\n",
    "**@decoradores**: Faz os descritores das propriedades por baixo dos panos, temos os\n",
    "\n",
    "* **@property**: Faz o atributo ser somente de leitura\n",
    "\n",
    "* **@attribute_name.setter**: Com isso você também pode editar o atributo\n",
    "\n",
    "* **@attribute_name.deleter**: Com isso você pode deletar o atributo utilizando o **del**"
   ]
  },
  {
   "cell_type": "markdown",
   "metadata": {},
   "source": [
    "***\n",
    "### Propriedades\n",
    "***"
   ]
  },
  {
   "cell_type": "code",
   "execution_count": 1,
   "metadata": {
    "collapsed": true
   },
   "outputs": [],
   "source": [
    "class Person(object):\n",
    "    \n",
    "    def __init__(self, name):\n",
    "        self._name = name\n",
    "        \n",
    "    def getName(self):\n",
    "        print(\"Obtendo o nome...\")\n",
    "        return self._name\n",
    "    \n",
    "    def setName(self, name):\n",
    "        print(\"Modificando o nome...\")\n",
    "        self._name = name\n",
    "        \n",
    "    def delName(self):\n",
    "        print(\"Removendo o nome...\")\n",
    "        del self._name\n",
    "        \n",
    "    name = property(getName, setName, delName, \"Documentação da propriedade name\")"
   ]
  },
  {
   "cell_type": "markdown",
   "metadata": {},
   "source": [
    "***"
   ]
  },
  {
   "cell_type": "code",
   "execution_count": 2,
   "metadata": {},
   "outputs": [
    {
     "name": "stdout",
     "output_type": "stream",
     "text": [
      "Obtendo o nome...\n",
      "Bob Smith\n",
      "Modificando o nome...\n",
      "Obtendo o nome...\n",
      "Robert Smith\n"
     ]
    }
   ],
   "source": [
    "# Testando os getters e setters\n",
    "person = Person('Bob Smith')\n",
    "print(person.name)\n",
    "person.name = 'Robert Smith'\n",
    "print(person.name)"
   ]
  },
  {
   "cell_type": "markdown",
   "metadata": {},
   "source": [
    "***"
   ]
  },
  {
   "cell_type": "code",
   "execution_count": 3,
   "metadata": {},
   "outputs": [
    {
     "name": "stdout",
     "output_type": "stream",
     "text": [
      "Help on property:\n",
      "\n",
      "    Documentação da propriedade name\n",
      "\n"
     ]
    }
   ],
   "source": [
    "# Verificando a documentação da propriedade name\n",
    "help(Person.name)"
   ]
  },
  {
   "cell_type": "markdown",
   "metadata": {},
   "source": [
    "***"
   ]
  },
  {
   "cell_type": "code",
   "execution_count": 4,
   "metadata": {},
   "outputs": [
    {
     "name": "stdout",
     "output_type": "stream",
     "text": [
      "Removendo o nome...\n"
     ]
    }
   ],
   "source": [
    "# Deletando o objeto name\n",
    "del person.name"
   ]
  },
  {
   "cell_type": "markdown",
   "metadata": {},
   "source": [
    "***\n",
    "### Descritores\n",
    "***"
   ]
  },
  {
   "cell_type": "code",
   "execution_count": 5,
   "metadata": {
    "collapsed": true
   },
   "outputs": [],
   "source": [
    "class Name(object):\n",
    "    \"Documentação da propriedade name\"\n",
    "    \n",
    "    def __get__(self, instance, dono):\n",
    "        print(\"Obtendo o nome...\")\n",
    "        return instance._name\n",
    "    \n",
    "    def __set__(self, instance, name):\n",
    "        print(\"Modificando o nome...\")\n",
    "        instance._name = name\n",
    "        \n",
    "    def __delete__(self, instance):\n",
    "        print(\"Removendo o nome...\")\n",
    "        del instance._name"
   ]
  },
  {
   "cell_type": "markdown",
   "metadata": {},
   "source": [
    "***"
   ]
  },
  {
   "cell_type": "code",
   "execution_count": 6,
   "metadata": {
    "collapsed": true
   },
   "outputs": [],
   "source": [
    "class Person(object):\n",
    "    \n",
    "    def __init__(self, name):\n",
    "        self._name = name\n",
    "        \n",
    "    name = Name()"
   ]
  },
  {
   "cell_type": "markdown",
   "metadata": {},
   "source": [
    "***"
   ]
  },
  {
   "cell_type": "code",
   "execution_count": 7,
   "metadata": {},
   "outputs": [
    {
     "name": "stdout",
     "output_type": "stream",
     "text": [
      "Obtendo o nome...\n",
      "Bob Smith\n",
      "Modificando o nome...\n",
      "Obtendo o nome...\n",
      "Robert Smith\n"
     ]
    }
   ],
   "source": [
    "# Testando os getters e setters\n",
    "person = Person('Bob Smith')\n",
    "print(person.name)\n",
    "person.name = 'Robert Smith'\n",
    "print(person.name)"
   ]
  },
  {
   "cell_type": "markdown",
   "metadata": {},
   "source": [
    "***"
   ]
  },
  {
   "cell_type": "code",
   "execution_count": 8,
   "metadata": {},
   "outputs": [
    {
     "name": "stdout",
     "output_type": "stream",
     "text": [
      "Documentação da propriedade name\n"
     ]
    }
   ],
   "source": [
    "# Verificando a documentação da propriedade name\n",
    "print(Name.__doc__)"
   ]
  },
  {
   "cell_type": "markdown",
   "metadata": {},
   "source": [
    "***"
   ]
  },
  {
   "cell_type": "code",
   "execution_count": 9,
   "metadata": {},
   "outputs": [
    {
     "name": "stdout",
     "output_type": "stream",
     "text": [
      "Removendo o nome...\n"
     ]
    }
   ],
   "source": [
    "# Deletando o objeto name\n",
    "del person.name"
   ]
  },
  {
   "cell_type": "markdown",
   "metadata": {},
   "source": [
    "***\n",
    "### Decoradores\n",
    "***"
   ]
  },
  {
   "cell_type": "code",
   "execution_count": 10,
   "metadata": {},
   "outputs": [],
   "source": [
    "class Person(object):\n",
    "    \n",
    "    def __init__(self, name):\n",
    "        self._name = name\n",
    "        \n",
    "    @property\n",
    "    def name(self):\n",
    "        print(\"Obtendo o nome...\")\n",
    "        return self._name\n",
    "    \n",
    "    @name.setter\n",
    "    def name(self, name):\n",
    "        print(\"Modificando o nome...\")\n",
    "        self._name = name\n",
    "        \n",
    "    @name.deleter\n",
    "    def name(self):\n",
    "        print(\"Removendo o nome...\")\n",
    "        del self._name"
   ]
  },
  {
   "cell_type": "markdown",
   "metadata": {},
   "source": [
    "***"
   ]
  },
  {
   "cell_type": "code",
   "execution_count": 11,
   "metadata": {},
   "outputs": [
    {
     "name": "stdout",
     "output_type": "stream",
     "text": [
      "Obtendo o nome...\n",
      "Bob Smith\n",
      "Modificando o nome...\n",
      "Obtendo o nome...\n",
      "Robert Smith\n",
      "Removendo o nome...\n"
     ]
    }
   ],
   "source": [
    "# Testando os getters e setters\n",
    "person = Person('Bob Smith')\n",
    "print(person.name)\n",
    "person.name = 'Robert Smith'\n",
    "print(person.name)\n",
    "del person.name"
   ]
  }
 ],
 "metadata": {
  "kernelspec": {
   "display_name": "Python 3",
   "language": "python",
   "name": "python3"
  },
  "language_info": {
   "codemirror_mode": {
    "name": "ipython",
    "version": 3
   },
   "file_extension": ".py",
   "mimetype": "text/x-python",
   "name": "python",
   "nbconvert_exporter": "python",
   "pygments_lexer": "ipython3",
   "version": "3.5.2"
  }
 },
 "nbformat": 4,
 "nbformat_minor": 2
}
