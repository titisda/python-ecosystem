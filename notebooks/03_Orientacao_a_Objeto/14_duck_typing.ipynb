{
 "cells": [
  {
   "cell_type": "markdown",
   "metadata": {},
   "source": [
    "# Duck Typing\n",
    "***"
   ]
  },
  {
   "cell_type": "markdown",
   "metadata": {},
   "source": [
    "\"Se um objeto anda como um pato e faz quack como um pato, então ele é um pato\"\n",
    "\n",
    "**Duck typing**:Se você tem um objeto que responde a uma determinada chamada ou método que é caracteristica de um determinado tipo de objeto, então ambos os objetos podem ser considerados do mesmo tipo.\n",
    "\n",
    "Por exemplo, se tivermos um objeto caminhão e um objeto do tipo carro, ambos respondem a um método acelerar(), podemos concluir que ambos pode ser do mesmo tipo.\n",
    "\n",
    "O duck typing permite usar qualquer objeto que fornece um comportamento necessário, sem forçar que ele seja uma subclasse, por exemplo o Caminhão é da classe Caminhao e carro é da classe Carro, porém ambos podem ser considerados da mesma classe já que ambos tem o método acelerar().\n",
    "\n",
    "Você não deve verificar se o objeto é do mesmo tipo com o **isinstance()**, mas deve verificar se eles se comportam da mesma maneira.\n",
    "\n",
    "Programe para interfaces e não para uma implementação, ou seja, a interface especifica o que o objeto pode fazer a implementação não.\n",
    "\n",
    "**Princípio LBYL**: É um estilo de codificação que testa as pré condições antes de fazer algumas chamadas, não é um estilo pythonico, normalmente usa os métodos **hasattr(obj, atributo/metodo)** para verificar se o objeto tem um determinado atributo ou método e o método **callable(metodo/atributo)** para verificar se o método ou atributo é chamavel.\n",
    "\n",
    "**Princípio EAFP**: Easier to ask for forgiveness than permission, trata-se de um estilo de codificação comum em python que pressupõe a existencia de chaves ou atributos validos e captura as exceções se a suposição se provar Falsa, É pythonico."
   ]
  },
  {
   "cell_type": "markdown",
   "metadata": {},
   "source": [
    "***\n",
    "### Exemplos\n",
    "***"
   ]
  },
  {
   "cell_type": "code",
   "execution_count": 1,
   "metadata": {
    "collapsed": true
   },
   "outputs": [],
   "source": [
    "# Criar a classe Livro\n",
    "class Book(object):\n",
    "    \n",
    "    def __init__(self, title, author):\n",
    "        self.title = title\n",
    "        self.author = author\n",
    "        \n",
    "    def release(self):\n",
    "        print(self.title + ', ' + self.author)"
   ]
  },
  {
   "cell_type": "markdown",
   "metadata": {},
   "source": [
    "***"
   ]
  },
  {
   "cell_type": "code",
   "execution_count": 2,
   "metadata": {
    "collapsed": true
   },
   "outputs": [],
   "source": [
    "# Criar a classe Filme\n",
    "class Movie(object):\n",
    "    \n",
    "    def __init__(self, title, director):\n",
    "        self.title = title\n",
    "        self.director = director\n",
    "        \n",
    "    def release(self):\n",
    "        print(self.title + ', ' + self.director)"
   ]
  },
  {
   "cell_type": "markdown",
   "metadata": {},
   "source": [
    "***"
   ]
  },
  {
   "cell_type": "code",
   "execution_count": 3,
   "metadata": {
    "collapsed": true
   },
   "outputs": [],
   "source": [
    "# Criar uma classe que não é uma midia\n",
    "class Person(object):\n",
    "    \n",
    "    def __init__(self, name):\n",
    "        self.name = name"
   ]
  },
  {
   "cell_type": "markdown",
   "metadata": {},
   "source": [
    "***"
   ]
  },
  {
   "cell_type": "code",
   "execution_count": 4,
   "metadata": {},
   "outputs": [],
   "source": [
    "# Cria um metodo que imprime a midia com a técnica EAFP\n",
    "def print_midia(midia):\n",
    "    try:\n",
    "        midia.release()\n",
    "    except AttributeError as error:\n",
    "        print(\"Isso não é uma mídia!\")\n",
    "        print(error)"
   ]
  },
  {
   "cell_type": "markdown",
   "metadata": {},
   "source": [
    "***"
   ]
  },
  {
   "cell_type": "code",
   "execution_count": 5,
   "metadata": {},
   "outputs": [
    {
     "name": "stdout",
     "output_type": "stream",
     "text": [
      "Filme1, Pedro\n",
      "Livro1, Marcos\n"
     ]
    }
   ],
   "source": [
    "# Vamos instanciar as duas é trata-las como midias já que elas tem comportamentos de mídias\n",
    "movie = Movie('Filme1', 'Pedro')\n",
    "book = Book('Livro1', 'Marcos')\n",
    "print_midia(movie)\n",
    "print_midia(book)"
   ]
  },
  {
   "cell_type": "markdown",
   "metadata": {},
   "source": [
    "***"
   ]
  },
  {
   "cell_type": "code",
   "execution_count": 6,
   "metadata": {},
   "outputs": [
    {
     "name": "stdout",
     "output_type": "stream",
     "text": [
      "Isso não é uma mídia!\n",
      "'Person' object has no attribute 'release'\n"
     ]
    }
   ],
   "source": [
    "# Agora vamos tentar usar como uma midia algo que não se comporta como uma mídia\n",
    "person = Person('Pessoa1')\n",
    "print_midia(person)"
   ]
  }
 ],
 "metadata": {
  "kernelspec": {
   "display_name": "Python 3",
   "language": "python",
   "name": "python3"
  },
  "language_info": {
   "codemirror_mode": {
    "name": "ipython",
    "version": 3
   },
   "file_extension": ".py",
   "mimetype": "text/x-python",
   "name": "python",
   "nbconvert_exporter": "python",
   "pygments_lexer": "ipython3",
   "version": "3.5.2"
  }
 },
 "nbformat": 4,
 "nbformat_minor": 2
}
