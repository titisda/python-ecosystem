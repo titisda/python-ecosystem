{
 "cells": [
  {
   "cell_type": "markdown",
   "metadata": {},
   "source": [
    "# Associações\n",
    "***"
   ]
  },
  {
   "cell_type": "markdown",
   "metadata": {},
   "source": [
    "**Associação**: É o mecanismo pelo qual um objeto utiliza os recursos de outro, basicamente ele está vinculado a outra classe. Pode tratar-se de uma associação simples (**1x1**), associações mais complexas (**1xN ou NxM**), ou de um acoplamento (**é parte de**) que temos **composição** e **agregação**. Por exemplo: Um humano usa um ou vários telefone. A tecla \"1\" é parte de um telefone.\n",
    "\n",
    "**Delegar acesso a atributos**: A delegação é um padrão de programação que a responsabilidade para implementar uma determinada operação é entregue a um objeto diferente, ou seja, a implementação, a responsabilidade de implementar uma determinada operação é delegada/entregue a um objeto diferente.\n",
    "\n",
    "* O método **\\_\\_getattr\\_\\_()** é uma especie de pega tudo para leitura de atributos, é normalmente usado caso o código tente acessar algum atributo que não existe, no exemplo, ele será acionado quando houver métodos de A não definidos em B, e simplesmente delegará esses acessos a A.\n",
    "\n",
    "**Obs**: Em python tudo são atributos, por exemplo, métodos e atributos são atributos"
   ]
  },
  {
   "cell_type": "markdown",
   "metadata": {},
   "source": [
    "***\n",
    "#### Exemplo: Associação 1x1\n",
    "***"
   ]
  },
  {
   "cell_type": "code",
   "execution_count": 1,
   "metadata": {
    "collapsed": true
   },
   "outputs": [],
   "source": [
    "# Cria a classe pessoa que tem um nome, telefone e um endereço\n",
    "class Person(object):\n",
    "    \n",
    "    def __init__(self, name, phone, address):\n",
    "        self.name = name\n",
    "        self.phone = phone\n",
    "        self.address = address"
   ]
  },
  {
   "cell_type": "code",
   "execution_count": 2,
   "metadata": {
    "collapsed": true
   },
   "outputs": [],
   "source": [
    "# Cria uma classe endereço que tem pais, estado, cidade e complemento\n",
    "class Address(object):\n",
    "    \n",
    "    def __init__(self, state, city, country='', complement=''):\n",
    "        self.country = country\n",
    "        self.state = state\n",
    "        self.city = city\n",
    "        self.complement = complement"
   ]
  },
  {
   "cell_type": "code",
   "execution_count": 3,
   "metadata": {
    "collapsed": true
   },
   "outputs": [],
   "source": [
    "# Cria o endereço de brasilia\n",
    "brasilia = Address(\n",
    "    country='Brasil',\n",
    "    state='DF',\n",
    "    city='Brasilia',\n",
    "    complement='Cruzeiro Novo'\n",
    ")"
   ]
  },
  {
   "cell_type": "code",
   "execution_count": 4,
   "metadata": {
    "collapsed": true
   },
   "outputs": [],
   "source": [
    "# Cria a pessoa\n",
    "person = Person(\n",
    "    name='Victor Arnaud',\n",
    "    phone=12345678,\n",
    "    address=brasilia\n",
    ")"
   ]
  },
  {
   "cell_type": "code",
   "execution_count": 5,
   "metadata": {},
   "outputs": [
    {
     "name": "stdout",
     "output_type": "stream",
     "text": [
      "Victor Arnaud\n",
      "12345678\n",
      "Brasilia, DF\n"
     ]
    }
   ],
   "source": [
    "# Acessando os dados da pessoa\n",
    "print(person.name)\n",
    "print(person.phone)\n",
    "print(person.address.city + ', ' + person.address.state)"
   ]
  },
  {
   "cell_type": "markdown",
   "metadata": {},
   "source": [
    "***\n",
    "#### Exemplo: Associação 1xn\n",
    "***"
   ]
  },
  {
   "cell_type": "code",
   "execution_count": 6,
   "metadata": {
    "collapsed": true
   },
   "outputs": [],
   "source": [
    "# Cria a classe pessoa que tem um nome e telefones\n",
    "class Person(object):\n",
    "    \n",
    "    def __init__(self, name, phones):\n",
    "        self.name = name\n",
    "        self.phones = phones"
   ]
  },
  {
   "cell_type": "code",
   "execution_count": 7,
   "metadata": {
    "collapsed": true
   },
   "outputs": [],
   "source": [
    "# Cria a classe telefone com o ddd e o número\n",
    "class Phone(object):\n",
    "    \n",
    "    def __init__(self, ddd, number):\n",
    "        self.ddd = ddd\n",
    "        self.number = number"
   ]
  },
  {
   "cell_type": "code",
   "execution_count": 8,
   "metadata": {
    "collapsed": true
   },
   "outputs": [],
   "source": [
    "# Criar vários telefones\n",
    "phone1 = Phone(61, 99823045)\n",
    "phone2 = Phone(11, 99283333)\n",
    "phone3 = Phone(65, 22834455)\n",
    "\n",
    "phones = []\n",
    "phones.append(phone1)\n",
    "phones.append(phone2)\n",
    "phones.append(phone3)"
   ]
  },
  {
   "cell_type": "code",
   "execution_count": 9,
   "metadata": {
    "collapsed": true
   },
   "outputs": [],
   "source": [
    "# Criar a pessoa\n",
    "person = Person(\n",
    "    name='Victor Arnaud',\n",
    "    phones=phones\n",
    ")"
   ]
  },
  {
   "cell_type": "code",
   "execution_count": 10,
   "metadata": {},
   "outputs": [
    {
     "name": "stdout",
     "output_type": "stream",
     "text": [
      "Victor Arnaud\n",
      "(61) 99823045\n",
      "(11) 99283333\n",
      "(65) 22834455\n"
     ]
    }
   ],
   "source": [
    "# Acessando os atributos\n",
    "print(person.name)\n",
    "\n",
    "for phone in person.phones:\n",
    "    print('(' + str(phone.ddd) + ')' + ' ' + str(phone.number))"
   ]
  },
  {
   "cell_type": "markdown",
   "metadata": {},
   "source": [
    "***\n",
    "#### Exemplo: Associação NxM\n",
    "***"
   ]
  },
  {
   "cell_type": "code",
   "execution_count": 11,
   "metadata": {
    "collapsed": true
   },
   "outputs": [],
   "source": [
    "# Uma pessoa pode ter moradia em vários lugares, e uma moradia pode residir várias pessoas\n",
    "class Person(object):\n",
    "    \n",
    "    def __init__(self, name, addresses=[]):\n",
    "        self.name = name\n",
    "        self.addresses = addresses\n",
    "        \n",
    "\n",
    "class Address(object):\n",
    "    \n",
    "    def __init__(self, city, state, people=[]):\n",
    "        self.state = state\n",
    "        self.city = city\n",
    "        self.people = people"
   ]
  },
  {
   "cell_type": "code",
   "execution_count": 12,
   "metadata": {
    "collapsed": true
   },
   "outputs": [],
   "source": [
    "# Vamos criar as pessoas\n",
    "pedro = Person(\"Pedro Calile\")\n",
    "joao = Person(\"João da Silva\")\n",
    "victor = Person(\"Victor Arnaud\")\n",
    "kaio = Person(\"Kaio Cesar\")\n",
    "jean = Person(\"Jean Guilherme\")"
   ]
  },
  {
   "cell_type": "code",
   "execution_count": 13,
   "metadata": {
    "collapsed": true
   },
   "outputs": [],
   "source": [
    "# Vamos criar os endereços\n",
    "brasilia = Address(\"Brasilia\", \"DF\")\n",
    "minas_gerais = Address(\"Minas Gerais\", \"MG\")\n",
    "goiania = Address(\"Goiania\", \"GO\")"
   ]
  },
  {
   "cell_type": "code",
   "execution_count": 14,
   "metadata": {
    "collapsed": true
   },
   "outputs": [],
   "source": [
    "# Vamos inserir as pessoas em brasilia\n",
    "brasilia.people.append(pedro)\n",
    "brasilia.people.append(joao)\n",
    "brasilia.people.append(victor)\n",
    "brasilia.people.append(jean)"
   ]
  },
  {
   "cell_type": "code",
   "execution_count": 15,
   "metadata": {},
   "outputs": [
    {
     "name": "stdout",
     "output_type": "stream",
     "text": [
      "Pedro Calile\n",
      "João da Silva\n",
      "Victor Arnaud\n",
      "Jean Guilherme\n"
     ]
    }
   ],
   "source": [
    "# Vamos acessar as pessoas que moram em brasilia\n",
    "for person in brasilia.people:\n",
    "    print(person.name)"
   ]
  },
  {
   "cell_type": "code",
   "execution_count": 16,
   "metadata": {
    "collapsed": true
   },
   "outputs": [],
   "source": [
    "# Vamos inserir os endereços do victor\n",
    "victor.addresses.append(brasilia)\n",
    "victor.addresses.append(goiania)"
   ]
  },
  {
   "cell_type": "code",
   "execution_count": 17,
   "metadata": {},
   "outputs": [
    {
     "name": "stdout",
     "output_type": "stream",
     "text": [
      "Brasilia\n",
      "Goiania\n"
     ]
    }
   ],
   "source": [
    "# Vamos acessar os endereços do victor\n",
    "for address in victor.addresses:\n",
    "    print(address.city)"
   ]
  },
  {
   "cell_type": "code",
   "execution_count": 18,
   "metadata": {},
   "outputs": [
    {
     "name": "stdout",
     "output_type": "stream",
     "text": [
      "Pedro Calile\n",
      "João da Silva\n",
      "Victor Arnaud\n",
      "Jean Guilherme\n"
     ]
    }
   ],
   "source": [
    "# Vamos verificar quem mora em brasilia a partir do victor\n",
    "brasilian_people = victor.addresses[0].people\n",
    "for person in brasilian_people:\n",
    "    print(person.name)"
   ]
  },
  {
   "cell_type": "code",
   "execution_count": 19,
   "metadata": {},
   "outputs": [
    {
     "name": "stdout",
     "output_type": "stream",
     "text": [
      "Brasilia\n",
      "Goiania\n"
     ]
    }
   ],
   "source": [
    "# Vamos verificar os endereços do victor a partir do catalogo de brasilia\n",
    "victor_addresses = brasilia.people[2].addresses\n",
    "for address in victor_addresses:\n",
    "    print(address.city)"
   ]
  },
  {
   "cell_type": "markdown",
   "metadata": {},
   "source": [
    "***\n",
    "### Exemplo delegação de tarefa\n",
    "***"
   ]
  },
  {
   "cell_type": "code",
   "execution_count": 20,
   "metadata": {
    "collapsed": true
   },
   "outputs": [],
   "source": [
    "# Criar uma classe A qualquer com 4 métodos qualquer\n",
    "class A:\n",
    "    \n",
    "    def do_something(self):\n",
    "        print(\"Classe A fazendo algo\")\n",
    "    \n",
    "    def another_method1(self):\n",
    "        print(\"Classe A fazendo alguma outra coisa 01\")\n",
    "        \n",
    "    def another_method2(self):\n",
    "        print(\"Classe A fazendo alguma outra coisa 02\")\n",
    "        \n",
    "    def another_method3(self, message):\n",
    "        print(\"Classe A fazendo alguma outra coisa 03:\", message)"
   ]
  },
  {
   "cell_type": "code",
   "execution_count": 21,
   "metadata": {
    "collapsed": true
   },
   "outputs": [],
   "source": [
    "# Criar uma classe B que é responsavel por delegar as tarefas para a classe A\n",
    "class B:\n",
    "    \n",
    "    def __init__(self):\n",
    "        self.a = A()\n",
    "    \n",
    "    def do_something(self):\n",
    "        # delega para self.a\n",
    "        return self.a.do_something()\n",
    "    \n",
    "    def another_method(self):\n",
    "        # delega para self.a\n",
    "        return self.a.another_method1()\n",
    "    \n",
    "    def __getattr__(self, message):\n",
    "        return getattr(self.a, message)"
   ]
  },
  {
   "cell_type": "code",
   "execution_count": 22,
   "metadata": {},
   "outputs": [
    {
     "name": "stdout",
     "output_type": "stream",
     "text": [
      "Classe A fazendo algo\n",
      "Classe A fazendo alguma outra coisa 01\n",
      "Classe A fazendo alguma outra coisa 02\n",
      "Classe A fazendo alguma outra coisa 03: python\n"
     ]
    }
   ],
   "source": [
    "# Instanciando a classe B\n",
    "b = B()\n",
    "\n",
    "# chama o B.do_something (existe em B)\n",
    "b.do_something()\n",
    "\n",
    "# chama o B.another_method (existe em B)\n",
    "b.another_method()\n",
    "\n",
    "# chama o B.__getattr__('another_method2') e delega para A.another_method2()\n",
    "# através do self.a passado como parâmetro no getattr()\n",
    "b.another_method2()\n",
    "\n",
    "# chama o B.__getattr__('another_method3', 'python') e delega para A.another_method3('python')\n",
    "# através do self.a passado como parâmetro no getattr()\n",
    "b.another_method3('python')"
   ]
  }
 ],
 "metadata": {
  "kernelspec": {
   "display_name": "Python 3",
   "language": "python",
   "name": "python3"
  },
  "language_info": {
   "codemirror_mode": {
    "name": "ipython",
    "version": 3
   },
   "file_extension": ".py",
   "mimetype": "text/x-python",
   "name": "python",
   "nbconvert_exporter": "python",
   "pygments_lexer": "ipython3",
   "version": "3.5.2"
  }
 },
 "nbformat": 4,
 "nbformat_minor": 2
}
