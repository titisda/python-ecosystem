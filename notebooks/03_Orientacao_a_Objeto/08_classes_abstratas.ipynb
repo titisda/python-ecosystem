{
 "cells": [
  {
   "cell_type": "markdown",
   "metadata": {},
   "source": [
    "# Classes abstratas\n",
    "***"
   ]
  },
  {
   "cell_type": "markdown",
   "metadata": {},
   "source": [
    "São basicamente classes que deixam lacunas para serem implementadas pelas suas classes filhas, pode ser considerado templates ou interfaces, porém pode ter implementações.\n",
    "\n",
    "Logo podemos usar interfaces e classes abstratas na mesma classe, essas classes não podem ser instanciadas"
   ]
  },
  {
   "cell_type": "markdown",
   "metadata": {},
   "source": [
    "***\n",
    "#### Exemplos\n",
    "***"
   ]
  },
  {
   "cell_type": "code",
   "execution_count": 1,
   "metadata": {
    "collapsed": true
   },
   "outputs": [],
   "source": [
    "# Importe o pacote de métodos estáticos\n",
    "from abc import ABC, abstractmethod"
   ]
  },
  {
   "cell_type": "markdown",
   "metadata": {},
   "source": [
    "***"
   ]
  },
  {
   "cell_type": "code",
   "execution_count": 2,
   "metadata": {
    "collapsed": true
   },
   "outputs": [],
   "source": [
    "# Criar a classe GeometricShapes\n",
    "class GeometricShapes(ABC):\n",
    "    \n",
    "    def __init__(self, a, b=0, c=0, d=0):\n",
    "        self.a = a\n",
    "        self.b = b\n",
    "        self.c = c\n",
    "        self.d = d\n",
    "            \n",
    "    @abstractmethod\n",
    "    def area(self):\n",
    "        return \"Área\"\n",
    "    \n",
    "    @abstractmethod\n",
    "    def perimeter(self):\n",
    "        pass\n",
    "    \n",
    "    def __str__(self):\n",
    "        return \"Forma geometrica\""
   ]
  },
  {
   "cell_type": "markdown",
   "metadata": {},
   "source": [
    "***"
   ]
  },
  {
   "cell_type": "code",
   "execution_count": 3,
   "metadata": {
    "collapsed": true
   },
   "outputs": [],
   "source": [
    "# Cria as classes filhas\n",
    "class Square(GeometricShapes):\n",
    "    \n",
    "    # Polimorfismo sobrescrita com reutilização\n",
    "    def area(self):\n",
    "        text = super().area()\n",
    "        print(\"{0} = {1}\".format(text, self.a * self.a))\n",
    "        \n",
    "    def perimeter(self):\n",
    "        print(\"Perimetro = {0}\".format(self.a + self.a + self.a + self.a))"
   ]
  },
  {
   "cell_type": "markdown",
   "metadata": {},
   "source": [
    "***"
   ]
  },
  {
   "cell_type": "code",
   "execution_count": 4,
   "metadata": {
    "collapsed": true
   },
   "outputs": [],
   "source": [
    "class Triangle(GeometricShapes):\n",
    "    \n",
    "    # Polimorfismo sobrecarga\n",
    "    def area(self, height):\n",
    "        print(\"Area = {0}\".format((self.a * height)/2))\n",
    "\n",
    "    def perimeter(self):\n",
    "        print(\"Perimetro = {0}\".format(self.a + self.b + self.c))"
   ]
  },
  {
   "cell_type": "markdown",
   "metadata": {},
   "source": [
    "***"
   ]
  },
  {
   "cell_type": "code",
   "execution_count": 5,
   "metadata": {
    "collapsed": true
   },
   "outputs": [],
   "source": [
    "class Rectangle(GeometricShapes):\n",
    "    \n",
    "    # Polimorfismo sobrescrita total\n",
    "    def area(self):\n",
    "        print(\"Area = {0}\".format(self.a * self.b))"
   ]
  },
  {
   "cell_type": "markdown",
   "metadata": {},
   "source": [
    "***"
   ]
  },
  {
   "cell_type": "code",
   "execution_count": 6,
   "metadata": {},
   "outputs": [
    {
     "name": "stdout",
     "output_type": "stream",
     "text": [
      "Área = 25\n",
      "Perimetro = 20\n"
     ]
    }
   ],
   "source": [
    "# Instanciando e usando os métodos\n",
    "square = Square(5)\n",
    "square.area()\n",
    "square.perimeter()"
   ]
  },
  {
   "cell_type": "markdown",
   "metadata": {},
   "source": [
    "***"
   ]
  },
  {
   "cell_type": "code",
   "execution_count": 7,
   "metadata": {},
   "outputs": [
    {
     "name": "stdout",
     "output_type": "stream",
     "text": [
      "Area = 10.0\n",
      "Perimetro = 9\n"
     ]
    }
   ],
   "source": [
    "# Instanciando e usando os métodos\n",
    "triangle = Triangle(2, 3, 4)\n",
    "triangle.area(10)\n",
    "triangle.perimeter()"
   ]
  },
  {
   "cell_type": "markdown",
   "metadata": {},
   "source": [
    "***"
   ]
  },
  {
   "cell_type": "code",
   "execution_count": 8,
   "metadata": {},
   "outputs": [
    {
     "ename": "TypeError",
     "evalue": "Can't instantiate abstract class Rectangle with abstract methods perimeter",
     "output_type": "error",
     "traceback": [
      "\u001b[0;31m---------------------------------------------------------------------------\u001b[0m",
      "\u001b[0;31mTypeError\u001b[0m                                 Traceback (most recent call last)",
      "\u001b[0;32m<ipython-input-8-a06c91067e03>\u001b[0m in \u001b[0;36m<module>\u001b[0;34m()\u001b[0m\n\u001b[1;32m      1\u001b[0m \u001b[0;31m# Tentando usar uma classe que não implementou os métodos da classe abstrata\u001b[0m\u001b[0;34m\u001b[0m\u001b[0;34m\u001b[0m\u001b[0m\n\u001b[0;32m----> 2\u001b[0;31m \u001b[0mrectangle\u001b[0m \u001b[0;34m=\u001b[0m \u001b[0mRectangle\u001b[0m\u001b[0;34m(\u001b[0m\u001b[0;36m2\u001b[0m\u001b[0;34m,\u001b[0m \u001b[0;36m3\u001b[0m\u001b[0;34m)\u001b[0m\u001b[0;34m\u001b[0m\u001b[0m\n\u001b[0m\u001b[1;32m      3\u001b[0m \u001b[0mrectangle\u001b[0m\u001b[0;34m.\u001b[0m\u001b[0marea\u001b[0m\u001b[0;34m(\u001b[0m\u001b[0;34m)\u001b[0m\u001b[0;34m\u001b[0m\u001b[0m\n",
      "\u001b[0;31mTypeError\u001b[0m: Can't instantiate abstract class Rectangle with abstract methods perimeter"
     ]
    }
   ],
   "source": [
    "# Tentando usar uma classe que não implementou os métodos da classe abstrata\n",
    "rectangle = Rectangle(2, 3)\n",
    "rectangle.area()"
   ]
  }
 ],
 "metadata": {
  "kernelspec": {
   "display_name": "Python 3",
   "language": "python",
   "name": "python3"
  },
  "language_info": {
   "codemirror_mode": {
    "name": "ipython",
    "version": 3
   },
   "file_extension": ".py",
   "mimetype": "text/x-python",
   "name": "python",
   "nbconvert_exporter": "python",
   "pygments_lexer": "ipython3",
   "version": "3.5.2"
  }
 },
 "nbformat": 4,
 "nbformat_minor": 2
}
