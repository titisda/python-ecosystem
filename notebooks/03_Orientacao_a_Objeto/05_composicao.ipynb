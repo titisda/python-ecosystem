{
 "cells": [
  {
   "cell_type": "markdown",
   "metadata": {},
   "source": [
    "# Composição\n",
    "***\n",
    "\n",
    "**Composição**: É um tipo de associação que indica também **todo-parte** na qual o objeto parte só pode pertencer a um único objeto todo, e se esse objeto todo morrer o objeto parte também morre. Ex: Se o notebook quebrar o teclado também deixa de ser util e é descartado."
   ]
  },
  {
   "cell_type": "markdown",
   "metadata": {},
   "source": [
    "***\n",
    "#### Exemplos\n",
    "***"
   ]
  },
  {
   "cell_type": "code",
   "execution_count": 1,
   "metadata": {
    "collapsed": true
   },
   "outputs": [],
   "source": [
    "# Criar a classe Notebook\n",
    "class Notebook(object):\n",
    "    \n",
    "    def __init__(self, model, keyboard=None):\n",
    "        self.model = model\n",
    "        self.keyboard = keyboard"
   ]
  },
  {
   "cell_type": "markdown",
   "metadata": {},
   "source": [
    "***"
   ]
  },
  {
   "cell_type": "code",
   "execution_count": 2,
   "metadata": {
    "collapsed": true
   },
   "outputs": [],
   "source": [
    "# Cria a classe Keyboard\n",
    "class Keyboard(object):\n",
    "    \n",
    "    def __init__(self, model, notebook):\n",
    "        self.model = model\n",
    "        self.notebook = notebook\n",
    "        # Inserir o teclado no notebook\n",
    "        self.notebook.keyboard = self"
   ]
  },
  {
   "cell_type": "markdown",
   "metadata": {},
   "source": [
    "***"
   ]
  },
  {
   "cell_type": "code",
   "execution_count": 3,
   "metadata": {
    "collapsed": true
   },
   "outputs": [],
   "source": [
    "# Crie um notebook\n",
    "notebook = Notebook(\"HP\")"
   ]
  },
  {
   "cell_type": "markdown",
   "metadata": {},
   "source": [
    "***"
   ]
  },
  {
   "cell_type": "code",
   "execution_count": 4,
   "metadata": {
    "collapsed": true
   },
   "outputs": [],
   "source": [
    "# Crie um teclado\n",
    "keyboard = Keyboard(\"Logitech\", notebook)"
   ]
  },
  {
   "cell_type": "markdown",
   "metadata": {},
   "source": [
    "***"
   ]
  },
  {
   "cell_type": "code",
   "execution_count": 5,
   "metadata": {},
   "outputs": [
    {
     "name": "stdout",
     "output_type": "stream",
     "text": [
      "Logitech\n",
      "HP\n"
     ]
    }
   ],
   "source": [
    "# Verificar as instancias\n",
    "print(notebook.keyboard.model)\n",
    "print(keyboard.notebook.model)"
   ]
  }
 ],
 "metadata": {
  "kernelspec": {
   "display_name": "Python 3",
   "language": "python",
   "name": "python3"
  },
  "language_info": {
   "codemirror_mode": {
    "name": "ipython",
    "version": 3
   },
   "file_extension": ".py",
   "mimetype": "text/x-python",
   "name": "python",
   "nbconvert_exporter": "python",
   "pygments_lexer": "ipython3",
   "version": "3.5.2"
  }
 },
 "nbformat": 4,
 "nbformat_minor": 2
}
