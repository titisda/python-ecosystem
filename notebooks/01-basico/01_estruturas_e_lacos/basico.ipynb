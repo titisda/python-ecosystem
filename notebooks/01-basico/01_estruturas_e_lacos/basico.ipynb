{
 "cells": [
  {
   "cell_type": "markdown",
   "metadata": {},
   "source": [
    "# `If`\n",
    "O python utiliza de tabulação para a execução de blocos de código e dois pontos para iniciar um bloco. O bloco if tem uma condição que se satisfeita cai no primeiro print caso contrario ou else cai no segundo print"
   ]
  },
  {
   "cell_type": "code",
   "execution_count": 1,
   "metadata": {
    "collapsed": true
   },
   "outputs": [],
   "source": [
    "age = 20"
   ]
  },
  {
   "cell_type": "code",
   "execution_count": 2,
   "metadata": {
    "scrolled": true
   },
   "outputs": [
    {
     "name": "stdout",
     "output_type": "stream",
     "text": [
      "Idade permitida para dirigir!\n"
     ]
    }
   ],
   "source": [
    "if 18 <= age < 70:\n",
    "    print(\"Idade permitida para dirigir!\")\n",
    "else:\n",
    "    print(\"Não pode dirigir\")"
   ]
  },
  {
   "cell_type": "markdown",
   "metadata": {},
   "source": [
    "# `elif`\n",
    "- Se em qualquer uma das condições for verdadeiro ele não executa nenhuma das outras. Ele depende de as condições acima delas serem falsas para que possa ser executado\n",
    "- Se todas as condições forem falsas cai no else que é a condição final\n",
    "- Sempre alguma codição irá ser executada\n",
    "- Normalmente as comparações do **if elif else** estão associadas as mesmas variáveis, podendo ser de variáveis diferentes desde que elas estejam ligadas ao mesmo fenomeno e a dos multiplos if são de variáveis diferentes para cada if \n",
    "- Normalmente o **if elif else** excluir condições para que uma condição possa se concretizar"
   ]
  },
  {
   "cell_type": "code",
   "execution_count": 2,
   "metadata": {},
   "outputs": [
    {
     "name": "stdout",
     "output_type": "stream",
     "text": [
      "Começando o jogo\n"
     ]
    }
   ],
   "source": [
    "opcao = 'jogar'\n",
    "\n",
    "if (opcao == 'jogar'):\n",
    "    print(\"Começando o jogo\")\n",
    "elif (opcao == 'recorde'):\n",
    "    print(\"Mostrar recordes\")\n",
    "elif (opcao == 'sair'):\n",
    "    print(\"Sair do jogo\")\n",
    "else:\n",
    "    print(\"Opção invalida\")"
   ]
  },
  {
   "cell_type": "markdown",
   "metadata": {},
   "source": [
    "# `for`\n",
    "- **for** iterage em uma lista, string ou qualquer objeto iteravel, é um tipo de loop\n",
    "- **break**: Quebra o loop\n",
    "- **continue**: Passa para próxima iteração do loop\n",
    "- **else**: É executado quando o ciclo termina com o fim da lista (com **for**) ou quando a condição torna-se falsa (com **while**), mas não quando o loop é encerrado por um **break**."
   ]
  },
  {
   "cell_type": "code",
   "execution_count": 4,
   "metadata": {},
   "outputs": [
    {
     "name": "stdout",
     "output_type": "stream",
     "text": [
      "0\n",
      "1\n",
      "2\n",
      "3\n",
      "4\n",
      "5\n"
     ]
    }
   ],
   "source": [
    "# for com break\n",
    "for i in range(10):\n",
    "    print(i)\n",
    "    if(i == 5):\n",
    "        break"
   ]
  },
  {
   "cell_type": "code",
   "execution_count": 5,
   "metadata": {},
   "outputs": [
    {
     "name": "stdout",
     "output_type": "stream",
     "text": [
      "1\n",
      "3\n",
      "5\n",
      "7\n",
      "9\n"
     ]
    }
   ],
   "source": [
    "# for com continue\n",
    "for i in range(10):\n",
    "    if(i % 2 == 0):\n",
    "        continue\n",
    "    print(i)"
   ]
  },
  {
   "cell_type": "code",
   "execution_count": 6,
   "metadata": {},
   "outputs": [
    {
     "name": "stdout",
     "output_type": "stream",
     "text": [
      "0\n",
      "1\n",
      "2\n",
      "3\n",
      "4\n",
      "5\n",
      "6\n",
      "7\n",
      "8\n",
      "9\n",
      "Terminou o laço!\n"
     ]
    }
   ],
   "source": [
    "# for com else\n",
    "for i in range(10):\n",
    "    print(i)\n",
    "else:\n",
    "    print(\"Terminou o laço!\")"
   ]
  },
  {
   "cell_type": "markdown",
   "metadata": {},
   "source": [
    "# `range`\n",
    "`for i in range(10):` Percorremos uma sequência atribuindo a cada ciclo um números dado pelo **range()**, no caso do **range(10)**, cada ciclo tivemos um valor da sequência do **range(10) = 0, 1, 2, 3, 4, . . . , 9** e atribuimos esse valor a variável **count**\n",
    "- **Primeiro ciclo**: temos que i = 0\n",
    "- **Segundo ciclo**: temos que i = 1\n",
    "- ...\n",
    "- **No ultimo ciclo**: temos que i = 9\n",
    "\n",
    "#### Características\n",
    "- Usamos o ciclo **for** para percorrer uma determinada sequência que sabemos o seu final.\n",
    "- Usamos o ciclo **while** para percorrer uma determinada sequência sabendo o seu final ou não.\n",
    "- `range()` é um tipo de dado como um número inteiro ou um número real, que cria uma sequência de números e essa sequência de número será atribuida a cada ciclo, ele pode ser considerado uma função de incremento do laço **for**\n",
    "- `range` é um ciclo while cuja a condição de parada é o valo inserido nele como parâmetro\n",
    "- Lembrando que o **range()** sempre vai até o valor antes do valor inserindo como parâmetro, por exemplo, se for **range(5)** sera do 0 até o 4, se for **range(1, 10)** será do 1 até o 9"
   ]
  },
  {
   "cell_type": "code",
   "execution_count": 8,
   "metadata": {},
   "outputs": [
    {
     "name": "stdout",
     "output_type": "stream",
     "text": [
      "0123456789"
     ]
    }
   ],
   "source": [
    "for i in range(10):\n",
    "    print(i, end='')"
   ]
  },
  {
   "cell_type": "code",
   "execution_count": 9,
   "metadata": {},
   "outputs": [
    {
     "name": "stdout",
     "output_type": "stream",
     "text": [
      "2345"
     ]
    }
   ],
   "source": [
    "for i in range(2,6):\n",
    "    print(i, end='')"
   ]
  },
  {
   "cell_type": "code",
   "execution_count": 10,
   "metadata": {},
   "outputs": [
    {
     "name": "stdout",
     "output_type": "stream",
     "text": [
      "2468"
     ]
    }
   ],
   "source": [
    "# range(valor_inicial, valor_final-incremento, incremento)\n",
    "for i in range(2, 10, 2):\n",
    "    print(i, end='')"
   ]
  },
  {
   "cell_type": "markdown",
   "metadata": {},
   "source": [
    "# `while`\n",
    "O laço while sempre precisa de um criterio de parada"
   ]
  },
  {
   "cell_type": "code",
   "execution_count": 12,
   "metadata": {},
   "outputs": [
    {
     "name": "stdout",
     "output_type": "stream",
     "text": [
      "0\n",
      "1\n",
      "2\n",
      "3\n",
      "4\n",
      "5\n",
      "6\n"
     ]
    }
   ],
   "source": [
    "counter = 0\n",
    "while counter <= 6:\n",
    "    print(counter)\n",
    "    counter += 1"
   ]
  },
  {
   "cell_type": "code",
   "execution_count": 13,
   "metadata": {},
   "outputs": [
    {
     "name": "stdout",
     "output_type": "stream",
     "text": [
      "0\n",
      "1\n",
      "2\n",
      "3\n",
      "4\n",
      "5\n"
     ]
    }
   ],
   "source": [
    "counter = 0\n",
    "while True:\n",
    "    print(counter)\n",
    "    if (counter == 5):\n",
    "        break\n",
    "    counter += 1"
   ]
  },
  {
   "cell_type": "markdown",
   "metadata": {},
   "source": [
    "---"
   ]
  }
 ],
 "metadata": {
  "kernelspec": {
   "display_name": "Python 3",
   "language": "python",
   "name": "python3"
  },
  "language_info": {
   "codemirror_mode": {
    "name": "ipython",
    "version": 3
   },
   "file_extension": ".py",
   "mimetype": "text/x-python",
   "name": "python",
   "nbconvert_exporter": "python",
   "pygments_lexer": "ipython3",
   "version": "3.8.5"
  }
 },
 "nbformat": 4,
 "nbformat_minor": 2
}
