{
 "cells": [
  {
   "cell_type": "markdown",
   "metadata": {},
   "source": [
    "# replace\n",
    "***"
   ]
  },
  {
   "cell_type": "markdown",
   "metadata": {},
   "source": [
    "Função que recebe uma string, uma substring velha, e uma substring nova e devolve uma copia da string com todas as substrings velha substituidas pela subtring nova"
   ]
  },
  {
   "cell_type": "markdown",
   "metadata": {},
   "source": [
    "***\n",
    "#### Exemplos\n",
    "***"
   ]
  },
  {
   "cell_type": "code",
   "execution_count": 1,
   "metadata": {},
   "outputs": [
    {
     "name": "stdout",
     "output_type": "stream",
     "text": [
      "Mizzizzipi\n"
     ]
    }
   ],
   "source": [
    "print('Mississipi'.replace('ss', 'zz'))"
   ]
  },
  {
   "cell_type": "markdown",
   "metadata": {},
   "source": [
    "***\n",
    "#### Implementação\n",
    "***"
   ]
  },
  {
   "cell_type": "code",
   "execution_count": 2,
   "metadata": {
    "collapsed": true
   },
   "outputs": [],
   "source": [
    "def replace(string, old, new):\n",
    "    word = ''\n",
    "    i = 0\n",
    "    \n",
    "    while i < len(string) + 1 - len(old):\n",
    "        if (string[i:i+len(old)] != old):\n",
    "            word += string[i]\n",
    "        else:\n",
    "            i += len(old)\n",
    "            word += new\n",
    "            continue\n",
    "            \n",
    "        i += 1\n",
    "        \n",
    "    word += string[i:]\n",
    "    \n",
    "    return word"
   ]
  },
  {
   "cell_type": "code",
   "execution_count": 3,
   "metadata": {},
   "outputs": [
    {
     "name": "stdout",
     "output_type": "stream",
     "text": [
      "Mizzizzipi\n"
     ]
    }
   ],
   "source": [
    "print(replace('Mississipi', 'ss', 'zz'))"
   ]
  },
  {
   "cell_type": "markdown",
   "metadata": {},
   "source": [
    "***\n",
    "#### Como funciona\n",
    "***"
   ]
  },
  {
   "cell_type": "markdown",
   "metadata": {},
   "source": [
    "* **old**: \"ss\"\n",
    "\n",
    "\n",
    "* **new**: \"zz\"\n",
    "\n",
    "\n",
    "* **string**: \"Mississipi\"\n",
    "\n",
    "\n",
    "* **sequência**: \"Mi\", \"is\", \"ss\"\n",
    "\n",
    "\n",
    "* **troca**: \"ss\" por \"zz\"\n",
    "\n",
    "\n",
    "* **sequência**: \"is \", \"ss\"\n",
    "\n",
    "\n",
    "* **troca**: \"ss\" por \"zz\"\n",
    "\n",
    "\n",
    "* **sequência**: \"ip\", \"pi\"\n",
    "\n",
    "\n",
    "* **nova string**: \"Mizzizzipi\"\n",
    "\n",
    "\n",
    "* **Obs**: A cada 2 caracteres que é o tamanho do \"ss\" ele vai comparar se não for igual vai guardar o primeiro caracter e andar uma casa até acha igual ao \"ss\", ao achar ele armazena na lista todos os caracteres encontrados e troca o \"ss\" por \"zz\""
   ]
  }
 ],
 "metadata": {
  "kernelspec": {
   "display_name": "Python 3",
   "language": "python",
   "name": "python3"
  },
  "language_info": {
   "codemirror_mode": {
    "name": "ipython",
    "version": 3
   },
   "file_extension": ".py",
   "mimetype": "text/x-python",
   "name": "python",
   "nbconvert_exporter": "python",
   "pygments_lexer": "ipython3",
   "version": "3.5.2"
  }
 },
 "nbformat": 4,
 "nbformat_minor": 2
}
