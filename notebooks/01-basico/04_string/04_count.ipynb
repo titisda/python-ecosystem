{
 "cells": [
  {
   "cell_type": "markdown",
   "metadata": {},
   "source": [
    "# count\n",
    "***"
   ]
  },
  {
   "cell_type": "markdown",
   "metadata": {},
   "source": [
    "Conte o número de ocorrências de uma substring em uma string"
   ]
  },
  {
   "cell_type": "markdown",
   "metadata": {},
   "source": [
    "***\n",
    "#### Exemplos\n",
    "***"
   ]
  },
  {
   "cell_type": "code",
   "execution_count": 1,
   "metadata": {},
   "outputs": [
    {
     "name": "stdout",
     "output_type": "stream",
     "text": [
      "2\n"
     ]
    }
   ],
   "source": [
    "string = 'Mississipi'\n",
    "print(string.count('ss'))"
   ]
  },
  {
   "cell_type": "code",
   "execution_count": 2,
   "metadata": {},
   "outputs": [
    {
     "name": "stdout",
     "output_type": "stream",
     "text": [
      "2\n"
     ]
    }
   ],
   "source": [
    "# str.count(substring, start=0, end=len(string))\n",
    "print(\"mississipi\".count('i', 3, 8))"
   ]
  },
  {
   "cell_type": "markdown",
   "metadata": {},
   "source": [
    "***\n",
    "#### Implementação\n",
    "***"
   ]
  },
  {
   "cell_type": "code",
   "execution_count": 3,
   "metadata": {
    "collapsed": true
   },
   "outputs": [],
   "source": [
    "def counter(string, substring):   \n",
    "    count = 0\n",
    "    \n",
    "    for i in range(len(string) + 1 - len(substring)):\n",
    "        if (string[i:i+len(substring)] == substring):\n",
    "            count += 1\n",
    "            \n",
    "    return count"
   ]
  },
  {
   "cell_type": "code",
   "execution_count": 4,
   "metadata": {},
   "outputs": [
    {
     "name": "stdout",
     "output_type": "stream",
     "text": [
      "2\n"
     ]
    }
   ],
   "source": [
    "print(counter('mississipi', 'ss'))"
   ]
  },
  {
   "cell_type": "markdown",
   "metadata": {},
   "source": [
    "***\n",
    "#### Como funciona\n",
    "***"
   ]
  },
  {
   "cell_type": "markdown",
   "metadata": {},
   "source": [
    "* **substring**: \"ss\"\n",
    "\n",
    "\n",
    "* **string**: \"mississipi\"\n",
    "\n",
    "\n",
    "* **Sequência**: \"mi\", \"is\", \"ss\"\n",
    "\n",
    "\n",
    "* **contador**: 1\n",
    "\n",
    "\n",
    "* **Sequência**: \"is\", \"ss\"\n",
    "\n",
    "\n",
    "* **contador**: 2\n",
    "\n",
    "\n",
    "* **Sequência**: \"ip\", \"pi\"\n",
    "\n",
    "\n",
    "* **Obs**: A cada 2 caracteres que é o tamanho do \"ss\" ele vai comparar se não for igual vai continuar o laço e andar uma casa até acha igual, ao achar ele soma 1 ponto no contador e continua o laço até a string ser finalizada"
   ]
  }
 ],
 "metadata": {
  "kernelspec": {
   "display_name": "Python 3",
   "language": "python",
   "name": "python3"
  },
  "language_info": {
   "codemirror_mode": {
    "name": "ipython",
    "version": 3
   },
   "file_extension": ".py",
   "mimetype": "text/x-python",
   "name": "python",
   "nbconvert_exporter": "python",
   "pygments_lexer": "ipython3",
   "version": "3.5.2"
  }
 },
 "nbformat": 4,
 "nbformat_minor": 2
}
