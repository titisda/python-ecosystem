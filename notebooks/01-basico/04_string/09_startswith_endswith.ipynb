{
 "cells": [
  {
   "cell_type": "markdown",
   "metadata": {},
   "source": [
    "# startswith e endswith\n",
    "***"
   ]
  },
  {
   "cell_type": "markdown",
   "metadata": {},
   "source": [
    "**startswith**: Função que verififica se uma determinada string começa com uma determinada substring\n",
    "\n",
    "**endswith**: Função que verififica se uma determinada string termina com uma determinada substring"
   ]
  },
  {
   "cell_type": "markdown",
   "metadata": {},
   "source": [
    "***\n",
    "#### Exemplos\n",
    "***"
   ]
  },
  {
   "cell_type": "code",
   "execution_count": 1,
   "metadata": {},
   "outputs": [
    {
     "name": "stdout",
     "output_type": "stream",
     "text": [
      "True\n"
     ]
    }
   ],
   "source": [
    "print(\"Sim\".startswith(\"S\"))"
   ]
  },
  {
   "cell_type": "code",
   "execution_count": 2,
   "metadata": {},
   "outputs": [
    {
     "name": "stdout",
     "output_type": "stream",
     "text": [
      "True\n"
     ]
    }
   ],
   "source": [
    "print(\"Vou pescar\".endswith(\"car\"))"
   ]
  },
  {
   "cell_type": "markdown",
   "metadata": {},
   "source": [
    "***\n",
    "#### Implementação\n",
    "***"
   ]
  },
  {
   "cell_type": "code",
   "execution_count": 3,
   "metadata": {
    "collapsed": true
   },
   "outputs": [],
   "source": [
    "def startswith(string, substring):\n",
    "    return string[:len(substring)] == substring"
   ]
  },
  {
   "cell_type": "code",
   "execution_count": 4,
   "metadata": {},
   "outputs": [
    {
     "name": "stdout",
     "output_type": "stream",
     "text": [
      "True\n",
      "False\n",
      "True\n",
      "True\n",
      "False\n"
     ]
    }
   ],
   "source": [
    "print(startswith('Sim', 'S'))\n",
    "print(startswith('Sim', 's'))\n",
    "print(startswith('Sim', 'Si'))\n",
    "print(startswith('Sim', 'Sim'))\n",
    "print(startswith('Sim', 'Sim senhor'))"
   ]
  },
  {
   "cell_type": "markdown",
   "metadata": {},
   "source": [
    "***"
   ]
  },
  {
   "cell_type": "code",
   "execution_count": 5,
   "metadata": {
    "collapsed": true
   },
   "outputs": [],
   "source": [
    "def endswith(string, substring):\n",
    "    return string[-len(substring):] == substring"
   ]
  },
  {
   "cell_type": "code",
   "execution_count": 6,
   "metadata": {},
   "outputs": [
    {
     "name": "stdout",
     "output_type": "stream",
     "text": [
      "True\n",
      "False\n"
     ]
    }
   ],
   "source": [
    "print(endswith('Vou pescar', 'car'))\n",
    "print(endswith('Vou pescar', 'cars'))"
   ]
  },
  {
   "cell_type": "markdown",
   "metadata": {},
   "source": [
    "***\n",
    "#### Como funciona\n",
    "***"
   ]
  },
  {
   "cell_type": "markdown",
   "metadata": {},
   "source": [
    "**startswith**:\n",
    "\n",
    "* **string**: \"Sim\"\n",
    "\n",
    "\n",
    "* **substring**: \"Si\"\n",
    "\n",
    "\n",
    "* **sequência**: \"Si\" == \"Si\"? Verdadeiro\n",
    "\n",
    "\n",
    "* **Obs**: Vamos percorrer a string até o tamanho da substring que é \"Si\", se na primeira parte da sequência tiver igual a \"Si\" então retorna verdadeiro, caso contrario retorna Falso"
   ]
  },
  {
   "cell_type": "markdown",
   "metadata": {},
   "source": [
    "**endswith**:\n",
    "\n",
    "* **string**: \"Vou pescar\"\n",
    "\n",
    "\n",
    "* **substring**: \"car\"\n",
    "\n",
    "\n",
    "* **sequência**: \"car\" == \"car\"? Verdadeiro\n",
    "\n",
    "\n",
    "* **Obs**: Vamos percorrer a string de trás para frente até o tamanho da substring que é \"car\", se na primeira parte da sequência de trás para frente tiver igual a \"car\" então retorna verdadeiro, caso contrario retorna Falso"
   ]
  }
 ],
 "metadata": {
  "kernelspec": {
   "display_name": "Python 3",
   "language": "python",
   "name": "python3"
  },
  "language_info": {
   "codemirror_mode": {
    "name": "ipython",
    "version": 3
   },
   "file_extension": ".py",
   "mimetype": "text/x-python",
   "name": "python",
   "nbconvert_exporter": "python",
   "pygments_lexer": "ipython3",
   "version": "3.5.2"
  }
 },
 "nbformat": 4,
 "nbformat_minor": 2
}
