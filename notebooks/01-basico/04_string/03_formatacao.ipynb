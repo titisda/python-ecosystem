{
 "cells": [
  {
   "cell_type": "markdown",
   "metadata": {},
   "source": [
    "# String\n",
    "***"
   ]
  },
  {
   "cell_type": "markdown",
   "metadata": {},
   "source": [
    "**%i** e **%d** imprime variáveis inteiras\n",
    "\n",
    "**%f** imprime variáveis reais, ela por padrão arredonda a ultima casa\n",
    "\n",
    "Para limitar o número de algoritmos só inserir o **%.2f** terá 2 casas decimais, **%.1f** terá uma única casa e assim por diante...\n",
    "\n",
    "**%g** imprime variáveis em notação cientifica: 1e+14 = 1x10^14 ele também detecta os algaritmos significativos da impressão, por exemplo, se eu quiser imprimir 0.56 e usar o **%g** ele vai imprimir 0.56 e não 0.560000 como o **%f**, muito usado quando você não sabe o número exato de algaritmos significativos, logo botar **%.10g** ele imprime até 10 algaritmos mas não necessariamente 10.\n",
    "\n",
    "No print() podemos inserir o \"end\" para inserir uma string que é colocada depois do ultimo valor, tendo como valor padrão o \\n"
   ]
  },
  {
   "cell_type": "markdown",
   "metadata": {},
   "source": [
    "***\n",
    "#### Exemplo\n",
    "***"
   ]
  },
  {
   "cell_type": "code",
   "execution_count": 1,
   "metadata": {},
   "outputs": [
    {
     "name": "stdout",
     "output_type": "stream",
     "text": [
      "33.333333333333336\n"
     ]
    }
   ],
   "source": [
    "# Ao dividir 100/3 da uma dizima periodica e o python acaba dando um limite a ela e \n",
    "# arredondando a ultima casa, isso é um problema\n",
    "print (100/3)"
   ]
  },
  {
   "cell_type": "markdown",
   "metadata": {},
   "source": [
    "***"
   ]
  },
  {
   "cell_type": "code",
   "execution_count": 2,
   "metadata": {},
   "outputs": [
    {
     "name": "stdout",
     "output_type": "stream",
     "text": [
      "100\n"
     ]
    }
   ],
   "source": [
    "# Imprime um número inteiro de forma formatada\n",
    "print (\"%d\" % 100)"
   ]
  },
  {
   "cell_type": "markdown",
   "metadata": {},
   "source": [
    "***"
   ]
  },
  {
   "cell_type": "code",
   "execution_count": 3,
   "metadata": {},
   "outputs": [
    {
     "name": "stdout",
     "output_type": "stream",
     "text": [
      "100\n"
     ]
    }
   ],
   "source": [
    "# Também imprime um número inteiro de forma formatada\n",
    "print (\"%i\" % 100.2)"
   ]
  },
  {
   "cell_type": "markdown",
   "metadata": {},
   "source": [
    "***"
   ]
  },
  {
   "cell_type": "code",
   "execution_count": 4,
   "metadata": {},
   "outputs": [
    {
     "name": "stdout",
     "output_type": "stream",
     "text": [
      "100.200000\n"
     ]
    }
   ],
   "source": [
    "# Imprime um número real de forma formatada, por padrão tem 6 casas decimais\n",
    "print (\"%f\" % 100.2)"
   ]
  },
  {
   "cell_type": "markdown",
   "metadata": {},
   "source": [
    "***"
   ]
  },
  {
   "cell_type": "code",
   "execution_count": 5,
   "metadata": {},
   "outputs": [
    {
     "name": "stdout",
     "output_type": "stream",
     "text": [
      "100.20\n"
     ]
    }
   ],
   "source": [
    "# Imprime um número real de forma formatada com 2 casas decimais\n",
    "print (\"%.2f\" % 100.2)"
   ]
  },
  {
   "cell_type": "markdown",
   "metadata": {},
   "source": [
    "***"
   ]
  },
  {
   "cell_type": "code",
   "execution_count": 6,
   "metadata": {},
   "outputs": [
    {
     "name": "stdout",
     "output_type": "stream",
     "text": [
      "  16.66667\n"
     ]
    }
   ],
   "source": [
    "# Imprime um número real de forma formatada com 5 casas decimais e um espaçamento de \n",
    "# 10 caracteres para a esquerda, começando da ultima casa decimal\n",
    "print (\"%10.5f\" % (100/6))"
   ]
  },
  {
   "cell_type": "markdown",
   "metadata": {},
   "source": [
    "***"
   ]
  },
  {
   "cell_type": "code",
   "execution_count": 7,
   "metadata": {},
   "outputs": [
    {
     "name": "stdout",
     "output_type": "stream",
     "text": [
      "1e+30\n"
     ]
    }
   ],
   "source": [
    "# Imprime número com notação cientifica e detecta algaritmos significativos\n",
    "print (\"%g\" % 1000000000000000000000000000000)"
   ]
  },
  {
   "cell_type": "markdown",
   "metadata": {},
   "source": [
    "***"
   ]
  },
  {
   "cell_type": "code",
   "execution_count": 8,
   "metadata": {},
   "outputs": [
    {
     "name": "stdout",
     "output_type": "stream",
     "text": [
      " 07\n"
     ]
    }
   ],
   "source": [
    "# Da um espaço de 3 caracteres para a impressão e acrescenta zeros a esquerda do número, \n",
    "# no caso até completa 2 caracteres utilizada para alinhar as casas decimais das impressões\n",
    "print (\"%3.2d\" % 7)"
   ]
  }
 ],
 "metadata": {
  "kernelspec": {
   "display_name": "Python 3",
   "language": "python",
   "name": "python3"
  },
  "language_info": {
   "codemirror_mode": {
    "name": "ipython",
    "version": 3
   },
   "file_extension": ".py",
   "mimetype": "text/x-python",
   "name": "python",
   "nbconvert_exporter": "python",
   "pygments_lexer": "ipython3",
   "version": "3.5.2"
  }
 },
 "nbformat": 4,
 "nbformat_minor": 2
}
