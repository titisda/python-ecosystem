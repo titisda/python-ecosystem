{
 "cells": [
  {
   "cell_type": "markdown",
   "metadata": {},
   "source": [
    "# String\n",
    "***"
   ]
  },
  {
   "cell_type": "markdown",
   "metadata": {},
   "source": [
    "String vem entre \"aspas duplas\" ou 'aspas simples'\n",
    "\n",
    "Se for inserir uma string dentro de outra use string diferente por exemplo: \"aspas duplas com 'aspas simples'\" e vise versa\n",
    "\n",
    "String é uma lista de caracteres: victor = 'v'+'i'+'c'+'t'+'o'+'r'\n",
    "\n",
    "String é uma tupla, ela é imutavel, você não pode fazer: **\"Victor\"[1] = 'a'**\n",
    "\n",
    "Quase tudo que faço com uma tupla consigo fazer com strings"
   ]
  },
  {
   "cell_type": "markdown",
   "metadata": {},
   "source": [
    "***\n",
    "#### Exemplos\n",
    "***"
   ]
  },
  {
   "cell_type": "code",
   "execution_count": 1,
   "metadata": {},
   "outputs": [
    {
     "name": "stdout",
     "output_type": "stream",
     "text": [
      "Hoje irei a aula\n"
     ]
    }
   ],
   "source": [
    "# Concatenar strings\n",
    "string1 = \"Hoje irei a \"\n",
    "string2 = \"aula\"\n",
    "print(string1 + string2)"
   ]
  },
  {
   "cell_type": "markdown",
   "metadata": {},
   "source": [
    "***"
   ]
  },
  {
   "cell_type": "code",
   "execution_count": 2,
   "metadata": {},
   "outputs": [
    {
     "name": "stdout",
     "output_type": "stream",
     "text": [
      "********************\n"
     ]
    }
   ],
   "source": [
    "#  Posso inserir 20 underlines de maneira simples\n",
    "pontos = 20*\"*\"\n",
    "print(pontos)"
   ]
  },
  {
   "cell_type": "markdown",
   "metadata": {},
   "source": [
    "***"
   ]
  },
  {
   "cell_type": "code",
   "execution_count": 3,
   "metadata": {},
   "outputs": [
    {
     "name": "stdout",
     "output_type": "stream",
     "text": [
      "Eu vi o jogo 17 vezes\n"
     ]
    }
   ],
   "source": [
    "# Para inserir um número em uma string use a função str(20)\n",
    "print(\"Eu vi o jogo \" + str(17) + \" vezes\")"
   ]
  },
  {
   "cell_type": "markdown",
   "metadata": {},
   "source": [
    "***"
   ]
  },
  {
   "cell_type": "code",
   "execution_count": 4,
   "metadata": {},
   "outputs": [
    {
     "name": "stdout",
     "output_type": "stream",
     "text": [
      "Vamos\n",
      "Pular\n",
      "Linhas\n"
     ]
    }
   ],
   "source": [
    "# Se quiser pular uma linha use o \\n, funciona só no print(\\n)\n",
    "print(\"Vamos\\nPular\\nLinhas\")"
   ]
  },
  {
   "cell_type": "markdown",
   "metadata": {},
   "source": [
    "***"
   ]
  },
  {
   "cell_type": "code",
   "execution_count": 5,
   "metadata": {},
   "outputs": [
    {
     "name": "stdout",
     "output_type": "stream",
     "text": [
      "\tTabulação muito doida\n"
     ]
    }
   ],
   "source": [
    "# Se quiser dar uma tab ou tabulação use o \\t, funciona só no print(\\t)\n",
    "print(\"\\tTabulação muito doida\")"
   ]
  },
  {
   "cell_type": "markdown",
   "metadata": {},
   "source": [
    "***"
   ]
  },
  {
   "cell_type": "code",
   "execution_count": 6,
   "metadata": {},
   "outputs": [
    {
     "name": "stdout",
     "output_type": "stream",
     "text": [
      "\\n\n"
     ]
    }
   ],
   "source": [
    "# Para imprimir o \\ temos que passar print('\\\\'), o \\ ele serve para inserir caracteres especias em string\n",
    "print(\"\\\\n\")"
   ]
  },
  {
   "cell_type": "markdown",
   "metadata": {},
   "source": [
    "***"
   ]
  },
  {
   "cell_type": "code",
   "execution_count": 7,
   "metadata": {},
   "outputs": [
    {
     "name": "stdout",
     "output_type": "stream",
     "text": [
      "[1, 2, '3', 4]\n",
      "(1, 2, '3', 4)\n"
     ]
    }
   ],
   "source": [
    "# Podemos inserir strings dentro de listas e tuplas\n",
    "print([1, 2, \"3\", 4])\n",
    "print((1, 2, \"3\", 4))"
   ]
  },
  {
   "cell_type": "markdown",
   "metadata": {},
   "source": [
    "***"
   ]
  },
  {
   "cell_type": "code",
   "execution_count": 8,
   "metadata": {},
   "outputs": [
    {
     "name": "stdout",
     "output_type": "stream",
     "text": [
      "Insira seu nome: victor\n",
      "<class 'str'>\n"
     ]
    }
   ],
   "source": [
    "# A função input insere qualquer coisa que o usuário digitar em string\n",
    "nome = input(\"Insira seu nome: \")\n",
    "print(type(nome))"
   ]
  },
  {
   "cell_type": "markdown",
   "metadata": {},
   "source": [
    "***"
   ]
  },
  {
   "cell_type": "code",
   "execution_count": 9,
   "metadata": {},
   "outputs": [
    {
     "name": "stdout",
     "output_type": "stream",
     "text": [
      "V\n"
     ]
    }
   ],
   "source": [
    "# Se quisermos o elemento de uma string é só fazer\n",
    "print(\"Victor\"[0])"
   ]
  },
  {
   "cell_type": "markdown",
   "metadata": {},
   "source": [
    "***"
   ]
  },
  {
   "cell_type": "code",
   "execution_count": 10,
   "metadata": {},
   "outputs": [
    {
     "name": "stdout",
     "output_type": "stream",
     "text": [
      "6\n"
     ]
    }
   ],
   "source": [
    "# O len() devolve o número de caracteres que a frase possui\n",
    "print(len(\"Victor\"))"
   ]
  },
  {
   "cell_type": "markdown",
   "metadata": {},
   "source": [
    "***"
   ]
  },
  {
   "cell_type": "code",
   "execution_count": 11,
   "metadata": {},
   "outputs": [
    {
     "name": "stdout",
     "output_type": "stream",
     "text": [
      "Victor"
     ]
    }
   ],
   "source": [
    "# Percorrer uma string\n",
    "for char in \"Victor\":\n",
    "    print(char, end='')"
   ]
  }
 ],
 "metadata": {
  "kernelspec": {
   "display_name": "Python 3",
   "language": "python",
   "name": "python3"
  },
  "language_info": {
   "codemirror_mode": {
    "name": "ipython",
    "version": 3
   },
   "file_extension": ".py",
   "mimetype": "text/x-python",
   "name": "python",
   "nbconvert_exporter": "python",
   "pygments_lexer": "ipython3",
   "version": "3.5.2"
  }
 },
 "nbformat": 4,
 "nbformat_minor": 2
}
