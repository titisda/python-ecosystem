{
 "cells": [
  {
   "cell_type": "markdown",
   "metadata": {},
   "source": [
    "# Tabela ASCII e comparações\n",
    "***"
   ]
  },
  {
   "cell_type": "markdown",
   "metadata": {},
   "source": [
    "#### ASCII\n",
    "\n",
    "* Este código padroniza a representação de letras em linguagem de máquina ou código binario\n",
    "\n",
    "\n",
    "* ```'a' --> 97```\n",
    "\n",
    "\n",
    "* O python já abrange até 800 caracteres, superando a tabela ascii\n",
    "\n",
    "\n",
    "* %c é usado tanto para caracter quanto para tipo inteiro usando o chr()\n",
    "\n",
    "#### IN\n",
    "\n",
    "* Se pegarmos duas listas e verificar se um elemento está dentro de outro usamos o operador in, ele irá olhar cada um dos elementos da lista e ver se encontra o elemento pedido\n",
    "\n",
    "#### Comparação\n",
    "\n",
    "* Quando eu pergunto se ```'A' == 'a'``` estou perguntando se o número que representa 'A' é igual ao número que representa 'a', no caso não é, porém as duas letras são iguais\n",
    "\n",
    "\n",
    "* Podemos fazer também comparaços do tipo ```'a' < 'c'```, o python irá ver na tabela que o número que representa 'a' é menor que o número que representa 'c' logo é menor sim, com isso da para criar algoritmos de ordenação, em ordem alfabetica por exemplo.\n",
    "\n",
    "\n",
    "* Não temo como fazer comparações do tipo: ```20 < 'A' < 100```, pois não se pode comparar string com inteiro\n",
    "\n",
    "\n",
    "*  Como o python faz comparação de caracteres utilizando seus valores inteiros, ele é case sensitive, pois ```'A' != 'a'```"
   ]
  },
  {
   "cell_type": "markdown",
   "metadata": {},
   "source": [
    "***\n",
    "#### Exemplos ASCII\n",
    "***"
   ]
  },
  {
   "cell_type": "code",
   "execution_count": 1,
   "metadata": {},
   "outputs": [
    {
     "name": "stdout",
     "output_type": "stream",
     "text": [
      "a\n"
     ]
    }
   ],
   "source": [
    "# Pega um valor qualquer inteiro e vai devolver o caracter que representa esse valor\n",
    "print(chr(97))"
   ]
  },
  {
   "cell_type": "code",
   "execution_count": 2,
   "metadata": {},
   "outputs": [
    {
     "name": "stdout",
     "output_type": "stream",
     "text": [
      "97\n"
     ]
    }
   ],
   "source": [
    "# Retorna o número inteiro da tabela ascii\n",
    "print(ord('a'))"
   ]
  },
  {
   "cell_type": "markdown",
   "metadata": {},
   "source": [
    "***\n",
    "#### Exemplos IN\n",
    "***"
   ]
  },
  {
   "cell_type": "code",
   "execution_count": 3,
   "metadata": {},
   "outputs": [
    {
     "name": "stdout",
     "output_type": "stream",
     "text": [
      "False\n"
     ]
    }
   ],
   "source": [
    "# [1,2] não está dentro de [1,2,3]\n",
    "print([1, 2] in [1, 2, 3])"
   ]
  },
  {
   "cell_type": "code",
   "execution_count": 4,
   "metadata": {},
   "outputs": [
    {
     "name": "stdout",
     "output_type": "stream",
     "text": [
      "True\n"
     ]
    }
   ],
   "source": [
    "# [1, 2] está dentro de [1, 2, [1, 2], 3]\n",
    "print([1, 2] in [1, 2, [1, 2], 3])"
   ]
  },
  {
   "cell_type": "code",
   "execution_count": 5,
   "metadata": {},
   "outputs": [
    {
     "name": "stdout",
     "output_type": "stream",
     "text": [
      "True\n"
     ]
    }
   ],
   "source": [
    "# 2 está dentro de [1, 2, 3]\n",
    "print(2 in [1, 2, 3])"
   ]
  },
  {
   "cell_type": "code",
   "execution_count": 6,
   "metadata": {},
   "outputs": [
    {
     "name": "stdout",
     "output_type": "stream",
     "text": [
      "True\n"
     ]
    }
   ],
   "source": [
    "# abc está dentro de abcdefg\n",
    "print('abc' in 'abcdefg')"
   ]
  },
  {
   "cell_type": "code",
   "execution_count": 7,
   "metadata": {},
   "outputs": [
    {
     "name": "stdout",
     "output_type": "stream",
     "text": [
      "False\n"
     ]
    }
   ],
   "source": [
    "# ABC não está dentro de abcdefg\n",
    "print('ABC' in 'abcdefg')"
   ]
  },
  {
   "cell_type": "markdown",
   "metadata": {},
   "source": [
    "***\n",
    "#### Exemplo de comparação\n",
    "***"
   ]
  },
  {
   "cell_type": "code",
   "execution_count": 8,
   "metadata": {},
   "outputs": [
    {
     "name": "stdout",
     "output_type": "stream",
     "text": [
      "False\n"
     ]
    }
   ],
   "source": [
    "# O número que representa A na tabela ascii é diferente do número que representa a (case sensitive)\n",
    "print('A' == 'a')"
   ]
  },
  {
   "cell_type": "code",
   "execution_count": 9,
   "metadata": {},
   "outputs": [
    {
     "name": "stdout",
     "output_type": "stream",
     "text": [
      "True\n"
     ]
    }
   ],
   "source": [
    "# O número que representa a na tabela ascii é menor do número que representa c\n",
    "print('a' < 'c')"
   ]
  }
 ],
 "metadata": {
  "kernelspec": {
   "display_name": "Python 3",
   "language": "python",
   "name": "python3"
  },
  "language_info": {
   "codemirror_mode": {
    "name": "ipython",
    "version": 3
   },
   "file_extension": ".py",
   "mimetype": "text/x-python",
   "name": "python",
   "nbconvert_exporter": "python",
   "pygments_lexer": "ipython3",
   "version": "3.5.2"
  }
 },
 "nbformat": 4,
 "nbformat_minor": 2
}
