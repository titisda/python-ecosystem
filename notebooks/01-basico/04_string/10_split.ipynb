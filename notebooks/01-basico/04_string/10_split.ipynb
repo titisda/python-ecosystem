{
 "cells": [
  {
   "cell_type": "markdown",
   "metadata": {},
   "source": [
    "# split\n",
    "***"
   ]
  },
  {
   "cell_type": "markdown",
   "metadata": {},
   "source": [
    "Função que tem como separador padrão caracter ' ' e recebe uma string e devolve um lista contendo a string separada de acordo com a ocorrência do separador"
   ]
  },
  {
   "cell_type": "markdown",
   "metadata": {},
   "source": [
    "***\n",
    "#### Exemplos\n",
    "***"
   ]
  },
  {
   "cell_type": "code",
   "execution_count": 1,
   "metadata": {},
   "outputs": [
    {
     "name": "stdout",
     "output_type": "stream",
     "text": [
      "['Ola', 'meu', 'nome', 'é', 'pedro']\n"
     ]
    }
   ],
   "source": [
    "phrase = \"Ola meu nome é pedro\"\n",
    "print(phrase.split())"
   ]
  },
  {
   "cell_type": "code",
   "execution_count": 2,
   "metadata": {},
   "outputs": [
    {
     "name": "stdout",
     "output_type": "stream",
     "text": [
      "['criptografar ', ' c ', ' decriptografar ', ' d']\n"
     ]
    }
   ],
   "source": [
    "phrase = \"criptografar ou c ou decriptografar ou d\"\n",
    "print(phrase.split('ou'))"
   ]
  },
  {
   "cell_type": "markdown",
   "metadata": {},
   "source": [
    "***\n",
    "#### Implementação\n",
    "***"
   ]
  },
  {
   "cell_type": "code",
   "execution_count": 3,
   "metadata": {
    "collapsed": true
   },
   "outputs": [],
   "source": [
    "def split(phrase, separator=' '):\n",
    "    word_list = []\n",
    "    word = ''\n",
    "    i = 0\n",
    "    \n",
    "    while (i < len(phrase) + 1 - len(separator)):\n",
    "        if (phrase[i:i+len(separator)] != separator):\n",
    "            word += phrase[i]\n",
    "        else:\n",
    "            if word != '':\n",
    "                word_list.append(word)\n",
    "                i += len(separator)\n",
    "                word = ''\n",
    "                continue\n",
    "                \n",
    "        i += 1\n",
    "        \n",
    "    word += phrase[i:]\n",
    "    \n",
    "    if word != '':\n",
    "        word_list.append(word)\n",
    "        \n",
    "    return word_list"
   ]
  },
  {
   "cell_type": "code",
   "execution_count": 4,
   "metadata": {},
   "outputs": [
    {
     "name": "stdout",
     "output_type": "stream",
     "text": [
      "['Ola', 'meu', 'nome', 'é', 'pedro']\n"
     ]
    }
   ],
   "source": [
    "print(split('Ola meu nome é pedro'))"
   ]
  },
  {
   "cell_type": "code",
   "execution_count": 5,
   "metadata": {},
   "outputs": [
    {
     "name": "stdout",
     "output_type": "stream",
     "text": [
      "['Ola', 'nome é pedro']\n"
     ]
    }
   ],
   "source": [
    "print(split('Ola meu nome é pedro', ' meu '))"
   ]
  },
  {
   "cell_type": "code",
   "execution_count": 6,
   "metadata": {},
   "outputs": [
    {
     "name": "stdout",
     "output_type": "stream",
     "text": [
      "['criptografar', 'c', 'decriptografar', 'd']\n"
     ]
    }
   ],
   "source": [
    "print(split('criptografar ou c ou decriptografar ou d', ' ou '))"
   ]
  },
  {
   "cell_type": "markdown",
   "metadata": {},
   "source": [
    "***\n",
    "#### Como funciona\n",
    "***"
   ]
  },
  {
   "cell_type": "markdown",
   "metadata": {},
   "source": [
    "* **separador**: \" meu \"\n",
    "\n",
    "\n",
    "* **string**: \"Ola meu nome é pedro\"\n",
    "\n",
    "\n",
    "* **Sequência**: \"Ola m\", \"la me\", \"a meu\", \" meu \"\n",
    "\n",
    "\n",
    "* **word**: \"Ola\"\n",
    "\n",
    "\n",
    "* **Sequência**: \"nome \", \"ome é\", \"me é \", \"e é p\", \" é pe\", \"é ped\", \" pedr\", \"pedro\"\n",
    "\n",
    "\n",
    "* **list**: [\"Ola\", \"nome é pedro\"]\n",
    "\n",
    "\n",
    "* **Obs**: A cada 5 caracteres que é o tamanho do \" meu \" ele vai comparar se não for igual vai guardar o primeiro caracter e andar uma casa até acha igual, ao achar ele armazena na lista todos os caracteres encontrados e pula o \"meu\""
   ]
  }
 ],
 "metadata": {
  "kernelspec": {
   "display_name": "Python 3",
   "language": "python",
   "name": "python3"
  },
  "language_info": {
   "codemirror_mode": {
    "name": "ipython",
    "version": 3
   },
   "file_extension": ".py",
   "mimetype": "text/x-python",
   "name": "python",
   "nbconvert_exporter": "python",
   "pygments_lexer": "ipython3",
   "version": "3.5.2"
  }
 },
 "nbformat": 4,
 "nbformat_minor": 2
}
