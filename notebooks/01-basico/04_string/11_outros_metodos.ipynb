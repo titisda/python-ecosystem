{
 "cells": [
  {
   "cell_type": "markdown",
   "metadata": {},
   "source": [
    "# Outros métodos importantes\n",
    "***"
   ]
  },
  {
   "cell_type": "code",
   "execution_count": 1,
   "metadata": {},
   "outputs": [
    {
     "name": "stdout",
     "output_type": "stream",
     "text": [
      "Victor\n"
     ]
    }
   ],
   "source": [
    "# Devolva uma cópia da string com seu primeiro caractere em maiúsculas e o resto em miniatura.\n",
    "print(\"victor\".capitalize())"
   ]
  },
  {
   "cell_type": "markdown",
   "metadata": {},
   "source": [
    "***"
   ]
  },
  {
   "cell_type": "code",
   "execution_count": 2,
   "metadata": {},
   "outputs": [
    {
     "name": "stdout",
     "output_type": "stream",
     "text": [
      "A soma dos número 1 + 2 = 3\n"
     ]
    }
   ],
   "source": [
    "# Execute uma operação de formatação de seqüência de caracteres.\n",
    "print(\"A soma dos número {0} + {1} = {2}\".format(1, 2, 1+2))"
   ]
  },
  {
   "cell_type": "markdown",
   "metadata": {},
   "source": [
    "***"
   ]
  },
  {
   "cell_type": "code",
   "execution_count": 3,
   "metadata": {},
   "outputs": [
    {
     "name": "stdout",
     "output_type": "stream",
     "text": [
      "Receita: 1 presunto + 1 leite = cafe da manhã\n"
     ]
    }
   ],
   "source": [
    "# Execute uma operação de formatação de seqüência de caracteres.\n",
    "print(\"Receita: {numero} {porco} + {numero} {vaca} = {comida}\"\n",
    "      .format(numero=1, porco=\"presunto\", vaca=\"leite\", comida=\"cafe da manhã\")\n",
    ")"
   ]
  },
  {
   "cell_type": "markdown",
   "metadata": {},
   "source": [
    "***"
   ]
  },
  {
   "cell_type": "code",
   "execution_count": 4,
   "metadata": {},
   "outputs": [
    {
     "name": "stdout",
     "output_type": "stream",
     "text": [
      "spam       =   123.4567\n",
      "      spam = 123.4567  \n"
     ]
    }
   ],
   "source": [
    "# Preenche com linhas em branco o número de caracteres, no caso 10\n",
    "print(\"{0:10} = {1:10}\".format('spam', 123.4567))\n",
    "# Joga o elemento spam 10 caracteres para a direita e o número 10 caracteres a esquerda\n",
    "print(\"{0:>10} = {1:<10}\".format('spam', 123.4567))"
   ]
  },
  {
   "cell_type": "markdown",
   "metadata": {},
   "source": [
    "***"
   ]
  },
  {
   "cell_type": "code",
   "execution_count": 5,
   "metadata": {},
   "outputs": [
    {
     "name": "stdout",
     "output_type": "stream",
     "text": [
      "3.131590e+00, 3.13, 3.13159\n",
      "FF, 377, 11111111\n",
      "0.3333\n"
     ]
    }
   ],
   "source": [
    "# Formatação de casas decimais e de números\n",
    "print(\"{0:e}, {1:.2f}, {2:g}\".format(3.13159, 3.13159, 3.13159))\n",
    "# Formatar em hexadecima, octal e binario\n",
    "print(\"{0:X}, {1:o}, {2:b}\".format(255, 255, 255))\n",
    "# Número na posição 0 vai ter o valor da posição 1 de casas decimais\n",
    "print(\"{0:.{1}f}\".format(1/3.0, 4))"
   ]
  },
  {
   "cell_type": "markdown",
   "metadata": {},
   "source": [
    "***"
   ]
  },
  {
   "cell_type": "code",
   "execution_count": 6,
   "metadata": {},
   "outputs": [
    {
     "name": "stdout",
     "output_type": "stream",
     "text": [
      "Mais 2 presunto\n"
     ]
    }
   ],
   "source": [
    "# Execute uma operação de formatação de seqüência de caracteres em dicionários.\n",
    "print(\"Mais %(qtd)d %(food)s\" % {'qtd': 2, 'food': 'presunto'})"
   ]
  },
  {
   "cell_type": "markdown",
   "metadata": {},
   "source": [
    "***"
   ]
  },
  {
   "cell_type": "code",
   "execution_count": 7,
   "metadata": {},
   "outputs": [
    {
     "name": "stdout",
     "output_type": "stream",
     "text": [
      "Exemplo do strip....lol!!!\n"
     ]
    }
   ],
   "source": [
    "# Retira o carater que você desejar do lado direto e esquerdo da string\n",
    "print(\"0000000Exemplo do strip....lol!!!0000000\".strip('0'))"
   ]
  },
  {
   "cell_type": "markdown",
   "metadata": {},
   "source": [
    "***"
   ]
  },
  {
   "cell_type": "code",
   "execution_count": 8,
   "metadata": {},
   "outputs": [
    {
     "name": "stdout",
     "output_type": "stream",
     "text": [
      "Exemplo do strip\n"
     ]
    }
   ],
   "source": [
    "# Retira os espaços em brancos do lado direto e esquerdo\n",
    "print(\"    Exemplo do strip     \".strip())"
   ]
  },
  {
   "cell_type": "markdown",
   "metadata": {},
   "source": [
    "***"
   ]
  },
  {
   "cell_type": "code",
   "execution_count": 9,
   "metadata": {},
   "outputs": [
    {
     "name": "stdout",
     "output_type": "stream",
     "text": [
      "14\n"
     ]
    }
   ],
   "source": [
    "# Retorna o número de caracteres da string\n",
    "print(len(\"Exemplo do len\"))"
   ]
  }
 ],
 "metadata": {
  "kernelspec": {
   "display_name": "Python 3",
   "language": "python",
   "name": "python3"
  },
  "language_info": {
   "codemirror_mode": {
    "name": "ipython",
    "version": 3
   },
   "file_extension": ".py",
   "mimetype": "text/x-python",
   "name": "python",
   "nbconvert_exporter": "python",
   "pygments_lexer": "ipython3",
   "version": "3.5.2"
  }
 },
 "nbformat": 4,
 "nbformat_minor": 2
}
