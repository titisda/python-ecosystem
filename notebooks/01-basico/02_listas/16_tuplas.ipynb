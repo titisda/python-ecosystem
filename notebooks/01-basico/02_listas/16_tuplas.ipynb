{
 "cells": [
  {
   "cell_type": "markdown",
   "metadata": {},
   "source": [
    "# Tuplas\n",
    "***"
   ]
  },
  {
   "cell_type": "markdown",
   "metadata": {},
   "source": [
    "Tuplas são iguais a listas, porém são imutaveis e se definem com parenteses () e não com colchetes [], e tem bem menos métodos, sendo mais constantes\n",
    "\n",
    "Se eu crio uma tupla no meu programa eu garanto que eles não irão ser modificados, diferente das listas\n",
    "\n",
    "Se definir tupla de um único elemento **t = (40)** sem a virgula virá um número normal\n",
    "\n",
    "Podemos usar algumas funções de lista: **len()**, **index()**, **max()**, **min()**, **count()**\n",
    "\n",
    "Ao retornar várias variaveis de uma função e armazenar em uma única variavel, ele irá armazenar como tupla"
   ]
  },
  {
   "cell_type": "markdown",
   "metadata": {},
   "source": [
    "***\n",
    "#### Exemplos\n",
    "***"
   ]
  },
  {
   "cell_type": "code",
   "execution_count": 1,
   "metadata": {},
   "outputs": [
    {
     "name": "stdout",
     "output_type": "stream",
     "text": [
      "()\n"
     ]
    }
   ],
   "source": [
    "# Tupla vazia\n",
    "tupla = ()\n",
    "print(tupla)"
   ]
  },
  {
   "cell_type": "markdown",
   "metadata": {},
   "source": [
    "***"
   ]
  },
  {
   "cell_type": "code",
   "execution_count": 2,
   "metadata": {},
   "outputs": [
    {
     "name": "stdout",
     "output_type": "stream",
     "text": [
      "(1,)\n"
     ]
    }
   ],
   "source": [
    "# Tupla de um único elemento, obrigatorio o uso da virgula no final para não definir como um número normal\n",
    "tupla = (1,)\n",
    "print(tupla)"
   ]
  },
  {
   "cell_type": "markdown",
   "metadata": {},
   "source": [
    "***"
   ]
  },
  {
   "cell_type": "code",
   "execution_count": 3,
   "metadata": {},
   "outputs": [
    {
     "name": "stdout",
     "output_type": "stream",
     "text": [
      "1\n"
     ]
    }
   ],
   "source": [
    "# Podemos usar algumas funções de lista\n",
    "print(len(tupla))"
   ]
  },
  {
   "cell_type": "markdown",
   "metadata": {},
   "source": [
    "***"
   ]
  },
  {
   "cell_type": "code",
   "execution_count": 4,
   "metadata": {},
   "outputs": [
    {
     "name": "stdout",
     "output_type": "stream",
     "text": [
      "(1, 2.3, 5, 7)\n",
      "(8, 3.6, 3, 12)\n"
     ]
    }
   ],
   "source": [
    "# Declarar tuplas\n",
    "tupla1 = 1, 2.3, 5, 7\n",
    "tupla2 = (8, 3.6, 3, 12)\n",
    "print(tupla1)\n",
    "print(tupla2)"
   ]
  },
  {
   "cell_type": "markdown",
   "metadata": {},
   "source": [
    "***"
   ]
  },
  {
   "cell_type": "code",
   "execution_count": 5,
   "metadata": {},
   "outputs": [
    {
     "name": "stdout",
     "output_type": "stream",
     "text": [
      "(10, 11, 12)\n"
     ]
    }
   ],
   "source": [
    "# Atribuir variáveis a uma tupla\n",
    "a = 10\n",
    "b = 11\n",
    "c = 12\n",
    "tupla = a, b, c\n",
    "print(tupla)"
   ]
  },
  {
   "cell_type": "markdown",
   "metadata": {},
   "source": [
    "***"
   ]
  },
  {
   "cell_type": "code",
   "execution_count": 6,
   "metadata": {},
   "outputs": [
    {
     "name": "stdout",
     "output_type": "stream",
     "text": [
      "(1, 2, 3)\n"
     ]
    }
   ],
   "source": [
    "# Converter listas em tuplas\n",
    "tupla = tuple([1, 2, 3])\n",
    "print(tupla)"
   ]
  },
  {
   "cell_type": "markdown",
   "metadata": {},
   "source": [
    "***"
   ]
  },
  {
   "cell_type": "code",
   "execution_count": 7,
   "metadata": {},
   "outputs": [
    {
     "name": "stdout",
     "output_type": "stream",
     "text": [
      "(2, (3, 4), 5)\n",
      "elemento: 4\n"
     ]
    }
   ],
   "source": [
    "# Tuplas dentro de tuplas\n",
    "tupla = (2, (3, 4), 5)\n",
    "print(tupla)\n",
    "print(\"elemento:\", tupla[1][1])"
   ]
  },
  {
   "cell_type": "markdown",
   "metadata": {},
   "source": [
    "***"
   ]
  },
  {
   "cell_type": "code",
   "execution_count": 8,
   "metadata": {},
   "outputs": [
    {
     "name": "stdout",
     "output_type": "stream",
     "text": [
      "((3, 4), 5)\n"
     ]
    }
   ],
   "source": [
    "# Slices em tuplas\n",
    "print(tupla[1:4])"
   ]
  },
  {
   "cell_type": "markdown",
   "metadata": {},
   "source": [
    "***"
   ]
  },
  {
   "cell_type": "code",
   "execution_count": 9,
   "metadata": {},
   "outputs": [
    {
     "name": "stdout",
     "output_type": "stream",
     "text": [
      "(2, [3, 4], 5)\n",
      "(2, [3, 5], 5)\n",
      "elemento: 5\n"
     ]
    }
   ],
   "source": [
    "# Lista dentro de tuplas\n",
    "tupla = (2, [3, 4], 5)\n",
    "print(tupla)\n",
    "tupla[1][1] = 5\n",
    "print(tupla)\n",
    "print(\"elemento:\", tupla[1][1])"
   ]
  },
  {
   "cell_type": "markdown",
   "metadata": {},
   "source": [
    "***"
   ]
  },
  {
   "cell_type": "code",
   "execution_count": 10,
   "metadata": {},
   "outputs": [
    {
     "name": "stdout",
     "output_type": "stream",
     "text": [
      "(1, 2, 3, 4, 5, 6)\n"
     ]
    }
   ],
   "source": [
    "# Concatenação de tuplas\n",
    "tuplas = (1,2,3) + (4,5,6)\n",
    "print(tuplas)"
   ]
  },
  {
   "cell_type": "markdown",
   "metadata": {},
   "source": [
    "***"
   ]
  },
  {
   "cell_type": "code",
   "execution_count": 11,
   "metadata": {},
   "outputs": [
    {
     "name": "stdout",
     "output_type": "stream",
     "text": [
      "(1, 2, 'aaaa', 3)\n"
     ]
    }
   ],
   "source": [
    "# Inserir texto dentro de tuplas\n",
    "tupla = (1, 2, \"aaaa\", 3)\n",
    "print(tupla)"
   ]
  },
  {
   "cell_type": "markdown",
   "metadata": {},
   "source": [
    "***"
   ]
  },
  {
   "cell_type": "code",
   "execution_count": 12,
   "metadata": {},
   "outputs": [
    {
     "name": "stdout",
     "output_type": "stream",
     "text": [
      "1, 2, 3, 4, 5, 6, "
     ]
    }
   ],
   "source": [
    "# Usar tupla em laços\n",
    "for tupla in tuplas:\n",
    "    print(tupla, end=', ')"
   ]
  },
  {
   "cell_type": "markdown",
   "metadata": {},
   "source": [
    "***"
   ]
  },
  {
   "cell_type": "code",
   "execution_count": 13,
   "metadata": {},
   "outputs": [
    {
     "name": "stdout",
     "output_type": "stream",
     "text": [
      "2\n"
     ]
    }
   ],
   "source": [
    "# Retorna o indice do elemento 3 da tupla\n",
    "tupla = (1, 2, 3, 4, 5)\n",
    "print(tupla.index(3))"
   ]
  },
  {
   "cell_type": "markdown",
   "metadata": {},
   "source": [
    "***"
   ]
  },
  {
   "cell_type": "code",
   "execution_count": 14,
   "metadata": {},
   "outputs": [
    {
     "name": "stdout",
     "output_type": "stream",
     "text": [
      "2\n"
     ]
    }
   ],
   "source": [
    "# Retorna o número de vezes que o elemento 1 aparece na tupla\n",
    "tupla = (1, 2, 3, 3, 5)\n",
    "print(tupla.count(3))"
   ]
  }
 ],
 "metadata": {
  "kernelspec": {
   "display_name": "Python 3",
   "language": "python",
   "name": "python3"
  },
  "language_info": {
   "codemirror_mode": {
    "name": "ipython",
    "version": 3
   },
   "file_extension": ".py",
   "mimetype": "text/x-python",
   "name": "python",
   "nbconvert_exporter": "python",
   "pygments_lexer": "ipython3",
   "version": "3.5.2"
  }
 },
 "nbformat": 4,
 "nbformat_minor": 2
}
