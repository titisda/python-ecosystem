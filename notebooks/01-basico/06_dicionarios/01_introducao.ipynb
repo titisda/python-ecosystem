{
 "cells": [
  {
   "cell_type": "markdown",
   "metadata": {},
   "source": [
    "# Introdução\n",
    "***"
   ]
  },
  {
   "cell_type": "markdown",
   "metadata": {},
   "source": [
    "Dicionario é uma lista com chave e valor, segue a mesma lógica dos dicionarios da vida real, temos um termo que é a chave e o seu significado que é o valor"
   ]
  },
  {
   "cell_type": "markdown",
   "metadata": {},
   "source": [
    "***\n",
    "#### Exemplos\n",
    "***"
   ]
  },
  {
   "cell_type": "code",
   "execution_count": 1,
   "metadata": {
    "collapsed": true
   },
   "outputs": [],
   "source": [
    "# Inicializar um dicionario vazio\n",
    "dictionary = {}"
   ]
  },
  {
   "cell_type": "markdown",
   "metadata": {},
   "source": [
    "***"
   ]
  },
  {
   "cell_type": "code",
   "execution_count": 2,
   "metadata": {
    "collapsed": true
   },
   "outputs": [],
   "source": [
    "# Inizializar um dicionario com valores definidos\n",
    "contact = {'name': 'Pedro Calile', 'phone': 99283945, 'email': 'pedro@gmail.com'}"
   ]
  },
  {
   "cell_type": "markdown",
   "metadata": {},
   "source": [
    "***"
   ]
  },
  {
   "cell_type": "code",
   "execution_count": 3,
   "metadata": {},
   "outputs": [
    {
     "name": "stdout",
     "output_type": "stream",
     "text": [
      "Pedro Calile\n",
      "99283945\n",
      "pedro@gmail.com\n"
     ]
    }
   ],
   "source": [
    "# Pegar o valor de uma determinada chave\n",
    "print(contact['name'])\n",
    "print(contact['phone'])\n",
    "print(contact['email'])"
   ]
  },
  {
   "cell_type": "markdown",
   "metadata": {},
   "source": [
    "***"
   ]
  },
  {
   "cell_type": "code",
   "execution_count": 4,
   "metadata": {
    "collapsed": true
   },
   "outputs": [],
   "source": [
    "# Dicionarios com parâmetros de tipos diferentes\n",
    "pi = None\n",
    "dictionary = {'name': 'Função tal',\n",
    "              pi: 3.1416,\n",
    "              4.55: 'não sei oq é isso',\n",
    "              10: [1, 2, 3, 4, 5, 6, 7, 8, 9, 10],\n",
    "              'tuple_key': (1, 2, 3, 4),\n",
    "              'contact': contact,\n",
    "              'function': lambda x: x+1\n",
    "             }"
   ]
  },
  {
   "cell_type": "markdown",
   "metadata": {},
   "source": [
    "***"
   ]
  },
  {
   "cell_type": "code",
   "execution_count": 5,
   "metadata": {},
   "outputs": [
    {
     "name": "stdout",
     "output_type": "stream",
     "text": [
      "Função tal\n",
      "3.1416\n",
      "não sei oq é isso\n",
      "[1, 2, 3, 4, 5, 6, 7, 8, 9, 10]\n",
      "(1, 2, 3, 4)\n",
      "{'name': 'Pedro Calile', 'email': 'pedro@gmail.com', 'phone': 99283945}\n",
      "<function <lambda> at 0x7fea34780ea0>\n"
     ]
    }
   ],
   "source": [
    "# Imprimir os valores inseridos dentro dessas chaves\n",
    "print(dictionary['name'])\n",
    "print(dictionary[pi])\n",
    "print(dictionary[4.55])\n",
    "print(dictionary[10])\n",
    "print(dictionary['tuple_key'])\n",
    "print(dictionary['contact'])\n",
    "print(dictionary['function'])"
   ]
  },
  {
   "cell_type": "markdown",
   "metadata": {},
   "source": [
    "***"
   ]
  },
  {
   "cell_type": "code",
   "execution_count": 6,
   "metadata": {},
   "outputs": [
    {
     "name": "stdout",
     "output_type": "stream",
     "text": [
      "{'name': 'Pedro Morais', 'email': 'pedro@gmail.com', 'nova_chave': 'novo valor', 'phone': 99283945}\n"
     ]
    }
   ],
   "source": [
    "# Adicionar/editar uma chave e valor dentro de um dicionario\n",
    "contact['nova_chave'] = 'novo valor'\n",
    "contact['name'] = 'Pedro Morais'\n",
    "print(contact)"
   ]
  },
  {
   "cell_type": "markdown",
   "metadata": {},
   "source": [
    "***"
   ]
  },
  {
   "cell_type": "code",
   "execution_count": 7,
   "metadata": {},
   "outputs": [
    {
     "name": "stdout",
     "output_type": "stream",
     "text": [
      "{'name': 'Lucas', 'job': 'Teacher'}\n"
     ]
    }
   ],
   "source": [
    "# Podemos criar um dicionario através do seu construtor\n",
    "dictionary = dict(name='Lucas', job='Teacher')\n",
    "print(dictionary)"
   ]
  }
 ],
 "metadata": {
  "kernelspec": {
   "display_name": "Python 3",
   "language": "python",
   "name": "python3"
  },
  "language_info": {
   "codemirror_mode": {
    "name": "ipython",
    "version": 3
   },
   "file_extension": ".py",
   "mimetype": "text/x-python",
   "name": "python",
   "nbconvert_exporter": "python",
   "pygments_lexer": "ipython3",
   "version": "3.5.2"
  }
 },
 "nbformat": 4,
 "nbformat_minor": 2
}
