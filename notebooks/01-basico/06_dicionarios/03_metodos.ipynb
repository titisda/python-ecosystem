{
 "cells": [
  {
   "cell_type": "markdown",
   "metadata": {},
   "source": [
    "# Métodos\n",
    "***"
   ]
  },
  {
   "cell_type": "markdown",
   "metadata": {},
   "source": [
    "Especificar alguns métodos do dicionario\n",
    "\n",
    "Quando você muda um dicionario dentro da função ele também muda fora dela\n",
    "\n",
    "Você também pode criar um dicionario dentro do outro: ```dictionary['chave1']['chave2']['chave3']```\n",
    "\n",
    "**dictionary.get(key, value=None)**:\n",
    "\n",
    "* Função que recebe um dicionario, uma chave, e opcionalmente um valor, e se a chave estiver no dicionário devolve o valor contido nessa chave, caso contrário devolve o valor passado para a função\n",
    "\n",
    "**dictionary.items(), .keys(), .values()**:\n",
    "\n",
    "* **items()**: Imprime uma lista de tuplas, sendo que cada tupla contem a chave e o valor da chave para o dicionario\n",
    "\n",
    "\n",
    "* **keys()**: Imprime uma lista contendo todas as chaves do dicionario\n",
    "\n",
    "\n",
    "* **values()**: Imprime uma lista contendo todos os valores das chaves do dicionario\n",
    "\n",
    "\n",
    "* **obs**: Não há como acessar os itens, keys e values por meio de indices, por exemplo values[0]\n",
    "\n",
    "**dictionary.copy()**:\n",
    "\n",
    "* Cria uma copia do dicionario\n",
    "\n",
    "**dictionary.pop(key)**:\n",
    "\n",
    "* Elimina a chave e seu valor do dicionario\n",
    "\n",
    "**dictionary.popitem()**:\n",
    "\n",
    "* Remove o primeiro item que estive no seu dicionario e retorna ele em tupla\n",
    "\n",
    "**dictionary.clear()**:\n",
    "\n",
    "* Apaga todos os dados do dicionario, limpa ele\n",
    "\n",
    "**dictionary.setdefault(key, value)**:\n",
    "\n",
    "* Passando uma chave como parâmetro e o valor, se a chave já existir ele simplismente retorna o valor, caso a chave não exista ele cria a chave com o valor passado\n",
    "\n",
    "\n",
    "* Passando uma chave que não existe como parâmetro sem o parâmetro value ele cria essa chave com valor None\n",
    "\n",
    "\n",
    "* Passando uma chave que já existe sem o parâmetro value ele só retorna o value da chave"
   ]
  },
  {
   "cell_type": "markdown",
   "metadata": {},
   "source": [
    "***\n",
    "#### Exemplo get: \n",
    "***"
   ]
  },
  {
   "cell_type": "code",
   "execution_count": 1,
   "metadata": {
    "collapsed": true
   },
   "outputs": [],
   "source": [
    "# Criar o dicionario de dados\n",
    "contact = {'name': 'Pedro Calile', 'phone': 12349992, 'email': 'pedro@gmail.com'}"
   ]
  },
  {
   "cell_type": "code",
   "execution_count": 2,
   "metadata": {},
   "outputs": [
    {
     "name": "stdout",
     "output_type": "stream",
     "text": [
      "Pedro Calile\n",
      "Pedro Calile\n",
      "12349992\n",
      "pedro@gmail.com\n",
      "Não faz parte do dicionario\n"
     ]
    }
   ],
   "source": [
    "# Função que recebe um dicionario, uma chave, e opcionalmente um valor, e se a chave estiver no\n",
    "# dicionário devolve o valor contido nessa chave, caso contrário devolve o valor passado para a \n",
    "# função\n",
    "print(contact.get('name'))\n",
    "print(contact['name'])\n",
    "print(contact.get('phone', 'Não faz parte do dicionario'))\n",
    "print(contact.get('email'))\n",
    "print(contact.get('number', 'Não faz parte do dicionario'))"
   ]
  },
  {
   "cell_type": "code",
   "execution_count": 3,
   "metadata": {},
   "outputs": [
    {
     "name": "stdout",
     "output_type": "stream",
     "text": [
      "Pedro Calile\n"
     ]
    }
   ],
   "source": [
    "# Implementação\n",
    "def get(dictionary, key, value=None):\n",
    "    if key in dictionary:\n",
    "        return dictionary[key]\n",
    "    else:\n",
    "        return value\n",
    "    \n",
    "print(get(contact, 'name', 'Não faz parte do dicionario'))"
   ]
  },
  {
   "cell_type": "markdown",
   "metadata": {},
   "source": [
    "***\n",
    "#### Exemplo items, keys e values\n",
    "***"
   ]
  },
  {
   "cell_type": "code",
   "execution_count": 4,
   "metadata": {},
   "outputs": [
    {
     "name": "stdout",
     "output_type": "stream",
     "text": [
      "('name', 'Pedro Calile')\n",
      "('email', 'pedro@gmail.com')\n",
      "('phone', 12349992)\n"
     ]
    }
   ],
   "source": [
    "# Imprime uma lista de tuplas, sendo que cada tupla contem a chave e o valor da chave para o \n",
    "# dicionario\n",
    "for item in contact.items():\n",
    "    print(item)"
   ]
  },
  {
   "cell_type": "code",
   "execution_count": 5,
   "metadata": {},
   "outputs": [
    {
     "name": "stdout",
     "output_type": "stream",
     "text": [
      "name\n",
      "email\n",
      "phone\n"
     ]
    }
   ],
   "source": [
    "# Imprime uma lista contendo todas as chaves do dicionario\n",
    "for key in contact.keys():\n",
    "    print(key)"
   ]
  },
  {
   "cell_type": "code",
   "execution_count": 6,
   "metadata": {},
   "outputs": [
    {
     "name": "stdout",
     "output_type": "stream",
     "text": [
      "Pedro Calile\n",
      "pedro@gmail.com\n",
      "12349992\n"
     ]
    }
   ],
   "source": [
    "# Imprime uma lista contendo todos os valores das chaves do dicionario\n",
    "for value in contact.values():\n",
    "    print(value)"
   ]
  },
  {
   "cell_type": "code",
   "execution_count": 7,
   "metadata": {},
   "outputs": [
    {
     "name": "stdout",
     "output_type": "stream",
     "text": [
      "[('name', 'Pedro Calile'), ('email', 'pedro@gmail.com'), ('phone', 12349992)]\n",
      "None\n"
     ]
    }
   ],
   "source": [
    "# Implementação para todos os modelos acima\n",
    "def items(dictionary):\n",
    "    list = []\n",
    "    for key in dictionary:\n",
    "        list.append((key, dictionary[key]))\n",
    "    print(list)\n",
    "        \n",
    "print(items(contact))"
   ]
  },
  {
   "cell_type": "markdown",
   "metadata": {},
   "source": [
    "***\n",
    "#### Exemplo copy()\n",
    "***"
   ]
  },
  {
   "cell_type": "code",
   "execution_count": 8,
   "metadata": {
    "collapsed": true
   },
   "outputs": [],
   "source": [
    "# Cria uma copia do dicionario\n",
    "dictionary = contact.copy()"
   ]
  },
  {
   "cell_type": "code",
   "execution_count": 9,
   "metadata": {
    "collapsed": true
   },
   "outputs": [],
   "source": [
    "# Inserir um valor no novo dicionario\n",
    "dictionary['address'] = 'Av. SP'"
   ]
  },
  {
   "cell_type": "code",
   "execution_count": 10,
   "metadata": {},
   "outputs": [
    {
     "name": "stdout",
     "output_type": "stream",
     "text": [
      "{'name': 'Pedro Calile', 'email': 'pedro@gmail.com', 'phone': 12349992}\n",
      "{'name': 'Pedro Calile', 'email': 'pedro@gmail.com', 'phone': 12349992, 'address': 'Av. SP'}\n"
     ]
    }
   ],
   "source": [
    "# Comparando os dicionarios\n",
    "print(contact)\n",
    "print(dictionary)"
   ]
  },
  {
   "cell_type": "markdown",
   "metadata": {},
   "source": [
    "***\n",
    "#### Exemplo pop e popitem\n",
    "***"
   ]
  },
  {
   "cell_type": "code",
   "execution_count": 11,
   "metadata": {},
   "outputs": [
    {
     "name": "stdout",
     "output_type": "stream",
     "text": [
      "Av. SP\n"
     ]
    }
   ],
   "source": [
    "# Elimina a chave e seu valor do dicionario\n",
    "print(dictionary.pop('address'))"
   ]
  },
  {
   "cell_type": "code",
   "execution_count": 12,
   "metadata": {},
   "outputs": [
    {
     "name": "stdout",
     "output_type": "stream",
     "text": [
      "{'name': 'Pedro Calile', 'email': 'pedro@gmail.com', 'phone': 12349992}\n"
     ]
    }
   ],
   "source": [
    "# Imprime o dicionario sem o address key\n",
    "print(dictionary)"
   ]
  },
  {
   "cell_type": "code",
   "execution_count": 13,
   "metadata": {},
   "outputs": [
    {
     "name": "stdout",
     "output_type": "stream",
     "text": [
      "('name', 'Pedro Calile')\n"
     ]
    }
   ],
   "source": [
    "# Remove o primeiro item que estive no seu dicionario e retorna ele em tupla\n",
    "print(dictionary.popitem())"
   ]
  },
  {
   "cell_type": "code",
   "execution_count": 14,
   "metadata": {},
   "outputs": [
    {
     "name": "stdout",
     "output_type": "stream",
     "text": [
      "{'email': 'pedro@gmail.com', 'phone': 12349992}\n"
     ]
    }
   ],
   "source": [
    "# Imprime o dicionario sem o name key\n",
    "print(dictionary)"
   ]
  },
  {
   "cell_type": "markdown",
   "metadata": {},
   "source": [
    "***\n",
    "#### Exemplo clean\n",
    "***"
   ]
  },
  {
   "cell_type": "code",
   "execution_count": 15,
   "metadata": {
    "collapsed": true
   },
   "outputs": [],
   "source": [
    "# Apaga todos os dados do dicionario, limpa ele\n",
    "dictionary.clear()"
   ]
  },
  {
   "cell_type": "code",
   "execution_count": 16,
   "metadata": {},
   "outputs": [
    {
     "name": "stdout",
     "output_type": "stream",
     "text": [
      "{}\n"
     ]
    }
   ],
   "source": [
    "# Imprimir o dicionario\n",
    "print(dictionary)"
   ]
  },
  {
   "cell_type": "markdown",
   "metadata": {},
   "source": [
    "***\n",
    "#### Exemplo setdefault\n",
    "***"
   ]
  },
  {
   "cell_type": "code",
   "execution_count": 17,
   "metadata": {},
   "outputs": [
    {
     "name": "stdout",
     "output_type": "stream",
     "text": [
      "Pedro Calile\n"
     ]
    }
   ],
   "source": [
    "# Retorna o valor de name\n",
    "print(contact.setdefault('name'))"
   ]
  },
  {
   "cell_type": "code",
   "execution_count": 18,
   "metadata": {},
   "outputs": [
    {
     "name": "stdout",
     "output_type": "stream",
     "text": [
      "None\n"
     ]
    }
   ],
   "source": [
    "# Criar a chave 'address' com valor None\n",
    "print(contact.setdefault('address'))"
   ]
  },
  {
   "cell_type": "code",
   "execution_count": 19,
   "metadata": {},
   "outputs": [
    {
     "name": "stdout",
     "output_type": "stream",
     "text": [
      "Pedro Calile\n"
     ]
    }
   ],
   "source": [
    "# Retorna o valor de name e se não tiver a chave name crie ela com o valor Victor Arnaud\n",
    "print(contact.setdefault('name', 'Victor Arnaud'))"
   ]
  },
  {
   "cell_type": "code",
   "execution_count": 20,
   "metadata": {},
   "outputs": [
    {
     "name": "stdout",
     "output_type": "stream",
     "text": [
      "Valor do test\n"
     ]
    }
   ],
   "source": [
    "# Retorna o valor de test e se não tiver a chave test crie ela com o valor Valor do test\n",
    "print(contact.setdefault('test', 'Valor do test'))"
   ]
  },
  {
   "cell_type": "code",
   "execution_count": 21,
   "metadata": {},
   "outputs": [
    {
     "name": "stdout",
     "output_type": "stream",
     "text": [
      "{'name': 'Pedro Calile', 'email': 'pedro@gmail.com', 'test': 'Valor do test', 'phone': 12349992, 'address': None}\n"
     ]
    }
   ],
   "source": [
    "# Imprime o dicionario contact\n",
    "print(contact)"
   ]
  }
 ],
 "metadata": {
  "kernelspec": {
   "display_name": "Python 3",
   "language": "python",
   "name": "python3"
  },
  "language_info": {
   "codemirror_mode": {
    "name": "ipython",
    "version": 3
   },
   "file_extension": ".py",
   "mimetype": "text/x-python",
   "name": "python",
   "nbconvert_exporter": "python",
   "pygments_lexer": "ipython3",
   "version": "3.5.2"
  }
 },
 "nbformat": 4,
 "nbformat_minor": 2
}
