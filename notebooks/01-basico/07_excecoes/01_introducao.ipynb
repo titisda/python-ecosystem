{
 "cells": [
  {
   "cell_type": "markdown",
   "metadata": {},
   "source": [
    "# Exceções\n",
    "***"
   ]
  },
  {
   "cell_type": "markdown",
   "metadata": {},
   "source": [
    "Exceções são basicamente erros que são apontados pelo python, se houver um erro ele termina a execução do nosso programa e lança uma mensagem dizendo onde foi o erro\n",
    "\n",
    "**Try except**: Serve para testar um determinado comando e se esse comando der erro, a gente possa lidar com ele sem desligar a aplicação\n",
    "\n",
    "**BaseException**: Classe mãe das exceções."
   ]
  },
  {
   "cell_type": "markdown",
   "metadata": {},
   "source": [
    "***\n",
    "#### Exemplos\n",
    "***"
   ]
  },
  {
   "cell_type": "code",
   "execution_count": 1,
   "metadata": {},
   "outputs": [
    {
     "name": "stdout",
     "output_type": "stream",
     "text": [
      "Digite um número: string\n"
     ]
    },
    {
     "ename": "ValueError",
     "evalue": "invalid literal for int() with base 10: 'string'",
     "output_type": "error",
     "traceback": [
      "\u001b[0;31m---------------------------------------------------------------------------\u001b[0m",
      "\u001b[0;31mValueError\u001b[0m                                Traceback (most recent call last)",
      "\u001b[0;32m<ipython-input-1-b81a9d1c80a5>\u001b[0m in \u001b[0;36m<module>\u001b[0;34m()\u001b[0m\n\u001b[1;32m      1\u001b[0m \u001b[0;31m# Se a gente digitar algo diferente de um número vai dar uma exceção de ValueError\u001b[0m\u001b[0;34m\u001b[0m\u001b[0;34m\u001b[0m\u001b[0m\n\u001b[0;32m----> 2\u001b[0;31m \u001b[0mnumber\u001b[0m \u001b[0;34m=\u001b[0m \u001b[0mint\u001b[0m\u001b[0;34m(\u001b[0m\u001b[0minput\u001b[0m\u001b[0;34m(\u001b[0m\u001b[0;34m\"Digite um número: \"\u001b[0m\u001b[0;34m)\u001b[0m\u001b[0;34m)\u001b[0m\u001b[0;34m\u001b[0m\u001b[0m\n\u001b[0m\u001b[1;32m      3\u001b[0m \u001b[0;34m\u001b[0m\u001b[0m\n\u001b[1;32m      4\u001b[0m \u001b[0mprint\u001b[0m\u001b[0;34m(\u001b[0m\u001b[0mnumber\u001b[0m\u001b[0;34m)\u001b[0m\u001b[0;34m\u001b[0m\u001b[0m\n",
      "\u001b[0;31mValueError\u001b[0m: invalid literal for int() with base 10: 'string'"
     ]
    }
   ],
   "source": [
    "# Se a gente digitar algo diferente de um número vai dar uma exceção de ValueError\n",
    "number = int(input(\"Digite um número: \"))\n",
    "\n",
    "print(number)"
   ]
  },
  {
   "cell_type": "markdown",
   "metadata": {},
   "source": [
    "***"
   ]
  },
  {
   "cell_type": "code",
   "execution_count": 2,
   "metadata": {},
   "outputs": [
    {
     "name": "stdout",
     "output_type": "stream",
     "text": [
      "Digite um número: string\n",
      "Isso não é um número!\n"
     ]
    }
   ],
   "source": [
    "# Vamos tratar esse erro, se der erro ele vai tratar e continuar a execução do programa\n",
    "try:\n",
    "    number = int(input(\"Digite um número: \"))\n",
    "    print(number)\n",
    "except:\n",
    "    print(\"Isso não é um número!\")"
   ]
  },
  {
   "cell_type": "markdown",
   "metadata": {},
   "source": [
    "***"
   ]
  },
  {
   "cell_type": "code",
   "execution_count": 3,
   "metadata": {},
   "outputs": [
    {
     "name": "stdout",
     "output_type": "stream",
     "text": [
      "Digite um número: 10\n",
      "10\n"
     ]
    }
   ],
   "source": [
    "# Podemos fazer algo sempre que um bloco try except for executado com o comando finally\n",
    "# except: captura qualquer exceção lançada\n",
    "try:\n",
    "    number = int(input(\"Digite um número: \"))\n",
    "except:\n",
    "    print(\"Isso não é um número!\")\n",
    "    number = 0\n",
    "finally:\n",
    "    print(number)"
   ]
  },
  {
   "cell_type": "markdown",
   "metadata": {},
   "source": [
    "***"
   ]
  },
  {
   "cell_type": "code",
   "execution_count": 4,
   "metadata": {},
   "outputs": [
    {
     "name": "stdout",
     "output_type": "stream",
     "text": [
      "Indice está maior que o limite da lista\n"
     ]
    }
   ],
   "source": [
    "# Temos dois tipos de erro que podem ocorrer logo temos que especificar as exceções\n",
    "try:\n",
    "    text = open('arquivo.txt', 'r')\n",
    "    line = text.readline()\n",
    "    line = line[10]\n",
    "except FileNotFoundError:\n",
    "    print(\"Arquivo não encontrado!\")\n",
    "    text = open('arquivo.txt', 'w')\n",
    "except IndexError:\n",
    "    print(\"Indice está maior que o limite da lista\")\n",
    "finally:\n",
    "    text.close()"
   ]
  },
  {
   "cell_type": "markdown",
   "metadata": {},
   "source": [
    "***"
   ]
  },
  {
   "cell_type": "code",
   "execution_count": 5,
   "metadata": {},
   "outputs": [
    {
     "name": "stdout",
     "output_type": "stream",
     "text": [
      "Exceção: string index out of range\n"
     ]
    }
   ],
   "source": [
    "# Temos dois tipos de erro que podem ocorrer logo temos que especificar as exceções \n",
    "# (única linha como error)\n",
    "try:\n",
    "    text = open('arquivo.txt', 'r')\n",
    "    line = text.readline()\n",
    "    line = line[10]\n",
    "except (FileNotFoundError, IndexError) as error:\n",
    "    print(\"Exceção:\", error)\n",
    "    text = open('arquivo.txt', 'w')\n",
    "else:\n",
    "    print(\"Se não houver exceções faça isso\")\n",
    "finally:\n",
    "    text.close()"
   ]
  },
  {
   "cell_type": "markdown",
   "metadata": {},
   "source": [
    "***"
   ]
  },
  {
   "cell_type": "code",
   "execution_count": 6,
   "metadata": {},
   "outputs": [
    {
     "name": "stdout",
     "output_type": "stream",
     "text": [
      "Acabou o bloco aninhado\n",
      "Acabou o bloco\n"
     ]
    }
   ],
   "source": [
    "# Try exception aninhados\n",
    "try:\n",
    "    try:\n",
    "        a = int(\"uhaua\")\n",
    "    except ValueError:\n",
    "        a = 0\n",
    "    print(\"Acabou o bloco aninhado\")\n",
    "except ValuerError:\n",
    "    print(\"Deu ruim\")\n",
    "finally:\n",
    "    print(\"Acabou o bloco\")"
   ]
  }
 ],
 "metadata": {
  "kernelspec": {
   "display_name": "Python 3",
   "language": "python",
   "name": "python3"
  },
  "language_info": {
   "codemirror_mode": {
    "name": "ipython",
    "version": 3
   },
   "file_extension": ".py",
   "mimetype": "text/x-python",
   "name": "python",
   "nbconvert_exporter": "python",
   "pygments_lexer": "ipython3",
   "version": "3.5.2"
  }
 },
 "nbformat": 4,
 "nbformat_minor": 2
}
