{
 "cells": [
  {
   "cell_type": "markdown",
   "metadata": {},
   "source": [
    "# Raise e Excessões próprias\n",
    "***"
   ]
  },
  {
   "cell_type": "markdown",
   "metadata": {},
   "source": [
    "**raise**: Levanta uma exceção no meio do código, é usado para que as exceções sejam tratadas no nível adequado, por exemplo, uma exceção da formula de bhaskara mesmo sendo disparada com o raise em um método qualquer ela deve ser tratada onde é implementado a formula de bhaskara"
   ]
  },
  {
   "cell_type": "markdown",
   "metadata": {},
   "source": [
    "***\n",
    "#### Lançando exceções\n",
    "***"
   ]
  },
  {
   "cell_type": "code",
   "execution_count": 1,
   "metadata": {
    "collapsed": true
   },
   "outputs": [],
   "source": [
    "# Método que lança a exceção\n",
    "def get_number():\n",
    "    number = int(input(\"Digite um número maior que 10: \"))\n",
    "    if number < 10:\n",
    "        raise ValueError\n",
    "    else:\n",
    "        return number"
   ]
  },
  {
   "cell_type": "code",
   "execution_count": 2,
   "metadata": {},
   "outputs": [
    {
     "name": "stdout",
     "output_type": "stream",
     "text": [
      "Digite um número maior que 10: 5\n",
      "Pegamos a exceção ValuerError, pois number é menor que 10\n"
     ]
    }
   ],
   "source": [
    "# Bloco que cuida da excessão\n",
    "try:\n",
    "    number = get_number()\n",
    "except ValueError:\n",
    "    print(\"Pegamos a exceção ValuerError, pois number é menor que 10\")"
   ]
  },
  {
   "cell_type": "markdown",
   "metadata": {},
   "source": [
    "***\n",
    "#### Criando sua própria exceção\n",
    "***"
   ]
  },
  {
   "cell_type": "code",
   "execution_count": 1,
   "metadata": {},
   "outputs": [],
   "source": [
    "# Criar uma exceção\n",
    "class ValueLessThanTen(Exception):\n",
    "    def __init__(self, number):\n",
    "        self.number = number\n",
    "        \n",
    "    def __str__(self):\n",
    "        return \"Valor tem que ser maior que 10! Você inseriu {0}\".format(self.number)\n",
    "    \n",
    "    def putz(self):\n",
    "        print(\"Deu merda!\")"
   ]
  },
  {
   "cell_type": "code",
   "execution_count": 2,
   "metadata": {},
   "outputs": [],
   "source": [
    "# Método que lança a exceção\n",
    "def get_number():\n",
    "    number = int(input(\"Digite um número maior que 10: \"))\n",
    "    if number < 10:\n",
    "        raise ValueLessThanTen(number)\n",
    "    else:\n",
    "        return number"
   ]
  },
  {
   "cell_type": "code",
   "execution_count": 4,
   "metadata": {},
   "outputs": [
    {
     "name": "stdout",
     "output_type": "stream",
     "text": [
      "Digite um número maior que 10: 1\n",
      "Valor tem que ser maior que 10! Você inseriu 1\n",
      "Deu merda!\n"
     ]
    }
   ],
   "source": [
    "try:\n",
    "    number = get_number()\n",
    "except ValueLessThanTen as err:\n",
    "    print(err)\n",
    "    err.putz()"
   ]
  },
  {
   "cell_type": "markdown",
   "metadata": {},
   "source": [
    "***"
   ]
  }
 ],
 "metadata": {
  "kernelspec": {
   "display_name": "Python 3",
   "language": "python",
   "name": "python3"
  },
  "language_info": {
   "codemirror_mode": {
    "name": "ipython",
    "version": 3
   },
   "file_extension": ".py",
   "mimetype": "text/x-python",
   "name": "python",
   "nbconvert_exporter": "python",
   "pygments_lexer": "ipython3",
   "version": "3.8.5"
  }
 },
 "nbformat": 4,
 "nbformat_minor": 2
}
