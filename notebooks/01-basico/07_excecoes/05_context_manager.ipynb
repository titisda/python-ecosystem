{
 "cells": [
  {
   "cell_type": "markdown",
   "metadata": {},
   "source": [
    "# Context Manager\n",
    "***"
   ]
  },
  {
   "cell_type": "markdown",
   "metadata": {},
   "source": [
    "**with as**: Ele é bem parecido com o bloco try except, porém em alguns casos ele lida melhor com algums exceções, por exemplo quando ele entra no bloco depois dos dois pontos ele entra no context manager que vai tratar as exceções\n",
    "\n",
    "**Context Manager**: É uma classe que possui 2 métodos especiais **\\_\\_enter\\_\\_** e **\\_\\_exit\\_\\_**, o primeiro é a parte do **with as** que não há validação é só a entrada do bloco na qual o valor passado no **with** vai ser armazenado na variavel do **as**, depois ele entra no bloco e procura alguma exceção, se ele encontrar ele entra no método **\\_\\_exit\\_\\_** que irá mostrar com mais detalhes oq acontece com a exceção, e é totalmente editavel"
   ]
  },
  {
   "cell_type": "markdown",
   "metadata": {},
   "source": [
    "***\n",
    "#### with as\n",
    "***"
   ]
  },
  {
   "cell_type": "code",
   "execution_count": 1,
   "metadata": {},
   "outputs": [
    {
     "name": "stdout",
     "output_type": "stream",
     "text": [
      "Olá\n",
      "\n",
      "Mundo\n"
     ]
    }
   ],
   "source": [
    "# Vai abrir o arquivo na variável report e tudo depois disso vai ser validada no context manager\n",
    "with open('arquivo.txt', 'r') as report:\n",
    "    for line in report:\n",
    "        print(line)\n",
    "    report.close()"
   ]
  },
  {
   "cell_type": "markdown",
   "metadata": {},
   "source": [
    "***"
   ]
  },
  {
   "cell_type": "code",
   "execution_count": 2,
   "metadata": {},
   "outputs": [
    {
     "name": "stdout",
     "output_type": "stream",
     "text": [
      "Olá\n",
      "\n",
      "Mundo\n"
     ]
    }
   ],
   "source": [
    "# Bloco try catch relacionado com o with as acima\n",
    "report = open('arquivo.txt', 'r')\n",
    "\n",
    "try:\n",
    "    for line in report:\n",
    "        print(line)\n",
    "finally:\n",
    "    report.close()"
   ]
  },
  {
   "cell_type": "markdown",
   "metadata": {},
   "source": [
    "***\n",
    "#### Context Manager\n",
    "***"
   ]
  },
  {
   "cell_type": "code",
   "execution_count": 3,
   "metadata": {
    "collapsed": true
   },
   "outputs": [],
   "source": [
    "# Criar um context manager\n",
    "class NossoContextManager:\n",
    "    def imprime(self, mensagem):\n",
    "        print(mensagem)\n",
    "        \n",
    "    def __enter__(self):\n",
    "        print(\"Entrando no bloco with as\")\n",
    "        return self\n",
    "    \n",
    "    def __exit__(self, tipo, valor, traceback):\n",
    "        print(\"Tipo:\", tipo)\n",
    "        print(\"Valor:\", valor)\n",
    "        print(\"Traceback:\", traceback)"
   ]
  },
  {
   "cell_type": "markdown",
   "metadata": {},
   "source": [
    "***"
   ]
  },
  {
   "cell_type": "code",
   "execution_count": 4,
   "metadata": {},
   "outputs": [
    {
     "name": "stdout",
     "output_type": "stream",
     "text": [
      "Entrando no bloco with as\n",
      "Olá mundo!\n",
      "Tipo: <class 'ValueError'>\n",
      "Valor: 10\n",
      "Traceback: <traceback object at 0x7f49804c1688>\n"
     ]
    },
    {
     "ename": "ValueError",
     "evalue": "10",
     "output_type": "error",
     "traceback": [
      "\u001b[0;31m---------------------------------------------------------------------------\u001b[0m",
      "\u001b[0;31mValueError\u001b[0m                                Traceback (most recent call last)",
      "\u001b[0;32m<ipython-input-4-580da4d5f3f3>\u001b[0m in \u001b[0;36m<module>\u001b[0;34m()\u001b[0m\n\u001b[1;32m      2\u001b[0m \u001b[0;32mwith\u001b[0m \u001b[0mNossoContextManager\u001b[0m\u001b[0;34m(\u001b[0m\u001b[0;34m)\u001b[0m \u001b[0;32mas\u001b[0m \u001b[0mteste\u001b[0m\u001b[0;34m:\u001b[0m\u001b[0;34m\u001b[0m\u001b[0m\n\u001b[1;32m      3\u001b[0m     \u001b[0mteste\u001b[0m\u001b[0;34m.\u001b[0m\u001b[0mimprime\u001b[0m\u001b[0;34m(\u001b[0m\u001b[0;34m\"Olá mundo!\"\u001b[0m\u001b[0;34m)\u001b[0m\u001b[0;34m\u001b[0m\u001b[0m\n\u001b[0;32m----> 4\u001b[0;31m     \u001b[0;32mraise\u001b[0m \u001b[0mValueError\u001b[0m\u001b[0;34m(\u001b[0m\u001b[0;36m10\u001b[0m\u001b[0;34m)\u001b[0m\u001b[0;34m\u001b[0m\u001b[0m\n\u001b[0m",
      "\u001b[0;31mValueError\u001b[0m: 10"
     ]
    }
   ],
   "source": [
    "# Testar nosso context manager com erros\n",
    "with NossoContextManager() as teste:\n",
    "    teste.imprime(\"Olá mundo!\")\n",
    "    raise ValueError(10)"
   ]
  },
  {
   "cell_type": "markdown",
   "metadata": {},
   "source": [
    "***"
   ]
  },
  {
   "cell_type": "code",
   "execution_count": 5,
   "metadata": {},
   "outputs": [
    {
     "name": "stdout",
     "output_type": "stream",
     "text": [
      "Entrando no bloco with as\n",
      "Olá mundo!\n",
      "Tipo: None\n",
      "Valor: None\n",
      "Traceback: None\n"
     ]
    }
   ],
   "source": [
    "# Testar nosso context manager sem erros\n",
    "with NossoContextManager() as teste:\n",
    "    teste.imprime(\"Olá mundo!\")"
   ]
  }
 ],
 "metadata": {
  "kernelspec": {
   "display_name": "Python 3",
   "language": "python",
   "name": "python3"
  },
  "language_info": {
   "codemirror_mode": {
    "name": "ipython",
    "version": 3
   },
   "file_extension": ".py",
   "mimetype": "text/x-python",
   "name": "python",
   "nbconvert_exporter": "python",
   "pygments_lexer": "ipython3",
   "version": "3.5.2"
  }
 },
 "nbformat": 4,
 "nbformat_minor": 2
}
