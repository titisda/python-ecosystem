{
 "cells": [
  {
   "cell_type": "markdown",
   "metadata": {},
   "source": [
    "# Asserts\n",
    "***"
   ]
  },
  {
   "cell_type": "markdown",
   "metadata": {},
   "source": [
    "O assert é um meio de testar seu código, muito usado em modo de testes, porém pode-se usar no meio do código para debug.\n",
    "\n",
    "Os asserts são usados principalmente em métodos privados, em métodos publicos é melhor usar exceções.\n",
    "\n",
    "Dependendo de situações não trate a exceção ou o assert, pq se der error tem que quebrar o código, isso é em casos de algo perigoso"
   ]
  },
  {
   "cell_type": "markdown",
   "metadata": {},
   "source": [
    "***\n",
    "#### Exemplos\n",
    "***"
   ]
  },
  {
   "cell_type": "code",
   "execution_count": 1,
   "metadata": {},
   "outputs": [
    {
     "name": "stdout",
     "output_type": "stream",
     "text": [
      "digite um número entre 1 e 20: 25\n"
     ]
    }
   ],
   "source": [
    "while True:\n",
    "    try:\n",
    "        number = int(input(\"digite um número entre 1 e 20: \"))\n",
    "    except ValueError:\n",
    "        print(\"Digite apenas números!\")\n",
    "    except:\n",
    "        print(\"Entrada invalida!\")\n",
    "    else:\n",
    "        break"
   ]
  },
  {
   "cell_type": "markdown",
   "metadata": {},
   "source": [
    "***"
   ]
  },
  {
   "cell_type": "code",
   "execution_count": 2,
   "metadata": {},
   "outputs": [
    {
     "name": "stdout",
     "output_type": "stream",
     "text": [
      "25 tem que ser maior que zero\n"
     ]
    }
   ],
   "source": [
    "if __debug__:\n",
    "    try:\n",
    "        assert (1 <= number <= 20), \"{0} tem que ser maior que zero\".format(number)\n",
    "    except AssertionError as error:\n",
    "        print(error)"
   ]
  }
 ],
 "metadata": {
  "kernelspec": {
   "display_name": "Python 3",
   "language": "python",
   "name": "python3"
  },
  "language_info": {
   "codemirror_mode": {
    "name": "ipython",
    "version": 3
   },
   "file_extension": ".py",
   "mimetype": "text/x-python",
   "name": "python",
   "nbconvert_exporter": "python",
   "pygments_lexer": "ipython3",
   "version": "3.5.2"
  }
 },
 "nbformat": 4,
 "nbformat_minor": 2
}
