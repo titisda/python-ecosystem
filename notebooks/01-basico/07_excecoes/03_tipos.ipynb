{
 "cells": [
  {
   "cell_type": "markdown",
   "metadata": {},
   "source": [
    "# tipos de exceção\n",
    "***"
   ]
  },
  {
   "cell_type": "markdown",
   "metadata": {},
   "source": [
    "Tipos de erro/exceção que pode ocorrer em um código\n",
    "\n",
    "* **Exception**: Classe base para todas as exceções\n",
    "\n",
    "Erros não muito comuns:\n",
    "\n",
    "* **StopIteration**: Criado quando o próximo () método de um iterador não aponta para nenhum objeto.\n",
    "\n",
    "\n",
    "* **SystemExit**: Criado pela função **sys.exit()**.\n",
    "\n",
    "\n",
    "* **StandardError**: Classe base para todas as excepções incorporadas, exceto **StopIteration** e **SystemExit**.\n",
    "\n",
    "\n",
    "* **OverflowError**: Lançado quando um cálculo excede o limite máximo para um tipo numérico.\n",
    "\n",
    "\n",
    "* **FloatingPointError**: Lançado quando um cálculo de ponto flutuante falhar.\n",
    "\n",
    "\n",
    "* **AttributeError**: Criado em caso de falha na referência ou atribuição do atributo.\n",
    "\n",
    "\n",
    "* **EOFError**: Lançada quando não há entrada da função **raw_input()** ou **input()** e quando o final do arquivo é atingido.\n",
    "\n",
    "\n",
    "* **KeyboardInterrupt**: Lançada quando o usuário interrompe a execução do programa, geralmente pressionando Ctrl + c.\n",
    "\n",
    "\n",
    "* **LookupError**: Classe base para todos os erros de pesquisa.\n",
    "\n",
    "\n",
    "* **UnboundLocalError**: Criado ao tentar acessar uma variável local em uma função ou método, mas nenhum valor foi atribuído a ele.\n",
    "\n",
    "\n",
    "* **EnvironmentError**: Classe base para todas as exceções que ocorrem fora do ambiente Python.\n",
    "\n",
    "\n",
    "* **SyntaxError**: Lançada quando há um erro na sintaxe de Python.\n",
    "\n",
    "\n",
    "* **IndentationError**: Erro de identação do código python\n",
    "\n",
    "\n",
    "* **SystemError**: Criado quando o intérprete encontra um problema interno, mas quando este erro é encontrado, o intérprete do Python não sai.\n",
    "\n",
    "\n",
    "* **TypeError**: Criado quando um tipo de dado passado ou recebido não está valido.\n",
    "\n",
    "\n",
    "* **RuntimeError**: Criado quando um erro gerado não se enquadra em nenhuma categoria.\n",
    "\n",
    "\n",
    "* **NotImplementedError**: Criado quando um método abstrato que precisa ser implementado em uma classe herdada não é realmente implementado."
   ]
  },
  {
   "cell_type": "markdown",
   "metadata": {},
   "source": [
    "***\n",
    "#### Exemplos erros comuns\n",
    "***"
   ]
  },
  {
   "cell_type": "code",
   "execution_count": 3,
   "metadata": {},
   "outputs": [
    {
     "name": "stdout",
     "output_type": "stream",
     "text": [
      "Indice fora da lista\n"
     ]
    }
   ],
   "source": [
    "# IndexError\n",
    "try:\n",
    "    some_list = []\n",
    "    a = some_list[0]\n",
    "except IndexError:\n",
    "    print(\"Indice fora da lista\")"
   ]
  },
  {
   "cell_type": "markdown",
   "metadata": {},
   "source": [
    "***"
   ]
  },
  {
   "cell_type": "code",
   "execution_count": 2,
   "metadata": {},
   "outputs": [
    {
     "name": "stdout",
     "output_type": "stream",
     "text": [
      "Valor invalido!\n"
     ]
    }
   ],
   "source": [
    "# ValueError\n",
    "try:\n",
    "    a = int(\"ahuaha\")\n",
    "except ValueError:\n",
    "    print(\"Valor invalido!\")"
   ]
  },
  {
   "cell_type": "markdown",
   "metadata": {},
   "source": [
    "***"
   ]
  },
  {
   "cell_type": "code",
   "execution_count": 3,
   "metadata": {},
   "outputs": [
    {
     "name": "stdout",
     "output_type": "stream",
     "text": [
      "Arquivo não encontrado\n"
     ]
    }
   ],
   "source": [
    "# FileNotFoundError ou IOError\n",
    "try:\n",
    "    some_file = open(\"arquivo2.txt\", 'r')\n",
    "except FileNotFoundError:\n",
    "    print(\"Arquivo não encontrado\")"
   ]
  },
  {
   "cell_type": "markdown",
   "metadata": {},
   "source": [
    "***"
   ]
  },
  {
   "cell_type": "code",
   "execution_count": 4,
   "metadata": {},
   "outputs": [
    {
     "name": "stdout",
     "output_type": "stream",
     "text": [
      "Assert falhou!\n"
     ]
    }
   ],
   "source": [
    "# AssertionError\n",
    "try:\n",
    "    assert False == True\n",
    "except AssertionError:\n",
    "    print(\"Assert falhou!\")"
   ]
  },
  {
   "cell_type": "markdown",
   "metadata": {},
   "source": [
    "***"
   ]
  },
  {
   "cell_type": "code",
   "execution_count": 5,
   "metadata": {},
   "outputs": [
    {
     "name": "stdout",
     "output_type": "stream",
     "text": [
      "Importe não encontrado!\n"
     ]
    }
   ],
   "source": [
    "# ImportError\n",
    "try:\n",
    "    from pacote.modulo import Classe\n",
    "except ImportError:\n",
    "    print(\"Importe não encontrado!\")"
   ]
  },
  {
   "cell_type": "markdown",
   "metadata": {},
   "source": [
    "***"
   ]
  },
  {
   "cell_type": "code",
   "execution_count": 6,
   "metadata": {},
   "outputs": [
    {
     "name": "stdout",
     "output_type": "stream",
     "text": [
      "Chave não encontrada\n"
     ]
    }
   ],
   "source": [
    "# KeyError\n",
    "try:\n",
    "    dictionary = {}\n",
    "    dictionary['key']\n",
    "except KeyError:\n",
    "    print(\"Chave não encontrada\")"
   ]
  },
  {
   "cell_type": "markdown",
   "metadata": {},
   "source": [
    "***"
   ]
  },
  {
   "cell_type": "code",
   "execution_count": 7,
   "metadata": {},
   "outputs": [
    {
     "name": "stdout",
     "output_type": "stream",
     "text": [
      "Variável não definida\n"
     ]
    }
   ],
   "source": [
    "# NameError\n",
    "try:\n",
    "    print(value)\n",
    "except NameError:\n",
    "    print(\"Variável não definida\")"
   ]
  },
  {
   "cell_type": "markdown",
   "metadata": {},
   "source": [
    "***"
   ]
  },
  {
   "cell_type": "code",
   "execution_count": 8,
   "metadata": {},
   "outputs": [
    {
     "name": "stdout",
     "output_type": "stream",
     "text": [
      "Não se pode dividir por zero\n"
     ]
    }
   ],
   "source": [
    "# ArithmeticError\n",
    "try:\n",
    "    x = 10/0\n",
    "except ArithmeticError:\n",
    "    print(\"Não se pode dividir por zero\")"
   ]
  },
  {
   "cell_type": "markdown",
   "metadata": {},
   "source": [
    "***"
   ]
  },
  {
   "cell_type": "code",
   "execution_count": 9,
   "metadata": {},
   "outputs": [
    {
     "name": "stdout",
     "output_type": "stream",
     "text": [
      "Não se pode dividir por zero\n"
     ]
    }
   ],
   "source": [
    "# ZeroDivisionError\n",
    "try:\n",
    "    x = 10.5/0\n",
    "except ZeroDivisionError:\n",
    "    print(\"Não se pode dividir por zero\")"
   ]
  },
  {
   "cell_type": "markdown",
   "metadata": {},
   "source": [
    "***"
   ]
  },
  {
   "cell_type": "code",
   "execution_count": 2,
   "metadata": {},
   "outputs": [
    {
     "ename": "SyntaxError",
     "evalue": "Missing parentheses in call to 'print' (<ipython-input-2-886a15482fd7>, line 3)",
     "output_type": "error",
     "traceback": [
      "\u001b[0;36m  File \u001b[0;32m\"<ipython-input-2-886a15482fd7>\"\u001b[0;36m, line \u001b[0;32m3\u001b[0m\n\u001b[0;31m    print 'hello world'\u001b[0m\n\u001b[0m                      ^\u001b[0m\n\u001b[0;31mSyntaxError\u001b[0m\u001b[0;31m:\u001b[0m Missing parentheses in call to 'print'\n"
     ]
    }
   ],
   "source": [
    "# SyntaxError\n",
    "try:\n",
    "    print 'hello world'\n",
    "except SyntaxError as error:\n",
    "    print(\"Erro de sintaxe:\", error)"
   ]
  },
  {
   "cell_type": "markdown",
   "metadata": {},
   "source": [
    "***"
   ]
  },
  {
   "cell_type": "code",
   "execution_count": 4,
   "metadata": {},
   "outputs": [
    {
     "name": "stdout",
     "output_type": "stream",
     "text": [
      "Não pode concatenar lista com inteiro, somente com listas\n"
     ]
    }
   ],
   "source": [
    "# TypeError\n",
    "try:\n",
    "    [] + 2\n",
    "except TypeError:\n",
    "    print(\"Não pode concatenar lista com inteiro, somente com listas\")"
   ]
  },
  {
   "cell_type": "markdown",
   "metadata": {},
   "source": [
    "***"
   ]
  },
  {
   "cell_type": "code",
   "execution_count": null,
   "metadata": {
    "collapsed": true
   },
   "outputs": [],
   "source": []
  }
 ],
 "metadata": {
  "kernelspec": {
   "display_name": "Python 3",
   "language": "python",
   "name": "python3"
  },
  "language_info": {
   "codemirror_mode": {
    "name": "ipython",
    "version": 3
   },
   "file_extension": ".py",
   "mimetype": "text/x-python",
   "name": "python",
   "nbconvert_exporter": "python",
   "pygments_lexer": "ipython3",
   "version": "3.5.2"
  }
 },
 "nbformat": 4,
 "nbformat_minor": 2
}
