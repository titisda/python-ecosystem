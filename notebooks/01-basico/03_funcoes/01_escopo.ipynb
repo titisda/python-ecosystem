{
 "cells": [
  {
   "cell_type": "markdown",
   "metadata": {},
   "source": [
    "# Variáveis\n",
    "***"
   ]
  },
  {
   "cell_type": "markdown",
   "metadata": {},
   "source": [
    "Ao inserir uma variável dentro de uma função você está passando um copia dela para a função, tudo que você fizer na função não altera a variavel principal fora dela.\n",
    "\n",
    "Essa copia é uma variável local da função, fora dela essa variável não existe, por isso normalmente retornamos ela e guardamos em alguma variável fora da função\n",
    "\n",
    "Qualquer variável criada dentro da função será uma variável local da função\n",
    "\n",
    "Se quisermos uma variável global que seja vista fora de qualquer função, independente se a variavel está definida antes ou depois da função temos que usar a tag **global** antes da variável, porém temos que definir a variável antes de declarar a função\n",
    "\n",
    "É uma boa prática de programação sempre que tiver muitas funções criar uma função principal chamada **main()** e executar ela no final do arquivo"
   ]
  },
  {
   "cell_type": "markdown",
   "metadata": {},
   "source": [
    "***\n",
    "#### Exemplos\n",
    "***"
   ]
  },
  {
   "cell_type": "code",
   "execution_count": 1,
   "metadata": {
    "collapsed": true
   },
   "outputs": [],
   "source": [
    "# Valores que serão incrementados na função\n",
    "x = 0\n",
    "y = 0"
   ]
  },
  {
   "cell_type": "markdown",
   "metadata": {},
   "source": [
    "***"
   ]
  },
  {
   "cell_type": "code",
   "execution_count": 2,
   "metadata": {
    "collapsed": true
   },
   "outputs": [],
   "source": [
    "# Função de incremento passando x globalmente e y localmente\n",
    "def increment(y):\n",
    "    global x\n",
    "    x += 1\n",
    "    y += 1"
   ]
  },
  {
   "cell_type": "markdown",
   "metadata": {},
   "source": [
    "***"
   ]
  },
  {
   "cell_type": "code",
   "execution_count": 3,
   "metadata": {
    "collapsed": true
   },
   "outputs": [],
   "source": [
    "# Incrementando o valor de x e y 4 vezes\n",
    "increment(y)\n",
    "increment(y)\n",
    "increment(y)\n",
    "increment(y)"
   ]
  },
  {
   "cell_type": "markdown",
   "metadata": {},
   "source": [
    "***"
   ]
  },
  {
   "cell_type": "code",
   "execution_count": 4,
   "metadata": {},
   "outputs": [
    {
     "name": "stdout",
     "output_type": "stream",
     "text": [
      "x = 4\n",
      "y = 0\n"
     ]
    }
   ],
   "source": [
    "# Imprimindo o x incrementado e o y não muda pois é uma variável local da função\n",
    "print(\"x =\", x)\n",
    "print(\"y =\", y)"
   ]
  }
 ],
 "metadata": {
  "kernelspec": {
   "display_name": "Python 3",
   "language": "python",
   "name": "python3"
  },
  "language_info": {
   "codemirror_mode": {
    "name": "ipython",
    "version": 3
   },
   "file_extension": ".py",
   "mimetype": "text/x-python",
   "name": "python",
   "nbconvert_exporter": "python",
   "pygments_lexer": "ipython3",
   "version": "3.5.2"
  }
 },
 "nbformat": 4,
 "nbformat_minor": 2
}
