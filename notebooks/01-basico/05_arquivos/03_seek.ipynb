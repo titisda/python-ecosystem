{
 "cells": [
  {
   "cell_type": "markdown",
   "metadata": {},
   "source": [
    "# Cursor no arquivo\n",
    "***"
   ]
  },
  {
   "cell_type": "markdown",
   "metadata": {},
   "source": [
    "O seek ele é o método que posiciona o cursor no byte indicado do arquivo e o tell diz em qual byte o cursor está\n",
    "\n",
    "**file.seek(offset, from_what)**:\n",
    "\n",
    "* **offset**: Número de bytes que o cursor percorre, se for positivo é percorrendo o arquivo, se for negativo é voltando no arquivo dependendo de onde está o cursor\n",
    "\n",
    "\n",
    "* **from_what**: Posição do cursor padrão, 0 significa começo do arquivo (Default), 1 usa o posicionamento atual do arquivo e 2 é do final do arquivo"
   ]
  },
  {
   "cell_type": "markdown",
   "metadata": {},
   "source": [
    "***\n",
    "#### Exemplos\n",
    "***"
   ]
  },
  {
   "cell_type": "code",
   "execution_count": 1,
   "metadata": {
    "collapsed": true
   },
   "outputs": [],
   "source": [
    "# Abre o arquivo em modo leitura\n",
    "file = open('arquivo.txt', 'r')"
   ]
  },
  {
   "cell_type": "markdown",
   "metadata": {},
   "source": [
    "***"
   ]
  },
  {
   "cell_type": "code",
   "execution_count": 2,
   "metadata": {},
   "outputs": [
    {
     "name": "stdout",
     "output_type": "stream",
     "text": [
      "Chiclete com banana\n",
      "Claudia Leite\n",
      "Ola arquivo essa eh nossa primeira aula \n",
      "Nota linha\n"
     ]
    }
   ],
   "source": [
    "# Ler todo o arquivo\n",
    "print(file.read())"
   ]
  },
  {
   "cell_type": "markdown",
   "metadata": {},
   "source": [
    "***"
   ]
  },
  {
   "cell_type": "code",
   "execution_count": 3,
   "metadata": {},
   "outputs": [
    {
     "name": "stdout",
     "output_type": "stream",
     "text": [
      "Byte do inicio do arquivo:  0\n"
     ]
    }
   ],
   "source": [
    "# Retorna para o inicio do arquivo\n",
    "print(\"Byte do inicio do arquivo: \", file.seek(0, 0))"
   ]
  },
  {
   "cell_type": "markdown",
   "metadata": {},
   "source": [
    "***"
   ]
  },
  {
   "cell_type": "code",
   "execution_count": 4,
   "metadata": {},
   "outputs": [
    {
     "name": "stdout",
     "output_type": "stream",
     "text": [
      "Chiclete\n"
     ]
    }
   ],
   "source": [
    "# Ler os 8 primeiros caracteres/bytes do arquivo\n",
    "print(file.read(8))"
   ]
  },
  {
   "cell_type": "markdown",
   "metadata": {},
   "source": [
    "***"
   ]
  },
  {
   "cell_type": "code",
   "execution_count": 5,
   "metadata": {},
   "outputs": [
    {
     "name": "stdout",
     "output_type": "stream",
     "text": [
      " com banana\n",
      "\n"
     ]
    }
   ],
   "source": [
    "# Ler os proximos caracteres da linha\n",
    "print(file.readline())"
   ]
  },
  {
   "cell_type": "markdown",
   "metadata": {},
   "source": [
    "***"
   ]
  },
  {
   "cell_type": "code",
   "execution_count": 6,
   "metadata": {},
   "outputs": [
    {
     "name": "stdout",
     "output_type": "stream",
     "text": [
      "Arquivo está no byte:  20\n"
     ]
    }
   ],
   "source": [
    "# Verifica em qual byte o cursor se localiza\n",
    "print(\"Arquivo está no byte: \", file.tell())"
   ]
  },
  {
   "cell_type": "markdown",
   "metadata": {},
   "source": [
    "***"
   ]
  },
  {
   "cell_type": "code",
   "execution_count": 7,
   "metadata": {},
   "outputs": [
    {
     "name": "stdout",
     "output_type": "stream",
     "text": [
      "Total de bytes do arquivo:  85\n"
     ]
    }
   ],
   "source": [
    "# Vai para o final do arquivo\n",
    "print(\"Total de bytes do arquivo: \", file.seek(0,2))"
   ]
  },
  {
   "cell_type": "markdown",
   "metadata": {},
   "source": [
    "***"
   ]
  },
  {
   "cell_type": "code",
   "execution_count": 8,
   "metadata": {
    "collapsed": true
   },
   "outputs": [],
   "source": [
    "# Fechar o arquivo\n",
    "file.close()"
   ]
  }
 ],
 "metadata": {
  "kernelspec": {
   "display_name": "Python 3",
   "language": "python",
   "name": "python3"
  },
  "language_info": {
   "codemirror_mode": {
    "name": "ipython",
    "version": 3
   },
   "file_extension": ".py",
   "mimetype": "text/x-python",
   "name": "python",
   "nbconvert_exporter": "python",
   "pygments_lexer": "ipython3",
   "version": "3.5.2"
  }
 },
 "nbformat": 4,
 "nbformat_minor": 2
}
