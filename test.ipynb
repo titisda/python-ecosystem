{
 "cells": [
  {
   "cell_type": "code",
   "execution_count": 6,
   "metadata": {
    "scrolled": true
   },
   "outputs": [
    {
     "name": "stdout",
     "output_type": "stream",
     "text": [
      "/home/campos/projetos/venv/bin/python\r\n"
     ]
    }
   ],
   "source": [
    "!which python"
   ]
  },
  {
   "cell_type": "code",
   "execution_count": 35,
   "metadata": {
    "scrolled": true
   },
   "outputs": [],
   "source": [
    "import plotly.plotly as py\n",
    "import cufflinks as cf\n",
    "import plotly as py\n",
    "import plotly.graph_objs as go\n",
    "import ipywidgets as widgets\n",
    "import numpy as np\n",
    "from scipy import special\n",
    "import datetime\n",
    "from plotly.offline import download_plotlyjs, init_notebook_mode, plot, iplot\n",
    "import plotly.figure_factory as ff\n",
    "init_notebook_mode\n",
    "from math import floor\n",
    "from plotly import tools\n",
    "from plotly.graph_objs import *\n",
    "from IPython.display import display\n",
    "import plotly.tools as tls\n",
    "import json\n",
    "import math\n",
    "from plotly.widgets import GraphWidget\n",
    "import plotly.io as pi\n",
    "\n",
    "import plotly.io as pio\n",
    "from IPython.display import Image\n",
    "import plotly.plotly as py \n",
    "import cufflinks as cf\n",
    "import plotly.graph_objs as go\n",
    "\n",
    "import numpy as np\n",
    "\n",
    "import plotly.graph_objs as go\n",
    "from plotly.offline import download_plotlyjs, init_notebook_mode, plot, iplot\n",
    "import plotly\n"
   ]
  },
  {
   "cell_type": "code",
   "execution_count": 36,
   "metadata": {},
   "outputs": [],
   "source": [
    "data = [go.Bar(\n",
    "               x = ['Boxoffice_US_Mil'],\n",
    "               y = ['dircount'],\n",
    "               orientation = 'h',\n",
    "               marker = dict(\n",
    "               color = 'rgb(67,262,402)'))]"
   ]
  },
  {
   "cell_type": "code",
   "execution_count": 37,
   "metadata": {},
   "outputs": [],
   "source": [
    "# Declaring the Title and margins\n",
    "\n",
    "layout = dict(\n",
    "        title = 'Average Box Office collections by Director who have directed more than 3 movies',\n",
    "        margin = go.Margin(\n",
    "        l = 210,\n",
    "        r = 100,\n",
    "        pad = 1),\n",
    "        xaxis = dict(\n",
    "            title = 'Average Box Office Collection (US mil)'),\n",
    "\n",
    "        yaxis = dict(\n",
    "            title = '&nbsp;&nbsp;&nbsp;&nbsp;&nbsp;&nbsp;&nbsp;&nbsp;&nbsp;&nbsp;&nbsp;&nbsp;&nbsp;&nbsp;Director (Number of Movies)',\n",
    "            tickfont = dict(\n",
    "                size = 12,)))"
   ]
  },
  {
   "cell_type": "code",
   "execution_count": 38,
   "metadata": {},
   "outputs": [
    {
     "data": {
      "text/html": [
       "        <script type=\"text/javascript\">\n",
       "        window.PlotlyConfig = {MathJaxConfig: 'local'};\n",
       "        if (window.MathJax) {MathJax.Hub.Config({SVG: {font: \"STIX-Web\"}});}\n",
       "        if (typeof require !== 'undefined') {\n",
       "        require.undef(\"plotly\");\n",
       "        requirejs.config({\n",
       "            paths: {\n",
       "                'plotly': ['https://cdn.plot.ly/plotly-latest.min']\n",
       "            }\n",
       "        });\n",
       "        require(['plotly'], function(Plotly) {\n",
       "            window._Plotly = Plotly;\n",
       "        });\n",
       "        }\n",
       "        </script>\n",
       "        "
      ]
     },
     "metadata": {},
     "output_type": "display_data"
    }
   ],
   "source": [
    "init_notebook_mode(connected=True)"
   ]
  },
  {
   "cell_type": "code",
   "execution_count": 39,
   "metadata": {},
   "outputs": [
    {
     "name": "stdout",
     "output_type": "stream",
     "text": [
      "[Bar({\n",
      "    'marker': {'color': 'rgb(67,262,402)'}, 'orientation': 'h', 'x': ['Boxoffice_US_Mil'], 'y': ['dircount']\n",
      "})]\n",
      "{'title': 'Average Box Office collections by Director who have directed more than 3 movies', 'margin': {'l': 210, 'r': 100, 'pad': 1}, 'xaxis': {'title': 'Average Box Office Collection (US mil)'}, 'yaxis': {'title': '&nbsp;&nbsp;&nbsp;&nbsp;&nbsp;&nbsp;&nbsp;&nbsp;&nbsp;&nbsp;&nbsp;&nbsp;&nbsp;&nbsp;Director (Number of Movies)', 'tickfont': {'size': 12}}}\n"
     ]
    },
    {
     "data": {
      "application/vnd.plotly.v1+json": {
       "config": {
        "linkText": "Export to plot.ly",
        "plotlyServerURL": "https://plot.ly",
        "showLink": false
       },
       "data": [
        {
         "marker": {
          "color": "rgb(67,262,402)"
         },
         "orientation": "h",
         "type": "bar",
         "uid": "6c7e904c-40aa-4190-9737-3e6e63fb0f1e",
         "x": [
          "Boxoffice_US_Mil"
         ],
         "y": [
          "dircount"
         ]
        }
       ],
       "layout": {
        "margin": {
         "l": 210,
         "pad": 1,
         "r": 100
        },
        "title": {
         "text": "Average Box Office collections by Director who have directed more than 3 movies"
        },
        "xaxis": {
         "title": {
          "text": "Average Box Office Collection (US mil)"
         }
        },
        "yaxis": {
         "tickfont": {
          "size": 12
         },
         "title": {
          "text": "&nbsp;&nbsp;&nbsp;&nbsp;&nbsp;&nbsp;&nbsp;&nbsp;&nbsp;&nbsp;&nbsp;&nbsp;&nbsp;&nbsp;Director (Number of Movies)"
         }
        }
       }
      },
      "text/html": [
       "<div>\n",
       "        \n",
       "        \n",
       "            <div id=\"2654507d-0387-42ff-b20a-5be0533c2814\" class=\"plotly-graph-div\" style=\"height:525px; width:100%;\"></div>\n",
       "            <script type=\"text/javascript\">\n",
       "                require([\"plotly\"], function(Plotly) {\n",
       "                    window.PLOTLYENV=window.PLOTLYENV || {};\n",
       "                    window.PLOTLYENV.BASE_URL='https://plot.ly';\n",
       "                    \n",
       "                if (document.getElementById(\"2654507d-0387-42ff-b20a-5be0533c2814\")) {\n",
       "                    Plotly.newPlot(\n",
       "                        '2654507d-0387-42ff-b20a-5be0533c2814',\n",
       "                        [{\"marker\": {\"color\": \"rgb(67,262,402)\"}, \"orientation\": \"h\", \"type\": \"bar\", \"uid\": \"6c7e904c-40aa-4190-9737-3e6e63fb0f1e\", \"x\": [\"Boxoffice_US_Mil\"], \"y\": [\"dircount\"]}],\n",
       "                        {\"margin\": {\"l\": 210, \"pad\": 1, \"r\": 100}, \"title\": {\"text\": \"Average Box Office collections by Director who have directed more than 3 movies\"}, \"xaxis\": {\"title\": {\"text\": \"Average Box Office Collection (US mil)\"}}, \"yaxis\": {\"tickfont\": {\"size\": 12}, \"title\": {\"text\": \"&nbsp;&nbsp;&nbsp;&nbsp;&nbsp;&nbsp;&nbsp;&nbsp;&nbsp;&nbsp;&nbsp;&nbsp;&nbsp;&nbsp;Director (Number of Movies)\"}}},\n",
       "                        {\"showLink\": false, \"linkText\": \"Export to plot.ly\", \"plotlyServerURL\": \"https://plot.ly\", \"responsive\": true}\n",
       "                    ).then(function(){\n",
       "                            \n",
       "var gd = document.getElementById('2654507d-0387-42ff-b20a-5be0533c2814');\n",
       "var x = new MutationObserver(function (mutations, observer) {{\n",
       "        var display = window.getComputedStyle(gd).display;\n",
       "        if (!display || display === 'none') {{\n",
       "            console.log([gd, 'removed!']);\n",
       "            Plotly.purge(gd);\n",
       "            observer.disconnect();\n",
       "        }}\n",
       "}});\n",
       "\n",
       "// Listen for the removal of the full notebook cells\n",
       "var notebookContainer = gd.closest('#notebook-container');\n",
       "if (notebookContainer) {{\n",
       "    x.observe(notebookContainer, {childList: true});\n",
       "}}\n",
       "\n",
       "// Listen for the clearing of the current output cell\n",
       "var outputEl = gd.closest('.output');\n",
       "if (outputEl) {{\n",
       "    x.observe(outputEl, {childList: true});\n",
       "}}\n",
       "\n",
       "                        })\n",
       "                };\n",
       "                });\n",
       "            </script>\n",
       "        </div>"
      ]
     },
     "metadata": {},
     "output_type": "display_data"
    }
   ],
   "source": [
    "fig = go.Figure(data=data, layout=layout)\n",
    "print(data)\n",
    "print(layout)\n",
    "\n",
    "iplot(fig)"
   ]
  },
  {
   "cell_type": "code",
   "execution_count": null,
   "metadata": {},
   "outputs": [],
   "source": []
  }
 ],
 "metadata": {
  "kernelspec": {
   "display_name": "Python 3",
   "language": "python",
   "name": "python3"
  },
  "language_info": {
   "codemirror_mode": {
    "name": "ipython",
    "version": 3
   },
   "file_extension": ".py",
   "mimetype": "text/x-python",
   "name": "python",
   "nbconvert_exporter": "python",
   "pygments_lexer": "ipython3",
   "version": "3.7.3"
  }
 },
 "nbformat": 4,
 "nbformat_minor": 2
}
