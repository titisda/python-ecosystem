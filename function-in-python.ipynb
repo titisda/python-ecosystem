{
 "cells": [
  {
   "cell_type": "markdown",
   "metadata": {},
   "source": [
    "# Functions\n",
    "\n",
    "- Defining Functions\n",
    "- Documentation\n",
    "- Default arguments https://www.geeksforgeeks.org/default-arguments-in-python/\n",
    "- Packing and unpacking arguments\n",
    "- Variable Scope\n",
    "- Function recursive\n",
    "- Lambda Expressions"
   ]
  },
  {
   "cell_type": "code",
   "execution_count": null,
   "metadata": {},
   "outputs": [],
   "source": []
  },
  {
   "cell_type": "code",
   "execution_count": null,
   "metadata": {},
   "outputs": [],
   "source": []
  },
  {
   "cell_type": "markdown",
   "metadata": {},
   "source": [
    "## Packing and Unpacking Arguments in Python\n",
    "\n",
    "#### Situation\n",
    "- A function that receives four arguments. \n",
    "- to make call to this function and we have a list of size 4 \n",
    "- the call doesn’t work."
   ]
  },
  {
   "cell_type": "code",
   "execution_count": 2,
   "metadata": {},
   "outputs": [
    {
     "ename": "TypeError",
     "evalue": "func() missing 3 required positional arguments: 'b', 'c', and 'd'",
     "traceback": [
      "\u001b[0;31m---------------------------------------------------------------------------\u001b[0m",
      "\u001b[0;31mTypeError\u001b[0m                                 Traceback (most recent call last)",
      "\u001b[0;32m<ipython-input-2-d83dcb91d61e>\u001b[0m in \u001b[0;36m<module>\u001b[0;34m\u001b[0m\n\u001b[1;32m      8\u001b[0m \u001b[0;34m\u001b[0m\u001b[0m\n\u001b[1;32m      9\u001b[0m \u001b[0;31m# This doesn't work\u001b[0m\u001b[0;34m\u001b[0m\u001b[0;34m\u001b[0m\u001b[0;34m\u001b[0m\u001b[0m\n\u001b[0;32m---> 10\u001b[0;31m \u001b[0mfunc\u001b[0m\u001b[0;34m(\u001b[0m\u001b[0mmy_list\u001b[0m\u001b[0;34m)\u001b[0m\u001b[0;34m\u001b[0m\u001b[0;34m\u001b[0m\u001b[0m\n\u001b[0m",
      "\u001b[0;31mTypeError\u001b[0m: func() missing 3 required positional arguments: 'b', 'c', and 'd'"
     ],
     "output_type": "error"
    }
   ],
   "source": [
    "# A Python program to demonstrate need of packing and unpacking \n",
    "\n",
    "def func(a, b, c, d): \n",
    "    print(a, b, c, d) \n",
    "  \n",
    "# Driver Code \n",
    "my_list = [1, 2, 3, 4] \n",
    "  \n",
    "# This doesn't work \n",
    "func(my_list) "
   ]
  },
  {
   "cell_type": "markdown",
   "metadata": {},
   "source": [
    "### Unpacking\n",
    "We can use _* in arguments to unpack_ the list."
   ]
  },
  {
   "cell_type": "code",
   "execution_count": 3,
   "metadata": {},
   "outputs": [
    {
     "name": "stdout",
     "output_type": "stream",
     "text": [
      "1 2 3 4\n"
     ]
    }
   ],
   "source": [
    "# A sample function that takes 4 arguments \n",
    "# and prints the, \n",
    "def fun(a, b, c, d): \n",
    "    print(a, b, c, d) \n",
    "  \n",
    "# Driver Code \n",
    "my_list = [1, 2, 3, 4] \n",
    "  \n",
    "# Unpacking list into four arguments \n",
    "fun(*my_list) "
   ]
  },
  {
   "cell_type": "markdown",
   "metadata": {},
   "source": [
    "### Packing\n",
    "When we don’t know how many arguments need to be passed to a python function, we can use **Packing to pack all arguments in a tuple.**"
   ]
  },
  {
   "cell_type": "code",
   "execution_count": 18,
   "metadata": {},
   "outputs": [
    {
     "name": "stdout",
     "output_type": "stream",
     "text": [
      "15\n",
      "30\n"
     ]
    }
   ],
   "source": [
    "# This function uses packing to sum unknown number of arguments \n",
    "\n",
    "def mySum(*args):\n",
    "    ''' *args transform in tuple'''\n",
    "    sum = 0\n",
    "    cont = 0   \n",
    "    \n",
    "    while cont < len(args):\n",
    "        sum = sum + args[cont]\n",
    "        cont += 1\n",
    "    return sum \n",
    "  \n",
    "# Driver code \n",
    "print(mySum(1, 2, 3, 4, 5)) \n",
    "print(mySum(10, 20)) "
   ]
  },
  {
   "cell_type": "code",
   "execution_count": null,
   "metadata": {},
   "outputs": [],
   "source": []
  }
 ],
 "metadata": {
  "kernelspec": {
   "display_name": "Python 3",
   "language": "python",
   "name": "python3"
  },
  "language_info": {
   "codemirror_mode": {
    "name": "ipython",
    "version": 3
   },
   "file_extension": ".py",
   "mimetype": "text/x-python",
   "name": "python",
   "nbconvert_exporter": "python",
   "pygments_lexer": "ipython3",
   "version": "3.7.1"
  }
 },
 "nbformat": 4,
 "nbformat_minor": 2
}
