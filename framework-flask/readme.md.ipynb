{
 "cells": [
  {
   "cell_type": "markdown",
   "metadata": {},
   "source": [
    "<img src=\"images/flask-logo.png\"/>\n",
    "\n",
    "É um microframework feito para **simplificar o desenvolvimento web**.<br/>\n",
    "Ele é micro pois trás somente módulos básico para execuar uma aplicação web.\n",
    "- Site oficial: http://flask.pocoo.org/\n",
    "- Documentação: http://flask.pocoo.org/docs/1.0/\n",
    "\n",
    "## Install: \n",
    "`pip install Flask`\n",
    "\n",
    "## Hello Word\n",
    "- Arquivo sem padrão de projeto, bem simples.<br/>\n",
    "<img src=\"images/app.png\"/>\n",
    "\n",
    "### Varibles\n",
    "- `__init__ ` é um construtor de objetos.\n",
    "- `__name__` é uma variável especial, do tipo String, que faz um  **get**\n",
    "- ` @app.route(\"/\")` é uma função do Python para indicar a route\n",
    "- `\"__main__\"` é a variável especial que executa o script\n",
    "\n",
    "<br/>\n",
    "### Execução no terminal\n",
    "<img src=\"images/run-app.png\"/>\n",
    "\n",
    "\n",
    "## Design Pattenrs\n",
    "O Flask usa o padrão MVC.\n",
    "<img src=\"images/mvc.webp\"/>\n",
    "\n",
    "### Create environment\n",
    "Para organizar, é necessário criar um diretório chamado  *app* com a eguinte estrutura:<br/>\n",
    "```app/\n",
    "    controllers/\n",
    "    models/\n",
    "    static/\n",
    "    templates/```\n",
    "- Para o Flask, o *view* são 2 diretórios: static e templates.\n",
    "\n",
    "### Files .py\n",
    "``` run.py\n",
    " run.py\n",
    " app/\n",
    "    __init__.py\n",
    "    controllers/\n",
    "      __init__.py\n",
    "      default.py\n",
    "    models/\n",
    "      __init__.py\n",
    "      tables.py\n",
    "    static/\n",
    "    templates/```\n",
    "    \n",
    "**Describe File**\n",
    "- `run.py` execução.\n",
    "- `__init__.py` declaração da aplicação.\n",
    "- `defaults.py` routes\n"
   ]
  },
  {
   "cell_type": "markdown",
   "metadata": {},
   "source": [
    "## Models\n",
    "Modelagem básica:\n",
    "<img src=\"images/modelagem-ex.png\"/>\n",
    "\n",
    "- ORM com SQLALchemy:\n",
    "`pip install flask-sqlalchemy`\n"
   ]
  },
  {
   "cell_type": "markdown",
   "metadata": {},
   "source": [
    "---\n",
    "<a rel=\"license\" href=\"http://creativecommons.org/licenses/by-sa/4.0/\"><img alt=\"Creative Commons License\" style=\"border-width:0\" src=\"https://i.creativecommons.org/l/by-sa/4.0/88x31.png\" /></a><br />This work by <span xmlns:cc=\"http://creativecommons.org/ns#\" property=\"cc:attributionName\">Bruno A. R. M. Campos</span> is licensed under a <a rel=\"license\" href=\"http://creativecommons.org/licenses/by-sa/4.0/\">Creative Commons Attribution-ShareAlike 4.0 International License</a>."
   ]
  },
  {
   "cell_type": "markdown",
   "metadata": {},
   "source": [
    "# Buffer de 10 min"
   ]
  },
  {
   "cell_type": "code",
   "execution_count": 224,
   "metadata": {},
   "outputs": [
    {
     "name": "stdout",
     "output_type": "stream",
     "text": [
      "\n",
      "index = 0, index_decr = 4\n",
      "Elemento atual =  25\n",
      "Elemento ultimo = 25\n",
      "diferença = 0\n",
      "times_split = [0, 25]\n",
      "datas_split = [0, 500]\n",
      "\n",
      "index = 1, index_decr = 3\n",
      "Elemento atual =  20\n",
      "Elemento ultimo = 25\n",
      "diferença = 5\n",
      "times_split = [0, 25, 20]\n",
      "datas_split = [0, 500, 400]\n",
      "\n",
      "index = 2, index_decr = 2\n",
      "Elemento atual =  15\n",
      "Elemento ultimo = 25\n",
      "diferença = 10\n"
     ]
    }
   ],
   "source": [
    "from time import sleep\n",
    "import datetime\n",
    "\n",
    "# saved json and time\n",
    "datas_registered = [100, 200, 300, 400, 500]\n",
    "times_registered = [5, 10, 15, 20, 25]\n",
    "datas_split = [0]\n",
    "times_split = [0]\n",
    "\n",
    "# split datas para pegar somente requests dos ultimos 10 min\n",
    "def buffer_10min():\n",
    "\n",
    "    for i in times_registered:\n",
    "        \n",
    "        index_decr = (len(times_registered) - times_registered.index(i)) - 1 # -1 pois index começa com 0\n",
    "        print(f\"\\nindex = {times_registered.index(i)}, index_decr = {index_decr}\")\n",
    "\n",
    "        elem_atual = times_registered[index_decr]\n",
    "        print(f\"Elemento atual =  {elem_atual}\")\n",
    "\n",
    "        elem_ultimo = times_registered[-1]\n",
    "        print(f\"Elemento ultimo = {elem_ultimo}\")\n",
    "\n",
    "        diferenca = elem_ultimo - elem_atual\n",
    "        print(f\"diferença = {diferenca}\")\n",
    "\n",
    "        # atualiza as listas somente com valores dos ultimos 10 min \n",
    "        # AND se o elemento atual não esta no datas_split\n",
    "        if diferenca < 10:\n",
    "            times_split.append(elem_atual)\n",
    "            datas_split.append(datas_registered[index_decr])\n",
    "            print(f\"times_split = {times_split}\")\n",
    "            print(f\"datas_split = {datas_split}\")\n",
    "        else:\n",
    "            times_split.pop(index_decr)\n",
    "            datas_split.pop(index_decr)\n",
    "            break # garante que não vai comparar todos os elementos\n",
    "                   \n",
    "buffer_10min()"
   ]
  },
  {
   "cell_type": "code",
   "execution_count": 225,
   "metadata": {},
   "outputs": [
    {
     "name": "stdout",
     "output_type": "stream",
     "text": [
      "times_split = [0, 25]\n",
      "datas_split = [0, 500]\n"
     ]
    }
   ],
   "source": [
    "print(f\"times_split = {times_split}\")\n",
    "print(f\"datas_split = {datas_split}\")"
   ]
  },
  {
   "cell_type": "code",
   "execution_count": null,
   "metadata": {},
   "outputs": [],
   "source": [
    "        if data in datas_split:\n",
    "            return f\"{status.HTTP_403_FORBIDDEN} Forbidden\\n \"\n",
    "        else:\n",
    "            datas_registered.append(data)\n",
    "            times_registered.append(minute)\n",
    "        return f\"{status.HTTP_201_CREATED} OK\\n datas={datas_registered},times={times_registered}\"\n"
   ]
  }
 ],
 "metadata": {
  "kernelspec": {
   "display_name": "Python 3",
   "language": "python",
   "name": "python3"
  },
  "language_info": {
   "codemirror_mode": {
    "name": "ipython",
    "version": 3
   },
   "file_extension": ".py",
   "mimetype": "text/x-python",
   "name": "python",
   "nbconvert_exporter": "python",
   "pygments_lexer": "ipython3",
   "version": "3.6.5"
  },
  "latex_envs": {
   "LaTeX_envs_menu_present": true,
   "autoclose": false,
   "autocomplete": true,
   "bibliofile": "biblio.bib",
   "cite_by": "apalike",
   "current_citInitial": 1,
   "eqLabelWithNumbers": true,
   "eqNumInitial": 1,
   "hotkeys": {
    "equation": "Ctrl-E",
    "itemize": "Ctrl-I"
   },
   "labels_anchors": false,
   "latex_user_defs": false,
   "report_style_numbering": false,
   "user_envs_cfg": false
  }
 },
 "nbformat": 4,
 "nbformat_minor": 2
}
