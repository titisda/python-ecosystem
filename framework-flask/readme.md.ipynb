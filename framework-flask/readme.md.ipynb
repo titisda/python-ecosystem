{
 "cells": [
  {
   "cell_type": "markdown",
   "metadata": {},
   "source": [
    "<img src=\"images/flask-logo.png\"/>\n",
    "\n",
    "É um microframework feito para **simplificar o desenvolvimento web**.<br/>\n",
    "Ele é micro pois trás somente módulos básico para execuar uma aplicação web.\n",
    "- Site oficial: http://flask.pocoo.org/\n",
    "- Documentação: http://flask.pocoo.org/docs/1.0/\n",
    "\n",
    "## Install: \n",
    "`pip install Flask`\n",
    "\n",
    "## Hello Word\n",
    "- Arquivo sem padrão de projeto, bem simples.<br/>\n",
    "<img src=\"images/app.png\"/>\n",
    "\n",
    "### Varibles\n",
    "- `__init__ ` é um construtor de objetos.\n",
    "- `__name__` é uma variável especial, do tipo String, que faz um  **get**\n",
    "- ` @app.route(\"/\")` é uma função do Python para indicar a route\n",
    "- `\"__main__\"` é a variável especial que executa o script\n",
    "\n",
    "<br/>\n",
    "### Execução no terminal\n",
    "<img src=\"images/run-app.png\"/>\n",
    "\n",
    "\n",
    "## Design Pattenrs\n",
    "O Flask usa o padrão MVC.\n",
    "<img src=\"images/mvc.webp\"/>\n",
    "\n",
    "### Create environment\n",
    "Para organizar, é necessário criar um diretório chamado  *app* com a eguinte estrutura:<br/>\n",
    "```app/\n",
    "    controllers/\n",
    "    models/\n",
    "    static/\n",
    "    templates/```\n",
    "- Para o Flask, o *view* são 2 diretórios: static e templates.\n",
    "\n",
    "### Files .py\n",
    "``` run.py\n",
    " run.py\n",
    " app/\n",
    "    __init__.py\n",
    "    controllers/\n",
    "      __init__.py\n",
    "      default.py\n",
    "    models/\n",
    "      __init__.py\n",
    "      tables.py\n",
    "    static/\n",
    "    templates/```\n",
    "    \n",
    "**Describe File**\n",
    "- `run.py` execução.\n",
    "- `__init__.py` declaração da aplicação.\n",
    "- `defaults.py` routes\n"
   ]
  },
  {
   "cell_type": "markdown",
   "metadata": {},
   "source": [
    "## Models\n",
    "Modelagem básica:\n",
    "<img src=\"images/modelagem-ex.png\"/>\n",
    "\n",
    "- ORM com SQLALchemy:\n",
    "`pip install flask-sqlalchemy`\n"
   ]
  },
  {
   "cell_type": "markdown",
   "metadata": {},
   "source": [
    "---\n",
    "<a rel=\"license\" href=\"http://creativecommons.org/licenses/by-sa/4.0/\"><img alt=\"Creative Commons License\" style=\"border-width:0\" src=\"https://i.creativecommons.org/l/by-sa/4.0/88x31.png\" /></a><br />This work by <span xmlns:cc=\"http://creativecommons.org/ns#\" property=\"cc:attributionName\">Bruno A. R. M. Campos</span> is licensed under a <a rel=\"license\" href=\"http://creativecommons.org/licenses/by-sa/4.0/\">Creative Commons Attribution-ShareAlike 4.0 International License</a>."
   ]
  },
  {
   "cell_type": "code",
   "execution_count": null,
   "metadata": {},
   "outputs": [],
   "source": []
  }
 ],
 "metadata": {
  "kernelspec": {
   "display_name": "Python 3",
   "language": "python",
   "name": "python3"
  },
  "language_info": {
   "codemirror_mode": {
    "name": "ipython",
    "version": 3
   },
   "file_extension": ".py",
   "mimetype": "text/x-python",
   "name": "python",
   "nbconvert_exporter": "python",
   "pygments_lexer": "ipython3",
   "version": "3.6.5"
  },
  "latex_envs": {
   "LaTeX_envs_menu_present": true,
   "autoclose": false,
   "autocomplete": true,
   "bibliofile": "biblio.bib",
   "cite_by": "apalike",
   "current_citInitial": 1,
   "eqLabelWithNumbers": true,
   "eqNumInitial": 1,
   "hotkeys": {
    "equation": "Ctrl-E",
    "itemize": "Ctrl-I"
   },
   "labels_anchors": false,
   "latex_user_defs": false,
   "report_style_numbering": false,
   "user_envs_cfg": false
  }
 },
 "nbformat": 4,
 "nbformat_minor": 2
}
