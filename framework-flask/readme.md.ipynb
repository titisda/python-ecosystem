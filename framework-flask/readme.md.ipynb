{
 "cells": [
  {
   "cell_type": "markdown",
   "metadata": {},
   "source": [
    "<img src=\"images/flask-logo.png\"/>\n",
    "\n",
    "É um microframework feito para **simplificar o desenvolvimento web**.<br/>\n",
    "Ele é micro pois trás somente módulos básico para execuar uma aplicação web.\n",
    "- Site oficial: http://flask.pocoo.org/\n",
    "- Documentação: http://flask.pocoo.org/docs/1.0/\n",
    "\n",
    "## Install: \n",
    "`pip install Flask`\n",
    "\n",
    "## Hello Word\n",
    "- Arquivo sem padrão de projeto, bem simples.<br/>\n",
    "<img src=\"images/app.png\"/>\n",
    "\n",
    "### Varibles\n",
    "- `__init__ ` é um construtor de objetos.\n",
    "- `__name__` é uma variável especial, do tipo String, que faz um  **get**\n",
    "- ` @app.route(\"/\")` é uma função do Python para indicar a route\n",
    "- `\"__main__\"` é a variável especial que executa o script\n",
    "\n",
    "<br/>\n",
    "### Execução no terminal\n",
    "<img src=\"images/run-app.png\"/>\n",
    "\n",
    "\n",
    "## Design Pattenrs\n",
    "O Flask usa o padrão MVC.\n",
    "<img src=\"images/mvc.webp\"/>\n",
    "\n",
    "### Create environment\n",
    "Para organizar, é necessário criar um diretório chamado  *app* com a eguinte estrutura:<br/>\n",
    "```app/\n",
    "    controllers/\n",
    "    models/\n",
    "    static/\n",
    "    templates/```\n",
    "- Para o Flask, o *view* são 2 diretórios: static e templates.\n",
    "\n",
    "### Files .py\n",
    "``` run.py\n",
    " run.py\n",
    " app/\n",
    "    __init__.py\n",
    "    controllers/\n",
    "      __init__.py\n",
    "      default.py\n",
    "    models/\n",
    "      __init__.py\n",
    "      tables.py\n",
    "    static/\n",
    "    templates/```\n",
    "    \n",
    "**Describe File**\n",
    "- `run.py` execução.\n",
    "- `__init__.py` declaração da aplicação.\n",
    "- `defaults.py` routes\n"
   ]
  },
  {
   "cell_type": "markdown",
   "metadata": {},
   "source": [
    "## Models\n",
    "Modelagem básica:\n",
    "<img src=\"images/modelagem-ex.png\"/>\n",
    "\n",
    "- ORM com SQLALchemy:\n",
    "`pip install flask-sqlalchemy`\n"
   ]
  },
  {
   "cell_type": "markdown",
   "metadata": {},
   "source": [
    "---\n",
    "<a rel=\"license\" href=\"http://creativecommons.org/licenses/by-sa/4.0/\"><img alt=\"Creative Commons License\" style=\"border-width:0\" src=\"https://i.creativecommons.org/l/by-sa/4.0/88x31.png\" /></a><br />This work by <span xmlns:cc=\"http://creativecommons.org/ns#\" property=\"cc:attributionName\">Bruno A. R. M. Campos</span> is licensed under a <a rel=\"license\" href=\"http://creativecommons.org/licenses/by-sa/4.0/\">Creative Commons Attribution-ShareAlike 4.0 International License</a>."
   ]
  },
  {
   "cell_type": "markdown",
   "metadata": {},
   "source": [
    "## Compara elementos por elemento entre listas"
   ]
  },
  {
   "cell_type": "code",
   "execution_count": 1,
   "metadata": {
    "scrolled": false
   },
   "outputs": [
    {
     "name": "stdout",
     "output_type": "stream",
     "text": [
      "\n",
      "index = 0, index_decr = 3\n",
      "Elemento ultimo = 20\n",
      "cursor =  15\n",
      "se times_split empty = [20, 15]\n",
      "\n",
      "index = 1, index_decr = 2\n",
      "Elemento ultimo = 20\n",
      "cursor =  10\n",
      "elem_atual NAO esta na lista\n",
      "times_split = [20, 15, 10]\n",
      "\n",
      "\n",
      "index = 2, index_decr = 1\n",
      "Elemento ultimo = 20\n",
      "cursor =  5\n",
      "elem_atual NAO esta na lista\n",
      "times_split = [20, 15, 10, 5]\n",
      "\n",
      "\n",
      "index = 3, index_decr = 0\n",
      "Elemento ultimo = 20\n",
      "cursor =  20\n"
     ]
    }
   ],
   "source": [
    "from time import sleep\n",
    "import datetime\n",
    "\n",
    "# saved json and time\n",
    "times_registered = [5, 10, 15, 20]\n",
    "times_split = []\n",
    "\n",
    "# split datas para pegar somente requests dos ultimos 10 min\n",
    "def buffer():\n",
    "    for i in times_registered:\n",
    "        index_decr = (len(times_registered) - times_registered.index(i)) - 1 # -1 pois index começa com 0\n",
    "        print(f\"\\nindex = {times_registered.index(i)}, index_decr = {index_decr}\")\n",
    "\n",
    "        elem_ultimo = times_registered[-1]\n",
    "        print(f\"Elemento ultimo = {elem_ultimo}\")\n",
    "        \n",
    "        cursor = times_registered[index_decr-1]\n",
    "        print(f\"cursor =  {cursor}\")\n",
    "\n",
    "        # se times_split empty \n",
    "        if len(times_split) == 0:\n",
    "            times_split.append(elem_ultimo)\n",
    "            times_split.append(cursor)\n",
    "            print(f\"se times_split empty = {times_split}\")\n",
    "\n",
    "        # se cursor não esta na times_split\n",
    "        if cursor not in times_split:\n",
    "            times_split.append(cursor)\n",
    "            print('elem_atual NAO esta na lista')\n",
    "            print(f\"times_split = {times_split}\\n\")\n",
    "                \n",
    "buffer()"
   ]
  },
  {
   "cell_type": "code",
   "execution_count": 2,
   "metadata": {},
   "outputs": [
    {
     "ename": "OSError",
     "evalue": "[Errno 98] Address already in use",
     "output_type": "error",
     "traceback": [
      "\u001b[0;31m---------------------------------------------------------------------------\u001b[0m",
      "\u001b[0;31mOSError\u001b[0m                                   Traceback (most recent call last)",
      "\u001b[0;32m<ipython-input-2-828328d290f5>\u001b[0m in \u001b[0;36m<module>\u001b[0;34m()\u001b[0m\n\u001b[1;32m     40\u001b[0m \u001b[0;34m\u001b[0m\u001b[0m\n\u001b[1;32m     41\u001b[0m \u001b[0;32mif\u001b[0m \u001b[0m__name__\u001b[0m \u001b[0;34m==\u001b[0m \u001b[0;34m\"__main__\"\u001b[0m\u001b[0;34m:\u001b[0m\u001b[0;34m\u001b[0m\u001b[0m\n\u001b[0;32m---> 42\u001b[0;31m     \u001b[0mapp\u001b[0m\u001b[0;34m.\u001b[0m\u001b[0mrun\u001b[0m\u001b[0;34m(\u001b[0m\u001b[0mdebug\u001b[0m\u001b[0;34m=\u001b[0m\u001b[0;32mTrue\u001b[0m\u001b[0;34m,\u001b[0m \u001b[0mport\u001b[0m\u001b[0;34m=\u001b[0m\u001b[0;36m5000\u001b[0m\u001b[0;34m)\u001b[0m\u001b[0;34m\u001b[0m\u001b[0m\n\u001b[0m",
      "\u001b[0;32m~/anaconda3/lib/python3.6/site-packages/flask/app.py\u001b[0m in \u001b[0;36mrun\u001b[0;34m(self, host, port, debug, **options)\u001b[0m\n\u001b[1;32m    839\u001b[0m         \u001b[0moptions\u001b[0m\u001b[0;34m.\u001b[0m\u001b[0msetdefault\u001b[0m\u001b[0;34m(\u001b[0m\u001b[0;34m'use_debugger'\u001b[0m\u001b[0;34m,\u001b[0m \u001b[0mself\u001b[0m\u001b[0;34m.\u001b[0m\u001b[0mdebug\u001b[0m\u001b[0;34m)\u001b[0m\u001b[0;34m\u001b[0m\u001b[0m\n\u001b[1;32m    840\u001b[0m         \u001b[0;32mtry\u001b[0m\u001b[0;34m:\u001b[0m\u001b[0;34m\u001b[0m\u001b[0m\n\u001b[0;32m--> 841\u001b[0;31m             \u001b[0mrun_simple\u001b[0m\u001b[0;34m(\u001b[0m\u001b[0mhost\u001b[0m\u001b[0;34m,\u001b[0m \u001b[0mport\u001b[0m\u001b[0;34m,\u001b[0m \u001b[0mself\u001b[0m\u001b[0;34m,\u001b[0m \u001b[0;34m**\u001b[0m\u001b[0moptions\u001b[0m\u001b[0;34m)\u001b[0m\u001b[0;34m\u001b[0m\u001b[0m\n\u001b[0m\u001b[1;32m    842\u001b[0m         \u001b[0;32mfinally\u001b[0m\u001b[0;34m:\u001b[0m\u001b[0;34m\u001b[0m\u001b[0m\n\u001b[1;32m    843\u001b[0m             \u001b[0;31m# reset the first request information if the development server\u001b[0m\u001b[0;34m\u001b[0m\u001b[0;34m\u001b[0m\u001b[0m\n",
      "\u001b[0;32m~/anaconda3/lib/python3.6/site-packages/werkzeug/serving.py\u001b[0m in \u001b[0;36mrun_simple\u001b[0;34m(hostname, port, application, use_reloader, use_debugger, use_evalex, extra_files, reloader_interval, reloader_type, threaded, processes, request_handler, static_files, passthrough_errors, ssl_context)\u001b[0m\n\u001b[1;32m    793\u001b[0m             \u001b[0ms\u001b[0m \u001b[0;34m=\u001b[0m \u001b[0msocket\u001b[0m\u001b[0;34m.\u001b[0m\u001b[0msocket\u001b[0m\u001b[0;34m(\u001b[0m\u001b[0maddress_family\u001b[0m\u001b[0;34m,\u001b[0m \u001b[0msocket\u001b[0m\u001b[0;34m.\u001b[0m\u001b[0mSOCK_STREAM\u001b[0m\u001b[0;34m)\u001b[0m\u001b[0;34m\u001b[0m\u001b[0m\n\u001b[1;32m    794\u001b[0m             \u001b[0ms\u001b[0m\u001b[0;34m.\u001b[0m\u001b[0msetsockopt\u001b[0m\u001b[0;34m(\u001b[0m\u001b[0msocket\u001b[0m\u001b[0;34m.\u001b[0m\u001b[0mSOL_SOCKET\u001b[0m\u001b[0;34m,\u001b[0m \u001b[0msocket\u001b[0m\u001b[0;34m.\u001b[0m\u001b[0mSO_REUSEADDR\u001b[0m\u001b[0;34m,\u001b[0m \u001b[0;36m1\u001b[0m\u001b[0;34m)\u001b[0m\u001b[0;34m\u001b[0m\u001b[0m\n\u001b[0;32m--> 795\u001b[0;31m             \u001b[0ms\u001b[0m\u001b[0;34m.\u001b[0m\u001b[0mbind\u001b[0m\u001b[0;34m(\u001b[0m\u001b[0mget_sockaddr\u001b[0m\u001b[0;34m(\u001b[0m\u001b[0mhostname\u001b[0m\u001b[0;34m,\u001b[0m \u001b[0mport\u001b[0m\u001b[0;34m,\u001b[0m \u001b[0maddress_family\u001b[0m\u001b[0;34m)\u001b[0m\u001b[0;34m)\u001b[0m\u001b[0;34m\u001b[0m\u001b[0m\n\u001b[0m\u001b[1;32m    796\u001b[0m             \u001b[0;32mif\u001b[0m \u001b[0mhasattr\u001b[0m\u001b[0;34m(\u001b[0m\u001b[0ms\u001b[0m\u001b[0;34m,\u001b[0m \u001b[0;34m'set_inheritable'\u001b[0m\u001b[0;34m)\u001b[0m\u001b[0;34m:\u001b[0m\u001b[0;34m\u001b[0m\u001b[0m\n\u001b[1;32m    797\u001b[0m                 \u001b[0ms\u001b[0m\u001b[0;34m.\u001b[0m\u001b[0mset_inheritable\u001b[0m\u001b[0;34m(\u001b[0m\u001b[0;32mTrue\u001b[0m\u001b[0;34m)\u001b[0m\u001b[0;34m\u001b[0m\u001b[0m\n",
      "\u001b[0;31mOSError\u001b[0m: [Errno 98] Address already in use"
     ]
    }
   ],
   "source": [
    "from flask import Flask, request\n",
    "from flask_api import FlaskAPI, status\n",
    "import datetime\n",
    "\n",
    "# flask object\n",
    "app = Flask(__name__)\n",
    "\n",
    "# saved json and time\n",
    "datas_registered = []\n",
    "times_registered = []\n",
    "\n",
    "@app.route('/chaordic.com.br/v1/products/', methods=['POST'])\n",
    "def post_route():\n",
    "    if request.method == 'POST':\n",
    "        # get json\n",
    "        data = request.get_json(force=True)\n",
    "        # get time \n",
    "        minute = datetime.datetime.now().minute\n",
    "\n",
    "        if data in datas_registered:\n",
    "            # armazena a posição na lista do data, quando ele foi armazenado pela última vez\n",
    "            position = len(datas_registered)-datas_registered[::-1].index(data)-1\n",
    "            # diferença entre o minuto atual e o minuto da ultima vez que esse dado apareceu na lista\n",
    "            difference = minute - times_registered[position]\n",
    "            \n",
    "            if difference <=10:\n",
    "                print('Forbidden')\n",
    "                return f\"{status.HTTP_403_FORBIDDEN} Forbidden\\n\\n{times_registered}\\n{datas_registered}\\nposition_data={position}\\nminute={minute}\\ndifference={difference}\\n\" \n",
    "            else:\n",
    "                datas_registered.append(data)\n",
    "                times_registered.append(minute)\n",
    "                return f\"{status.HTTP_201_CREATED} OK\\n (difference > 1)\\n\\n{times_registered}\\n{datas_registered}\\nposition_data={position}\\nminute={minute}\\ndifference={difference}\\n\"\n",
    "        else:\n",
    "            datas_registered.append(data)\n",
    "            times_registered.append(minute)\n",
    "        return f\"{status.HTTP_201_CREATED} OK\\n (data not in)\\n{times_registered}\\n{datas_registered}\\n\"\n",
    "\n",
    "if __name__ == \"__main__\":\n",
    "    app.run(debug=True, port=5000)"
   ]
  },
  {
   "cell_type": "code",
   "execution_count": 5,
   "metadata": {},
   "outputs": [
    {
     "ename": "ValueError",
     "evalue": "9 is not in list",
     "output_type": "error",
     "traceback": [
      "\u001b[0;31m---------------------------------------------------------------------------\u001b[0m",
      "\u001b[0;31mValueError\u001b[0m                                Traceback (most recent call last)",
      "\u001b[0;32m<ipython-input-5-0ca493ba1ed2>\u001b[0m in \u001b[0;36m<module>\u001b[0;34m()\u001b[0m\n\u001b[1;32m      2\u001b[0m \u001b[0mdatas_registered\u001b[0m \u001b[0;34m=\u001b[0m \u001b[0;34m[\u001b[0m\u001b[0;36m1\u001b[0m\u001b[0;34m,\u001b[0m\u001b[0;36m2\u001b[0m\u001b[0;34m,\u001b[0m\u001b[0;36m3\u001b[0m\u001b[0;34m,\u001b[0m\u001b[0;36m4\u001b[0m\u001b[0;34m]\u001b[0m\u001b[0;34m\u001b[0m\u001b[0m\n\u001b[1;32m      3\u001b[0m \u001b[0mdata\u001b[0m \u001b[0;34m=\u001b[0m \u001b[0;36m9\u001b[0m\u001b[0;34m\u001b[0m\u001b[0m\n\u001b[0;32m----> 4\u001b[0;31m \u001b[0mposition\u001b[0m\u001b[0;34m=\u001b[0m\u001b[0mlen\u001b[0m\u001b[0;34m(\u001b[0m\u001b[0mdatas_registered\u001b[0m\u001b[0;34m)\u001b[0m\u001b[0;34m-\u001b[0m\u001b[0mdatas_registered\u001b[0m\u001b[0;34m[\u001b[0m\u001b[0;34m:\u001b[0m\u001b[0;34m:\u001b[0m\u001b[0;34m-\u001b[0m\u001b[0;36m1\u001b[0m\u001b[0;34m]\u001b[0m\u001b[0;34m.\u001b[0m\u001b[0mindex\u001b[0m\u001b[0;34m(\u001b[0m\u001b[0mdata\u001b[0m\u001b[0;34m)\u001b[0m\u001b[0;34m-\u001b[0m\u001b[0;36m1\u001b[0m\u001b[0;34m\u001b[0m\u001b[0m\n\u001b[0m\u001b[1;32m      5\u001b[0m \u001b[0mposition\u001b[0m\u001b[0;34m\u001b[0m\u001b[0m\n",
      "\u001b[0;31mValueError\u001b[0m: 9 is not in list"
     ]
    }
   ],
   "source": [
    "# percorre lista de trás para frente\n",
    "\n",
    "position=len(datas_registered)-datas_registered[::-1].index(data)-1"
   ]
  },
  {
   "cell_type": "code",
   "execution_count": null,
   "metadata": {},
   "outputs": [],
   "source": []
  }
 ],
 "metadata": {
  "kernelspec": {
   "display_name": "Python 3",
   "language": "python",
   "name": "python3"
  },
  "language_info": {
   "codemirror_mode": {
    "name": "ipython",
    "version": 3
   },
   "file_extension": ".py",
   "mimetype": "text/x-python",
   "name": "python",
   "nbconvert_exporter": "python",
   "pygments_lexer": "ipython3",
   "version": "3.6.5"
  },
  "latex_envs": {
   "LaTeX_envs_menu_present": true,
   "autoclose": false,
   "autocomplete": true,
   "bibliofile": "biblio.bib",
   "cite_by": "apalike",
   "current_citInitial": 1,
   "eqLabelWithNumbers": true,
   "eqNumInitial": 1,
   "hotkeys": {
    "equation": "Ctrl-E",
    "itemize": "Ctrl-I"
   },
   "labels_anchors": false,
   "latex_user_defs": false,
   "report_style_numbering": false,
   "user_envs_cfg": false
  }
 },
 "nbformat": 4,
 "nbformat_minor": 2
}
